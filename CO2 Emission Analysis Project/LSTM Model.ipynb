{
 "cells": [
  {
   "cell_type": "code",
   "execution_count": 1,
   "id": "f36ba1aa",
   "metadata": {},
   "outputs": [],
   "source": [
    "#Loading necessary packages\n",
    "import numpy as np\n",
    "import pandas as pd\n",
    "import tensorflow as tf\n",
    "from sklearn.preprocessing import MinMaxScaler\n",
    "from tensorflow.keras.models import Sequential\n",
    "from tensorflow.keras.layers import Dense, LSTM\n",
    "import matplotlib.pyplot as plt\n"
   ]
  },
  {
   "cell_type": "code",
   "execution_count": 2,
   "id": "9f59466a",
   "metadata": {},
   "outputs": [
    {
     "data": {
      "text/html": [
       "<div>\n",
       "<style scoped>\n",
       "    .dataframe tbody tr th:only-of-type {\n",
       "        vertical-align: middle;\n",
       "    }\n",
       "\n",
       "    .dataframe tbody tr th {\n",
       "        vertical-align: top;\n",
       "    }\n",
       "\n",
       "    .dataframe thead th {\n",
       "        text-align: right;\n",
       "    }\n",
       "</style>\n",
       "<table border=\"1\" class=\"dataframe\">\n",
       "  <thead>\n",
       "    <tr style=\"text-align: right;\">\n",
       "      <th></th>\n",
       "      <th>MSN</th>\n",
       "      <th>YYYYMM</th>\n",
       "      <th>Value</th>\n",
       "      <th>Column_Order</th>\n",
       "      <th>Description</th>\n",
       "      <th>Unit</th>\n",
       "    </tr>\n",
       "  </thead>\n",
       "  <tbody>\n",
       "    <tr>\n",
       "      <th>0</th>\n",
       "      <td>CLEIEUS</td>\n",
       "      <td>197301</td>\n",
       "      <td>72.076</td>\n",
       "      <td>1</td>\n",
       "      <td>Coal Electric Power Sector CO2 Emissions</td>\n",
       "      <td>Million Metric Tons of Carbon Dioxide</td>\n",
       "    </tr>\n",
       "    <tr>\n",
       "      <th>1</th>\n",
       "      <td>CLEIEUS</td>\n",
       "      <td>197302</td>\n",
       "      <td>64.442</td>\n",
       "      <td>1</td>\n",
       "      <td>Coal Electric Power Sector CO2 Emissions</td>\n",
       "      <td>Million Metric Tons of Carbon Dioxide</td>\n",
       "    </tr>\n",
       "    <tr>\n",
       "      <th>2</th>\n",
       "      <td>CLEIEUS</td>\n",
       "      <td>197303</td>\n",
       "      <td>64.084</td>\n",
       "      <td>1</td>\n",
       "      <td>Coal Electric Power Sector CO2 Emissions</td>\n",
       "      <td>Million Metric Tons of Carbon Dioxide</td>\n",
       "    </tr>\n",
       "    <tr>\n",
       "      <th>3</th>\n",
       "      <td>CLEIEUS</td>\n",
       "      <td>197304</td>\n",
       "      <td>60.842</td>\n",
       "      <td>1</td>\n",
       "      <td>Coal Electric Power Sector CO2 Emissions</td>\n",
       "      <td>Million Metric Tons of Carbon Dioxide</td>\n",
       "    </tr>\n",
       "    <tr>\n",
       "      <th>4</th>\n",
       "      <td>CLEIEUS</td>\n",
       "      <td>197305</td>\n",
       "      <td>61.798</td>\n",
       "      <td>1</td>\n",
       "      <td>Coal Electric Power Sector CO2 Emissions</td>\n",
       "      <td>Million Metric Tons of Carbon Dioxide</td>\n",
       "    </tr>\n",
       "  </tbody>\n",
       "</table>\n",
       "</div>"
      ],
      "text/plain": [
       "       MSN  YYYYMM   Value  Column_Order  \\\n",
       "0  CLEIEUS  197301  72.076             1   \n",
       "1  CLEIEUS  197302  64.442             1   \n",
       "2  CLEIEUS  197303  64.084             1   \n",
       "3  CLEIEUS  197304  60.842             1   \n",
       "4  CLEIEUS  197305  61.798             1   \n",
       "\n",
       "                                Description  \\\n",
       "0  Coal Electric Power Sector CO2 Emissions   \n",
       "1  Coal Electric Power Sector CO2 Emissions   \n",
       "2  Coal Electric Power Sector CO2 Emissions   \n",
       "3  Coal Electric Power Sector CO2 Emissions   \n",
       "4  Coal Electric Power Sector CO2 Emissions   \n",
       "\n",
       "                                    Unit  \n",
       "0  Million Metric Tons of Carbon Dioxide  \n",
       "1  Million Metric Tons of Carbon Dioxide  \n",
       "2  Million Metric Tons of Carbon Dioxide  \n",
       "3  Million Metric Tons of Carbon Dioxide  \n",
       "4  Million Metric Tons of Carbon Dioxide  "
      ]
     },
     "execution_count": 2,
     "metadata": {},
     "output_type": "execute_result"
    }
   ],
   "source": [
    "#Load the dataset\n",
    "data = pd.read_csv(\"MER_T12_06.csv\")\n",
    "data.head()"
   ]
  },
  {
   "cell_type": "code",
   "execution_count": 3,
   "id": "80978215",
   "metadata": {},
   "outputs": [],
   "source": [
    "#Preprocessing the dataset\n",
    "data = data[['YYYYMM', 'Value']] # keeping only the YYYYMM and Value columns\n",
    "data['YYYYMM'] = data['YYYYMM'].astype(str).str[:4].astype(int) # keeping only the year\n",
    "data = data.rename(columns={'YYYYMM': 'Year', 'Value': 'Value'}) # renaming the columns to increase readability"
   ]
  },
  {
   "cell_type": "code",
   "execution_count": 4,
   "id": "eee2435e",
   "metadata": {},
   "outputs": [],
   "source": [
    "#Replacing missing values with NaN\n",
    "data = data.replace('Not Available', np.nan)"
   ]
  },
  {
   "cell_type": "code",
   "execution_count": 5,
   "id": "aff97f34",
   "metadata": {},
   "outputs": [],
   "source": [
    "#Replacing NaN values with the mean value\n",
    "mean_value = data['Value'].astype(float).mean()\n",
    "data['Value'] = data['Value'].astype(float).fillna(mean_value)"
   ]
  },
  {
   "cell_type": "code",
   "execution_count": 6,
   "id": "755782f6",
   "metadata": {},
   "outputs": [],
   "source": [
    "#Splitting the data into training and test sets based on Year column\n",
    "train_data = data[data['Year'] < 2015]\n",
    "test_data = data[data['Year'] >= 2015]"
   ]
  },
  {
   "cell_type": "code",
   "execution_count": 7,
   "id": "e5674612",
   "metadata": {},
   "outputs": [],
   "source": [
    "#Scaling the data\n",
    "scaler = MinMaxScaler()\n",
    "train_data = scaler.fit_transform(train_data)\n",
    "test_data = scaler.transform(test_data)\n"
   ]
  },
  {
   "cell_type": "code",
   "execution_count": 8,
   "id": "deb6ece0",
   "metadata": {},
   "outputs": [],
   "source": [
    "#Splitting the data into features and targets\n",
    "x_train = train_data[:, :-1]\n",
    "y_train = train_data[:, -1]\n",
    "x_test = test_data[:, :-1]\n",
    "y_test = test_data[:, -1]"
   ]
  },
  {
   "cell_type": "code",
   "execution_count": 9,
   "id": "4d2b87af",
   "metadata": {},
   "outputs": [],
   "source": [
    "#Reshaping the data to be suitable for LSTM\n",
    "x_train = np.reshape(x_train, (x_train.shape[0], 1, x_train.shape[1]))\n",
    "x_test = np.reshape(x_test, (x_test.shape[0], 1, x_test.shape[1]))"
   ]
  },
  {
   "cell_type": "code",
   "execution_count": 10,
   "id": "9f3f19e1",
   "metadata": {},
   "outputs": [],
   "source": [
    "#Building the LSTM model\n",
    "model = Sequential()\n",
    "model.add(LSTM(50, return_sequences=True, input_shape=(x_train.shape[1], x_train.shape[2])))\n",
    "model.add(LSTM(50, return_sequences=False))\n",
    "model.add(Dense(1))"
   ]
  },
  {
   "cell_type": "code",
   "execution_count": 11,
   "id": "7ab4e6ba",
   "metadata": {},
   "outputs": [],
   "source": [
    "#Compiling the model\n",
    "model.compile(optimizer='adam', loss='mean_squared_error')\n"
   ]
  },
  {
   "cell_type": "code",
   "execution_count": 12,
   "id": "1449e929",
   "metadata": {},
   "outputs": [
    {
     "name": "stdout",
     "output_type": "stream",
     "text": [
      "Epoch 1/100\n",
      "4914/4914 [==============================] - 32s 5ms/step - loss: 0.0091\n",
      "Epoch 2/100\n",
      "4914/4914 [==============================] - 27s 6ms/step - loss: 0.0091\n",
      "Epoch 3/100\n",
      "4914/4914 [==============================] - 27s 6ms/step - loss: 0.0091\n",
      "Epoch 4/100\n",
      "4914/4914 [==============================] - 27s 6ms/step - loss: 0.0091\n",
      "Epoch 5/100\n",
      "4914/4914 [==============================] - 27s 6ms/step - loss: 0.0091\n",
      "Epoch 6/100\n",
      "4914/4914 [==============================] - 27s 5ms/step - loss: 0.0091\n",
      "Epoch 7/100\n",
      "4914/4914 [==============================] - 27s 5ms/step - loss: 0.0091\n",
      "Epoch 8/100\n",
      "4914/4914 [==============================] - 27s 6ms/step - loss: 0.0091\n",
      "Epoch 9/100\n",
      "4914/4914 [==============================] - 27s 5ms/step - loss: 0.0091\n",
      "Epoch 10/100\n",
      "4914/4914 [==============================] - 24s 5ms/step - loss: 0.0091\n",
      "Epoch 11/100\n",
      "4914/4914 [==============================] - 24s 5ms/step - loss: 0.0091\n",
      "Epoch 12/100\n",
      "4914/4914 [==============================] - 27s 6ms/step - loss: 0.0091\n",
      "Epoch 13/100\n",
      "4914/4914 [==============================] - 27s 5ms/step - loss: 0.0091\n",
      "Epoch 14/100\n",
      "4914/4914 [==============================] - 21s 4ms/step - loss: 0.0091\n",
      "Epoch 15/100\n",
      "4914/4914 [==============================] - 17s 3ms/step - loss: 0.0091\n",
      "Epoch 16/100\n",
      "4914/4914 [==============================] - 18s 4ms/step - loss: 0.0091\n",
      "Epoch 17/100\n",
      "4914/4914 [==============================] - 27s 5ms/step - loss: 0.0091\n",
      "Epoch 18/100\n",
      "4914/4914 [==============================] - 25s 5ms/step - loss: 0.0091\n",
      "Epoch 19/100\n",
      "4914/4914 [==============================] - 27s 6ms/step - loss: 0.0091\n",
      "Epoch 20/100\n",
      "4914/4914 [==============================] - 27s 6ms/step - loss: 0.0091\n",
      "Epoch 21/100\n",
      "4914/4914 [==============================] - 21s 4ms/step - loss: 0.0091\n",
      "Epoch 22/100\n",
      "4914/4914 [==============================] - 26s 5ms/step - loss: 0.0091\n",
      "Epoch 23/100\n",
      "4914/4914 [==============================] - 23s 5ms/step - loss: 0.0091\n",
      "Epoch 24/100\n",
      "4914/4914 [==============================] - 25s 5ms/step - loss: 0.0091\n",
      "Epoch 25/100\n",
      "4914/4914 [==============================] - 24s 5ms/step - loss: 0.0091\n",
      "Epoch 26/100\n",
      "4914/4914 [==============================] - 25s 5ms/step - loss: 0.0091\n",
      "Epoch 27/100\n",
      "4914/4914 [==============================] - 25s 5ms/step - loss: 0.0091\n",
      "Epoch 28/100\n",
      "4914/4914 [==============================] - 25s 5ms/step - loss: 0.0091\n",
      "Epoch 29/100\n",
      "4914/4914 [==============================] - 28s 6ms/step - loss: 0.0091\n",
      "Epoch 30/100\n",
      "4914/4914 [==============================] - 24s 5ms/step - loss: 0.0091\n",
      "Epoch 31/100\n",
      "4914/4914 [==============================] - 27s 6ms/step - loss: 0.0091\n",
      "Epoch 32/100\n",
      "4914/4914 [==============================] - 27s 6ms/step - loss: 0.0091\n",
      "Epoch 33/100\n",
      "4914/4914 [==============================] - 24s 5ms/step - loss: 0.0091\n",
      "Epoch 34/100\n",
      "4914/4914 [==============================] - 23s 5ms/step - loss: 0.0091\n",
      "Epoch 35/100\n",
      "4914/4914 [==============================] - 27s 6ms/step - loss: 0.0091\n",
      "Epoch 36/100\n",
      "4914/4914 [==============================] - 27s 5ms/step - loss: 0.0091\n",
      "Epoch 37/100\n",
      "4914/4914 [==============================] - 26s 5ms/step - loss: 0.0091\n",
      "Epoch 38/100\n",
      "4914/4914 [==============================] - 24s 5ms/step - loss: 0.0091\n",
      "Epoch 39/100\n",
      "4914/4914 [==============================] - 19s 4ms/step - loss: 0.0091\n",
      "Epoch 40/100\n",
      "4914/4914 [==============================] - 18s 4ms/step - loss: 0.0091\n",
      "Epoch 41/100\n",
      "4914/4914 [==============================] - 20s 4ms/step - loss: 0.0091\n",
      "Epoch 42/100\n",
      "4914/4914 [==============================] - 26s 5ms/step - loss: 0.0091\n",
      "Epoch 43/100\n",
      "4914/4914 [==============================] - 27s 6ms/step - loss: 0.0091\n",
      "Epoch 44/100\n",
      "4914/4914 [==============================] - 27s 6ms/step - loss: 0.0091\n",
      "Epoch 45/100\n",
      "4914/4914 [==============================] - 27s 6ms/step - loss: 0.0091\n",
      "Epoch 46/100\n",
      "4914/4914 [==============================] - 23s 5ms/step - loss: 0.0091\n",
      "Epoch 47/100\n",
      "4914/4914 [==============================] - 25s 5ms/step - loss: 0.0090\n",
      "Epoch 48/100\n",
      "4914/4914 [==============================] - 27s 5ms/step - loss: 0.0090\n",
      "Epoch 49/100\n",
      "4914/4914 [==============================] - 27s 5ms/step - loss: 0.0091\n",
      "Epoch 50/100\n",
      "4914/4914 [==============================] - 27s 5ms/step - loss: 0.0091\n",
      "Epoch 51/100\n",
      "4914/4914 [==============================] - 27s 6ms/step - loss: 0.0090\n",
      "Epoch 52/100\n",
      "4914/4914 [==============================] - 28s 6ms/step - loss: 0.0091\n",
      "Epoch 53/100\n",
      "4914/4914 [==============================] - 27s 5ms/step - loss: 0.0091\n",
      "Epoch 54/100\n",
      "4914/4914 [==============================] - 26s 5ms/step - loss: 0.0090\n",
      "Epoch 55/100\n",
      "4914/4914 [==============================] - 20s 4ms/step - loss: 0.0091\n",
      "Epoch 56/100\n",
      "4914/4914 [==============================] - 26s 5ms/step - loss: 0.0091\n",
      "Epoch 57/100\n",
      "4914/4914 [==============================] - 27s 5ms/step - loss: 0.0091\n",
      "Epoch 58/100\n",
      "4914/4914 [==============================] - 27s 6ms/step - loss: 0.0091\n",
      "Epoch 59/100\n",
      "4914/4914 [==============================] - 27s 5ms/step - loss: 0.0091\n",
      "Epoch 60/100\n",
      "4914/4914 [==============================] - 27s 5ms/step - loss: 0.0091\n",
      "Epoch 61/100\n",
      "4914/4914 [==============================] - 27s 5ms/step - loss: 0.0091\n",
      "Epoch 62/100\n",
      "4914/4914 [==============================] - 27s 6ms/step - loss: 0.0090\n",
      "Epoch 63/100\n",
      "4914/4914 [==============================] - 22s 4ms/step - loss: 0.0090\n",
      "Epoch 64/100\n",
      "4914/4914 [==============================] - 26s 5ms/step - loss: 0.0091\n",
      "Epoch 65/100\n",
      "4914/4914 [==============================] - 27s 5ms/step - loss: 0.0091\n",
      "Epoch 66/100\n",
      "4914/4914 [==============================] - 23s 5ms/step - loss: 0.0090\n",
      "Epoch 67/100\n",
      "4914/4914 [==============================] - 27s 5ms/step - loss: 0.0091\n",
      "Epoch 68/100\n",
      "4914/4914 [==============================] - 27s 6ms/step - loss: 0.0091\n",
      "Epoch 69/100\n",
      "4914/4914 [==============================] - 26s 5ms/step - loss: 0.0091\n",
      "Epoch 70/100\n",
      "4914/4914 [==============================] - 28s 6ms/step - loss: 0.0091\n",
      "Epoch 71/100\n",
      "4914/4914 [==============================] - 27s 6ms/step - loss: 0.0091\n",
      "Epoch 72/100\n",
      "4914/4914 [==============================] - 27s 5ms/step - loss: 0.0091\n",
      "Epoch 73/100\n",
      "4914/4914 [==============================] - 23s 5ms/step - loss: 0.0091\n",
      "Epoch 74/100\n",
      "4914/4914 [==============================] - 23s 5ms/step - loss: 0.0091\n",
      "Epoch 75/100\n",
      "4914/4914 [==============================] - 21s 4ms/step - loss: 0.0091\n",
      "Epoch 76/100\n",
      "4914/4914 [==============================] - 25s 5ms/step - loss: 0.0091\n",
      "Epoch 77/100\n",
      "4914/4914 [==============================] - 29s 6ms/step - loss: 0.0091\n",
      "Epoch 78/100\n",
      "4914/4914 [==============================] - 25s 5ms/step - loss: 0.0091\n",
      "Epoch 79/100\n",
      "4914/4914 [==============================] - 26s 5ms/step - loss: 0.0090\n",
      "Epoch 80/100\n",
      "4914/4914 [==============================] - 13s 3ms/step - loss: 0.0091\n",
      "Epoch 81/100\n",
      "4914/4914 [==============================] - 10s 2ms/step - loss: 0.0091\n",
      "Epoch 82/100\n",
      "4914/4914 [==============================] - 11s 2ms/step - loss: 0.0091\n",
      "Epoch 83/100\n",
      "4914/4914 [==============================] - 13s 3ms/step - loss: 0.0091\n",
      "Epoch 84/100\n",
      "4914/4914 [==============================] - 13s 3ms/step - loss: 0.0091\n",
      "Epoch 85/100\n",
      "4914/4914 [==============================] - 12s 2ms/step - loss: 0.0091\n",
      "Epoch 86/100\n",
      "4914/4914 [==============================] - 12s 2ms/step - loss: 0.0091\n",
      "Epoch 87/100\n",
      "4914/4914 [==============================] - 11s 2ms/step - loss: 0.0091\n",
      "Epoch 88/100\n",
      "4914/4914 [==============================] - 11s 2ms/step - loss: 0.0091\n",
      "Epoch 89/100\n",
      "4914/4914 [==============================] - 12s 2ms/step - loss: 0.0091\n",
      "Epoch 90/100\n",
      "4914/4914 [==============================] - 11s 2ms/step - loss: 0.0091\n",
      "Epoch 91/100\n",
      "4914/4914 [==============================] - 13s 3ms/step - loss: 0.0091\n",
      "Epoch 92/100\n",
      "4914/4914 [==============================] - 12s 3ms/step - loss: 0.0091\n",
      "Epoch 93/100\n",
      "4914/4914 [==============================] - 14s 3ms/step - loss: 0.0090\n",
      "Epoch 94/100\n",
      "4914/4914 [==============================] - 12s 2ms/step - loss: 0.0091\n",
      "Epoch 95/100\n",
      "4914/4914 [==============================] - 12s 2ms/step - loss: 0.0091\n",
      "Epoch 96/100\n",
      "4914/4914 [==============================] - 11s 2ms/step - loss: 0.0091\n",
      "Epoch 97/100\n",
      "4914/4914 [==============================] - 12s 2ms/step - loss: 0.0091\n",
      "Epoch 98/100\n",
      "4914/4914 [==============================] - 12s 2ms/step - loss: 0.0091\n",
      "Epoch 99/100\n",
      "4914/4914 [==============================] - 12s 2ms/step - loss: 0.0091\n",
      "Epoch 100/100\n",
      "4914/4914 [==============================] - 12s 2ms/step - loss: 0.0091\n"
     ]
    }
   ],
   "source": [
    "#Fitting the model\n",
    "history = model.fit(x_train, y_train, batch_size=1, epochs=100)\n"
   ]
  },
  {
   "cell_type": "code",
   "execution_count": 13,
   "id": "f3df364a",
   "metadata": {},
   "outputs": [
    {
     "name": "stdout",
     "output_type": "stream",
     "text": [
      "6/6 [==============================] - 1s 3ms/step\n"
     ]
    }
   ],
   "source": [
    "#Predictting the test set\n",
    "y_pred = model.predict(x_test)"
   ]
  },
  {
   "cell_type": "code",
   "execution_count": 14,
   "id": "bd695796",
   "metadata": {},
   "outputs": [],
   "source": [
    "                   \n",
    "# Inverse transforming the data to get the original scale\n",
    "y_test = np.hstack((y_test.reshape(-1, 1), np.zeros((y_test.shape[0], 1))))\n",
    "y_pred = np.hstack((y_pred.reshape(-1, 1), np.zeros((y_pred.shape[0], 1))))"
   ]
  },
  {
   "cell_type": "code",
   "execution_count": 15,
   "id": "e2b10466",
   "metadata": {},
   "outputs": [],
   "source": [
    "y_test = scaler.inverse_transform(y_test)\n",
    "y_pred = scaler.inverse_transform(y_pred)"
   ]
  },
  {
   "cell_type": "code",
   "execution_count": 16,
   "id": "95d87a80",
   "metadata": {},
   "outputs": [
    {
     "name": "stdout",
     "output_type": "stream",
     "text": [
      "Test MSE: 5.02\n"
     ]
    }
   ],
   "source": [
    "#MSE is calculated by comparing the predicted values (y_pred) with the original test values (y_test).\n",
    "mse = np.mean((y_pred - y_test)**2)\n",
    "print('Test MSE: %.2f' % mse)"
   ]
  },
  {
   "cell_type": "code",
   "execution_count": 17,
   "id": "649e88a4",
   "metadata": {},
   "outputs": [],
   "source": [
    "# Calculating the mean squared error\n",
    "mse = np.mean((y_pred - y_test)**2)"
   ]
  },
  {
   "cell_type": "code",
   "execution_count": 18,
   "id": "2004bd31",
   "metadata": {},
   "outputs": [
    {
     "name": "stdout",
     "output_type": "stream",
     "text": [
      "Test RMSE: 2.24\n"
     ]
    }
   ],
   "source": [
    "# Calculating the root mean squared error\n",
    "rmse = np.sqrt(mse)\n",
    "\n",
    "print('Test RMSE: %.2f' % rmse)"
   ]
  },
  {
   "cell_type": "code",
   "execution_count": null,
   "id": "ee43ee91",
   "metadata": {},
   "outputs": [],
   "source": []
  },
  {
   "cell_type": "code",
   "execution_count": null,
   "id": "a1044897",
   "metadata": {},
   "outputs": [],
   "source": []
  }
 ],
 "metadata": {
  "kernelspec": {
   "display_name": "Python 3 (ipykernel)",
   "language": "python",
   "name": "python3"
  },
  "language_info": {
   "codemirror_mode": {
    "name": "ipython",
    "version": 3
   },
   "file_extension": ".py",
   "mimetype": "text/x-python",
   "name": "python",
   "nbconvert_exporter": "python",
   "pygments_lexer": "ipython3",
   "version": "3.9.13"
  }
 },
 "nbformat": 4,
 "nbformat_minor": 5
}

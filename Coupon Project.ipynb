{
 "cells": [
  {
   "cell_type": "markdown",
   "id": "511385a8",
   "metadata": {},
   "source": [
    "# Loading Libraries"
   ]
  },
  {
   "cell_type": "code",
   "execution_count": 2,
   "id": "fa83ade1",
   "metadata": {},
   "outputs": [
    {
     "name": "stderr",
     "output_type": "stream",
     "text": [
      "\n",
      "Attaching package: 'dplyr'\n",
      "\n",
      "\n",
      "The following objects are masked from 'package:stats':\n",
      "\n",
      "    filter, lag\n",
      "\n",
      "\n",
      "The following objects are masked from 'package:base':\n",
      "\n",
      "    intersect, setdiff, setequal, union\n",
      "\n",
      "\n",
      "\n",
      "Attaching package: 'psych'\n",
      "\n",
      "\n",
      "The following objects are masked from 'package:ggplot2':\n",
      "\n",
      "    %+%, alpha\n",
      "\n",
      "\n",
      "\n",
      "Attaching package: 'plotly'\n",
      "\n",
      "\n",
      "The following object is masked from 'package:ggplot2':\n",
      "\n",
      "    last_plot\n",
      "\n",
      "\n",
      "The following object is masked from 'package:stats':\n",
      "\n",
      "    filter\n",
      "\n",
      "\n",
      "The following object is masked from 'package:graphics':\n",
      "\n",
      "    layout\n",
      "\n",
      "\n",
      "\n",
      "Attaching package: 'lime'\n",
      "\n",
      "\n",
      "The following object is masked from 'package:dplyr':\n",
      "\n",
      "    explain\n",
      "\n",
      "\n",
      "Registered S3 method overwritten by 'GGally':\n",
      "  method from   \n",
      "  +.gg   ggplot2\n",
      "\n",
      "\n",
      "Attaching package: 'MLmetrics'\n",
      "\n",
      "\n",
      "The following object is masked from 'package:psych':\n",
      "\n",
      "    AUC\n",
      "\n",
      "\n",
      "The following object is masked from 'package:base':\n",
      "\n",
      "    Recall\n",
      "\n",
      "\n",
      "Loading required package: zoo\n",
      "\n",
      "\n",
      "Attaching package: 'zoo'\n",
      "\n",
      "\n",
      "The following objects are masked from 'package:base':\n",
      "\n",
      "    as.Date, as.Date.numeric\n",
      "\n",
      "\n",
      "Loading required package: carData\n",
      "\n",
      "\n",
      "Attaching package: 'car'\n",
      "\n",
      "\n",
      "The following object is masked from 'package:psych':\n",
      "\n",
      "    logit\n",
      "\n",
      "\n",
      "The following object is masked from 'package:dplyr':\n",
      "\n",
      "    recode\n",
      "\n",
      "\n",
      "\n",
      "Attaching package: 'hablar'\n",
      "\n",
      "\n",
      "The following object is masked from 'package:dplyr':\n",
      "\n",
      "    na_if\n",
      "\n",
      "\n",
      "Loading required package: lattice\n",
      "\n",
      "\n",
      "Attaching package: 'caret'\n",
      "\n",
      "\n",
      "The following objects are masked from 'package:MLmetrics':\n",
      "\n",
      "    MAE, RMSE\n",
      "\n",
      "\n",
      "\n",
      "Attaching package: 'Metrics'\n",
      "\n",
      "\n",
      "The following objects are masked from 'package:caret':\n",
      "\n",
      "    precision, recall\n",
      "\n",
      "\n",
      "The following objects are masked from 'package:performance':\n",
      "\n",
      "    mae, mse, rmse\n",
      "\n",
      "\n"
     ]
    }
   ],
   "source": [
    "library(ggplot2)\n",
    "library(dplyr)\n",
    "library(ggthemes)\n",
    "library(tidyr)\n",
    "library(psych)\n",
    "library(plotly)\n",
    "library(lime)\n",
    "library(GGally)\n",
    "library(performance) \n",
    "library(MLmetrics)\n",
    "library(lmtest)\n",
    "library(car)\n",
    "library(DataExplorer)\n",
    "library(gapminder)\n",
    "library(hablar)\n",
    "library(ggcorrplot)\n",
    "library(rpart)\n",
    "library(rpart.plot)\n",
    "library(caret)\n",
    "library(Metrics)"
   ]
  },
  {
   "cell_type": "markdown",
   "id": "1a557421",
   "metadata": {},
   "source": [
    "# Reading Data"
   ]
  },
  {
   "cell_type": "code",
   "execution_count": 3,
   "id": "1ab3098d",
   "metadata": {},
   "outputs": [],
   "source": [
    "data <- read.csv('in-vehicle-coupon-recommendation.csv', na.strings=c(\"\"))"
   ]
  },
  {
   "cell_type": "code",
   "execution_count": 4,
   "id": "20542f47",
   "metadata": {},
   "outputs": [
    {
     "data": {
      "text/html": [
       "<table class=\"dataframe\">\n",
       "<caption>A data.frame: 6 × 26</caption>\n",
       "<thead>\n",
       "\t<tr><th></th><th scope=col>destination</th><th scope=col>passanger</th><th scope=col>weather</th><th scope=col>temperature</th><th scope=col>time</th><th scope=col>coupon</th><th scope=col>expiration</th><th scope=col>gender</th><th scope=col>age</th><th scope=col>maritalStatus</th><th scope=col>⋯</th><th scope=col>CoffeeHouse</th><th scope=col>CarryAway</th><th scope=col>RestaurantLessThan20</th><th scope=col>Restaurant20To50</th><th scope=col>toCoupon_GEQ5min</th><th scope=col>toCoupon_GEQ15min</th><th scope=col>toCoupon_GEQ25min</th><th scope=col>direction_same</th><th scope=col>direction_opp</th><th scope=col>Y</th></tr>\n",
       "\t<tr><th></th><th scope=col>&lt;chr&gt;</th><th scope=col>&lt;chr&gt;</th><th scope=col>&lt;chr&gt;</th><th scope=col>&lt;int&gt;</th><th scope=col>&lt;chr&gt;</th><th scope=col>&lt;chr&gt;</th><th scope=col>&lt;chr&gt;</th><th scope=col>&lt;chr&gt;</th><th scope=col>&lt;chr&gt;</th><th scope=col>&lt;chr&gt;</th><th scope=col>⋯</th><th scope=col>&lt;chr&gt;</th><th scope=col>&lt;chr&gt;</th><th scope=col>&lt;chr&gt;</th><th scope=col>&lt;chr&gt;</th><th scope=col>&lt;int&gt;</th><th scope=col>&lt;int&gt;</th><th scope=col>&lt;int&gt;</th><th scope=col>&lt;int&gt;</th><th scope=col>&lt;int&gt;</th><th scope=col>&lt;int&gt;</th></tr>\n",
       "</thead>\n",
       "<tbody>\n",
       "\t<tr><th scope=row>1</th><td>No Urgent Place</td><td><span style=white-space:pre-wrap>Alone    </span></td><td>Sunny</td><td>55</td><td>2PM </td><td><span style=white-space:pre-wrap>Restaurant(&lt;20)      </span></td><td>1d</td><td>Female</td><td>21</td><td>Unmarried partner</td><td>⋯</td><td>never</td><td>NA</td><td>4~8</td><td>1~3</td><td>1</td><td>0</td><td>0</td><td>0</td><td>1</td><td>1</td></tr>\n",
       "\t<tr><th scope=row>2</th><td>No Urgent Place</td><td>Friend(s)</td><td>Sunny</td><td>80</td><td>10AM</td><td>Coffee House         </td><td>2h</td><td>Female</td><td>21</td><td>Unmarried partner</td><td>⋯</td><td>never</td><td>NA</td><td>4~8</td><td>1~3</td><td>1</td><td>0</td><td>0</td><td>0</td><td>1</td><td>0</td></tr>\n",
       "\t<tr><th scope=row>3</th><td>No Urgent Place</td><td>Friend(s)</td><td>Sunny</td><td>80</td><td>10AM</td><td>Carry out &amp; Take away</td><td>2h</td><td>Female</td><td>21</td><td>Unmarried partner</td><td>⋯</td><td>never</td><td>NA</td><td>4~8</td><td>1~3</td><td>1</td><td>1</td><td>0</td><td>0</td><td>1</td><td>1</td></tr>\n",
       "\t<tr><th scope=row>4</th><td>No Urgent Place</td><td>Friend(s)</td><td>Sunny</td><td>80</td><td>2PM </td><td>Coffee House         </td><td>2h</td><td>Female</td><td>21</td><td>Unmarried partner</td><td>⋯</td><td>never</td><td>NA</td><td>4~8</td><td>1~3</td><td>1</td><td>1</td><td>0</td><td>0</td><td>1</td><td>0</td></tr>\n",
       "\t<tr><th scope=row>5</th><td>No Urgent Place</td><td>Friend(s)</td><td>Sunny</td><td>80</td><td>2PM </td><td>Coffee House         </td><td>1d</td><td>Female</td><td>21</td><td>Unmarried partner</td><td>⋯</td><td>never</td><td>NA</td><td>4~8</td><td>1~3</td><td>1</td><td>1</td><td>0</td><td>0</td><td>1</td><td>0</td></tr>\n",
       "\t<tr><th scope=row>6</th><td>No Urgent Place</td><td>Friend(s)</td><td>Sunny</td><td>80</td><td>6PM </td><td><span style=white-space:pre-wrap>Restaurant(&lt;20)      </span></td><td>2h</td><td>Female</td><td>21</td><td>Unmarried partner</td><td>⋯</td><td>never</td><td>NA</td><td>4~8</td><td>1~3</td><td>1</td><td>1</td><td>0</td><td>0</td><td>1</td><td>1</td></tr>\n",
       "</tbody>\n",
       "</table>\n"
      ],
      "text/latex": [
       "A data.frame: 6 × 26\n",
       "\\begin{tabular}{r|lllllllllllllllllllll}\n",
       "  & destination & passanger & weather & temperature & time & coupon & expiration & gender & age & maritalStatus & ⋯ & CoffeeHouse & CarryAway & RestaurantLessThan20 & Restaurant20To50 & toCoupon\\_GEQ5min & toCoupon\\_GEQ15min & toCoupon\\_GEQ25min & direction\\_same & direction\\_opp & Y\\\\\n",
       "  & <chr> & <chr> & <chr> & <int> & <chr> & <chr> & <chr> & <chr> & <chr> & <chr> & ⋯ & <chr> & <chr> & <chr> & <chr> & <int> & <int> & <int> & <int> & <int> & <int>\\\\\n",
       "\\hline\n",
       "\t1 & No Urgent Place & Alone     & Sunny & 55 & 2PM  & Restaurant(<20)       & 1d & Female & 21 & Unmarried partner & ⋯ & never & NA & 4\\textasciitilde{}8 & 1\\textasciitilde{}3 & 1 & 0 & 0 & 0 & 1 & 1\\\\\n",
       "\t2 & No Urgent Place & Friend(s) & Sunny & 80 & 10AM & Coffee House          & 2h & Female & 21 & Unmarried partner & ⋯ & never & NA & 4\\textasciitilde{}8 & 1\\textasciitilde{}3 & 1 & 0 & 0 & 0 & 1 & 0\\\\\n",
       "\t3 & No Urgent Place & Friend(s) & Sunny & 80 & 10AM & Carry out \\& Take away & 2h & Female & 21 & Unmarried partner & ⋯ & never & NA & 4\\textasciitilde{}8 & 1\\textasciitilde{}3 & 1 & 1 & 0 & 0 & 1 & 1\\\\\n",
       "\t4 & No Urgent Place & Friend(s) & Sunny & 80 & 2PM  & Coffee House          & 2h & Female & 21 & Unmarried partner & ⋯ & never & NA & 4\\textasciitilde{}8 & 1\\textasciitilde{}3 & 1 & 1 & 0 & 0 & 1 & 0\\\\\n",
       "\t5 & No Urgent Place & Friend(s) & Sunny & 80 & 2PM  & Coffee House          & 1d & Female & 21 & Unmarried partner & ⋯ & never & NA & 4\\textasciitilde{}8 & 1\\textasciitilde{}3 & 1 & 1 & 0 & 0 & 1 & 0\\\\\n",
       "\t6 & No Urgent Place & Friend(s) & Sunny & 80 & 6PM  & Restaurant(<20)       & 2h & Female & 21 & Unmarried partner & ⋯ & never & NA & 4\\textasciitilde{}8 & 1\\textasciitilde{}3 & 1 & 1 & 0 & 0 & 1 & 1\\\\\n",
       "\\end{tabular}\n"
      ],
      "text/markdown": [
       "\n",
       "A data.frame: 6 × 26\n",
       "\n",
       "| <!--/--> | destination &lt;chr&gt; | passanger &lt;chr&gt; | weather &lt;chr&gt; | temperature &lt;int&gt; | time &lt;chr&gt; | coupon &lt;chr&gt; | expiration &lt;chr&gt; | gender &lt;chr&gt; | age &lt;chr&gt; | maritalStatus &lt;chr&gt; | ⋯ ⋯ | CoffeeHouse &lt;chr&gt; | CarryAway &lt;chr&gt; | RestaurantLessThan20 &lt;chr&gt; | Restaurant20To50 &lt;chr&gt; | toCoupon_GEQ5min &lt;int&gt; | toCoupon_GEQ15min &lt;int&gt; | toCoupon_GEQ25min &lt;int&gt; | direction_same &lt;int&gt; | direction_opp &lt;int&gt; | Y &lt;int&gt; |\n",
       "|---|---|---|---|---|---|---|---|---|---|---|---|---|---|---|---|---|---|---|---|---|---|\n",
       "| 1 | No Urgent Place | Alone     | Sunny | 55 | 2PM  | Restaurant(&lt;20)       | 1d | Female | 21 | Unmarried partner | ⋯ | never | NA | 4~8 | 1~3 | 1 | 0 | 0 | 0 | 1 | 1 |\n",
       "| 2 | No Urgent Place | Friend(s) | Sunny | 80 | 10AM | Coffee House          | 2h | Female | 21 | Unmarried partner | ⋯ | never | NA | 4~8 | 1~3 | 1 | 0 | 0 | 0 | 1 | 0 |\n",
       "| 3 | No Urgent Place | Friend(s) | Sunny | 80 | 10AM | Carry out &amp; Take away | 2h | Female | 21 | Unmarried partner | ⋯ | never | NA | 4~8 | 1~3 | 1 | 1 | 0 | 0 | 1 | 1 |\n",
       "| 4 | No Urgent Place | Friend(s) | Sunny | 80 | 2PM  | Coffee House          | 2h | Female | 21 | Unmarried partner | ⋯ | never | NA | 4~8 | 1~3 | 1 | 1 | 0 | 0 | 1 | 0 |\n",
       "| 5 | No Urgent Place | Friend(s) | Sunny | 80 | 2PM  | Coffee House          | 1d | Female | 21 | Unmarried partner | ⋯ | never | NA | 4~8 | 1~3 | 1 | 1 | 0 | 0 | 1 | 0 |\n",
       "| 6 | No Urgent Place | Friend(s) | Sunny | 80 | 6PM  | Restaurant(&lt;20)       | 2h | Female | 21 | Unmarried partner | ⋯ | never | NA | 4~8 | 1~3 | 1 | 1 | 0 | 0 | 1 | 1 |\n",
       "\n"
      ],
      "text/plain": [
       "  destination     passanger weather temperature time coupon               \n",
       "1 No Urgent Place Alone     Sunny   55          2PM  Restaurant(<20)      \n",
       "2 No Urgent Place Friend(s) Sunny   80          10AM Coffee House         \n",
       "3 No Urgent Place Friend(s) Sunny   80          10AM Carry out & Take away\n",
       "4 No Urgent Place Friend(s) Sunny   80          2PM  Coffee House         \n",
       "5 No Urgent Place Friend(s) Sunny   80          2PM  Coffee House         \n",
       "6 No Urgent Place Friend(s) Sunny   80          6PM  Restaurant(<20)      \n",
       "  expiration gender age maritalStatus     ⋯ CoffeeHouse CarryAway\n",
       "1 1d         Female 21  Unmarried partner ⋯ never       NA       \n",
       "2 2h         Female 21  Unmarried partner ⋯ never       NA       \n",
       "3 2h         Female 21  Unmarried partner ⋯ never       NA       \n",
       "4 2h         Female 21  Unmarried partner ⋯ never       NA       \n",
       "5 1d         Female 21  Unmarried partner ⋯ never       NA       \n",
       "6 2h         Female 21  Unmarried partner ⋯ never       NA       \n",
       "  RestaurantLessThan20 Restaurant20To50 toCoupon_GEQ5min toCoupon_GEQ15min\n",
       "1 4~8                  1~3              1                0                \n",
       "2 4~8                  1~3              1                0                \n",
       "3 4~8                  1~3              1                1                \n",
       "4 4~8                  1~3              1                1                \n",
       "5 4~8                  1~3              1                1                \n",
       "6 4~8                  1~3              1                1                \n",
       "  toCoupon_GEQ25min direction_same direction_opp Y\n",
       "1 0                 0              1             1\n",
       "2 0                 0              1             0\n",
       "3 0                 0              1             1\n",
       "4 0                 0              1             0\n",
       "5 0                 0              1             0\n",
       "6 0                 0              1             1"
      ]
     },
     "metadata": {},
     "output_type": "display_data"
    }
   ],
   "source": [
    "head(data)"
   ]
  },
  {
   "cell_type": "markdown",
   "id": "0aed3725",
   "metadata": {},
   "source": [
    "# Data Pre-Processing"
   ]
  },
  {
   "cell_type": "markdown",
   "id": "01557e7c",
   "metadata": {},
   "source": [
    "Changing the name of the feature to increase the readability"
   ]
  },
  {
   "cell_type": "code",
   "execution_count": 5,
   "id": "083082b4",
   "metadata": {},
   "outputs": [],
   "source": [
    "data <- data %>% rename('coupon_outcome' = 'Y')"
   ]
  },
  {
   "cell_type": "markdown",
   "id": "bf6a5041",
   "metadata": {},
   "source": [
    "Checking the data for missing and NA values"
   ]
  },
  {
   "cell_type": "code",
   "execution_count": 6,
   "id": "337ac62a",
   "metadata": {},
   "outputs": [
    {
     "data": {
      "text/html": [
       "<style>\n",
       ".dl-inline {width: auto; margin:0; padding: 0}\n",
       ".dl-inline>dt, .dl-inline>dd {float: none; width: auto; display: inline-block}\n",
       ".dl-inline>dt::after {content: \":\\0020\"; padding-right: .5ex}\n",
       ".dl-inline>dt:not(:first-of-type) {padding-left: .5ex}\n",
       "</style><dl class=dl-inline><dt>destination</dt><dd>0</dd><dt>passanger</dt><dd>0</dd><dt>weather</dt><dd>0</dd><dt>temperature</dt><dd>0</dd><dt>time</dt><dd>0</dd><dt>coupon</dt><dd>0</dd><dt>expiration</dt><dd>0</dd><dt>gender</dt><dd>0</dd><dt>age</dt><dd>0</dd><dt>maritalStatus</dt><dd>0</dd><dt>has_children</dt><dd>0</dd><dt>education</dt><dd>0</dd><dt>occupation</dt><dd>0</dd><dt>income</dt><dd>0</dd><dt>car</dt><dd>12576</dd><dt>Bar</dt><dd>107</dd><dt>CoffeeHouse</dt><dd>217</dd><dt>CarryAway</dt><dd>151</dd><dt>RestaurantLessThan20</dt><dd>130</dd><dt>Restaurant20To50</dt><dd>189</dd><dt>toCoupon_GEQ5min</dt><dd>0</dd><dt>toCoupon_GEQ15min</dt><dd>0</dd><dt>toCoupon_GEQ25min</dt><dd>0</dd><dt>direction_same</dt><dd>0</dd><dt>direction_opp</dt><dd>0</dd><dt>coupon_outcome</dt><dd>0</dd></dl>\n"
      ],
      "text/latex": [
       "\\begin{description*}\n",
       "\\item[destination] 0\n",
       "\\item[passanger] 0\n",
       "\\item[weather] 0\n",
       "\\item[temperature] 0\n",
       "\\item[time] 0\n",
       "\\item[coupon] 0\n",
       "\\item[expiration] 0\n",
       "\\item[gender] 0\n",
       "\\item[age] 0\n",
       "\\item[maritalStatus] 0\n",
       "\\item[has\\textbackslash{}\\_children] 0\n",
       "\\item[education] 0\n",
       "\\item[occupation] 0\n",
       "\\item[income] 0\n",
       "\\item[car] 12576\n",
       "\\item[Bar] 107\n",
       "\\item[CoffeeHouse] 217\n",
       "\\item[CarryAway] 151\n",
       "\\item[RestaurantLessThan20] 130\n",
       "\\item[Restaurant20To50] 189\n",
       "\\item[toCoupon\\textbackslash{}\\_GEQ5min] 0\n",
       "\\item[toCoupon\\textbackslash{}\\_GEQ15min] 0\n",
       "\\item[toCoupon\\textbackslash{}\\_GEQ25min] 0\n",
       "\\item[direction\\textbackslash{}\\_same] 0\n",
       "\\item[direction\\textbackslash{}\\_opp] 0\n",
       "\\item[coupon\\textbackslash{}\\_outcome] 0\n",
       "\\end{description*}\n"
      ],
      "text/markdown": [
       "destination\n",
       ":   0passanger\n",
       ":   0weather\n",
       ":   0temperature\n",
       ":   0time\n",
       ":   0coupon\n",
       ":   0expiration\n",
       ":   0gender\n",
       ":   0age\n",
       ":   0maritalStatus\n",
       ":   0has_children\n",
       ":   0education\n",
       ":   0occupation\n",
       ":   0income\n",
       ":   0car\n",
       ":   12576Bar\n",
       ":   107CoffeeHouse\n",
       ":   217CarryAway\n",
       ":   151RestaurantLessThan20\n",
       ":   130Restaurant20To50\n",
       ":   189toCoupon_GEQ5min\n",
       ":   0toCoupon_GEQ15min\n",
       ":   0toCoupon_GEQ25min\n",
       ":   0direction_same\n",
       ":   0direction_opp\n",
       ":   0coupon_outcome\n",
       ":   0\n",
       "\n"
      ],
      "text/plain": [
       "         destination            passanger              weather \n",
       "                   0                    0                    0 \n",
       "         temperature                 time               coupon \n",
       "                   0                    0                    0 \n",
       "          expiration               gender                  age \n",
       "                   0                    0                    0 \n",
       "       maritalStatus         has_children            education \n",
       "                   0                    0                    0 \n",
       "          occupation               income                  car \n",
       "                   0                    0                12576 \n",
       "                 Bar          CoffeeHouse            CarryAway \n",
       "                 107                  217                  151 \n",
       "RestaurantLessThan20     Restaurant20To50     toCoupon_GEQ5min \n",
       "                 130                  189                    0 \n",
       "   toCoupon_GEQ15min    toCoupon_GEQ25min       direction_same \n",
       "                   0                    0                    0 \n",
       "       direction_opp       coupon_outcome \n",
       "                   0                    0 "
      ]
     },
     "metadata": {},
     "output_type": "display_data"
    }
   ],
   "source": [
    "colSums(is.na(data))"
   ]
  },
  {
   "cell_type": "markdown",
   "id": "c7bc09c3",
   "metadata": {},
   "source": [
    "Dropping the car feature as it contains 99% missing values"
   ]
  },
  {
   "cell_type": "code",
   "execution_count": 7,
   "id": "2124e847",
   "metadata": {},
   "outputs": [],
   "source": [
    "data$car <- NULL"
   ]
  },
  {
   "cell_type": "markdown",
   "id": "8358453e",
   "metadata": {},
   "source": [
    "Removing the rows that contains NA values"
   ]
  },
  {
   "cell_type": "code",
   "execution_count": 8,
   "id": "593d90a3",
   "metadata": {},
   "outputs": [],
   "source": [
    "data <- data %>% filter(complete.cases(.))"
   ]
  },
  {
   "cell_type": "code",
   "execution_count": 9,
   "id": "74cdcc0f",
   "metadata": {},
   "outputs": [
    {
     "data": {
      "text/html": [
       "<style>\n",
       ".dl-inline {width: auto; margin:0; padding: 0}\n",
       ".dl-inline>dt, .dl-inline>dd {float: none; width: auto; display: inline-block}\n",
       ".dl-inline>dt::after {content: \":\\0020\"; padding-right: .5ex}\n",
       ".dl-inline>dt:not(:first-of-type) {padding-left: .5ex}\n",
       "</style><dl class=dl-inline><dt>destination</dt><dd>0</dd><dt>passanger</dt><dd>0</dd><dt>weather</dt><dd>0</dd><dt>temperature</dt><dd>0</dd><dt>time</dt><dd>0</dd><dt>coupon</dt><dd>0</dd><dt>expiration</dt><dd>0</dd><dt>gender</dt><dd>0</dd><dt>age</dt><dd>0</dd><dt>maritalStatus</dt><dd>0</dd><dt>has_children</dt><dd>0</dd><dt>education</dt><dd>0</dd><dt>occupation</dt><dd>0</dd><dt>income</dt><dd>0</dd><dt>Bar</dt><dd>0</dd><dt>CoffeeHouse</dt><dd>0</dd><dt>CarryAway</dt><dd>0</dd><dt>RestaurantLessThan20</dt><dd>0</dd><dt>Restaurant20To50</dt><dd>0</dd><dt>toCoupon_GEQ5min</dt><dd>0</dd><dt>toCoupon_GEQ15min</dt><dd>0</dd><dt>toCoupon_GEQ25min</dt><dd>0</dd><dt>direction_same</dt><dd>0</dd><dt>direction_opp</dt><dd>0</dd><dt>coupon_outcome</dt><dd>0</dd></dl>\n"
      ],
      "text/latex": [
       "\\begin{description*}\n",
       "\\item[destination] 0\n",
       "\\item[passanger] 0\n",
       "\\item[weather] 0\n",
       "\\item[temperature] 0\n",
       "\\item[time] 0\n",
       "\\item[coupon] 0\n",
       "\\item[expiration] 0\n",
       "\\item[gender] 0\n",
       "\\item[age] 0\n",
       "\\item[maritalStatus] 0\n",
       "\\item[has\\textbackslash{}\\_children] 0\n",
       "\\item[education] 0\n",
       "\\item[occupation] 0\n",
       "\\item[income] 0\n",
       "\\item[Bar] 0\n",
       "\\item[CoffeeHouse] 0\n",
       "\\item[CarryAway] 0\n",
       "\\item[RestaurantLessThan20] 0\n",
       "\\item[Restaurant20To50] 0\n",
       "\\item[toCoupon\\textbackslash{}\\_GEQ5min] 0\n",
       "\\item[toCoupon\\textbackslash{}\\_GEQ15min] 0\n",
       "\\item[toCoupon\\textbackslash{}\\_GEQ25min] 0\n",
       "\\item[direction\\textbackslash{}\\_same] 0\n",
       "\\item[direction\\textbackslash{}\\_opp] 0\n",
       "\\item[coupon\\textbackslash{}\\_outcome] 0\n",
       "\\end{description*}\n"
      ],
      "text/markdown": [
       "destination\n",
       ":   0passanger\n",
       ":   0weather\n",
       ":   0temperature\n",
       ":   0time\n",
       ":   0coupon\n",
       ":   0expiration\n",
       ":   0gender\n",
       ":   0age\n",
       ":   0maritalStatus\n",
       ":   0has_children\n",
       ":   0education\n",
       ":   0occupation\n",
       ":   0income\n",
       ":   0Bar\n",
       ":   0CoffeeHouse\n",
       ":   0CarryAway\n",
       ":   0RestaurantLessThan20\n",
       ":   0Restaurant20To50\n",
       ":   0toCoupon_GEQ5min\n",
       ":   0toCoupon_GEQ15min\n",
       ":   0toCoupon_GEQ25min\n",
       ":   0direction_same\n",
       ":   0direction_opp\n",
       ":   0coupon_outcome\n",
       ":   0\n",
       "\n"
      ],
      "text/plain": [
       "         destination            passanger              weather \n",
       "                   0                    0                    0 \n",
       "         temperature                 time               coupon \n",
       "                   0                    0                    0 \n",
       "          expiration               gender                  age \n",
       "                   0                    0                    0 \n",
       "       maritalStatus         has_children            education \n",
       "                   0                    0                    0 \n",
       "          occupation               income                  Bar \n",
       "                   0                    0                    0 \n",
       "         CoffeeHouse            CarryAway RestaurantLessThan20 \n",
       "                   0                    0                    0 \n",
       "    Restaurant20To50     toCoupon_GEQ5min    toCoupon_GEQ15min \n",
       "                   0                    0                    0 \n",
       "   toCoupon_GEQ25min       direction_same        direction_opp \n",
       "                   0                    0                    0 \n",
       "      coupon_outcome \n",
       "                   0 "
      ]
     },
     "metadata": {},
     "output_type": "display_data"
    }
   ],
   "source": [
    "colSums(is.na(data))"
   ]
  },
  {
   "cell_type": "code",
   "execution_count": 10,
   "id": "d1402b89",
   "metadata": {},
   "outputs": [
    {
     "data": {
      "text/html": [
       "<style>\n",
       ".list-inline {list-style: none; margin:0; padding: 0}\n",
       ".list-inline>li {display: inline-block}\n",
       ".list-inline>li:not(:last-child)::after {content: \"\\00b7\"; padding: 0 .5ex}\n",
       "</style>\n",
       "<ol class=list-inline><li>12079</li><li>25</li></ol>\n"
      ],
      "text/latex": [
       "\\begin{enumerate*}\n",
       "\\item 12079\n",
       "\\item 25\n",
       "\\end{enumerate*}\n"
      ],
      "text/markdown": [
       "1. 12079\n",
       "2. 25\n",
       "\n",
       "\n"
      ],
      "text/plain": [
       "[1] 12079    25"
      ]
     },
     "metadata": {},
     "output_type": "display_data"
    }
   ],
   "source": [
    "dim(data)"
   ]
  },
  {
   "cell_type": "markdown",
   "id": "8614ac12",
   "metadata": {},
   "source": [
    "Changing the categorical values into factors"
   ]
  },
  {
   "cell_type": "code",
   "execution_count": 11,
   "id": "c9c29dbd",
   "metadata": {},
   "outputs": [],
   "source": [
    "data$gender <- as.factor(data$gender)\n",
    "data$has_children <- as.factor(data$has_children)\n",
    "data$education <- as.factor(data$education)\n",
    "data$occupation <- as.factor(data$occupation)\n",
    "data$destination <- as.factor(data$destination)\n",
    "data$passanger <- as.factor(data$passanger)\n",
    "data$weather <- as.factor(data$weather)\n",
    "data$toCoupon_GEQ5min <- as.factor(data$toCoupon_GEQ5min)\n",
    "data$toCoupon_GEQ15min <- as.factor(data$toCoupon_GEQ15min)\n",
    "data$toCoupon_GEQ25min <- as.factor(data$toCoupon_GEQ25min)\n",
    "data$direction_same <- as.factor(data$direction_same)\n",
    "data$direction_opp <- as.factor(data$direction_opp)\n",
    "data$coupon_outcome <- as.factor(data$coupon_outcome)\n",
    "data$expiration <- as.factor(data$expiration)\n",
    "data$coupon <- as.factor(data$coupon)\n",
    "data$time <- as.factor(data$time)\n",
    "data$temperature <- as.factor(data$temperature)\n",
    "data$Bar <- as.factor(data$Bar)\n",
    "data$CoffeeHouse <- as.factor(data$CoffeeHouse)\n",
    "data$CarryAway <- as.factor(data$CarryAway)\n",
    "data$RestaurantLessThan20 <- as.factor(data$RestaurantLessThan20)\n",
    "data$income <- as.factor(data$income)\n",
    "data$age <- as.factor(data$age)\n"
   ]
  },
  {
   "cell_type": "code",
   "execution_count": 12,
   "id": "8e5b6116",
   "metadata": {},
   "outputs": [],
   "source": [
    "data$Restaurant20To50 <- as.factor(data$Restaurant20To50)\n",
    "data$maritalStatus <- as.factor(data$maritalStatus)"
   ]
  },
  {
   "cell_type": "code",
   "execution_count": 13,
   "id": "f5ba15a0",
   "metadata": {},
   "outputs": [
    {
     "name": "stdout",
     "output_type": "stream",
     "text": [
      "'data.frame':\t12079 obs. of  25 variables:\n",
      " $ destination         : Factor w/ 3 levels \"Home\",\"No Urgent Place\",..: 2 2 2 2 2 2 2 2 2 2 ...\n",
      " $ passanger           : Factor w/ 4 levels \"Alone\",\"Friend(s)\",..: 1 2 2 2 2 2 2 2 2 2 ...\n",
      " $ weather             : Factor w/ 3 levels \"Rainy\",\"Snowy\",..: 3 3 3 3 3 3 3 3 3 3 ...\n",
      " $ temperature         : Factor w/ 3 levels \"30\",\"55\",\"80\": 2 3 3 3 3 3 3 3 3 3 ...\n",
      " $ time                : Factor w/ 5 levels \"10AM\",\"10PM\",..: 3 1 1 1 3 3 3 3 4 4 ...\n",
      " $ coupon              : Factor w/ 5 levels \"Bar\",\"Carry out & Take away\",..: 4 3 1 2 3 3 3 4 3 4 ...\n",
      " $ expiration          : Factor w/ 2 levels \"1d\",\"2h\": 1 2 1 2 1 2 1 1 2 2 ...\n",
      " $ gender              : Factor w/ 2 levels \"Female\",\"Male\": 2 2 2 2 2 2 2 2 2 2 ...\n",
      " $ age                 : Factor w/ 8 levels \"21\",\"26\",\"31\",..: 1 1 1 1 1 1 1 1 1 1 ...\n",
      " $ maritalStatus       : Factor w/ 5 levels \"Divorced\",\"Married partner\",..: 3 3 3 3 3 3 3 3 3 3 ...\n",
      " $ has_children        : Factor w/ 2 levels \"0\",\"1\": 1 1 1 1 1 1 1 1 1 1 ...\n",
      " $ education           : Factor w/ 6 levels \"Associates degree\",..: 2 2 2 2 2 2 2 2 2 2 ...\n",
      " $ occupation          : Factor w/ 25 levels \"Architecture & Engineering\",..: 1 1 1 1 1 1 1 1 1 1 ...\n",
      " $ income              : Factor w/ 9 levels \"$100000 or More\",..: 6 6 6 6 6 6 6 6 6 6 ...\n",
      " $ Bar                 : Factor w/ 5 levels \"1~3\",\"4~8\",\"gt8\",..: 5 5 5 5 5 5 5 5 5 5 ...\n",
      " $ CoffeeHouse         : Factor w/ 5 levels \"1~3\",\"4~8\",\"gt8\",..: 4 4 4 4 4 4 4 4 4 4 ...\n",
      " $ CarryAway           : Factor w/ 5 levels \"1~3\",\"4~8\",\"gt8\",..: 2 2 2 2 2 2 2 2 2 2 ...\n",
      " $ RestaurantLessThan20: Factor w/ 5 levels \"1~3\",\"4~8\",\"gt8\",..: 2 2 2 2 2 2 2 2 2 2 ...\n",
      " $ Restaurant20To50    : Factor w/ 5 levels \"1~3\",\"4~8\",\"gt8\",..: 4 4 4 4 4 4 4 4 4 4 ...\n",
      " $ toCoupon_GEQ5min    : Factor w/ 1 level \"1\": 1 1 1 1 1 1 1 1 1 1 ...\n",
      " $ toCoupon_GEQ15min   : Factor w/ 2 levels \"0\",\"1\": 1 1 1 2 1 2 2 2 1 2 ...\n",
      " $ toCoupon_GEQ25min   : Factor w/ 2 levels \"0\",\"1\": 1 1 1 1 1 1 1 1 1 1 ...\n",
      " $ direction_same      : Factor w/ 2 levels \"0\",\"1\": 1 1 1 1 1 1 1 1 1 1 ...\n",
      " $ direction_opp       : Factor w/ 2 levels \"0\",\"1\": 2 2 2 2 2 2 2 2 2 2 ...\n",
      " $ coupon_outcome      : Factor w/ 2 levels \"0\",\"1\": 2 1 2 1 1 1 1 2 1 2 ...\n"
     ]
    }
   ],
   "source": [
    "str(data)"
   ]
  },
  {
   "cell_type": "code",
   "execution_count": 14,
   "id": "b809bd25",
   "metadata": {},
   "outputs": [
    {
     "data": {
      "text/plain": [
       "          destination       passanger     weather     temperature   time     \n",
       " Home           :3085   Alone    :6969   Rainy:1147   30:2195     10AM:2158  \n",
       " No Urgent Place:5970   Friend(s):3148   Snowy:1331   55:3662     10PM:1903  \n",
       " Work           :3024   Kid(s)   : 938   Sunny:9601   80:6222     2PM :1916  \n",
       "                        Partner  :1024                            6PM :3078  \n",
       "                                                                  7AM :3024  \n",
       "                                                                             \n",
       "                                                                             \n",
       "                   coupon     expiration    gender          age      \n",
       " Bar                  :1913   1d:6760    Female:6199   21     :2537  \n",
       " Carry out & Take away:2280   2h:5319    Male  :5880   26     :2399  \n",
       " Coffee House         :3816                            31     :1925  \n",
       " Restaurant(<20)      :2653                            50plus :1732  \n",
       " Restaurant(20-50)    :1417                            36     :1253  \n",
       "                                                       41     :1065  \n",
       "                                                       (Other):1168  \n",
       "           maritalStatus  has_children\n",
       " Divorced         : 504   0:7145      \n",
       " Married partner  :4831   1:4934      \n",
       " Single           :4588               \n",
       " Unmarried partner:2048               \n",
       " Widowed          : 108               \n",
       "                                      \n",
       "                                      \n",
       "                                  education   \n",
       " Associates degree                     :1066  \n",
       " Bachelors degree                      :4021  \n",
       " Graduate degree (Masters or Doctorate):1808  \n",
       " High School Graduate                  : 877  \n",
       " Some college - no degree              :4219  \n",
       " Some High School                      :  88  \n",
       "                                              \n",
       "                      occupation                income        Bar      \n",
       " Unemployed                :1814   $25000 - $37499 :1919   1~3  :2370  \n",
       " Student                   :1497   $12500 - $24999 :1728   4~8  :1054  \n",
       " Computer & Mathematical   :1368   $100000 or More :1692   gt8  : 327  \n",
       " Sales & Related           :1072   $37500 - $49999 :1689   less1:3394  \n",
       " Education&Training&Library: 855   $50000 - $62499 :1565   never:4934  \n",
       " Management                : 772   Less than $12500:1014               \n",
       " (Other)                   :4701   (Other)         :2472               \n",
       " CoffeeHouse  CarryAway    RestaurantLessThan20 Restaurant20To50\n",
       " 1~3  :3159   1~3  :4502   1~3  :5163           1~3  :3202      \n",
       " 4~8  :1659   4~8  :4083   4~8  :3450           4~8  : 684      \n",
       " gt8  :1111   gt8  :1573   gt8  :1285           gt8  : 264      \n",
       " less1:3298   less1:1790   less1:2005           less1:5859      \n",
       " never:2852   never: 131   never: 176           never:2070      \n",
       "                                                                \n",
       "                                                                \n",
       " toCoupon_GEQ5min toCoupon_GEQ15min toCoupon_GEQ25min direction_same\n",
       " 1:12079          0:5300            0:10637           0:9480        \n",
       "                  1:6779            1: 1442           1:2599        \n",
       "                                                                    \n",
       "                                                                    \n",
       "                                                                    \n",
       "                                                                    \n",
       "                                                                    \n",
       " direction_opp coupon_outcome\n",
       " 0:2599        0:5202        \n",
       " 1:9480        1:6877        \n",
       "                             \n",
       "                             \n",
       "                             \n",
       "                             \n",
       "                             "
      ]
     },
     "metadata": {},
     "output_type": "display_data"
    }
   ],
   "source": [
    "summary(data)"
   ]
  },
  {
   "cell_type": "markdown",
   "id": "da9363f9",
   "metadata": {},
   "source": [
    "# Exploratory Data Analysis"
   ]
  },
  {
   "cell_type": "code",
   "execution_count": 15,
   "id": "eb28ff67",
   "metadata": {},
   "outputs": [
    {
     "data": {
      "image/png": "[encoded data removed]",
      "text/plain": [
       "plot without title"
      ]
     },
     "metadata": {
      "image/png": {
       "height": 420,
       "width": 420
      }
     },
     "output_type": "display_data"
    }
   ],
   "source": [
    "ggplot(data=data, mapping = aes(x=age, fill=coupon_outcome)) + geom_bar()+theme_few()"
   ]
  },
  {
   "cell_type": "code",
   "execution_count": 16,
   "id": "f3e6c5e3",
   "metadata": {},
   "outputs": [
    {
     "data": {
      "image/png": "[encoded data removed]",
      "text/plain": [
       "plot without title"
      ]
     },
     "metadata": {
      "image/png": {
       "height": 420,
       "width": 420
      }
     },
     "output_type": "display_data"
    }
   ],
   "source": [
    "ggplot(data=data, mapping = aes(x=maritalStatus, fill=coupon_outcome)) + geom_bar()+theme_few()"
   ]
  },
  {
   "cell_type": "code",
   "execution_count": 17,
   "id": "ab418b89",
   "metadata": {},
   "outputs": [
    {
     "data": {
      "image/png": "[encoded data removed]",
      "text/plain": [
       "plot without title"
      ]
     },
     "metadata": {
      "image/png": {
       "height": 420,
       "width": 420
      }
     },
     "output_type": "display_data"
    }
   ],
   "source": [
    "ggplot(data=data, mapping = aes(x=income, fill=coupon_outcome)) + geom_bar()+theme_few()"
   ]
  },
  {
   "cell_type": "code",
   "execution_count": 18,
   "id": "e60d5a6c",
   "metadata": {},
   "outputs": [
    {
     "data": {
      "image/png": "[encoded data removed]",
      "text/plain": [
       "plot without title"
      ]
     },
     "metadata": {
      "image/png": {
       "height": 420,
       "width": 420
      }
     },
     "output_type": "display_data"
    }
   ],
   "source": [
    "ggplot(data=data, mapping = aes(x=direction_same, fill=coupon_outcome)) + geom_bar()+theme_few()"
   ]
  },
  {
   "cell_type": "code",
   "execution_count": 19,
   "id": "5eb2f2f4",
   "metadata": {},
   "outputs": [
    {
     "data": {
      "image/png": "[encoded data removed]",
      "text/plain": [
       "plot without title"
      ]
     },
     "metadata": {
      "image/png": {
       "height": 420,
       "width": 420
      }
     },
     "output_type": "display_data"
    }
   ],
   "source": [
    "ggplot(data=data, mapping = aes(x=direction_opp, fill=coupon_outcome)) + geom_bar()+theme_few()"
   ]
  },
  {
   "cell_type": "code",
   "execution_count": 20,
   "id": "ec2b2047",
   "metadata": {},
   "outputs": [
    {
     "data": {
      "image/png": "[encoded data removed]",
      "text/plain": [
       "plot without title"
      ]
     },
     "metadata": {
      "image/png": {
       "height": 420,
       "width": 420
      }
     },
     "output_type": "display_data"
    }
   ],
   "source": [
    "ggplot(data=data, mapping = aes(x=coupon, fill=coupon_outcome)) + geom_bar()+theme_few()"
   ]
  },
  {
   "cell_type": "code",
   "execution_count": 21,
   "id": "2c86a0d2",
   "metadata": {},
   "outputs": [
    {
     "data": {
      "image/png": "[encoded data removed]",
      "text/plain": [
       "plot without title"
      ]
     },
     "metadata": {
      "image/png": {
       "height": 420,
       "width": 420
      }
     },
     "output_type": "display_data"
    }
   ],
   "source": [
    "ggplot(data=data, mapping = aes(x=destination, fill=coupon_outcome)) + geom_bar()+theme_few()"
   ]
  },
  {
   "cell_type": "code",
   "execution_count": 22,
   "id": "6f060819",
   "metadata": {},
   "outputs": [
    {
     "data": {
      "image/png": "[encoded data removed]",
      "text/plain": [
       "plot without title"
      ]
     },
     "metadata": {
      "image/png": {
       "height": 420,
       "width": 420
      }
     },
     "output_type": "display_data"
    }
   ],
   "source": [
    "ggplot(data=data, mapping = aes(x=expiration, fill=coupon_outcome)) + geom_bar()+theme_few()"
   ]
  },
  {
   "cell_type": "code",
   "execution_count": 23,
   "id": "70cd7753",
   "metadata": {},
   "outputs": [
    {
     "data": {
      "image/png": "[encoded data removed]",
      "text/plain": [
       "plot without title"
      ]
     },
     "metadata": {
      "image/png": {
       "height": 420,
       "width": 420
      }
     },
     "output_type": "display_data"
    }
   ],
   "source": [
    "ggplot(data=data, mapping = aes(x=RestaurantLessThan20, fill=coupon_outcome)) + geom_bar()+theme_few()"
   ]
  },
  {
   "cell_type": "code",
   "execution_count": 24,
   "id": "f51600c0",
   "metadata": {},
   "outputs": [
    {
     "data": {
      "image/png": "[encoded data removed]",
      "text/plain": [
       "plot without title"
      ]
     },
     "metadata": {
      "image/png": {
       "height": 420,
       "width": 420
      }
     },
     "output_type": "display_data"
    }
   ],
   "source": [
    "ggplot(data=data, mapping = aes(x=toCoupon_GEQ5min, fill=coupon_outcome)) + geom_bar()+theme_few()"
   ]
  },
  {
   "cell_type": "code",
   "execution_count": 25,
   "id": "2edfe53a",
   "metadata": {},
   "outputs": [
    {
     "data": {
      "image/png": "[encoded data removed]",
      "text/plain": [
       "plot without title"
      ]
     },
     "metadata": {
      "image/png": {
       "height": 420,
       "width": 420
      }
     },
     "output_type": "display_data"
    }
   ],
   "source": [
    "ggplot(data=data, mapping = aes(x=toCoupon_GEQ15min, fill=coupon_outcome)) + geom_bar()+theme_few()"
   ]
  },
  {
   "cell_type": "code",
   "execution_count": 26,
   "id": "31c3acbc",
   "metadata": {},
   "outputs": [
    {
     "data": {
      "image/png": "[encoded data removed]",
      "text/plain": [
       "plot without title"
      ]
     },
     "metadata": {
      "image/png": {
       "height": 420,
       "width": 420
      }
     },
     "output_type": "display_data"
    }
   ],
   "source": [
    "ggplot(data=data, mapping = aes(x=toCoupon_GEQ25min, fill=coupon_outcome)) + geom_bar()+theme_few()"
   ]
  },
  {
   "cell_type": "code",
   "execution_count": 27,
   "id": "8ab45205",
   "metadata": {},
   "outputs": [
    {
     "data": {
      "image/png": "[encoded data removed]",
      "text/plain": [
       "plot without title"
      ]
     },
     "metadata": {
      "image/png": {
       "height": 420,
       "width": 420
      }
     },
     "output_type": "display_data"
    }
   ],
   "source": [
    "ggplot(data=data, mapping = aes(x=weather, fill=coupon_outcome)) + geom_bar()+theme_few()"
   ]
  },
  {
   "cell_type": "markdown",
   "id": "a9e17821",
   "metadata": {},
   "source": [
    "# Data Transformation"
   ]
  },
  {
   "cell_type": "markdown",
   "id": "98ada607",
   "metadata": {},
   "source": [
    "Dropping the direction_opp as it is corelated with direction_same as we can see above"
   ]
  },
  {
   "cell_type": "code",
   "execution_count": 28,
   "id": "8d42a093",
   "metadata": {},
   "outputs": [],
   "source": [
    "data$direction_opp <- NULL"
   ]
  },
  {
   "cell_type": "markdown",
   "id": "d8fd450d",
   "metadata": {},
   "source": [
    "# Model Building and Evaluation"
   ]
  },
  {
   "cell_type": "code",
   "execution_count": 29,
   "id": "36a639b5",
   "metadata": {},
   "outputs": [],
   "source": [
    "set.seed(123)\n",
    "index <- sample(2, nrow(data), prob=c(0.8, 0.2), replace=TRUE)\n",
    "data_train <- data[index==1,]\n",
    "data_test <- data[index==2,]"
   ]
  },
  {
   "cell_type": "code",
   "execution_count": 30,
   "id": "d0e51c62",
   "metadata": {},
   "outputs": [],
   "source": [
    "model1 <- rpart(formula =coupon_outcome ~ ., data=data_train, method = 'class' )"
   ]
  },
  {
   "cell_type": "code",
   "execution_count": 31,
   "id": "628831d8",
   "metadata": {},
   "outputs": [
    {
     "data": {
      "image/png": "[encoded data removed]",
      "text/plain": [
       "plot without title"
      ]
     },
     "metadata": {
      "image/png": {
       "height": 420,
       "width": 420
      }
     },
     "output_type": "display_data"
    }
   ],
   "source": [
    "rpart.plot(x= model1, type = 0, extra = 0)"
   ]
  },
  {
   "cell_type": "code",
   "execution_count": 32,
   "id": "693c8a6c",
   "metadata": {},
   "outputs": [],
   "source": [
    "pred <- predict(object = model1, newdata = data_test, type='class')"
   ]
  },
  {
   "cell_type": "code",
   "execution_count": 33,
   "id": "e173880a",
   "metadata": {},
   "outputs": [
    {
     "data": {
      "text/plain": [
       "Confusion Matrix and Statistics\n",
       "\n",
       "          Reference\n",
       "Prediction    0    1\n",
       "         0  595  298\n",
       "         1  418 1060\n",
       "                                          \n",
       "               Accuracy : 0.698           \n",
       "                 95% CI : (0.6791, 0.7165)\n",
       "    No Information Rate : 0.5728          \n",
       "    P-Value [Acc > NIR] : < 2.2e-16       \n",
       "                                          \n",
       "                  Kappa : 0.3735          \n",
       "                                          \n",
       " Mcnemar's Test P-Value : 8.698e-06       \n",
       "                                          \n",
       "            Sensitivity : 0.5874          \n",
       "            Specificity : 0.7806          \n",
       "         Pos Pred Value : 0.6663          \n",
       "         Neg Pred Value : 0.7172          \n",
       "             Prevalence : 0.4272          \n",
       "         Detection Rate : 0.2509          \n",
       "   Detection Prevalence : 0.3766          \n",
       "      Balanced Accuracy : 0.6840          \n",
       "                                          \n",
       "       'Positive' Class : 0               \n",
       "                                          "
      ]
     },
     "metadata": {},
     "output_type": "display_data"
    }
   ],
   "source": [
    "confusionMatrix(data = pred, reference=data_test$coupon_outcome)"
   ]
  },
  {
   "cell_type": "code",
   "execution_count": 34,
   "id": "85aeebe1",
   "metadata": {},
   "outputs": [
    {
     "data": {
      "text/html": [
       "0.698017714044707"
      ],
      "text/latex": [
       "0.698017714044707"
      ],
      "text/markdown": [
       "0.698017714044707"
      ],
      "text/plain": [
       "[1] 0.6980177"
      ]
     },
     "metadata": {},
     "output_type": "display_data"
    }
   ],
   "source": [
    "accuracy(actual = data_test$coupon_outcome, predicted = pred)"
   ]
  },
  {
   "cell_type": "code",
   "execution_count": 35,
   "id": "a0bf3555",
   "metadata": {},
   "outputs": [],
   "source": [
    "#training model on the basis of gini-based splitting criteria "
   ]
  },
  {
   "cell_type": "code",
   "execution_count": 36,
   "id": "1464ec50",
   "metadata": {},
   "outputs": [],
   "source": [
    "gini_model1 <- rpart(formula =coupon_outcome ~ ., data=data_train, method = 'class', parms = list(split = 'gini') )"
   ]
  },
  {
   "cell_type": "code",
   "execution_count": 37,
   "id": "4d5efafa",
   "metadata": {},
   "outputs": [],
   "source": [
    "pred_gini <- predict(object = gini_model1, newdata = data_test, type='class')"
   ]
  },
  {
   "cell_type": "code",
   "execution_count": 38,
   "id": "238f7ad2",
   "metadata": {},
   "outputs": [
    {
     "data": {
      "text/html": [
       "0.698017714044707"
      ],
      "text/latex": [
       "0.698017714044707"
      ],
      "text/markdown": [
       "0.698017714044707"
      ],
      "text/plain": [
       "[1] 0.6980177"
      ]
     },
     "metadata": {},
     "output_type": "display_data"
    }
   ],
   "source": [
    "accuracy(actual = data_test$coupon_outcome, predicted = pred_gini)"
   ]
  },
  {
   "cell_type": "code",
   "execution_count": 39,
   "id": "74834077",
   "metadata": {},
   "outputs": [],
   "source": [
    "#training the model based on information gain splitting criteria"
   ]
  },
  {
   "cell_type": "code",
   "execution_count": 40,
   "id": "2188d15f",
   "metadata": {},
   "outputs": [],
   "source": [
    "information_model1 <- rpart(formula =coupon_outcome ~ ., data=data_train, method = 'class', parms = list(split = 'information') )"
   ]
  },
  {
   "cell_type": "code",
   "execution_count": 41,
   "id": "1cc078ff",
   "metadata": {},
   "outputs": [],
   "source": [
    "pred_information <- predict(object = information_model1, newdata = data_test, type='class')"
   ]
  },
  {
   "cell_type": "code",
   "execution_count": 42,
   "id": "539b74cb",
   "metadata": {},
   "outputs": [
    {
     "data": {
      "text/html": [
       "0.70223534373682"
      ],
      "text/latex": [
       "0.70223534373682"
      ],
      "text/markdown": [
       "0.70223534373682"
      ],
      "text/plain": [
       "[1] 0.7022353"
      ]
     },
     "metadata": {},
     "output_type": "display_data"
    }
   ],
   "source": [
    "accuracy(actual = data_test$coupon_outcome, predicted = pred_information)"
   ]
  },
  {
   "cell_type": "code",
   "execution_count": 43,
   "id": "21f538cb",
   "metadata": {},
   "outputs": [
    {
     "name": "stdout",
     "output_type": "stream",
     "text": [
      "[1] \"Precision 0.730225988700565\"\n",
      "[1] \"Recall 0.761413843888071\"\n",
      "[1] \"F1 Score 0.745493871665465\"\n"
     ]
    }
   ],
   "source": [
    "precision <- posPredValue(pred_information, data_test$coupon_outcome, positive=\"1\")\n",
    "\n",
    "recall <- sensitivity(pred_information, data_test$coupon_outcome, positive=\"1\")\n",
    "\n",
    "\n",
    "F1 <- (2 * precision * recall) / (precision + recall)\n",
    "print(paste('Precision', precision))\n",
    "print(paste('Recall', recall))\n",
    "print(paste('F1 Score', F1))"
   ]
  },
  {
   "cell_type": "code",
   "execution_count": 44,
   "id": "b7594fd8",
   "metadata": {},
   "outputs": [
    {
     "data": {
      "text/plain": [
       "Confusion Matrix and Statistics\n",
       "\n",
       "          Reference\n",
       "Prediction    0    1\n",
       "         0  631  324\n",
       "         1  382 1034\n",
       "                                          \n",
       "               Accuracy : 0.7022          \n",
       "                 95% CI : (0.6834, 0.7206)\n",
       "    No Information Rate : 0.5728          \n",
       "    P-Value [Acc > NIR] : < 2e-16         \n",
       "                                          \n",
       "                  Kappa : 0.3871          \n",
       "                                          \n",
       " Mcnemar's Test P-Value : 0.03193         \n",
       "                                          \n",
       "            Sensitivity : 0.6229          \n",
       "            Specificity : 0.7614          \n",
       "         Pos Pred Value : 0.6607          \n",
       "         Neg Pred Value : 0.7302          \n",
       "             Prevalence : 0.4272          \n",
       "         Detection Rate : 0.2661          \n",
       "   Detection Prevalence : 0.4028          \n",
       "      Balanced Accuracy : 0.6922          \n",
       "                                          \n",
       "       'Positive' Class : 0               \n",
       "                                          "
      ]
     },
     "metadata": {},
     "output_type": "display_data"
    }
   ],
   "source": [
    "confusionMatrix(data = pred_information, reference=data_test$coupon_outcome)"
   ]
  },
  {
   "cell_type": "code",
   "execution_count": 46,
   "id": "093f328d",
   "metadata": {},
   "outputs": [
    {
     "data": {
      "image/png": "[encoded data removed]",
      "text/plain": [
       "plot without title"
      ]
     },
     "metadata": {
      "image/png": {
       "height": 420,
       "width": 420
      }
     },
     "output_type": "display_data"
    }
   ],
   "source": [
    "rpart.plot(x= information_model1, type = 0, extra = 0)"
   ]
  },
  {
   "cell_type": "code",
   "execution_count": 47,
   "id": "cc5e3088",
   "metadata": {},
   "outputs": [],
   "source": [
    "#Hyper parameter grid search"
   ]
  },
  {
   "cell_type": "code",
   "execution_count": 48,
   "id": "95c9ccb3",
   "metadata": {},
   "outputs": [],
   "source": [
    "#setting values for minsplit and maxdepth"
   ]
  },
  {
   "cell_type": "code",
   "execution_count": 49,
   "id": "69d57013",
   "metadata": {},
   "outputs": [],
   "source": [
    "# Generating a search grid\n",
    "minsplit <- seq(1,20,1)\n",
    "maxdepth<- seq(1,20,1)\n",
    "hyperparam_grid <- expand.grid(minsplit = minsplit, maxdepth=maxdepth)"
   ]
  },
  {
   "cell_type": "code",
   "execution_count": 50,
   "id": "d09551a9",
   "metadata": {},
   "outputs": [
    {
     "data": {
      "text/html": [
       "400"
      ],
      "text/latex": [
       "400"
      ],
      "text/markdown": [
       "400"
      ],
      "text/plain": [
       "[1] 400"
      ]
     },
     "metadata": {},
     "output_type": "display_data"
    }
   ],
   "source": [
    "# Number of models in the grid\n",
    "num_models <- nrow(hyperparam_grid)\n",
    "num_models"
   ]
  },
  {
   "cell_type": "code",
   "execution_count": 51,
   "id": "6d1018ab",
   "metadata": {},
   "outputs": [],
   "source": [
    "#creating a loop to iterate over the rows of grid to train the models\n",
    "grid_models <- list()\n",
    "for (i in 1:num_models) {\n",
    "    minsplit <- hyperparam_grid$minsplit[i]\n",
    "    maxdepth <- hyperparam_grid$maxdepth[i]\n",
    "    # Training the model and storing in the list\n",
    "    grid_models[[i]] <- rpart(formula =coupon_outcome ~ ., data=data_train, \n",
    "                              method = 'class', minsplit=minsplit, maxdepth=maxdepth)                \n",
    "}"
   ]
  },
  {
   "cell_type": "code",
   "execution_count": 52,
   "id": "a794e7d8",
   "metadata": {},
   "outputs": [],
   "source": [
    "num_models <- length(grid_models)"
   ]
  },
  {
   "cell_type": "code",
   "execution_count": 53,
   "id": "ac1fe14d",
   "metadata": {},
   "outputs": [],
   "source": [
    "accuracy_values <- c()"
   ]
  },
  {
   "cell_type": "code",
   "execution_count": 54,
   "id": "591f1c50",
   "metadata": {},
   "outputs": [],
   "source": [
    "for (i in 1:num_models) {\n",
    "#Retrive the model i from the list\n",
    "    model <- grid_models[[i]]\n",
    "    #Generating the predictions on the test data\n",
    "    pred <- predict(object = model, newdata = data_test, type='class')\n",
    "    #computing the accuracies and add them to empty vector\n",
    "    accuracy_values[i] <- accuracy(actual = data_test$coupon_outcome, predicted = pred)\n",
    "}"
   ]
  },
  {
   "cell_type": "code",
   "execution_count": 55,
   "id": "8b9a9b7b",
   "metadata": {},
   "outputs": [],
   "source": [
    "#finding which model has maximum accuracy\n",
    "best_model <- grid_models[[which.max(accuracy_values)]]"
   ]
  },
  {
   "cell_type": "code",
   "execution_count": 56,
   "id": "bce63e18",
   "metadata": {},
   "outputs": [],
   "source": [
    "pred <- predict(object = best_model, newdata = data_test, type='class')"
   ]
  },
  {
   "cell_type": "code",
   "execution_count": 57,
   "id": "089c3af7",
   "metadata": {},
   "outputs": [
    {
     "data": {
      "text/html": [
       "0.698017714044707"
      ],
      "text/latex": [
       "0.698017714044707"
      ],
      "text/markdown": [
       "0.698017714044707"
      ],
      "text/plain": [
       "[1] 0.6980177"
      ]
     },
     "metadata": {},
     "output_type": "display_data"
    }
   ],
   "source": [
    "accuracy(actual = data_test$coupon_outcome, predicted = pred)"
   ]
  },
  {
   "cell_type": "code",
   "execution_count": 58,
   "id": "0d1836ee",
   "metadata": {},
   "outputs": [
    {
     "data": {
      "image/png": "[encoded data removed]",
      "text/plain": [
       "plot without title"
      ]
     },
     "metadata": {
      "image/png": {
       "height": 420,
       "width": 420
      }
     },
     "output_type": "display_data"
    }
   ],
   "source": [
    "rpart.plot(x= best_model, yesno= 2, type = 0, extra = 0)"
   ]
  },
  {
   "cell_type": "code",
   "execution_count": 59,
   "id": "260bfc60",
   "metadata": {},
   "outputs": [
    {
     "data": {
      "text/plain": [
       "Confusion Matrix and Statistics\n",
       "\n",
       "          Reference\n",
       "Prediction    0    1\n",
       "         0  595  298\n",
       "         1  418 1060\n",
       "                                          \n",
       "               Accuracy : 0.698           \n",
       "                 95% CI : (0.6791, 0.7165)\n",
       "    No Information Rate : 0.5728          \n",
       "    P-Value [Acc > NIR] : < 2.2e-16       \n",
       "                                          \n",
       "                  Kappa : 0.3735          \n",
       "                                          \n",
       " Mcnemar's Test P-Value : 8.698e-06       \n",
       "                                          \n",
       "            Sensitivity : 0.5874          \n",
       "            Specificity : 0.7806          \n",
       "         Pos Pred Value : 0.6663          \n",
       "         Neg Pred Value : 0.7172          \n",
       "             Prevalence : 0.4272          \n",
       "         Detection Rate : 0.2509          \n",
       "   Detection Prevalence : 0.3766          \n",
       "      Balanced Accuracy : 0.6840          \n",
       "                                          \n",
       "       'Positive' Class : 0               \n",
       "                                          "
      ]
     },
     "metadata": {},
     "output_type": "display_data"
    }
   ],
   "source": [
    "confusionMatrix(data = pred, reference=data_test$coupon_outcome)"
   ]
  }
 ],
 "metadata": {
  "kernelspec": {
   "display_name": "R",
   "language": "R",
   "name": "ir"
  },
  "language_info": {
   "codemirror_mode": "r",
   "file_extension": ".r",
   "mimetype": "text/x-r-source",
   "name": "R",
   "pygments_lexer": "r",
   "version": "4.2.2"
  }
 },
 "nbformat": 4,
 "nbformat_minor": 5
}

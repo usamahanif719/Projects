{
 "cells": [
  {
   "cell_type": "markdown",
   "id": "50bce699",
   "metadata": {},
   "source": [
    "# CA for Statistics"
   ]
  },
  {
   "cell_type": "markdown",
   "id": "84112d1f",
   "metadata": {},
   "source": [
    "Data Description and Visualization"
   ]
  },
  {
   "cell_type": "code",
   "execution_count": 61,
   "id": "42040db0",
   "metadata": {},
   "outputs": [],
   "source": [
    "home <- read.csv('kc_house_data.csv')"
   ]
  },
  {
   "cell_type": "code",
   "execution_count": 62,
   "id": "05e4e3dd",
   "metadata": {},
   "outputs": [
    {
     "data": {
      "text/html": [
       "<table class=\"dataframe\">\n",
       "<caption>A data.frame: 6 × 21</caption>\n",
       "<thead>\n",
       "\t<tr><th></th><th scope=col>id</th><th scope=col>date</th><th scope=col>price</th><th scope=col>bedrooms</th><th scope=col>bathrooms</th><th scope=col>sqft_living</th><th scope=col>sqft_lot</th><th scope=col>floors</th><th scope=col>waterfront</th><th scope=col>view</th><th scope=col>⋯</th><th scope=col>grade</th><th scope=col>sqft_above</th><th scope=col>sqft_basement</th><th scope=col>yr_built</th><th scope=col>yr_renovated</th><th scope=col>zipcode</th><th scope=col>lat</th><th scope=col>long</th><th scope=col>sqft_living15</th><th scope=col>sqft_lot15</th></tr>\n",
       "\t<tr><th></th><th scope=col>&lt;dbl&gt;</th><th scope=col>&lt;chr&gt;</th><th scope=col>&lt;dbl&gt;</th><th scope=col>&lt;int&gt;</th><th scope=col>&lt;dbl&gt;</th><th scope=col>&lt;int&gt;</th><th scope=col>&lt;int&gt;</th><th scope=col>&lt;dbl&gt;</th><th scope=col>&lt;int&gt;</th><th scope=col>&lt;int&gt;</th><th scope=col>⋯</th><th scope=col>&lt;int&gt;</th><th scope=col>&lt;int&gt;</th><th scope=col>&lt;int&gt;</th><th scope=col>&lt;int&gt;</th><th scope=col>&lt;int&gt;</th><th scope=col>&lt;int&gt;</th><th scope=col>&lt;dbl&gt;</th><th scope=col>&lt;dbl&gt;</th><th scope=col>&lt;int&gt;</th><th scope=col>&lt;int&gt;</th></tr>\n",
       "</thead>\n",
       "<tbody>\n",
       "\t<tr><th scope=row>1</th><td>7129300520</td><td>20141013T000000</td><td> 221900</td><td>3</td><td>1.00</td><td>1180</td><td>  5650</td><td>1</td><td>0</td><td>0</td><td>⋯</td><td> 7</td><td>1180</td><td>   0</td><td>1955</td><td>   0</td><td>98178</td><td>47.5112</td><td>-122.257</td><td>1340</td><td>  5650</td></tr>\n",
       "\t<tr><th scope=row>2</th><td>6414100192</td><td>20141209T000000</td><td> 538000</td><td>3</td><td>2.25</td><td>2570</td><td>  7242</td><td>2</td><td>0</td><td>0</td><td>⋯</td><td> 7</td><td>2170</td><td> 400</td><td>1951</td><td>1991</td><td>98125</td><td>47.7210</td><td>-122.319</td><td>1690</td><td>  7639</td></tr>\n",
       "\t<tr><th scope=row>3</th><td>5631500400</td><td>20150225T000000</td><td> 180000</td><td>2</td><td>1.00</td><td> 770</td><td> 10000</td><td>1</td><td>0</td><td>0</td><td>⋯</td><td> 6</td><td> 770</td><td>   0</td><td>1933</td><td>   0</td><td>98028</td><td>47.7379</td><td>-122.233</td><td>2720</td><td>  8062</td></tr>\n",
       "\t<tr><th scope=row>4</th><td>2487200875</td><td>20141209T000000</td><td> 604000</td><td>4</td><td>3.00</td><td>1960</td><td>  5000</td><td>1</td><td>0</td><td>0</td><td>⋯</td><td> 7</td><td>1050</td><td> 910</td><td>1965</td><td>   0</td><td>98136</td><td>47.5208</td><td>-122.393</td><td>1360</td><td>  5000</td></tr>\n",
       "\t<tr><th scope=row>5</th><td>1954400510</td><td>20150218T000000</td><td> 510000</td><td>3</td><td>2.00</td><td>1680</td><td>  8080</td><td>1</td><td>0</td><td>0</td><td>⋯</td><td> 8</td><td>1680</td><td>   0</td><td>1987</td><td>   0</td><td>98074</td><td>47.6168</td><td>-122.045</td><td>1800</td><td>  7503</td></tr>\n",
       "\t<tr><th scope=row>6</th><td>7237550310</td><td>20140512T000000</td><td>1225000</td><td>4</td><td>4.50</td><td>5420</td><td>101930</td><td>1</td><td>0</td><td>0</td><td>⋯</td><td>11</td><td>3890</td><td>1530</td><td>2001</td><td>   0</td><td>98053</td><td>47.6561</td><td>-122.005</td><td>4760</td><td>101930</td></tr>\n",
       "</tbody>\n",
       "</table>\n"
      ],
      "text/latex": [
       "A data.frame: 6 × 21\n",
       "\\begin{tabular}{r|lllllllllllllllllllll}\n",
       "  & id & date & price & bedrooms & bathrooms & sqft\\_living & sqft\\_lot & floors & waterfront & view & ⋯ & grade & sqft\\_above & sqft\\_basement & yr\\_built & yr\\_renovated & zipcode & lat & long & sqft\\_living15 & sqft\\_lot15\\\\\n",
       "  & <dbl> & <chr> & <dbl> & <int> & <dbl> & <int> & <int> & <dbl> & <int> & <int> & ⋯ & <int> & <int> & <int> & <int> & <int> & <int> & <dbl> & <dbl> & <int> & <int>\\\\\n",
       "\\hline\n",
       "\t1 & 7129300520 & 20141013T000000 &  221900 & 3 & 1.00 & 1180 &   5650 & 1 & 0 & 0 & ⋯ &  7 & 1180 &    0 & 1955 &    0 & 98178 & 47.5112 & -122.257 & 1340 &   5650\\\\\n",
       "\t2 & 6414100192 & 20141209T000000 &  538000 & 3 & 2.25 & 2570 &   7242 & 2 & 0 & 0 & ⋯ &  7 & 2170 &  400 & 1951 & 1991 & 98125 & 47.7210 & -122.319 & 1690 &   7639\\\\\n",
       "\t3 & 5631500400 & 20150225T000000 &  180000 & 2 & 1.00 &  770 &  10000 & 1 & 0 & 0 & ⋯ &  6 &  770 &    0 & 1933 &    0 & 98028 & 47.7379 & -122.233 & 2720 &   8062\\\\\n",
       "\t4 & 2487200875 & 20141209T000000 &  604000 & 4 & 3.00 & 1960 &   5000 & 1 & 0 & 0 & ⋯ &  7 & 1050 &  910 & 1965 &    0 & 98136 & 47.5208 & -122.393 & 1360 &   5000\\\\\n",
       "\t5 & 1954400510 & 20150218T000000 &  510000 & 3 & 2.00 & 1680 &   8080 & 1 & 0 & 0 & ⋯ &  8 & 1680 &    0 & 1987 &    0 & 98074 & 47.6168 & -122.045 & 1800 &   7503\\\\\n",
       "\t6 & 7237550310 & 20140512T000000 & 1225000 & 4 & 4.50 & 5420 & 101930 & 1 & 0 & 0 & ⋯ & 11 & 3890 & 1530 & 2001 &    0 & 98053 & 47.6561 & -122.005 & 4760 & 101930\\\\\n",
       "\\end{tabular}\n"
      ],
      "text/markdown": [
       "\n",
       "A data.frame: 6 × 21\n",
       "\n",
       "| <!--/--> | id &lt;dbl&gt; | date &lt;chr&gt; | price &lt;dbl&gt; | bedrooms &lt;int&gt; | bathrooms &lt;dbl&gt; | sqft_living &lt;int&gt; | sqft_lot &lt;int&gt; | floors &lt;dbl&gt; | waterfront &lt;int&gt; | view &lt;int&gt; | ⋯ ⋯ | grade &lt;int&gt; | sqft_above &lt;int&gt; | sqft_basement &lt;int&gt; | yr_built &lt;int&gt; | yr_renovated &lt;int&gt; | zipcode &lt;int&gt; | lat &lt;dbl&gt; | long &lt;dbl&gt; | sqft_living15 &lt;int&gt; | sqft_lot15 &lt;int&gt; |\n",
       "|---|---|---|---|---|---|---|---|---|---|---|---|---|---|---|---|---|---|---|---|---|---|\n",
       "| 1 | 7129300520 | 20141013T000000 |  221900 | 3 | 1.00 | 1180 |   5650 | 1 | 0 | 0 | ⋯ |  7 | 1180 |    0 | 1955 |    0 | 98178 | 47.5112 | -122.257 | 1340 |   5650 |\n",
       "| 2 | 6414100192 | 20141209T000000 |  538000 | 3 | 2.25 | 2570 |   7242 | 2 | 0 | 0 | ⋯ |  7 | 2170 |  400 | 1951 | 1991 | 98125 | 47.7210 | -122.319 | 1690 |   7639 |\n",
       "| 3 | 5631500400 | 20150225T000000 |  180000 | 2 | 1.00 |  770 |  10000 | 1 | 0 | 0 | ⋯ |  6 |  770 |    0 | 1933 |    0 | 98028 | 47.7379 | -122.233 | 2720 |   8062 |\n",
       "| 4 | 2487200875 | 20141209T000000 |  604000 | 4 | 3.00 | 1960 |   5000 | 1 | 0 | 0 | ⋯ |  7 | 1050 |  910 | 1965 |    0 | 98136 | 47.5208 | -122.393 | 1360 |   5000 |\n",
       "| 5 | 1954400510 | 20150218T000000 |  510000 | 3 | 2.00 | 1680 |   8080 | 1 | 0 | 0 | ⋯ |  8 | 1680 |    0 | 1987 |    0 | 98074 | 47.6168 | -122.045 | 1800 |   7503 |\n",
       "| 6 | 7237550310 | 20140512T000000 | 1225000 | 4 | 4.50 | 5420 | 101930 | 1 | 0 | 0 | ⋯ | 11 | 3890 | 1530 | 2001 |    0 | 98053 | 47.6561 | -122.005 | 4760 | 101930 |\n",
       "\n"
      ],
      "text/plain": [
       "  id         date            price   bedrooms bathrooms sqft_living sqft_lot\n",
       "1 7129300520 20141013T000000  221900 3        1.00      1180          5650  \n",
       "2 6414100192 20141209T000000  538000 3        2.25      2570          7242  \n",
       "3 5631500400 20150225T000000  180000 2        1.00       770         10000  \n",
       "4 2487200875 20141209T000000  604000 4        3.00      1960          5000  \n",
       "5 1954400510 20150218T000000  510000 3        2.00      1680          8080  \n",
       "6 7237550310 20140512T000000 1225000 4        4.50      5420        101930  \n",
       "  floors waterfront view ⋯ grade sqft_above sqft_basement yr_built yr_renovated\n",
       "1 1      0          0    ⋯  7    1180          0          1955        0        \n",
       "2 2      0          0    ⋯  7    2170        400          1951     1991        \n",
       "3 1      0          0    ⋯  6     770          0          1933        0        \n",
       "4 1      0          0    ⋯  7    1050        910          1965        0        \n",
       "5 1      0          0    ⋯  8    1680          0          1987        0        \n",
       "6 1      0          0    ⋯ 11    3890       1530          2001        0        \n",
       "  zipcode lat     long     sqft_living15 sqft_lot15\n",
       "1 98178   47.5112 -122.257 1340            5650    \n",
       "2 98125   47.7210 -122.319 1690            7639    \n",
       "3 98028   47.7379 -122.233 2720            8062    \n",
       "4 98136   47.5208 -122.393 1360            5000    \n",
       "5 98074   47.6168 -122.045 1800            7503    \n",
       "6 98053   47.6561 -122.005 4760          101930    "
      ]
     },
     "metadata": {},
     "output_type": "display_data"
    }
   ],
   "source": [
    "head(home)"
   ]
  },
  {
   "cell_type": "code",
   "execution_count": 63,
   "id": "37c63b78",
   "metadata": {},
   "outputs": [],
   "source": [
    "# converting the date into correct format\n",
    "home$date<-format(as.Date(home$date, format = \"%Y%m%d\"), \"%m/%d/%Y\")"
   ]
  },
  {
   "cell_type": "code",
   "execution_count": 64,
   "id": "740b6159",
   "metadata": {},
   "outputs": [],
   "source": [
    "# install.packages('lubridate')\n",
    "library(lubridate)\n",
    "home$date <- mdy(home$date)"
   ]
  },
  {
   "cell_type": "code",
   "execution_count": 65,
   "id": "f4e36e65",
   "metadata": {},
   "outputs": [
    {
     "data": {
      "text/html": [
       "<table class=\"dataframe\">\n",
       "<caption>A data.frame: 6 × 21</caption>\n",
       "<thead>\n",
       "\t<tr><th></th><th scope=col>id</th><th scope=col>date</th><th scope=col>price</th><th scope=col>bedrooms</th><th scope=col>bathrooms</th><th scope=col>sqft_living</th><th scope=col>sqft_lot</th><th scope=col>floors</th><th scope=col>waterfront</th><th scope=col>view</th><th scope=col>⋯</th><th scope=col>grade</th><th scope=col>sqft_above</th><th scope=col>sqft_basement</th><th scope=col>yr_built</th><th scope=col>yr_renovated</th><th scope=col>zipcode</th><th scope=col>lat</th><th scope=col>long</th><th scope=col>sqft_living15</th><th scope=col>sqft_lot15</th></tr>\n",
       "\t<tr><th></th><th scope=col>&lt;dbl&gt;</th><th scope=col>&lt;date&gt;</th><th scope=col>&lt;dbl&gt;</th><th scope=col>&lt;int&gt;</th><th scope=col>&lt;dbl&gt;</th><th scope=col>&lt;int&gt;</th><th scope=col>&lt;int&gt;</th><th scope=col>&lt;dbl&gt;</th><th scope=col>&lt;int&gt;</th><th scope=col>&lt;int&gt;</th><th scope=col>⋯</th><th scope=col>&lt;int&gt;</th><th scope=col>&lt;int&gt;</th><th scope=col>&lt;int&gt;</th><th scope=col>&lt;int&gt;</th><th scope=col>&lt;int&gt;</th><th scope=col>&lt;int&gt;</th><th scope=col>&lt;dbl&gt;</th><th scope=col>&lt;dbl&gt;</th><th scope=col>&lt;int&gt;</th><th scope=col>&lt;int&gt;</th></tr>\n",
       "</thead>\n",
       "<tbody>\n",
       "\t<tr><th scope=row>1</th><td>7129300520</td><td>2014-10-13</td><td> 221900</td><td>3</td><td>1.00</td><td>1180</td><td>  5650</td><td>1</td><td>0</td><td>0</td><td>⋯</td><td> 7</td><td>1180</td><td>   0</td><td>1955</td><td>   0</td><td>98178</td><td>47.5112</td><td>-122.257</td><td>1340</td><td>  5650</td></tr>\n",
       "\t<tr><th scope=row>2</th><td>6414100192</td><td>2014-12-09</td><td> 538000</td><td>3</td><td>2.25</td><td>2570</td><td>  7242</td><td>2</td><td>0</td><td>0</td><td>⋯</td><td> 7</td><td>2170</td><td> 400</td><td>1951</td><td>1991</td><td>98125</td><td>47.7210</td><td>-122.319</td><td>1690</td><td>  7639</td></tr>\n",
       "\t<tr><th scope=row>3</th><td>5631500400</td><td>2015-02-25</td><td> 180000</td><td>2</td><td>1.00</td><td> 770</td><td> 10000</td><td>1</td><td>0</td><td>0</td><td>⋯</td><td> 6</td><td> 770</td><td>   0</td><td>1933</td><td>   0</td><td>98028</td><td>47.7379</td><td>-122.233</td><td>2720</td><td>  8062</td></tr>\n",
       "\t<tr><th scope=row>4</th><td>2487200875</td><td>2014-12-09</td><td> 604000</td><td>4</td><td>3.00</td><td>1960</td><td>  5000</td><td>1</td><td>0</td><td>0</td><td>⋯</td><td> 7</td><td>1050</td><td> 910</td><td>1965</td><td>   0</td><td>98136</td><td>47.5208</td><td>-122.393</td><td>1360</td><td>  5000</td></tr>\n",
       "\t<tr><th scope=row>5</th><td>1954400510</td><td>2015-02-18</td><td> 510000</td><td>3</td><td>2.00</td><td>1680</td><td>  8080</td><td>1</td><td>0</td><td>0</td><td>⋯</td><td> 8</td><td>1680</td><td>   0</td><td>1987</td><td>   0</td><td>98074</td><td>47.6168</td><td>-122.045</td><td>1800</td><td>  7503</td></tr>\n",
       "\t<tr><th scope=row>6</th><td>7237550310</td><td>2014-05-12</td><td>1225000</td><td>4</td><td>4.50</td><td>5420</td><td>101930</td><td>1</td><td>0</td><td>0</td><td>⋯</td><td>11</td><td>3890</td><td>1530</td><td>2001</td><td>   0</td><td>98053</td><td>47.6561</td><td>-122.005</td><td>4760</td><td>101930</td></tr>\n",
       "</tbody>\n",
       "</table>\n"
      ],
      "text/latex": [
       "A data.frame: 6 × 21\n",
       "\\begin{tabular}{r|lllllllllllllllllllll}\n",
       "  & id & date & price & bedrooms & bathrooms & sqft\\_living & sqft\\_lot & floors & waterfront & view & ⋯ & grade & sqft\\_above & sqft\\_basement & yr\\_built & yr\\_renovated & zipcode & lat & long & sqft\\_living15 & sqft\\_lot15\\\\\n",
       "  & <dbl> & <date> & <dbl> & <int> & <dbl> & <int> & <int> & <dbl> & <int> & <int> & ⋯ & <int> & <int> & <int> & <int> & <int> & <int> & <dbl> & <dbl> & <int> & <int>\\\\\n",
       "\\hline\n",
       "\t1 & 7129300520 & 2014-10-13 &  221900 & 3 & 1.00 & 1180 &   5650 & 1 & 0 & 0 & ⋯ &  7 & 1180 &    0 & 1955 &    0 & 98178 & 47.5112 & -122.257 & 1340 &   5650\\\\\n",
       "\t2 & 6414100192 & 2014-12-09 &  538000 & 3 & 2.25 & 2570 &   7242 & 2 & 0 & 0 & ⋯ &  7 & 2170 &  400 & 1951 & 1991 & 98125 & 47.7210 & -122.319 & 1690 &   7639\\\\\n",
       "\t3 & 5631500400 & 2015-02-25 &  180000 & 2 & 1.00 &  770 &  10000 & 1 & 0 & 0 & ⋯ &  6 &  770 &    0 & 1933 &    0 & 98028 & 47.7379 & -122.233 & 2720 &   8062\\\\\n",
       "\t4 & 2487200875 & 2014-12-09 &  604000 & 4 & 3.00 & 1960 &   5000 & 1 & 0 & 0 & ⋯ &  7 & 1050 &  910 & 1965 &    0 & 98136 & 47.5208 & -122.393 & 1360 &   5000\\\\\n",
       "\t5 & 1954400510 & 2015-02-18 &  510000 & 3 & 2.00 & 1680 &   8080 & 1 & 0 & 0 & ⋯ &  8 & 1680 &    0 & 1987 &    0 & 98074 & 47.6168 & -122.045 & 1800 &   7503\\\\\n",
       "\t6 & 7237550310 & 2014-05-12 & 1225000 & 4 & 4.50 & 5420 & 101930 & 1 & 0 & 0 & ⋯ & 11 & 3890 & 1530 & 2001 &    0 & 98053 & 47.6561 & -122.005 & 4760 & 101930\\\\\n",
       "\\end{tabular}\n"
      ],
      "text/markdown": [
       "\n",
       "A data.frame: 6 × 21\n",
       "\n",
       "| <!--/--> | id &lt;dbl&gt; | date &lt;date&gt; | price &lt;dbl&gt; | bedrooms &lt;int&gt; | bathrooms &lt;dbl&gt; | sqft_living &lt;int&gt; | sqft_lot &lt;int&gt; | floors &lt;dbl&gt; | waterfront &lt;int&gt; | view &lt;int&gt; | ⋯ ⋯ | grade &lt;int&gt; | sqft_above &lt;int&gt; | sqft_basement &lt;int&gt; | yr_built &lt;int&gt; | yr_renovated &lt;int&gt; | zipcode &lt;int&gt; | lat &lt;dbl&gt; | long &lt;dbl&gt; | sqft_living15 &lt;int&gt; | sqft_lot15 &lt;int&gt; |\n",
       "|---|---|---|---|---|---|---|---|---|---|---|---|---|---|---|---|---|---|---|---|---|---|\n",
       "| 1 | 7129300520 | 2014-10-13 |  221900 | 3 | 1.00 | 1180 |   5650 | 1 | 0 | 0 | ⋯ |  7 | 1180 |    0 | 1955 |    0 | 98178 | 47.5112 | -122.257 | 1340 |   5650 |\n",
       "| 2 | 6414100192 | 2014-12-09 |  538000 | 3 | 2.25 | 2570 |   7242 | 2 | 0 | 0 | ⋯ |  7 | 2170 |  400 | 1951 | 1991 | 98125 | 47.7210 | -122.319 | 1690 |   7639 |\n",
       "| 3 | 5631500400 | 2015-02-25 |  180000 | 2 | 1.00 |  770 |  10000 | 1 | 0 | 0 | ⋯ |  6 |  770 |    0 | 1933 |    0 | 98028 | 47.7379 | -122.233 | 2720 |   8062 |\n",
       "| 4 | 2487200875 | 2014-12-09 |  604000 | 4 | 3.00 | 1960 |   5000 | 1 | 0 | 0 | ⋯ |  7 | 1050 |  910 | 1965 |    0 | 98136 | 47.5208 | -122.393 | 1360 |   5000 |\n",
       "| 5 | 1954400510 | 2015-02-18 |  510000 | 3 | 2.00 | 1680 |   8080 | 1 | 0 | 0 | ⋯ |  8 | 1680 |    0 | 1987 |    0 | 98074 | 47.6168 | -122.045 | 1800 |   7503 |\n",
       "| 6 | 7237550310 | 2014-05-12 | 1225000 | 4 | 4.50 | 5420 | 101930 | 1 | 0 | 0 | ⋯ | 11 | 3890 | 1530 | 2001 |    0 | 98053 | 47.6561 | -122.005 | 4760 | 101930 |\n",
       "\n"
      ],
      "text/plain": [
       "  id         date       price   bedrooms bathrooms sqft_living sqft_lot floors\n",
       "1 7129300520 2014-10-13  221900 3        1.00      1180          5650   1     \n",
       "2 6414100192 2014-12-09  538000 3        2.25      2570          7242   2     \n",
       "3 5631500400 2015-02-25  180000 2        1.00       770         10000   1     \n",
       "4 2487200875 2014-12-09  604000 4        3.00      1960          5000   1     \n",
       "5 1954400510 2015-02-18  510000 3        2.00      1680          8080   1     \n",
       "6 7237550310 2014-05-12 1225000 4        4.50      5420        101930   1     \n",
       "  waterfront view ⋯ grade sqft_above sqft_basement yr_built yr_renovated\n",
       "1 0          0    ⋯  7    1180          0          1955        0        \n",
       "2 0          0    ⋯  7    2170        400          1951     1991        \n",
       "3 0          0    ⋯  6     770          0          1933        0        \n",
       "4 0          0    ⋯  7    1050        910          1965        0        \n",
       "5 0          0    ⋯  8    1680          0          1987        0        \n",
       "6 0          0    ⋯ 11    3890       1530          2001        0        \n",
       "  zipcode lat     long     sqft_living15 sqft_lot15\n",
       "1 98178   47.5112 -122.257 1340            5650    \n",
       "2 98125   47.7210 -122.319 1690            7639    \n",
       "3 98028   47.7379 -122.233 2720            8062    \n",
       "4 98136   47.5208 -122.393 1360            5000    \n",
       "5 98074   47.6168 -122.045 1800            7503    \n",
       "6 98053   47.6561 -122.005 4760          101930    "
      ]
     },
     "metadata": {},
     "output_type": "display_data"
    }
   ],
   "source": [
    "head(home)"
   ]
  },
  {
   "cell_type": "code",
   "execution_count": 66,
   "id": "66cdfcce",
   "metadata": {},
   "outputs": [
    {
     "data": {
      "text/plain": [
       "       id                 date                price            bedrooms     \n",
       " Min.   :1.000e+06   Min.   :2014-05-02   Min.   :  75000   Min.   : 0.000  \n",
       " 1st Qu.:2.123e+09   1st Qu.:2014-07-22   1st Qu.: 321950   1st Qu.: 3.000  \n",
       " Median :3.905e+09   Median :2014-10-16   Median : 450000   Median : 3.000  \n",
       " Mean   :4.580e+09   Mean   :2014-10-29   Mean   : 540088   Mean   : 3.371  \n",
       " 3rd Qu.:7.309e+09   3rd Qu.:2015-02-17   3rd Qu.: 645000   3rd Qu.: 4.000  \n",
       " Max.   :9.900e+09   Max.   :2015-05-27   Max.   :7700000   Max.   :33.000  \n",
       "   bathrooms      sqft_living       sqft_lot           floors     \n",
       " Min.   :0.000   Min.   :  290   Min.   :    520   Min.   :1.000  \n",
       " 1st Qu.:1.750   1st Qu.: 1427   1st Qu.:   5040   1st Qu.:1.000  \n",
       " Median :2.250   Median : 1910   Median :   7618   Median :1.500  \n",
       " Mean   :2.115   Mean   : 2080   Mean   :  15107   Mean   :1.494  \n",
       " 3rd Qu.:2.500   3rd Qu.: 2550   3rd Qu.:  10688   3rd Qu.:2.000  \n",
       " Max.   :8.000   Max.   :13540   Max.   :1651359   Max.   :3.500  \n",
       "   waterfront            view          condition         grade       \n",
       " Min.   :0.000000   Min.   :0.0000   Min.   :1.000   Min.   : 1.000  \n",
       " 1st Qu.:0.000000   1st Qu.:0.0000   1st Qu.:3.000   1st Qu.: 7.000  \n",
       " Median :0.000000   Median :0.0000   Median :3.000   Median : 7.000  \n",
       " Mean   :0.007542   Mean   :0.2343   Mean   :3.409   Mean   : 7.657  \n",
       " 3rd Qu.:0.000000   3rd Qu.:0.0000   3rd Qu.:4.000   3rd Qu.: 8.000  \n",
       " Max.   :1.000000   Max.   :4.0000   Max.   :5.000   Max.   :13.000  \n",
       "   sqft_above   sqft_basement       yr_built     yr_renovated   \n",
       " Min.   : 290   Min.   :   0.0   Min.   :1900   Min.   :   0.0  \n",
       " 1st Qu.:1190   1st Qu.:   0.0   1st Qu.:1951   1st Qu.:   0.0  \n",
       " Median :1560   Median :   0.0   Median :1975   Median :   0.0  \n",
       " Mean   :1788   Mean   : 291.5   Mean   :1971   Mean   :  84.4  \n",
       " 3rd Qu.:2210   3rd Qu.: 560.0   3rd Qu.:1997   3rd Qu.:   0.0  \n",
       " Max.   :9410   Max.   :4820.0   Max.   :2015   Max.   :2015.0  \n",
       "    zipcode           lat             long        sqft_living15 \n",
       " Min.   :98001   Min.   :47.16   Min.   :-122.5   Min.   : 399  \n",
       " 1st Qu.:98033   1st Qu.:47.47   1st Qu.:-122.3   1st Qu.:1490  \n",
       " Median :98065   Median :47.57   Median :-122.2   Median :1840  \n",
       " Mean   :98078   Mean   :47.56   Mean   :-122.2   Mean   :1987  \n",
       " 3rd Qu.:98118   3rd Qu.:47.68   3rd Qu.:-122.1   3rd Qu.:2360  \n",
       " Max.   :98199   Max.   :47.78   Max.   :-121.3   Max.   :6210  \n",
       "   sqft_lot15    \n",
       " Min.   :   651  \n",
       " 1st Qu.:  5100  \n",
       " Median :  7620  \n",
       " Mean   : 12768  \n",
       " 3rd Qu.: 10083  \n",
       " Max.   :871200  "
      ]
     },
     "metadata": {},
     "output_type": "display_data"
    }
   ],
   "source": [
    "summary(home)"
   ]
  },
  {
   "cell_type": "code",
   "execution_count": 67,
   "id": "24ce3fb4",
   "metadata": {},
   "outputs": [
    {
     "data": {
      "image/png": "[encoded data removed]",
      "text/plain": [
       "Plot with title \"Histogram of home$price\""
      ]
     },
     "metadata": {
      "image/png": {
       "height": 420,
       "width": 420
      }
     },
     "output_type": "display_data"
    }
   ],
   "source": [
    "hist(home$price)\n",
    "# it is skewed so to make it uniform we will take the log of price"
   ]
  },
  {
   "cell_type": "code",
   "execution_count": 68,
   "id": "2384fad2",
   "metadata": {},
   "outputs": [],
   "source": [
    "home$price = log(home$price)"
   ]
  },
  {
   "cell_type": "code",
   "execution_count": 69,
   "id": "b7083812",
   "metadata": {},
   "outputs": [
    {
     "data": {
      "image/png": "[encoded data removed]",
      "text/plain": [
       "Plot with title \"Histogram of home$price\""
      ]
     },
     "metadata": {
      "image/png": {
       "height": 420,
       "width": 420
      }
     },
     "output_type": "display_data"
    }
   ],
   "source": [
    "hist(home$price)"
   ]
  },
  {
   "cell_type": "code",
   "execution_count": 11,
   "id": "8c9c161c",
   "metadata": {},
   "outputs": [
    {
     "data": {
      "image/png": "[encoded data removed]",
      "text/plain": [
       "plot without title"
      ]
     },
     "metadata": {
      "image/png": {
       "height": 420,
       "width": 420
      }
     },
     "output_type": "display_data"
    }
   ],
   "source": [
    "plot(home$bathrooms, home$price,\n",
    "     \n",
    "    xlab =\"No. of Bathrooms\",\n",
    "    ylab =\" Price \", pch = 19, col='blue')\n",
    "abline(lm(home$price ~ home$bathrooms), col = \"orange\", lwd = 3)"
   ]
  },
  {
   "cell_type": "code",
   "execution_count": 44,
   "id": "1907a605",
   "metadata": {},
   "outputs": [
    {
     "data": {
      "image/png": "[encoded data removed]",
      "text/plain": [
       "plot without title"
      ]
     },
     "metadata": {
      "image/png": {
       "height": 420,
       "width": 420
      }
     },
     "output_type": "display_data"
    }
   ],
   "source": [
    "plot(home$floors, home$price,\n",
    "    xlab =\"No. of Floors\",\n",
    "    ylab =\" Price \", pch = 19, col='blue')\n",
    "abline(lm(home$price ~ home$floors), col = \"orange\", lwd = 3)"
   ]
  },
  {
   "cell_type": "code",
   "execution_count": 56,
   "id": "f5c077d9",
   "metadata": {},
   "outputs": [
    {
     "data": {
      "image/png": "[encoded data removed]",
      "text/plain": [
       "plot without title"
      ]
     },
     "metadata": {
      "image/png": {
       "height": 420,
       "width": 420
      }
     },
     "output_type": "display_data"
    }
   ],
   "source": [
    "plot(home$bedrooms, home$price,\n",
    "    xlab =\"No. of Bedrooms\",\n",
    "    ylab =\" Price \", pch = 19, col='blue')\n",
    "abline(lm(home$price ~ home$bedrooms), col = \"orange\", lwd = 3)"
   ]
  },
  {
   "cell_type": "code",
   "execution_count": 53,
   "id": "f73a1f43",
   "metadata": {},
   "outputs": [
    {
     "data": {
      "image/png": "[encoded data removed]",
      "text/plain": [
       "plot without title"
      ]
     },
     "metadata": {
      "image/png": {
       "height": 420,
       "width": 420
      }
     },
     "output_type": "display_data"
    }
   ],
   "source": [
    "plot(home$grade, home$price,\n",
    "    xlab =\"Grade/Quality\",\n",
    "    ylab =\" Price \", pch = 19, col='blue')"
   ]
  },
  {
   "cell_type": "code",
   "execution_count": 46,
   "id": "6cf6c985",
   "metadata": {},
   "outputs": [
    {
     "data": {
      "image/png": "[encoded data removed]",
      "text/plain": [
       "plot without title"
      ]
     },
     "metadata": {
      "image/png": {
       "height": 420,
       "width": 420
      }
     },
     "output_type": "display_data"
    }
   ],
   "source": [
    "plot(home$waterfront, home$price,\n",
    "    xlab =\"Waterfront\",\n",
    "    ylab =\" Price \", pch = 19, col='blue')"
   ]
  },
  {
   "cell_type": "code",
   "execution_count": 48,
   "id": "67287307",
   "metadata": {},
   "outputs": [
    {
     "data": {
      "image/png": "[encoded data removed]",
      "text/plain": [
       "plot without title"
      ]
     },
     "metadata": {
      "image/png": {
       "height": 420,
       "width": 420
      }
     },
     "output_type": "display_data"
    }
   ],
   "source": [
    "plot(home$view, home$price,\n",
    "    xlab =\"View\",\n",
    "    ylab =\" Price \", pch = 19, col='blue')"
   ]
  },
  {
   "cell_type": "code",
   "execution_count": 58,
   "id": "90ea8c57",
   "metadata": {},
   "outputs": [
    {
     "data": {
      "image/png": "[encoded data removed]",
      "text/plain": [
       "plot without title"
      ]
     },
     "metadata": {
      "image/png": {
       "height": 420,
       "width": 420
      }
     },
     "output_type": "display_data"
    }
   ],
   "source": [
    "plot(home$zipcode, home$price,\n",
    "    xlab =\"Zipcode\",\n",
    "    ylab =\" Price \", pch = 19, col='blue')\n",
    "abline(lm(home$price ~ home$zipcode), col = \"orange\", lwd = 3)"
   ]
  },
  {
   "cell_type": "code",
   "execution_count": 60,
   "id": "a1acc213",
   "metadata": {},
   "outputs": [
    {
     "data": {
      "image/png": "[encoded data removed]",
      "text/plain": [
       "plot without title"
      ]
     },
     "metadata": {
      "image/png": {
       "height": 420,
       "width": 420
      }
     },
     "output_type": "display_data"
    }
   ],
   "source": [
    "plot(home$yr_renovated, home$price,\n",
    "    xlab =\"Year Renovated\",\n",
    "    ylab =\" Price \", pch = 19, col='blue')\n",
    "abline(lm(home$price ~ home$yr_renovated), col = \"orange\", lwd = 3)"
   ]
  },
  {
   "cell_type": "code",
   "execution_count": 57,
   "id": "ae5cf997",
   "metadata": {},
   "outputs": [
    {
     "data": {
      "image/png": "[encoded data removed]",
      "text/plain": [
       "plot without title"
      ]
     },
     "metadata": {
      "image/png": {
       "height": 420,
       "width": 420
      }
     },
     "output_type": "display_data"
    }
   ],
   "source": [
    "plot(home$condition, home$price,\n",
    "    xlab =\"Condition\",\n",
    "    ylab =\" Price \", pch = 19, col='blue')\n",
    "abline(lm(home$price ~ home$condition), col = \"orange\", lwd = 3)"
   ]
  },
  {
   "cell_type": "code",
   "execution_count": 14,
   "id": "f5f5a572",
   "metadata": {},
   "outputs": [
    {
     "data": {
      "image/png": "[encoded data removed]",
      "text/plain": [
       "plot without title"
      ]
     },
     "metadata": {
      "image/png": {
       "height": 420,
       "width": 420
      }
     },
     "output_type": "display_data"
    }
   ],
   "source": [
    "plot(home$sqft_living, home$price,\n",
    "    xlab =\"Size of living area in square feet\",\n",
    "    ylab =\" Price \", pch = 19, col='blue')\n",
    "abline(lm(home$price ~ home$sqft_living), col = \"orange\", lwd = 3)"
   ]
  },
  {
   "cell_type": "code",
   "execution_count": 55,
   "id": "f82158b1",
   "metadata": {},
   "outputs": [
    {
     "data": {
      "image/png": "[encoded data removed]",
      "text/plain": [
       "plot without title"
      ]
     },
     "metadata": {
      "image/png": {
       "height": 420,
       "width": 420
      }
     },
     "output_type": "display_data"
    }
   ],
   "source": [
    "plot(home$sqft_above, home$price,\n",
    "    xlab =\"Square feet above ground\",\n",
    "    ylab =\" Price \", pch = 19, col='blue')\n",
    "abline(lm(home$price ~ home$sqft_above), col = \"orange\", lwd = 3)"
   ]
  },
  {
   "cell_type": "code",
   "execution_count": 54,
   "id": "f1b5aba9",
   "metadata": {},
   "outputs": [
    {
     "data": {
      "image/png": "[encoded data removed]",
      "text/plain": [
       "plot without title"
      ]
     },
     "metadata": {
      "image/png": {
       "height": 420,
       "width": 420
      }
     },
     "output_type": "display_data"
    }
   ],
   "source": [
    "plot(home$sqft_living15, home$price,\n",
    "    xlab =\"Average size of interior living space of closest 15 houses\",\n",
    "    ylab =\" Price \", pch = 19, col='blue')\n",
    "abline(lm(home$price ~ home$sqft_living15), col = \"orange\", lwd = 3)"
   ]
  },
  {
   "cell_type": "markdown",
   "id": "2d1bd9da",
   "metadata": {},
   "source": [
    "\n",
    "\n",
    "Based on the scatterplots above, we can see that :\n",
    "\n",
    "    (likely) more large sqft_living, the house is more pricey\n",
    "    (likely) more high grade, the house is more pricey\n",
    "    (likely) more large sqft_above, the house is more pricey\n",
    "    (likely) more large sqft_living15, the house is more pricey\n",
    "\n"
   ]
  },
  {
   "cell_type": "markdown",
   "id": "9e8aa0f6",
   "metadata": {},
   "source": [
    "bar chart details:\n",
    "\n",
    "Key Points :\n",
    "\n",
    "    The more bathrooms house had, the more pricey that house\n",
    "    The more floors house had, the more pricey that house\n",
    "    waterfront makes the house more pricey\n",
    "    The more view house had, the more pricey that house\n",
    "    The more good condition house had, the more pricey that house\n",
    "    The more grade house had, the more pricey that house\n",
    "\n"
   ]
  },
  {
   "cell_type": "markdown",
   "id": "03f1e7fe",
   "metadata": {},
   "source": [
    "Data Pre-Processing"
   ]
  },
  {
   "cell_type": "code",
   "execution_count": 17,
   "id": "94f396e1",
   "metadata": {},
   "outputs": [],
   "source": [
    "# date conversion will also come in this section"
   ]
  },
  {
   "cell_type": "code",
   "execution_count": 18,
   "id": "ea318412",
   "metadata": {},
   "outputs": [],
   "source": [
    "# Check for NA and missing values\n",
    "# is.na return a vector with value T for missing values.\n",
    "numberOfNA = length(which(is.na(home) == T))\n",
    "if(numberOfNA > 0)\n",
    "{\n",
    "  cat('Number of missing values: ', numberOfNA)\n",
    "  cat('\\nRemoving missing values...')\n",
    "  home = home[complete.cases(home), ]\n",
    "}"
   ]
  },
  {
   "cell_type": "code",
   "execution_count": 19,
   "id": "f500877f",
   "metadata": {},
   "outputs": [
    {
     "data": {
      "text/html": [
       "<table class=\"dataframe\">\n",
       "<caption>A data.frame: 6 × 21</caption>\n",
       "<thead>\n",
       "\t<tr><th></th><th scope=col>id</th><th scope=col>date</th><th scope=col>price</th><th scope=col>bedrooms</th><th scope=col>bathrooms</th><th scope=col>sqft_living</th><th scope=col>sqft_lot</th><th scope=col>floors</th><th scope=col>waterfront</th><th scope=col>view</th><th scope=col>⋯</th><th scope=col>grade</th><th scope=col>sqft_above</th><th scope=col>sqft_basement</th><th scope=col>yr_built</th><th scope=col>yr_renovated</th><th scope=col>zipcode</th><th scope=col>lat</th><th scope=col>long</th><th scope=col>sqft_living15</th><th scope=col>sqft_lot15</th></tr>\n",
       "\t<tr><th></th><th scope=col>&lt;dbl&gt;</th><th scope=col>&lt;date&gt;</th><th scope=col>&lt;dbl&gt;</th><th scope=col>&lt;int&gt;</th><th scope=col>&lt;dbl&gt;</th><th scope=col>&lt;int&gt;</th><th scope=col>&lt;int&gt;</th><th scope=col>&lt;dbl&gt;</th><th scope=col>&lt;int&gt;</th><th scope=col>&lt;int&gt;</th><th scope=col>⋯</th><th scope=col>&lt;int&gt;</th><th scope=col>&lt;int&gt;</th><th scope=col>&lt;int&gt;</th><th scope=col>&lt;int&gt;</th><th scope=col>&lt;int&gt;</th><th scope=col>&lt;int&gt;</th><th scope=col>&lt;dbl&gt;</th><th scope=col>&lt;dbl&gt;</th><th scope=col>&lt;int&gt;</th><th scope=col>&lt;int&gt;</th></tr>\n",
       "</thead>\n",
       "<tbody>\n",
       "\t<tr><th scope=row>1</th><td>7129300520</td><td>2014-10-13</td><td>12.30998</td><td>3</td><td>1.00</td><td>1180</td><td>  5650</td><td>1</td><td>0</td><td>0</td><td>⋯</td><td> 7</td><td>1180</td><td>   0</td><td>1955</td><td>   0</td><td>98178</td><td>47.5112</td><td>-122.257</td><td>1340</td><td>  5650</td></tr>\n",
       "\t<tr><th scope=row>2</th><td>6414100192</td><td>2014-12-09</td><td>13.19561</td><td>3</td><td>2.25</td><td>2570</td><td>  7242</td><td>2</td><td>0</td><td>0</td><td>⋯</td><td> 7</td><td>2170</td><td> 400</td><td>1951</td><td>1991</td><td>98125</td><td>47.7210</td><td>-122.319</td><td>1690</td><td>  7639</td></tr>\n",
       "\t<tr><th scope=row>3</th><td>5631500400</td><td>2015-02-25</td><td>12.10071</td><td>2</td><td>1.00</td><td> 770</td><td> 10000</td><td>1</td><td>0</td><td>0</td><td>⋯</td><td> 6</td><td> 770</td><td>   0</td><td>1933</td><td>   0</td><td>98028</td><td>47.7379</td><td>-122.233</td><td>2720</td><td>  8062</td></tr>\n",
       "\t<tr><th scope=row>4</th><td>2487200875</td><td>2014-12-09</td><td>13.31133</td><td>4</td><td>3.00</td><td>1960</td><td>  5000</td><td>1</td><td>0</td><td>0</td><td>⋯</td><td> 7</td><td>1050</td><td> 910</td><td>1965</td><td>   0</td><td>98136</td><td>47.5208</td><td>-122.393</td><td>1360</td><td>  5000</td></tr>\n",
       "\t<tr><th scope=row>5</th><td>1954400510</td><td>2015-02-18</td><td>13.14217</td><td>3</td><td>2.00</td><td>1680</td><td>  8080</td><td>1</td><td>0</td><td>0</td><td>⋯</td><td> 8</td><td>1680</td><td>   0</td><td>1987</td><td>   0</td><td>98074</td><td>47.6168</td><td>-122.045</td><td>1800</td><td>  7503</td></tr>\n",
       "\t<tr><th scope=row>6</th><td>7237550310</td><td>2014-05-12</td><td>14.01845</td><td>4</td><td>4.50</td><td>5420</td><td>101930</td><td>1</td><td>0</td><td>0</td><td>⋯</td><td>11</td><td>3890</td><td>1530</td><td>2001</td><td>   0</td><td>98053</td><td>47.6561</td><td>-122.005</td><td>4760</td><td>101930</td></tr>\n",
       "</tbody>\n",
       "</table>\n"
      ],
      "text/latex": [
       "A data.frame: 6 × 21\n",
       "\\begin{tabular}{r|lllllllllllllllllllll}\n",
       "  & id & date & price & bedrooms & bathrooms & sqft\\_living & sqft\\_lot & floors & waterfront & view & ⋯ & grade & sqft\\_above & sqft\\_basement & yr\\_built & yr\\_renovated & zipcode & lat & long & sqft\\_living15 & sqft\\_lot15\\\\\n",
       "  & <dbl> & <date> & <dbl> & <int> & <dbl> & <int> & <int> & <dbl> & <int> & <int> & ⋯ & <int> & <int> & <int> & <int> & <int> & <int> & <dbl> & <dbl> & <int> & <int>\\\\\n",
       "\\hline\n",
       "\t1 & 7129300520 & 2014-10-13 & 12.30998 & 3 & 1.00 & 1180 &   5650 & 1 & 0 & 0 & ⋯ &  7 & 1180 &    0 & 1955 &    0 & 98178 & 47.5112 & -122.257 & 1340 &   5650\\\\\n",
       "\t2 & 6414100192 & 2014-12-09 & 13.19561 & 3 & 2.25 & 2570 &   7242 & 2 & 0 & 0 & ⋯ &  7 & 2170 &  400 & 1951 & 1991 & 98125 & 47.7210 & -122.319 & 1690 &   7639\\\\\n",
       "\t3 & 5631500400 & 2015-02-25 & 12.10071 & 2 & 1.00 &  770 &  10000 & 1 & 0 & 0 & ⋯ &  6 &  770 &    0 & 1933 &    0 & 98028 & 47.7379 & -122.233 & 2720 &   8062\\\\\n",
       "\t4 & 2487200875 & 2014-12-09 & 13.31133 & 4 & 3.00 & 1960 &   5000 & 1 & 0 & 0 & ⋯ &  7 & 1050 &  910 & 1965 &    0 & 98136 & 47.5208 & -122.393 & 1360 &   5000\\\\\n",
       "\t5 & 1954400510 & 2015-02-18 & 13.14217 & 3 & 2.00 & 1680 &   8080 & 1 & 0 & 0 & ⋯ &  8 & 1680 &    0 & 1987 &    0 & 98074 & 47.6168 & -122.045 & 1800 &   7503\\\\\n",
       "\t6 & 7237550310 & 2014-05-12 & 14.01845 & 4 & 4.50 & 5420 & 101930 & 1 & 0 & 0 & ⋯ & 11 & 3890 & 1530 & 2001 &    0 & 98053 & 47.6561 & -122.005 & 4760 & 101930\\\\\n",
       "\\end{tabular}\n"
      ],
      "text/markdown": [
       "\n",
       "A data.frame: 6 × 21\n",
       "\n",
       "| <!--/--> | id &lt;dbl&gt; | date &lt;date&gt; | price &lt;dbl&gt; | bedrooms &lt;int&gt; | bathrooms &lt;dbl&gt; | sqft_living &lt;int&gt; | sqft_lot &lt;int&gt; | floors &lt;dbl&gt; | waterfront &lt;int&gt; | view &lt;int&gt; | ⋯ ⋯ | grade &lt;int&gt; | sqft_above &lt;int&gt; | sqft_basement &lt;int&gt; | yr_built &lt;int&gt; | yr_renovated &lt;int&gt; | zipcode &lt;int&gt; | lat &lt;dbl&gt; | long &lt;dbl&gt; | sqft_living15 &lt;int&gt; | sqft_lot15 &lt;int&gt; |\n",
       "|---|---|---|---|---|---|---|---|---|---|---|---|---|---|---|---|---|---|---|---|---|---|\n",
       "| 1 | 7129300520 | 2014-10-13 | 12.30998 | 3 | 1.00 | 1180 |   5650 | 1 | 0 | 0 | ⋯ |  7 | 1180 |    0 | 1955 |    0 | 98178 | 47.5112 | -122.257 | 1340 |   5650 |\n",
       "| 2 | 6414100192 | 2014-12-09 | 13.19561 | 3 | 2.25 | 2570 |   7242 | 2 | 0 | 0 | ⋯ |  7 | 2170 |  400 | 1951 | 1991 | 98125 | 47.7210 | -122.319 | 1690 |   7639 |\n",
       "| 3 | 5631500400 | 2015-02-25 | 12.10071 | 2 | 1.00 |  770 |  10000 | 1 | 0 | 0 | ⋯ |  6 |  770 |    0 | 1933 |    0 | 98028 | 47.7379 | -122.233 | 2720 |   8062 |\n",
       "| 4 | 2487200875 | 2014-12-09 | 13.31133 | 4 | 3.00 | 1960 |   5000 | 1 | 0 | 0 | ⋯ |  7 | 1050 |  910 | 1965 |    0 | 98136 | 47.5208 | -122.393 | 1360 |   5000 |\n",
       "| 5 | 1954400510 | 2015-02-18 | 13.14217 | 3 | 2.00 | 1680 |   8080 | 1 | 0 | 0 | ⋯ |  8 | 1680 |    0 | 1987 |    0 | 98074 | 47.6168 | -122.045 | 1800 |   7503 |\n",
       "| 6 | 7237550310 | 2014-05-12 | 14.01845 | 4 | 4.50 | 5420 | 101930 | 1 | 0 | 0 | ⋯ | 11 | 3890 | 1530 | 2001 |    0 | 98053 | 47.6561 | -122.005 | 4760 | 101930 |\n",
       "\n"
      ],
      "text/plain": [
       "  id         date       price    bedrooms bathrooms sqft_living sqft_lot floors\n",
       "1 7129300520 2014-10-13 12.30998 3        1.00      1180          5650   1     \n",
       "2 6414100192 2014-12-09 13.19561 3        2.25      2570          7242   2     \n",
       "3 5631500400 2015-02-25 12.10071 2        1.00       770         10000   1     \n",
       "4 2487200875 2014-12-09 13.31133 4        3.00      1960          5000   1     \n",
       "5 1954400510 2015-02-18 13.14217 3        2.00      1680          8080   1     \n",
       "6 7237550310 2014-05-12 14.01845 4        4.50      5420        101930   1     \n",
       "  waterfront view ⋯ grade sqft_above sqft_basement yr_built yr_renovated\n",
       "1 0          0    ⋯  7    1180          0          1955        0        \n",
       "2 0          0    ⋯  7    2170        400          1951     1991        \n",
       "3 0          0    ⋯  6     770          0          1933        0        \n",
       "4 0          0    ⋯  7    1050        910          1965        0        \n",
       "5 0          0    ⋯  8    1680          0          1987        0        \n",
       "6 0          0    ⋯ 11    3890       1530          2001        0        \n",
       "  zipcode lat     long     sqft_living15 sqft_lot15\n",
       "1 98178   47.5112 -122.257 1340            5650    \n",
       "2 98125   47.7210 -122.319 1690            7639    \n",
       "3 98028   47.7379 -122.233 2720            8062    \n",
       "4 98136   47.5208 -122.393 1360            5000    \n",
       "5 98074   47.6168 -122.045 1800            7503    \n",
       "6 98053   47.6561 -122.005 4760          101930    "
      ]
     },
     "metadata": {},
     "output_type": "display_data"
    }
   ],
   "source": [
    "head(home)"
   ]
  },
  {
   "cell_type": "code",
   "execution_count": 32,
   "id": "5f973c60",
   "metadata": {},
   "outputs": [],
   "source": [
    "# home$waterfront <- as.factor(home$waterfront)"
   ]
  },
  {
   "cell_type": "code",
   "execution_count": 33,
   "id": "cf8e8499",
   "metadata": {},
   "outputs": [
    {
     "data": {
      "text/html": [
       "<style>\n",
       ".dl-inline {width: auto; margin:0; padding: 0}\n",
       ".dl-inline>dt, .dl-inline>dd {float: none; width: auto; display: inline-block}\n",
       ".dl-inline>dt::after {content: \":\\0020\"; padding-right: .5ex}\n",
       ".dl-inline>dt:not(:first-of-type) {padding-left: .5ex}\n",
       "</style><dl class=dl-inline><dt>0</dt><dd>21450</dd><dt>1</dt><dd>163</dd></dl>\n"
      ],
      "text/latex": [
       "\\begin{description*}\n",
       "\\item[0] 21450\n",
       "\\item[1] 163\n",
       "\\end{description*}\n"
      ],
      "text/markdown": [
       "0\n",
       ":   214501\n",
       ":   163\n",
       "\n"
      ],
      "text/plain": [
       "    0     1 \n",
       "21450   163 "
      ]
     },
     "metadata": {},
     "output_type": "display_data"
    }
   ],
   "source": [
    "# summary(home$waterfront)"
   ]
  },
  {
   "cell_type": "code",
   "execution_count": 35,
   "id": "ffacf012",
   "metadata": {},
   "outputs": [],
   "source": [
    "# home$view <- as.factor(home$view)"
   ]
  },
  {
   "cell_type": "code",
   "execution_count": 36,
   "id": "07ed347c",
   "metadata": {},
   "outputs": [
    {
     "data": {
      "text/html": [
       "<style>\n",
       ".dl-inline {width: auto; margin:0; padding: 0}\n",
       ".dl-inline>dt, .dl-inline>dd {float: none; width: auto; display: inline-block}\n",
       ".dl-inline>dt::after {content: \":\\0020\"; padding-right: .5ex}\n",
       ".dl-inline>dt:not(:first-of-type) {padding-left: .5ex}\n",
       "</style><dl class=dl-inline><dt>0</dt><dd>19489</dd><dt>1</dt><dd>332</dd><dt>2</dt><dd>963</dd><dt>3</dt><dd>510</dd><dt>4</dt><dd>319</dd></dl>\n"
      ],
      "text/latex": [
       "\\begin{description*}\n",
       "\\item[0] 19489\n",
       "\\item[1] 332\n",
       "\\item[2] 963\n",
       "\\item[3] 510\n",
       "\\item[4] 319\n",
       "\\end{description*}\n"
      ],
      "text/markdown": [
       "0\n",
       ":   194891\n",
       ":   3322\n",
       ":   9633\n",
       ":   5104\n",
       ":   319\n",
       "\n"
      ],
      "text/plain": [
       "    0     1     2     3     4 \n",
       "19489   332   963   510   319 "
      ]
     },
     "metadata": {},
     "output_type": "display_data"
    }
   ],
   "source": [
    "# summary(home$view)"
   ]
  },
  {
   "cell_type": "code",
   "execution_count": 37,
   "id": "579667b7",
   "metadata": {},
   "outputs": [],
   "source": [
    "# home$grade <- as.factor(home$grade)"
   ]
  },
  {
   "cell_type": "code",
   "execution_count": 38,
   "id": "b4a9110d",
   "metadata": {},
   "outputs": [
    {
     "data": {
      "text/html": [
       "<style>\n",
       ".dl-inline {width: auto; margin:0; padding: 0}\n",
       ".dl-inline>dt, .dl-inline>dd {float: none; width: auto; display: inline-block}\n",
       ".dl-inline>dt::after {content: \":\\0020\"; padding-right: .5ex}\n",
       ".dl-inline>dt:not(:first-of-type) {padding-left: .5ex}\n",
       "</style><dl class=dl-inline><dt>1</dt><dd>1</dd><dt>3</dt><dd>3</dd><dt>4</dt><dd>29</dd><dt>5</dt><dd>242</dd><dt>6</dt><dd>2038</dd><dt>7</dt><dd>8981</dd><dt>8</dt><dd>6068</dd><dt>9</dt><dd>2615</dd><dt>10</dt><dd>1134</dd><dt>11</dt><dd>399</dd><dt>12</dt><dd>90</dd><dt>13</dt><dd>13</dd></dl>\n"
      ],
      "text/latex": [
       "\\begin{description*}\n",
       "\\item[1] 1\n",
       "\\item[3] 3\n",
       "\\item[4] 29\n",
       "\\item[5] 242\n",
       "\\item[6] 2038\n",
       "\\item[7] 8981\n",
       "\\item[8] 6068\n",
       "\\item[9] 2615\n",
       "\\item[10] 1134\n",
       "\\item[11] 399\n",
       "\\item[12] 90\n",
       "\\item[13] 13\n",
       "\\end{description*}\n"
      ],
      "text/markdown": [
       "1\n",
       ":   13\n",
       ":   34\n",
       ":   295\n",
       ":   2426\n",
       ":   20387\n",
       ":   89818\n",
       ":   60689\n",
       ":   261510\n",
       ":   113411\n",
       ":   39912\n",
       ":   9013\n",
       ":   13\n",
       "\n"
      ],
      "text/plain": [
       "   1    3    4    5    6    7    8    9   10   11   12   13 \n",
       "   1    3   29  242 2038 8981 6068 2615 1134  399   90   13 "
      ]
     },
     "metadata": {},
     "output_type": "display_data"
    }
   ],
   "source": [
    "# summary(home$grade)"
   ]
  },
  {
   "cell_type": "code",
   "execution_count": null,
   "id": "7c8de8da",
   "metadata": {},
   "outputs": [],
   "source": []
  },
  {
   "cell_type": "code",
   "execution_count": 70,
   "id": "272a53ba",
   "metadata": {},
   "outputs": [],
   "source": [
    "# Removing columns id as we do not need it\n",
    "home$id = NULL"
   ]
  },
  {
   "cell_type": "code",
   "execution_count": 71,
   "id": "3f0066ed",
   "metadata": {
    "scrolled": true
   },
   "outputs": [
    {
     "data": {
      "text/html": [
       "<table class=\"dataframe\">\n",
       "<caption>A data.frame: 6 × 20</caption>\n",
       "<thead>\n",
       "\t<tr><th></th><th scope=col>date</th><th scope=col>price</th><th scope=col>bedrooms</th><th scope=col>bathrooms</th><th scope=col>sqft_living</th><th scope=col>sqft_lot</th><th scope=col>floors</th><th scope=col>waterfront</th><th scope=col>view</th><th scope=col>condition</th><th scope=col>grade</th><th scope=col>sqft_above</th><th scope=col>sqft_basement</th><th scope=col>yr_built</th><th scope=col>yr_renovated</th><th scope=col>zipcode</th><th scope=col>lat</th><th scope=col>long</th><th scope=col>sqft_living15</th><th scope=col>sqft_lot15</th></tr>\n",
       "\t<tr><th></th><th scope=col>&lt;date&gt;</th><th scope=col>&lt;dbl&gt;</th><th scope=col>&lt;int&gt;</th><th scope=col>&lt;dbl&gt;</th><th scope=col>&lt;int&gt;</th><th scope=col>&lt;int&gt;</th><th scope=col>&lt;dbl&gt;</th><th scope=col>&lt;int&gt;</th><th scope=col>&lt;int&gt;</th><th scope=col>&lt;int&gt;</th><th scope=col>&lt;int&gt;</th><th scope=col>&lt;int&gt;</th><th scope=col>&lt;int&gt;</th><th scope=col>&lt;int&gt;</th><th scope=col>&lt;int&gt;</th><th scope=col>&lt;int&gt;</th><th scope=col>&lt;dbl&gt;</th><th scope=col>&lt;dbl&gt;</th><th scope=col>&lt;int&gt;</th><th scope=col>&lt;int&gt;</th></tr>\n",
       "</thead>\n",
       "<tbody>\n",
       "\t<tr><th scope=row>1</th><td>2014-10-13</td><td>12.30998</td><td>3</td><td>1.00</td><td>1180</td><td>  5650</td><td>1</td><td>0</td><td>0</td><td>3</td><td> 7</td><td>1180</td><td>   0</td><td>1955</td><td>   0</td><td>98178</td><td>47.5112</td><td>-122.257</td><td>1340</td><td>  5650</td></tr>\n",
       "\t<tr><th scope=row>2</th><td>2014-12-09</td><td>13.19561</td><td>3</td><td>2.25</td><td>2570</td><td>  7242</td><td>2</td><td>0</td><td>0</td><td>3</td><td> 7</td><td>2170</td><td> 400</td><td>1951</td><td>1991</td><td>98125</td><td>47.7210</td><td>-122.319</td><td>1690</td><td>  7639</td></tr>\n",
       "\t<tr><th scope=row>3</th><td>2015-02-25</td><td>12.10071</td><td>2</td><td>1.00</td><td> 770</td><td> 10000</td><td>1</td><td>0</td><td>0</td><td>3</td><td> 6</td><td> 770</td><td>   0</td><td>1933</td><td>   0</td><td>98028</td><td>47.7379</td><td>-122.233</td><td>2720</td><td>  8062</td></tr>\n",
       "\t<tr><th scope=row>4</th><td>2014-12-09</td><td>13.31133</td><td>4</td><td>3.00</td><td>1960</td><td>  5000</td><td>1</td><td>0</td><td>0</td><td>5</td><td> 7</td><td>1050</td><td> 910</td><td>1965</td><td>   0</td><td>98136</td><td>47.5208</td><td>-122.393</td><td>1360</td><td>  5000</td></tr>\n",
       "\t<tr><th scope=row>5</th><td>2015-02-18</td><td>13.14217</td><td>3</td><td>2.00</td><td>1680</td><td>  8080</td><td>1</td><td>0</td><td>0</td><td>3</td><td> 8</td><td>1680</td><td>   0</td><td>1987</td><td>   0</td><td>98074</td><td>47.6168</td><td>-122.045</td><td>1800</td><td>  7503</td></tr>\n",
       "\t<tr><th scope=row>6</th><td>2014-05-12</td><td>14.01845</td><td>4</td><td>4.50</td><td>5420</td><td>101930</td><td>1</td><td>0</td><td>0</td><td>3</td><td>11</td><td>3890</td><td>1530</td><td>2001</td><td>   0</td><td>98053</td><td>47.6561</td><td>-122.005</td><td>4760</td><td>101930</td></tr>\n",
       "</tbody>\n",
       "</table>\n"
      ],
      "text/latex": [
       "A data.frame: 6 × 20\n",
       "\\begin{tabular}{r|llllllllllllllllllll}\n",
       "  & date & price & bedrooms & bathrooms & sqft\\_living & sqft\\_lot & floors & waterfront & view & condition & grade & sqft\\_above & sqft\\_basement & yr\\_built & yr\\_renovated & zipcode & lat & long & sqft\\_living15 & sqft\\_lot15\\\\\n",
       "  & <date> & <dbl> & <int> & <dbl> & <int> & <int> & <dbl> & <int> & <int> & <int> & <int> & <int> & <int> & <int> & <int> & <int> & <dbl> & <dbl> & <int> & <int>\\\\\n",
       "\\hline\n",
       "\t1 & 2014-10-13 & 12.30998 & 3 & 1.00 & 1180 &   5650 & 1 & 0 & 0 & 3 &  7 & 1180 &    0 & 1955 &    0 & 98178 & 47.5112 & -122.257 & 1340 &   5650\\\\\n",
       "\t2 & 2014-12-09 & 13.19561 & 3 & 2.25 & 2570 &   7242 & 2 & 0 & 0 & 3 &  7 & 2170 &  400 & 1951 & 1991 & 98125 & 47.7210 & -122.319 & 1690 &   7639\\\\\n",
       "\t3 & 2015-02-25 & 12.10071 & 2 & 1.00 &  770 &  10000 & 1 & 0 & 0 & 3 &  6 &  770 &    0 & 1933 &    0 & 98028 & 47.7379 & -122.233 & 2720 &   8062\\\\\n",
       "\t4 & 2014-12-09 & 13.31133 & 4 & 3.00 & 1960 &   5000 & 1 & 0 & 0 & 5 &  7 & 1050 &  910 & 1965 &    0 & 98136 & 47.5208 & -122.393 & 1360 &   5000\\\\\n",
       "\t5 & 2015-02-18 & 13.14217 & 3 & 2.00 & 1680 &   8080 & 1 & 0 & 0 & 3 &  8 & 1680 &    0 & 1987 &    0 & 98074 & 47.6168 & -122.045 & 1800 &   7503\\\\\n",
       "\t6 & 2014-05-12 & 14.01845 & 4 & 4.50 & 5420 & 101930 & 1 & 0 & 0 & 3 & 11 & 3890 & 1530 & 2001 &    0 & 98053 & 47.6561 & -122.005 & 4760 & 101930\\\\\n",
       "\\end{tabular}\n"
      ],
      "text/markdown": [
       "\n",
       "A data.frame: 6 × 20\n",
       "\n",
       "| <!--/--> | date &lt;date&gt; | price &lt;dbl&gt; | bedrooms &lt;int&gt; | bathrooms &lt;dbl&gt; | sqft_living &lt;int&gt; | sqft_lot &lt;int&gt; | floors &lt;dbl&gt; | waterfront &lt;int&gt; | view &lt;int&gt; | condition &lt;int&gt; | grade &lt;int&gt; | sqft_above &lt;int&gt; | sqft_basement &lt;int&gt; | yr_built &lt;int&gt; | yr_renovated &lt;int&gt; | zipcode &lt;int&gt; | lat &lt;dbl&gt; | long &lt;dbl&gt; | sqft_living15 &lt;int&gt; | sqft_lot15 &lt;int&gt; |\n",
       "|---|---|---|---|---|---|---|---|---|---|---|---|---|---|---|---|---|---|---|---|---|\n",
       "| 1 | 2014-10-13 | 12.30998 | 3 | 1.00 | 1180 |   5650 | 1 | 0 | 0 | 3 |  7 | 1180 |    0 | 1955 |    0 | 98178 | 47.5112 | -122.257 | 1340 |   5650 |\n",
       "| 2 | 2014-12-09 | 13.19561 | 3 | 2.25 | 2570 |   7242 | 2 | 0 | 0 | 3 |  7 | 2170 |  400 | 1951 | 1991 | 98125 | 47.7210 | -122.319 | 1690 |   7639 |\n",
       "| 3 | 2015-02-25 | 12.10071 | 2 | 1.00 |  770 |  10000 | 1 | 0 | 0 | 3 |  6 |  770 |    0 | 1933 |    0 | 98028 | 47.7379 | -122.233 | 2720 |   8062 |\n",
       "| 4 | 2014-12-09 | 13.31133 | 4 | 3.00 | 1960 |   5000 | 1 | 0 | 0 | 5 |  7 | 1050 |  910 | 1965 |    0 | 98136 | 47.5208 | -122.393 | 1360 |   5000 |\n",
       "| 5 | 2015-02-18 | 13.14217 | 3 | 2.00 | 1680 |   8080 | 1 | 0 | 0 | 3 |  8 | 1680 |    0 | 1987 |    0 | 98074 | 47.6168 | -122.045 | 1800 |   7503 |\n",
       "| 6 | 2014-05-12 | 14.01845 | 4 | 4.50 | 5420 | 101930 | 1 | 0 | 0 | 3 | 11 | 3890 | 1530 | 2001 |    0 | 98053 | 47.6561 | -122.005 | 4760 | 101930 |\n",
       "\n"
      ],
      "text/plain": [
       "  date       price    bedrooms bathrooms sqft_living sqft_lot floors waterfront\n",
       "1 2014-10-13 12.30998 3        1.00      1180          5650   1      0         \n",
       "2 2014-12-09 13.19561 3        2.25      2570          7242   2      0         \n",
       "3 2015-02-25 12.10071 2        1.00       770         10000   1      0         \n",
       "4 2014-12-09 13.31133 4        3.00      1960          5000   1      0         \n",
       "5 2015-02-18 13.14217 3        2.00      1680          8080   1      0         \n",
       "6 2014-05-12 14.01845 4        4.50      5420        101930   1      0         \n",
       "  view condition grade sqft_above sqft_basement yr_built yr_renovated zipcode\n",
       "1 0    3          7    1180          0          1955        0         98178  \n",
       "2 0    3          7    2170        400          1951     1991         98125  \n",
       "3 0    3          6     770          0          1933        0         98028  \n",
       "4 0    5          7    1050        910          1965        0         98136  \n",
       "5 0    3          8    1680          0          1987        0         98074  \n",
       "6 0    3         11    3890       1530          2001        0         98053  \n",
       "  lat     long     sqft_living15 sqft_lot15\n",
       "1 47.5112 -122.257 1340            5650    \n",
       "2 47.7210 -122.319 1690            7639    \n",
       "3 47.7379 -122.233 2720            8062    \n",
       "4 47.5208 -122.393 1360            5000    \n",
       "5 47.6168 -122.045 1800            7503    \n",
       "6 47.6561 -122.005 4760          101930    "
      ]
     },
     "metadata": {},
     "output_type": "display_data"
    }
   ],
   "source": [
    "head(home)"
   ]
  },
  {
   "cell_type": "markdown",
   "id": "64d16611",
   "metadata": {},
   "source": [
    "Random Model Building:"
   ]
  },
  {
   "cell_type": "code",
   "execution_count": 72,
   "id": "302be03d",
   "metadata": {},
   "outputs": [
    {
     "data": {
      "text/plain": [
       "\n",
       "Call:\n",
       "lm(formula = price ~ ., data = home)\n",
       "\n",
       "Residuals:\n",
       "     Min       1Q   Median       3Q      Max \n",
       "-1.75513 -0.16007  0.00326  0.15911  1.21858 \n",
       "\n",
       "Coefficients: (1 not defined because of singularities)\n",
       "                Estimate Std. Error t value Pr(>|t|)    \n",
       "(Intercept)   -8.584e+00  3.673e+00  -2.337  0.01944 *  \n",
       "date           1.975e-04  1.519e-05  13.005  < 2e-16 ***\n",
       "bedrooms      -1.240e-02  2.364e-03  -5.245 1.58e-07 ***\n",
       "bathrooms      6.951e-02  4.066e-03  17.096  < 2e-16 ***\n",
       "sqft_living    1.514e-04  5.480e-06  27.638  < 2e-16 ***\n",
       "sqft_lot       4.663e-07  5.988e-08   7.787 7.19e-15 ***\n",
       "floors         7.595e-02  4.494e-03  16.901  < 2e-16 ***\n",
       "waterfront     3.705e-01  2.169e-02  17.080  < 2e-16 ***\n",
       "view           5.995e-02  2.674e-03  22.415  < 2e-16 ***\n",
       "condition      6.492e-02  2.944e-03  22.057  < 2e-16 ***\n",
       "grade          1.595e-01  2.690e-03  59.292  < 2e-16 ***\n",
       "sqft_above    -1.577e-05  5.449e-06  -2.894  0.00380 ** \n",
       "sqft_basement         NA         NA      NA       NA    \n",
       "yr_built      -3.407e-03  9.079e-05 -37.531  < 2e-16 ***\n",
       "yr_renovated   3.825e-05  4.570e-06   8.371  < 2e-16 ***\n",
       "zipcode       -6.430e-04  4.122e-05 -15.601  < 2e-16 ***\n",
       "lat            1.404e+00  1.342e-02 104.660  < 2e-16 ***\n",
       "long          -1.573e-01  1.641e-02  -9.585  < 2e-16 ***\n",
       "sqft_living15  9.903e-05  4.308e-06  22.986  < 2e-16 ***\n",
       "sqft_lot15    -2.608e-07  9.155e-08  -2.849  0.00439 ** \n",
       "---\n",
       "Signif. codes:  0 '***' 0.001 '**' 0.01 '*' 0.05 '.' 0.1 ' ' 1\n",
       "\n",
       "Residual standard error: 0.2515 on 21594 degrees of freedom\n",
       "Multiple R-squared:  0.7722,\tAdjusted R-squared:  0.772 \n",
       "F-statistic:  4067 on 18 and 21594 DF,  p-value: < 2.2e-16\n"
      ]
     },
     "metadata": {},
     "output_type": "display_data"
    }
   ],
   "source": [
    "m1 <-lm(price ~ . , data=home)\n",
    "summary(m1)\n",
    "#I removed the ID and Date variables from this linear model because those variables might not have any correlation to the house’s price. \n",
    "#From that summary, we know that floors and sqft_basement have not good contribution (look at the P-Value) to our target label."
   ]
  },
  {
   "cell_type": "code",
   "execution_count": 73,
   "id": "510c0d8a",
   "metadata": {},
   "outputs": [],
   "source": [
    "home$date = NULL\n",
    "home$sqft_basement = NULL\n"
   ]
  },
  {
   "cell_type": "code",
   "execution_count": 74,
   "id": "8e3f0d1b",
   "metadata": {},
   "outputs": [
    {
     "data": {
      "text/plain": [
       "\n",
       "Call:\n",
       "lm(formula = price ~ ., data = home)\n",
       "\n",
       "Residuals:\n",
       "     Min       1Q   Median       3Q      Max \n",
       "-1.78817 -0.16139  0.00316  0.15887  1.19290 \n",
       "\n",
       "Coefficients:\n",
       "                Estimate Std. Error t value Pr(>|t|)    \n",
       "(Intercept)   -5.073e+00  3.677e+00  -1.379  0.16776    \n",
       "bedrooms      -1.221e-02  2.373e-03  -5.144 2.71e-07 ***\n",
       "bathrooms      6.912e-02  4.081e-03  16.936  < 2e-16 ***\n",
       "sqft_living    1.512e-04  5.501e-06  27.494  < 2e-16 ***\n",
       "sqft_lot       4.712e-07  6.011e-08   7.838 4.78e-15 ***\n",
       "floors         7.515e-02  4.511e-03  16.661  < 2e-16 ***\n",
       "waterfront     3.712e-01  2.178e-02  17.046  < 2e-16 ***\n",
       "view           6.040e-02  2.684e-03  22.501  < 2e-16 ***\n",
       "condition      6.264e-02  2.950e-03  21.235  < 2e-16 ***\n",
       "grade          1.589e-01  2.700e-03  58.855  < 2e-16 ***\n",
       "sqft_above    -1.529e-05  5.470e-06  -2.795  0.00520 ** \n",
       "yr_built      -3.411e-03  9.114e-05 -37.419  < 2e-16 ***\n",
       "yr_renovated   3.659e-05  4.586e-06   7.979 1.54e-15 ***\n",
       "zipcode       -6.459e-04  4.138e-05 -15.610  < 2e-16 ***\n",
       "lat            1.400e+00  1.347e-02 103.968  < 2e-16 ***\n",
       "long          -1.592e-01  1.648e-02  -9.660  < 2e-16 ***\n",
       "sqft_living15  9.857e-05  4.325e-06  22.791  < 2e-16 ***\n",
       "sqft_lot15    -2.610e-07  9.191e-08  -2.840  0.00452 ** \n",
       "---\n",
       "Signif. codes:  0 '***' 0.001 '**' 0.01 '*' 0.05 '.' 0.1 ' ' 1\n",
       "\n",
       "Residual standard error: 0.2524 on 21595 degrees of freedom\n",
       "Multiple R-squared:  0.7704,\tAdjusted R-squared:  0.7703 \n",
       "F-statistic:  4263 on 17 and 21595 DF,  p-value: < 2.2e-16\n"
      ]
     },
     "metadata": {},
     "output_type": "display_data"
    }
   ],
   "source": [
    "m2 <- lm(price ~ . , data= home)\n",
    "summary(m2)"
   ]
  },
  {
   "cell_type": "code",
   "execution_count": 79,
   "id": "9e053b84",
   "metadata": {},
   "outputs": [
    {
     "data": {
      "text/plain": [
       "\n",
       "Call:\n",
       "lm(formula = price ~ bedrooms + bathrooms + sqft_living, data = home)\n",
       "\n",
       "Residuals:\n",
       "     Min       1Q   Median       3Q      Max \n",
       "-3.07017 -0.28328  0.01298  0.25500  2.12583 \n",
       "\n",
       "Coefficients:\n",
       "              Estimate Std. Error t value Pr(>|t|)    \n",
       "(Intercept)  1.229e+01  1.008e-02 1219.83   <2e-16 ***\n",
       "bedrooms    -5.409e-02  3.403e-03  -15.89   <2e-16 ***\n",
       "bathrooms    5.363e-02  5.117e-03   10.48   <2e-16 ***\n",
       "sqft_living  3.964e-04  4.499e-06   88.10   <2e-16 ***\n",
       "---\n",
       "Signif. codes:  0 '***' 0.001 '**' 0.01 '*' 0.05 '.' 0.1 ' ' 1\n",
       "\n",
       "Residual standard error: 0.3758 on 21609 degrees of freedom\n",
       "Multiple R-squared:  0.491,\tAdjusted R-squared:  0.491 \n",
       "F-statistic:  6949 on 3 and 21609 DF,  p-value: < 2.2e-16\n"
      ]
     },
     "metadata": {},
     "output_type": "display_data"
    }
   ],
   "source": [
    "m3 <- lm(price ~ bedrooms + bathrooms + sqft_living, data = home)\n",
    "summary(m3)"
   ]
  },
  {
   "cell_type": "code",
   "execution_count": 78,
   "id": "eaed6fd7",
   "metadata": {},
   "outputs": [
    {
     "data": {
      "text/plain": [
       "\n",
       "Call:\n",
       "lm(formula = price ~ sqft_living + grade + sqft_above + sqft_living15, \n",
       "    data = home)\n",
       "\n",
       "Residuals:\n",
       "     Min       1Q   Median       3Q      Max \n",
       "-1.55680 -0.24744  0.00214  0.23214  1.40195 \n",
       "\n",
       "Coefficients:\n",
       "                Estimate Std. Error t value Pr(>|t|)    \n",
       "(Intercept)    1.110e+01  1.883e-02  589.27   <2e-16 ***\n",
       "sqft_living    2.765e-04  5.819e-06   47.52   <2e-16 ***\n",
       "grade          1.895e-01  3.353e-03   56.50   <2e-16 ***\n",
       "sqft_above    -1.454e-04  6.206e-06  -23.43   <2e-16 ***\n",
       "sqft_living15  9.240e-05  5.593e-06   16.52   <2e-16 ***\n",
       "---\n",
       "Signif. codes:  0 '***' 0.001 '**' 0.01 '*' 0.05 '.' 0.1 ' ' 1\n",
       "\n",
       "Residual standard error: 0.3455 on 21608 degrees of freedom\n",
       "Multiple R-squared:  0.5698,\tAdjusted R-squared:  0.5697 \n",
       "F-statistic:  7154 on 4 and 21608 DF,  p-value: < 2.2e-16\n"
      ]
     },
     "metadata": {},
     "output_type": "display_data"
    }
   ],
   "source": [
    "m3 <- lm(price ~ sqft_living + grade + sqft_above + sqft_living15, data = home)\n",
    "summary(m3)"
   ]
  },
  {
   "cell_type": "code",
   "execution_count": 80,
   "id": "95a531b8",
   "metadata": {},
   "outputs": [
    {
     "data": {
      "text/plain": [
       "\n",
       "Call:\n",
       "lm(formula = price ~ bedrooms + bathrooms + sqft_living + sqft_lot + \n",
       "    floors + waterfront + view + condition + grade + sqft_above + \n",
       "    sqft_living15 + sqft_lot15, data = home)\n",
       "\n",
       "Residuals:\n",
       "     Min       1Q   Median       3Q      Max \n",
       "-1.56769 -0.23779  0.01146  0.22437  1.36292 \n",
       "\n",
       "Coefficients:\n",
       "                Estimate Std. Error t value Pr(>|t|)    \n",
       "(Intercept)    1.081e+01  2.511e-02 430.400  < 2e-16 ***\n",
       "bedrooms      -1.526e-02  3.113e-03  -4.901 9.63e-07 ***\n",
       "bathrooms     -1.465e-02  5.026e-03  -2.914 0.003570 ** \n",
       "sqft_living    2.618e-04  7.044e-06  37.158  < 2e-16 ***\n",
       "sqft_lot       2.724e-07  7.889e-08   3.453 0.000555 ***\n",
       "floors         7.615e-02  5.752e-03  13.239  < 2e-16 ***\n",
       "waterfront     3.612e-01  2.863e-02  12.617  < 2e-16 ***\n",
       "view           6.322e-02  3.464e-03  18.250  < 2e-16 ***\n",
       "condition      9.509e-02  3.652e-03  26.039  < 2e-16 ***\n",
       "grade          1.790e-01  3.416e-03  52.408  < 2e-16 ***\n",
       "sqft_above    -1.259e-04  6.959e-06 -18.089  < 2e-16 ***\n",
       "sqft_living15  9.188e-05  5.521e-06  16.642  < 2e-16 ***\n",
       "sqft_lot15    -8.328e-07  1.204e-07  -6.918 4.72e-12 ***\n",
       "---\n",
       "Signif. codes:  0 '***' 0.001 '**' 0.01 '*' 0.05 '.' 0.1 ' ' 1\n",
       "\n",
       "Residual standard error: 0.3325 on 21600 degrees of freedom\n",
       "Multiple R-squared:  0.6018,\tAdjusted R-squared:  0.6015 \n",
       "F-statistic:  2720 on 12 and 21600 DF,  p-value: < 2.2e-16\n"
      ]
     },
     "metadata": {},
     "output_type": "display_data"
    }
   ],
   "source": [
    "m3 <- lm(price ~ bedrooms + bathrooms + sqft_living + sqft_lot + floors + waterfront + view + condition + grade+ sqft_above+ sqft_living15 + sqft_lot15, data = home)\n",
    "summary(m3)"
   ]
  },
  {
   "cell_type": "code",
   "execution_count": 85,
   "id": "8ed2d00d",
   "metadata": {},
   "outputs": [
    {
     "data": {
      "text/plain": [
       "\n",
       "Call:\n",
       "lm(formula = price ~ bedrooms + bathrooms + floors + waterfront + \n",
       "    view + condition + yr_renovated + zipcode + sqft_living15 + \n",
       "    sqft_living + grade, data = home)\n",
       "\n",
       "Residuals:\n",
       "     Min       1Q   Median       3Q      Max \n",
       "-1.51071 -0.23486  0.00879  0.22531  1.43732 \n",
       "\n",
       "Coefficients:\n",
       "                Estimate Std. Error t value Pr(>|t|)    \n",
       "(Intercept)   -1.009e+02  4.359e+00 -23.151  < 2e-16 ***\n",
       "bedrooms      -9.963e-03  3.056e-03  -3.260  0.00112 ** \n",
       "bathrooms      8.847e-03  4.924e-03   1.797  0.07240 .  \n",
       "floors         2.767e-02  5.089e-03   5.438 5.44e-08 ***\n",
       "waterfront     3.246e-01  2.823e-02  11.498  < 2e-16 ***\n",
       "view           5.648e-02  3.401e-03  16.606  < 2e-16 ***\n",
       "condition      1.090e-01  3.595e-03  30.329  < 2e-16 ***\n",
       "yr_renovated   1.053e-04  5.633e-06  18.694  < 2e-16 ***\n",
       "zipcode        1.138e-03  4.442e-05  25.631  < 2e-16 ***\n",
       "sqft_living15  1.045e-04  5.444e-06  19.199  < 2e-16 ***\n",
       "sqft_living    1.621e-04  5.309e-06  30.536  < 2e-16 ***\n",
       "grade          1.749e-01  3.344e-03  52.304  < 2e-16 ***\n",
       "---\n",
       "Signif. codes:  0 '***' 0.001 '**' 0.01 '*' 0.05 '.' 0.1 ' ' 1\n",
       "\n",
       "Residual standard error: 0.3276 on 21601 degrees of freedom\n",
       "Multiple R-squared:  0.6132,\tAdjusted R-squared:  0.613 \n",
       "F-statistic:  3114 on 11 and 21601 DF,  p-value: < 2.2e-16\n"
      ]
     },
     "metadata": {},
     "output_type": "display_data"
    }
   ],
   "source": [
    "model <- lm(price ~  bedrooms + bathrooms + floors + waterfront + view + condition + yr_renovated + zipcode + sqft_living15 + sqft_living + grade,\n",
    "           data = home)\n",
    "summary(model)"
   ]
  },
  {
   "cell_type": "code",
   "execution_count": 40,
   "id": "e734f989",
   "metadata": {},
   "outputs": [
    {
     "data": {
      "image/png": "[encoded data removed]",
      "text/plain": [
       "Plot with title \"\""
      ]
     },
     "metadata": {
      "image/png": {
       "height": 420,
       "width": 420
      }
     },
     "output_type": "display_data"
    }
   ],
   "source": [
    "par(mfrow=c(2,2))\n",
    "plot(m3)"
   ]
  },
  {
   "cell_type": "code",
   "execution_count": 42,
   "id": "baae1451",
   "metadata": {},
   "outputs": [],
   "source": [
    "# cooks.distance(m3)"
   ]
  },
  {
   "cell_type": "code",
   "execution_count": null,
   "id": "1b59115a",
   "metadata": {},
   "outputs": [],
   "source": []
  },
  {
   "cell_type": "code",
   "execution_count": null,
   "id": "7692b4ba",
   "metadata": {},
   "outputs": [],
   "source": []
  },
  {
   "cell_type": "code",
   "execution_count": null,
   "id": "14b2cbf7",
   "metadata": {},
   "outputs": [],
   "source": []
  },
  {
   "cell_type": "code",
   "execution_count": null,
   "id": "49cab595",
   "metadata": {},
   "outputs": [],
   "source": []
  },
  {
   "cell_type": "code",
   "execution_count": null,
   "id": "f2ef7eab",
   "metadata": {},
   "outputs": [],
   "source": []
  },
  {
   "cell_type": "code",
   "execution_count": null,
   "id": "e5ec7078",
   "metadata": {},
   "outputs": [],
   "source": []
  },
  {
   "cell_type": "code",
   "execution_count": null,
   "id": "45933aa4",
   "metadata": {},
   "outputs": [],
   "source": []
  },
  {
   "cell_type": "code",
   "execution_count": null,
   "id": "559bf2f3",
   "metadata": {},
   "outputs": [],
   "source": []
  },
  {
   "cell_type": "code",
   "execution_count": null,
   "id": "ba735503",
   "metadata": {},
   "outputs": [],
   "source": []
  },
  {
   "cell_type": "code",
   "execution_count": null,
   "id": "a941789d",
   "metadata": {},
   "outputs": [],
   "source": []
  },
  {
   "cell_type": "code",
   "execution_count": null,
   "id": "277c5076",
   "metadata": {},
   "outputs": [],
   "source": []
  },
  {
   "cell_type": "code",
   "execution_count": null,
   "id": "acf983af",
   "metadata": {},
   "outputs": [],
   "source": []
  },
  {
   "cell_type": "code",
   "execution_count": null,
   "id": "8a1c2a80",
   "metadata": {},
   "outputs": [],
   "source": []
  },
  {
   "cell_type": "code",
   "execution_count": null,
   "id": "1a5685d4",
   "metadata": {},
   "outputs": [],
   "source": []
  },
  {
   "cell_type": "code",
   "execution_count": null,
   "id": "edd820f3",
   "metadata": {},
   "outputs": [],
   "source": []
  },
  {
   "cell_type": "code",
   "execution_count": null,
   "id": "db6d338b",
   "metadata": {},
   "outputs": [],
   "source": []
  },
  {
   "cell_type": "code",
   "execution_count": null,
   "id": "a7e4a30c",
   "metadata": {},
   "outputs": [],
   "source": []
  },
  {
   "cell_type": "code",
   "execution_count": null,
   "id": "7fdfbf4b",
   "metadata": {},
   "outputs": [],
   "source": []
  },
  {
   "cell_type": "code",
   "execution_count": null,
   "id": "1211b235",
   "metadata": {},
   "outputs": [],
   "source": []
  },
  {
   "cell_type": "code",
   "execution_count": null,
   "id": "b6df4704",
   "metadata": {},
   "outputs": [],
   "source": []
  },
  {
   "cell_type": "code",
   "execution_count": null,
   "id": "2ce1d7d3",
   "metadata": {},
   "outputs": [],
   "source": []
  },
  {
   "cell_type": "code",
   "execution_count": null,
   "id": "aaa7258b",
   "metadata": {},
   "outputs": [],
   "source": []
  },
  {
   "cell_type": "code",
   "execution_count": null,
   "id": "3e807e20",
   "metadata": {},
   "outputs": [],
   "source": []
  },
  {
   "cell_type": "code",
   "execution_count": null,
   "id": "dd0bc92d",
   "metadata": {},
   "outputs": [],
   "source": []
  },
  {
   "cell_type": "code",
   "execution_count": null,
   "id": "95504bd4",
   "metadata": {},
   "outputs": [],
   "source": []
  },
  {
   "cell_type": "code",
   "execution_count": null,
   "id": "e905e7f8",
   "metadata": {},
   "outputs": [],
   "source": []
  },
  {
   "cell_type": "code",
   "execution_count": null,
   "id": "54d11316",
   "metadata": {},
   "outputs": [],
   "source": []
  },
  {
   "cell_type": "code",
   "execution_count": null,
   "id": "e31031d0",
   "metadata": {},
   "outputs": [],
   "source": []
  },
  {
   "cell_type": "code",
   "execution_count": null,
   "id": "c7da2e74",
   "metadata": {},
   "outputs": [],
   "source": []
  },
  {
   "cell_type": "code",
   "execution_count": null,
   "id": "8c9ed344",
   "metadata": {},
   "outputs": [],
   "source": []
  },
  {
   "cell_type": "code",
   "execution_count": null,
   "id": "c3fe26c5",
   "metadata": {},
   "outputs": [],
   "source": []
  },
  {
   "cell_type": "code",
   "execution_count": null,
   "id": "20a540fc",
   "metadata": {},
   "outputs": [],
   "source": []
  },
  {
   "cell_type": "code",
   "execution_count": null,
   "id": "79b9330b",
   "metadata": {},
   "outputs": [],
   "source": []
  },
  {
   "cell_type": "code",
   "execution_count": null,
   "id": "380a4898",
   "metadata": {},
   "outputs": [],
   "source": []
  },
  {
   "cell_type": "code",
   "execution_count": null,
   "id": "ba29929a",
   "metadata": {},
   "outputs": [],
   "source": []
  },
  {
   "cell_type": "code",
   "execution_count": null,
   "id": "d59f2a9b",
   "metadata": {},
   "outputs": [],
   "source": []
  },
  {
   "cell_type": "code",
   "execution_count": null,
   "id": "901627dc",
   "metadata": {},
   "outputs": [],
   "source": []
  },
  {
   "cell_type": "code",
   "execution_count": null,
   "id": "83d772f2",
   "metadata": {},
   "outputs": [],
   "source": []
  },
  {
   "cell_type": "code",
   "execution_count": null,
   "id": "018d0ae0",
   "metadata": {},
   "outputs": [],
   "source": []
  },
  {
   "cell_type": "code",
   "execution_count": null,
   "id": "6e60aa6b",
   "metadata": {},
   "outputs": [],
   "source": []
  },
  {
   "cell_type": "code",
   "execution_count": null,
   "id": "4efd205d",
   "metadata": {},
   "outputs": [],
   "source": []
  },
  {
   "cell_type": "code",
   "execution_count": null,
   "id": "fff94b77",
   "metadata": {},
   "outputs": [],
   "source": []
  },
  {
   "cell_type": "code",
   "execution_count": null,
   "id": "b4f644c4",
   "metadata": {},
   "outputs": [],
   "source": []
  },
  {
   "cell_type": "code",
   "execution_count": null,
   "id": "b33198d7",
   "metadata": {},
   "outputs": [],
   "source": []
  },
  {
   "cell_type": "code",
   "execution_count": null,
   "id": "9ff4c922",
   "metadata": {},
   "outputs": [],
   "source": []
  },
  {
   "cell_type": "code",
   "execution_count": null,
   "id": "9342001c",
   "metadata": {},
   "outputs": [],
   "source": []
  },
  {
   "cell_type": "code",
   "execution_count": null,
   "id": "d2052f36",
   "metadata": {},
   "outputs": [],
   "source": []
  },
  {
   "cell_type": "code",
   "execution_count": null,
   "id": "1451b621",
   "metadata": {},
   "outputs": [],
   "source": []
  },
  {
   "cell_type": "code",
   "execution_count": null,
   "id": "067198a5",
   "metadata": {},
   "outputs": [],
   "source": []
  },
  {
   "cell_type": "code",
   "execution_count": null,
   "id": "d64121e8",
   "metadata": {},
   "outputs": [],
   "source": []
  },
  {
   "cell_type": "code",
   "execution_count": null,
   "id": "3f460ec5",
   "metadata": {},
   "outputs": [],
   "source": []
  },
  {
   "cell_type": "code",
   "execution_count": null,
   "id": "8787f74a",
   "metadata": {},
   "outputs": [],
   "source": []
  },
  {
   "cell_type": "code",
   "execution_count": null,
   "id": "bcdd1005",
   "metadata": {},
   "outputs": [],
   "source": []
  }
 ],
 "metadata": {
  "kernelspec": {
   "display_name": "R",
   "language": "R",
   "name": "ir"
  },
  "language_info": {
   "codemirror_mode": "r",
   "file_extension": ".r",
   "mimetype": "text/x-r-source",
   "name": "R",
   "pygments_lexer": "r",
   "version": "4.2.2"
  }
 },
 "nbformat": 4,
 "nbformat_minor": 5
}

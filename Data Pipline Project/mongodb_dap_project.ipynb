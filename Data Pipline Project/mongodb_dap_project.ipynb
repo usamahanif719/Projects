{
 "cells": [
  {
   "cell_type": "code",
   "execution_count": 1,
   "id": "aa81b4bf",
   "metadata": {},
   "outputs": [],
   "source": [
    "from pymongo import MongoClient,InsertOne\n",
    "client = MongoClient(\"mongodb://%s:%s@127.0.0.1\" % (\"dap_project\", \"dap_project\"))"
   ]
  },
  {
   "cell_type": "code",
   "execution_count": 2,
   "id": "135d8e69",
   "metadata": {},
   "outputs": [
    {
     "name": "stdout",
     "output_type": "stream",
     "text": [
      "['admin', 'config', 'local']\n"
     ]
    }
   ],
   "source": [
    "# printing the available databases on the local host\n",
    "print(client.list_database_names())"
   ]
  },
  {
   "cell_type": "code",
   "execution_count": 3,
   "id": "f3fc427c",
   "metadata": {},
   "outputs": [],
   "source": [
    "mydb=client['dap_project_database']"
   ]
  },
  {
   "cell_type": "code",
   "execution_count": 4,
   "id": "8426a54c",
   "metadata": {},
   "outputs": [],
   "source": [
    "Drivers = mydb.Drivers_Data"
   ]
  },
  {
   "cell_type": "code",
   "execution_count": 5,
   "id": "14cb6d6f",
   "metadata": {},
   "outputs": [],
   "source": [
    "Non_Motorists = mydb.Non_Motorists_Data"
   ]
  },
  {
   "cell_type": "code",
   "execution_count": 6,
   "id": "1578df17",
   "metadata": {},
   "outputs": [],
   "source": [
    "Incidents = mydb.Incidents_Data"
   ]
  },
  {
   "cell_type": "code",
   "execution_count": 7,
   "id": "54dd8f36",
   "metadata": {},
   "outputs": [],
   "source": [
    "import json"
   ]
  },
  {
   "cell_type": "code",
   "execution_count": 8,
   "id": "84c1b2a0",
   "metadata": {},
   "outputs": [],
   "source": [
    "# For Drivers Data\n",
    "with open('Drivers Data.json') as file:\n",
    "    file_data = json.load(file)\n",
    "    \n",
    "if isinstance(file_data, list):\n",
    "    Drivers.insert_many(file_data) \n",
    "else:\n",
    "    Drivers.insert_one(file_data)"
   ]
  },
  {
   "cell_type": "code",
   "execution_count": 9,
   "id": "70c8191f",
   "metadata": {},
   "outputs": [],
   "source": [
    "# For Non Motorists Data\n",
    "with open('Non-Motorists Data.json') as file:\n",
    "    file_data = json.load(file)\n",
    "    \n",
    "if isinstance(file_data, list):\n",
    "    Non_Motorists.insert_many(file_data) \n",
    "else:\n",
    "    Non_Motorists.insert_one(file_data)"
   ]
  },
  {
   "cell_type": "code",
   "execution_count": 10,
   "id": "009c3dbd",
   "metadata": {},
   "outputs": [],
   "source": [
    "# For Incidents Data\n",
    "with open('Incidents Data.json') as file:\n",
    "    file_data = json.load(file)\n",
    "    \n",
    "if isinstance(file_data, list):\n",
    "    Incidents.insert_many(file_data) \n",
    "else:\n",
    "    Incidents.insert_one(file_data)"
   ]
  },
  {
   "cell_type": "code",
   "execution_count": 11,
   "id": "afee39e0",
   "metadata": {},
   "outputs": [
    {
     "name": "stdout",
     "output_type": "stream",
     "text": [
      "['admin', 'config', 'dap_project_database', 'local']\n"
     ]
    }
   ],
   "source": [
    "print(client.list_database_names())"
   ]
  },
  {
   "cell_type": "code",
   "execution_count": 12,
   "id": "8f6cfcdd",
   "metadata": {},
   "outputs": [
    {
     "data": {
      "text/plain": [
       "['Non_Motorists_Data', 'Incidents_Data', 'Drivers_Data']"
      ]
     },
     "execution_count": 12,
     "metadata": {},
     "output_type": "execute_result"
    }
   ],
   "source": [
    "mydb.list_collection_names()"
   ]
  },
  {
   "cell_type": "code",
   "execution_count": 13,
   "id": "f32136ee",
   "metadata": {},
   "outputs": [
    {
     "name": "stdout",
     "output_type": "stream",
     "text": [
      "{':@computed_region_a9cs_3ed7': 3,\n",
      " ':@computed_region_d7bw_bq6x': 71,\n",
      " ':@computed_region_kbsp_ykn9': 25,\n",
      " ':@computed_region_r648_kzwt': 3,\n",
      " ':@computed_region_rbt8_3x7n': 12,\n",
      " ':@computed_region_tx5f_5em3': 3,\n",
      " ':@computed_region_vu5j_pcmz': 3,\n",
      " '_id': ObjectId('639f734e86d9b5b6b9c2942d'),\n",
      " 'acrs_report_type': 'Property Damage Crash',\n",
      " 'agency_name': 'Rockville Police Departme',\n",
      " 'circumstance': 'UNKNOWN',\n",
      " 'collision_type': 'STRAIGHT MOVEMENT ANGLE',\n",
      " 'crash_date_time': '2022-12-08T10:00:00.000',\n",
      " 'cross_street_name': 'TAFT ST',\n",
      " 'cross_street_type': 'Municipality',\n",
      " 'driver_at_fault': 'Yes',\n",
      " 'driver_distracted_by': 'NOT DISTRACTED',\n",
      " 'driver_substance_abuse': 'OTHER',\n",
      " 'driverless_vehicle': 'No',\n",
      " 'drivers_license_state': 'UNKNOWN',\n",
      " 'equipment_problems': 'OTHER',\n",
      " 'geolocation': {'human_address': '{\"address\": \"\", \"city\": \"\", \"state\": \"\", '\n",
      "                                  '\"zip\": \"\"}',\n",
      "                 'latitude': 39.09424863,\n",
      "                 'longitude': -77.13245424},\n",
      " 'injury_severity': 'NO APPARENT INJURY',\n",
      " 'latitude': 39.09424863,\n",
      " 'light': 'DAYLIGHT',\n",
      " 'local_case_number': 220054225,\n",
      " 'longitude': -77.13245424,\n",
      " 'municipality': 'ROCKVILLE',\n",
      " 'non_motorist_substance_abuse': 'UNKNOWN',\n",
      " 'off_road_description': 'UNKNOWN',\n",
      " 'parked_vehicle': 'No',\n",
      " 'person_id': '07F4B3A1-23D4-4C65-971D-29673771F9DB',\n",
      " 'related_non_motorist': 'OTHER',\n",
      " 'report_number': 'DD5520001M',\n",
      " 'road_name': 'E GUDE DR',\n",
      " 'route_type': 'Municipality',\n",
      " 'speed_limit': 40,\n",
      " 'surface_condition': 'DRY',\n",
      " 'traffic_control': 'TRAFFIC SIGNAL',\n",
      " 'vehicle_body_type': 'OTHER',\n",
      " 'vehicle_continuing_dir': 'East',\n",
      " 'vehicle_damage_extent': 'FUNCTIONAL',\n",
      " 'vehicle_first_impact_location': 'TWELVE OCLOCK',\n",
      " 'vehicle_going_dir': 'East',\n",
      " 'vehicle_id': 'E634ACD9-338D-45B7-9469-18A39BFDC00C',\n",
      " 'vehicle_make': 'UNKNOWN',\n",
      " 'vehicle_model': 'UNKNOWN',\n",
      " 'vehicle_movement': 'MOVING CONSTANT SPEED',\n",
      " 'vehicle_second_impact_location': 'TWELVE OCLOCK',\n",
      " 'vehicle_year': 0,\n",
      " 'weather': 'CLEAR'}\n"
     ]
    }
   ],
   "source": [
    "import pprint\n",
    "pprint.pprint(Drivers.find_one())"
   ]
  },
  {
   "cell_type": "code",
   "execution_count": 14,
   "id": "005c16c3",
   "metadata": {},
   "outputs": [
    {
     "name": "stdout",
     "output_type": "stream",
     "text": [
      "{':@computed_region_a9cs_3ed7': 3,\n",
      " ':@computed_region_d7bw_bq6x': 71,\n",
      " ':@computed_region_kbsp_ykn9': 25,\n",
      " ':@computed_region_r648_kzwt': 3,\n",
      " ':@computed_region_rbt8_3x7n': 12,\n",
      " ':@computed_region_tx5f_5em3': 3,\n",
      " ':@computed_region_vu5j_pcmz': 3,\n",
      " '_id': ObjectId('639f734e86d9b5b6b9c29bfd'),\n",
      " 'acrs_report_type': 'Property Damage Crash',\n",
      " 'agency_name': 'Rockville Police Departme',\n",
      " 'at_fault': 'DRIVER',\n",
      " 'collision_type': 'STRAIGHT MOVEMENT ANGLE',\n",
      " 'crash_date_time': '2022-12-08T10:00:00.000',\n",
      " 'cross_street_name': 'TAFT ST',\n",
      " 'cross_street_type': 'Municipality',\n",
      " 'direction': 'East',\n",
      " 'distance': 0,\n",
      " 'distance_unit': 'FEET',\n",
      " 'driver_substance_abuse': 'NONE DETECTED, UNKNOWN',\n",
      " 'first_harmful_event': 'OTHER VEHICLE',\n",
      " 'fixed_oject_struck': 'OTHER',\n",
      " 'geolocation': {'human_address': '{\"address\": \"\", \"city\": \"\", \"state\": \"\", '\n",
      "                                  '\"zip\": \"\"}',\n",
      "                 'latitude': 39.09424863,\n",
      "                 'longitude': -77.13245424},\n",
      " 'hit_run': 'Yes',\n",
      " 'intersection_area': 'INTERSECTION',\n",
      " 'intersection_type': 'FOUR-WAY INTERSECTION',\n",
      " 'junction': 'INTERSECTION',\n",
      " 'lane_direction': 'East',\n",
      " 'lane_number': 1,\n",
      " 'lane_type': 'OTHER',\n",
      " 'latitude': 39.09424863,\n",
      " 'light': 'DAYLIGHT',\n",
      " 'local_case_number': 220054225,\n",
      " 'longitude': -77.13245424,\n",
      " 'mile_point': 3.35,\n",
      " 'mile_point_direction': 'East',\n",
      " 'municipality': 'ROCKVILLE',\n",
      " 'non_motorist_substance_abuse': 'UNKNOWN',\n",
      " 'nontraffic': 'No',\n",
      " 'number_of_lanes': 2,\n",
      " 'off_road_description': 'UNKNOWN',\n",
      " 'related_non_motorist': 'OTHER',\n",
      " 'report_number': 'DD5520001M',\n",
      " 'road_alignment': 'STRAIGHT',\n",
      " 'road_condition': 'NO DEFECTS',\n",
      " 'road_division': 'TWO-WAY, DIVIDED, POSITIVE MEDIAN BARRIER',\n",
      " 'road_grade': 'LEVEL',\n",
      " 'road_name': 'E GUDE DR',\n",
      " 'route_type': 'Municipality',\n",
      " 'second_harmful_event': 'OTHER',\n",
      " 'surface_condition': 'DRY',\n",
      " 'traffic_control': 'TRAFFIC SIGNAL',\n",
      " 'weather': 'CLEAR'}\n"
     ]
    }
   ],
   "source": [
    "pprint.pprint(Incidents.find_one())"
   ]
  },
  {
   "cell_type": "code",
   "execution_count": 15,
   "id": "ee8f5fe4",
   "metadata": {},
   "outputs": [
    {
     "name": "stdout",
     "output_type": "stream",
     "text": [
      "{':@computed_region_a9cs_3ed7': 4,\n",
      " ':@computed_region_d7bw_bq6x': 60,\n",
      " ':@computed_region_kbsp_ykn9': 19,\n",
      " ':@computed_region_r648_kzwt': 3,\n",
      " ':@computed_region_rbt8_3x7n': 1,\n",
      " ':@computed_region_tx5f_5em3': 4,\n",
      " ':@computed_region_vu5j_pcmz': 4,\n",
      " '_id': ObjectId('639f734e86d9b5b6b9c29815'),\n",
      " 'acrs_report_type': 'Injury Crash',\n",
      " 'agency_name': 'Montgomery County Police',\n",
      " 'at_fault': 'Yes',\n",
      " 'collision_type': 'STRAIGHT MOVEMENT ANGLE',\n",
      " 'crash_date_time': '2022-12-07T16:17:00.000',\n",
      " 'cross_street_name': 'UNKNOWN',\n",
      " 'cross_street_type': 'UNKNOWN',\n",
      " 'driver_substance_abuse': 'NONE DETECTED',\n",
      " 'geolocation': {'human_address': '{\"address\": \"\", \"city\": \"\", \"state\": \"\", '\n",
      "                                  '\"zip\": \"\"}',\n",
      "                 'latitude': 39.04691333,\n",
      "                 'longitude': -77.09962833},\n",
      " 'injury_severity': 'SUSPECTED MINOR INJURY',\n",
      " 'latitude': 39.04691333,\n",
      " 'light': 'DARK LIGHTS ON',\n",
      " 'local_case_number': 220054106,\n",
      " 'longitude': -77.09962833,\n",
      " 'municipality': 'UNKNOWN',\n",
      " 'non_motorist_substance_abuse': 'NONE DETECTED',\n",
      " 'off_road_description': 'PARKING LOT OF 4860 BOILING BROOK PKWY',\n",
      " 'pedestrian_actions': 'FAILURE TO YIELD RIGHT OF WAY',\n",
      " 'pedestrian_location': 'OTHER',\n",
      " 'pedestrian_movement': 'Cross/Enter at Intersection',\n",
      " 'pedestrian_obeyed_traffic_signal': 'NO PED. SIGNAL',\n",
      " 'pedestrian_type': 'MACHINE OPERATOR/RIDER',\n",
      " 'pedestrian_visibility': 'MIXED CLOTHING',\n",
      " 'person_id': '4A718F1A-AEEF-4F66-BDFB-3C997E5EE01B',\n",
      " 'related_non_motorist': 'MACHINE OPERATOR/RIDER',\n",
      " 'report_number': 'MCP2871008D',\n",
      " 'road_name': 'UNKNOWN',\n",
      " 'route_type': 'OTHER',\n",
      " 'safety_equipment': 'NONE',\n",
      " 'surface_condition': 'UNKNOWN',\n",
      " 'traffic_control': 'NO CONTROLS',\n",
      " 'weather': 'CLEAR'}\n"
     ]
    }
   ],
   "source": [
    "pprint.pprint(Non_Motorists.find_one())"
   ]
  },
  {
   "cell_type": "code",
   "execution_count": null,
   "id": "5bceb1a5",
   "metadata": {},
   "outputs": [],
   "source": []
  },
  {
   "cell_type": "code",
   "execution_count": null,
   "id": "7d14c6bb",
   "metadata": {},
   "outputs": [],
   "source": []
  },
  {
   "cell_type": "code",
   "execution_count": null,
   "id": "d522648b",
   "metadata": {},
   "outputs": [],
   "source": []
  },
  {
   "cell_type": "code",
   "execution_count": null,
   "id": "9c7241da",
   "metadata": {},
   "outputs": [],
   "source": []
  },
  {
   "cell_type": "code",
   "execution_count": null,
   "id": "48fa2c65",
   "metadata": {},
   "outputs": [],
   "source": []
  },
  {
   "cell_type": "code",
   "execution_count": null,
   "id": "cbe66fee",
   "metadata": {},
   "outputs": [],
   "source": []
  },
  {
   "cell_type": "code",
   "execution_count": null,
   "id": "cce33e4e",
   "metadata": {},
   "outputs": [],
   "source": []
  },
  {
   "cell_type": "code",
   "execution_count": null,
   "id": "20bdc5d9",
   "metadata": {},
   "outputs": [],
   "source": []
  },
  {
   "cell_type": "code",
   "execution_count": null,
   "id": "bd4f262d",
   "metadata": {},
   "outputs": [],
   "source": []
  },
  {
   "cell_type": "code",
   "execution_count": null,
   "id": "798418bb",
   "metadata": {},
   "outputs": [],
   "source": []
  }
 ],
 "metadata": {
  "kernelspec": {
   "display_name": "Python 3 (ipykernel)",
   "language": "python",
   "name": "python3"
  },
  "language_info": {
   "codemirror_mode": {
    "name": "ipython",
    "version": 3
   },
   "file_extension": ".py",
   "mimetype": "text/x-python",
   "name": "python",
   "nbconvert_exporter": "python",
   "pygments_lexer": "ipython3",
   "version": "3.9.12"
  }
 },
 "nbformat": 4,
 "nbformat_minor": 5
}

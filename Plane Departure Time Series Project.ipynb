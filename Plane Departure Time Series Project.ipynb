{
 "cells": [
  {
   "cell_type": "code",
   "execution_count": 153,
   "id": "bf0637c3",
   "metadata": {},
   "outputs": [
    {
     "name": "stderr",
     "output_type": "stream",
     "text": [
      "Installing package into 'C:/Users/usama/AppData/Local/R/win-library/4.2'\n",
      "(as 'lib' is unspecified)\n",
      "\n"
     ]
    },
    {
     "name": "stdout",
     "output_type": "stream",
     "text": [
      "package 'aTSA' successfully unpacked and MD5 sums checked\n",
      "\n",
      "The downloaded binary packages are in\n",
      "\tC:\\Users\\usama\\AppData\\Local\\Temp\\Rtmp0owDDe\\downloaded_packages\n"
     ]
    },
    {
     "name": "stderr",
     "output_type": "stream",
     "text": [
      "\n",
      "Attaching package: 'aTSA'\n",
      "\n",
      "\n",
      "The following objects are masked from 'package:tseries':\n",
      "\n",
      "    adf.test, kpss.test, pp.test\n",
      "\n",
      "\n",
      "The following object is masked from 'package:forecast':\n",
      "\n",
      "    forecast\n",
      "\n",
      "\n",
      "The following object is masked from 'package:graphics':\n",
      "\n",
      "    identify\n",
      "\n",
      "\n"
     ]
    }
   ],
   "source": [
    "library(dplyr)\n",
    "library(ggplot2)\n",
    "library(fpp2)\n",
    "library(forecast)\n",
    "library(tseries)\n",
    "library(aTSA)"
   ]
  },
  {
   "cell_type": "code",
   "execution_count": 64,
   "id": "30cd307f",
   "metadata": {},
   "outputs": [],
   "source": [
    "data <- read.csv('Departure.csv')"
   ]
  },
  {
   "cell_type": "code",
   "execution_count": 65,
   "id": "b70f5b05",
   "metadata": {},
   "outputs": [
    {
     "data": {
      "text/html": [
       "<table class=\"dataframe\">\n",
       "<caption>A data.frame: 6 × 2</caption>\n",
       "<thead>\n",
       "\t<tr><th></th><th scope=col>Month</th><th scope=col>departures..000</th></tr>\n",
       "\t<tr><th></th><th scope=col>&lt;chr&gt;</th><th scope=col>&lt;dbl&gt;</th></tr>\n",
       "</thead>\n",
       "<tbody>\n",
       "\t<tr><th scope=row>1</th><td>2010 January </td><td> 732.4</td></tr>\n",
       "\t<tr><th scope=row>2</th><td>2010 February</td><td> 757.2</td></tr>\n",
       "\t<tr><th scope=row>3</th><td>2010 March   </td><td> 919.6</td></tr>\n",
       "\t<tr><th scope=row>4</th><td>2010 April   </td><td> 709.5</td></tr>\n",
       "\t<tr><th scope=row>5</th><td>2010 May     </td><td> 977.9</td></tr>\n",
       "\t<tr><th scope=row>6</th><td>2010 June    </td><td>1183.1</td></tr>\n",
       "</tbody>\n",
       "</table>\n"
      ],
      "text/latex": [
       "A data.frame: 6 × 2\n",
       "\\begin{tabular}{r|ll}\n",
       "  & Month & departures..000\\\\\n",
       "  & <chr> & <dbl>\\\\\n",
       "\\hline\n",
       "\t1 & 2010 January  &  732.4\\\\\n",
       "\t2 & 2010 February &  757.2\\\\\n",
       "\t3 & 2010 March    &  919.6\\\\\n",
       "\t4 & 2010 April    &  709.5\\\\\n",
       "\t5 & 2010 May      &  977.9\\\\\n",
       "\t6 & 2010 June     & 1183.1\\\\\n",
       "\\end{tabular}\n"
      ],
      "text/markdown": [
       "\n",
       "A data.frame: 6 × 2\n",
       "\n",
       "| <!--/--> | Month &lt;chr&gt; | departures..000 &lt;dbl&gt; |\n",
       "|---|---|---|\n",
       "| 1 | 2010 January  |  732.4 |\n",
       "| 2 | 2010 February |  757.2 |\n",
       "| 3 | 2010 March    |  919.6 |\n",
       "| 4 | 2010 April    |  709.5 |\n",
       "| 5 | 2010 May      |  977.9 |\n",
       "| 6 | 2010 June     | 1183.1 |\n",
       "\n"
      ],
      "text/plain": [
       "  Month         departures..000\n",
       "1 2010 January   732.4         \n",
       "2 2010 February  757.2         \n",
       "3 2010 March     919.6         \n",
       "4 2010 April     709.5         \n",
       "5 2010 May       977.9         \n",
       "6 2010 June     1183.1         "
      ]
     },
     "metadata": {},
     "output_type": "display_data"
    }
   ],
   "source": [
    "head(data)"
   ]
  },
  {
   "cell_type": "code",
   "execution_count": 66,
   "id": "424918a2",
   "metadata": {},
   "outputs": [
    {
     "data": {
      "text/html": [
       "<style>\n",
       ".list-inline {list-style: none; margin:0; padding: 0}\n",
       ".list-inline>li {display: inline-block}\n",
       ".list-inline>li:not(:last-child)::after {content: \"\\00b7\"; padding: 0 .5ex}\n",
       "</style>\n",
       "<ol class=list-inline><li>153</li><li>2</li></ol>\n"
      ],
      "text/latex": [
       "\\begin{enumerate*}\n",
       "\\item 153\n",
       "\\item 2\n",
       "\\end{enumerate*}\n"
      ],
      "text/markdown": [
       "1. 153\n",
       "2. 2\n",
       "\n",
       "\n"
      ],
      "text/plain": [
       "[1] 153   2"
      ]
     },
     "metadata": {},
     "output_type": "display_data"
    }
   ],
   "source": [
    "dim(data)"
   ]
  },
  {
   "cell_type": "code",
   "execution_count": 67,
   "id": "d0755a1c",
   "metadata": {},
   "outputs": [],
   "source": [
    "data <- data %>% rename('departures' = 'departures..000') "
   ]
  },
  {
   "cell_type": "code",
   "execution_count": 68,
   "id": "737e7830",
   "metadata": {},
   "outputs": [],
   "source": [
    "times <- ts(data$departures, start=c(2010,1), end=c(2022,9), frequency= 12)"
   ]
  },
  {
   "cell_type": "code",
   "execution_count": 69,
   "id": "0a731680",
   "metadata": {},
   "outputs": [
    {
     "data": {
      "text/html": [
       "<table class=\"dataframe\">\n",
       "<caption>A Time Series: 13 × 12</caption>\n",
       "<thead>\n",
       "\t<tr><th></th><th scope=col>Jan</th><th scope=col>Feb</th><th scope=col>Mar</th><th scope=col>Apr</th><th scope=col>May</th><th scope=col>Jun</th><th scope=col>Jul</th><th scope=col>Aug</th><th scope=col>Sep</th><th scope=col>Oct</th><th scope=col>Nov</th><th scope=col>Dec</th></tr>\n",
       "</thead>\n",
       "<tbody>\n",
       "\t<tr><th scope=row>2010</th><td> 732.4</td><td> 757.2</td><td> 919.6</td><td> 709.5</td><td> 977.9</td><td>1183.1</td><td>1269.5</td><td>1250.5</td><td>1078.7</td><td>1045.8</td><td> 800.7</td><td> 700.5</td></tr>\n",
       "\t<tr><th scope=row>2011</th><td> 729.6</td><td> 724.0</td><td> 869.6</td><td> 987.9</td><td>1084.2</td><td>1198.5</td><td>1288.0</td><td>1247.8</td><td>1070.3</td><td> 978.7</td><td> 774.3</td><td> 754.3</td></tr>\n",
       "\t<tr><th scope=row>2012</th><td> 700.5</td><td> 706.9</td><td> 874.8</td><td> 972.6</td><td>1089.6</td><td>1222.3</td><td>1278.8</td><td>1244.2</td><td>1122.1</td><td>1041.3</td><td> 804.1</td><td> 782.4</td></tr>\n",
       "\t<tr><th scope=row>2013</th><td> 709.5</td><td> 698.7</td><td> 937.3</td><td> 972.3</td><td>1160.2</td><td>1292.1</td><td>1336.7</td><td>1314.3</td><td>1144.2</td><td>1079.9</td><td> 836.5</td><td> 832.7</td></tr>\n",
       "\t<tr><th scope=row>2014</th><td> 764.7</td><td> 742.8</td><td> 892.5</td><td>1112.7</td><td>1223.8</td><td>1361.8</td><td>1418.4</td><td>1403.9</td><td>1231.2</td><td>1179.9</td><td> 925.4</td><td> 912.3</td></tr>\n",
       "\t<tr><th scope=row>2015</th><td> 861.5</td><td> 850.3</td><td>1063.4</td><td>1178.5</td><td>1359.9</td><td>1541.7</td><td>1600.0</td><td>1552.5</td><td>1368.8</td><td>1339.8</td><td>1055.4</td><td>1018.6</td></tr>\n",
       "\t<tr><th scope=row>2016</th><td> 981.7</td><td> 989.0</td><td>1236.5</td><td>1282.8</td><td>1475.7</td><td>1684.6</td><td>1738.7</td><td>1688.9</td><td>1498.6</td><td>1462.3</td><td>1134.9</td><td>1145.3</td></tr>\n",
       "\t<tr><th scope=row>2017</th><td>1057.1</td><td>1020.2</td><td>1227.7</td><td>1438.7</td><td>1530.6</td><td>1761.5</td><td>1828.6</td><td>1778.1</td><td>1583.6</td><td>1505.9</td><td>1203.5</td><td>1204.3</td></tr>\n",
       "\t<tr><th scope=row>2018</th><td>1115.6</td><td>1047.3</td><td>1294.6</td><td>1473.8</td><td>1687.4</td><td>1879.0</td><td>1932.0</td><td>1865.2</td><td>1691.0</td><td>1624.9</td><td>1284.0</td><td>1285.7</td></tr>\n",
       "\t<tr><th scope=row>2019</th><td>1169.3</td><td>1139.1</td><td>1375.4</td><td>1622.6</td><td>1744.0</td><td>1933.4</td><td>2006.9</td><td>1967.5</td><td>1757.4</td><td>1660.1</td><td>1279.1</td><td>1320.2</td></tr>\n",
       "\t<tr><th scope=row>2020</th><td>1183.5</td><td>1161.9</td><td> 575.6</td><td>  12.8</td><td>  24.7</td><td>  53.1</td><td> 239.0</td><td> 275.5</td><td> 203.5</td><td> 143.7</td><td>  85.1</td><td> 156.1</td></tr>\n",
       "\t<tr><th scope=row>2021</th><td> 104.1</td><td>  46.7</td><td>  57.5</td><td>  61.5</td><td>  82.4</td><td> 174.7</td><td> 384.0</td><td> 673.0</td><td> 716.6</td><td> 821.2</td><td> 749.7</td><td> 687.9</td></tr>\n",
       "\t<tr><th scope=row>2022</th><td> 528.4</td><td> 751.9</td><td>1014.7</td><td>1395.1</td><td>1499.1</td><td>1704.0</td><td>1788.2</td><td>1749.6</td><td>1592.2</td><td>      </td><td>      </td><td>      </td></tr>\n",
       "</tbody>\n",
       "</table>\n"
      ],
      "text/latex": [
       "A Time Series: 13 × 12\n",
       "\\begin{tabular}{r|llllllllllll}\n",
       "  & Jan & Feb & Mar & Apr & May & Jun & Jul & Aug & Sep & Oct & Nov & Dec\\\\\n",
       "\\hline\n",
       "\t2010 &  732.4 &  757.2 &  919.6 &  709.5 &  977.9 & 1183.1 & 1269.5 & 1250.5 & 1078.7 & 1045.8 &  800.7 &  700.5\\\\\n",
       "\t2011 &  729.6 &  724.0 &  869.6 &  987.9 & 1084.2 & 1198.5 & 1288.0 & 1247.8 & 1070.3 &  978.7 &  774.3 &  754.3\\\\\n",
       "\t2012 &  700.5 &  706.9 &  874.8 &  972.6 & 1089.6 & 1222.3 & 1278.8 & 1244.2 & 1122.1 & 1041.3 &  804.1 &  782.4\\\\\n",
       "\t2013 &  709.5 &  698.7 &  937.3 &  972.3 & 1160.2 & 1292.1 & 1336.7 & 1314.3 & 1144.2 & 1079.9 &  836.5 &  832.7\\\\\n",
       "\t2014 &  764.7 &  742.8 &  892.5 & 1112.7 & 1223.8 & 1361.8 & 1418.4 & 1403.9 & 1231.2 & 1179.9 &  925.4 &  912.3\\\\\n",
       "\t2015 &  861.5 &  850.3 & 1063.4 & 1178.5 & 1359.9 & 1541.7 & 1600.0 & 1552.5 & 1368.8 & 1339.8 & 1055.4 & 1018.6\\\\\n",
       "\t2016 &  981.7 &  989.0 & 1236.5 & 1282.8 & 1475.7 & 1684.6 & 1738.7 & 1688.9 & 1498.6 & 1462.3 & 1134.9 & 1145.3\\\\\n",
       "\t2017 & 1057.1 & 1020.2 & 1227.7 & 1438.7 & 1530.6 & 1761.5 & 1828.6 & 1778.1 & 1583.6 & 1505.9 & 1203.5 & 1204.3\\\\\n",
       "\t2018 & 1115.6 & 1047.3 & 1294.6 & 1473.8 & 1687.4 & 1879.0 & 1932.0 & 1865.2 & 1691.0 & 1624.9 & 1284.0 & 1285.7\\\\\n",
       "\t2019 & 1169.3 & 1139.1 & 1375.4 & 1622.6 & 1744.0 & 1933.4 & 2006.9 & 1967.5 & 1757.4 & 1660.1 & 1279.1 & 1320.2\\\\\n",
       "\t2020 & 1183.5 & 1161.9 &  575.6 &   12.8 &   24.7 &   53.1 &  239.0 &  275.5 &  203.5 &  143.7 &   85.1 &  156.1\\\\\n",
       "\t2021 &  104.1 &   46.7 &   57.5 &   61.5 &   82.4 &  174.7 &  384.0 &  673.0 &  716.6 &  821.2 &  749.7 &  687.9\\\\\n",
       "\t2022 &  528.4 &  751.9 & 1014.7 & 1395.1 & 1499.1 & 1704.0 & 1788.2 & 1749.6 & 1592.2 &        &        &       \\\\\n",
       "\\end{tabular}\n"
      ],
      "text/markdown": [
       "\n",
       "A Time Series: 13 × 12\n",
       "\n",
       "| <!--/--> | Jan | Feb | Mar | Apr | May | Jun | Jul | Aug | Sep | Oct | Nov | Dec |\n",
       "|---|---|---|---|---|---|---|---|---|---|---|---|---|\n",
       "| 2010 |  732.4 |  757.2 |  919.6 |  709.5 |  977.9 | 1183.1 | 1269.5 | 1250.5 | 1078.7 | 1045.8 |  800.7 |  700.5 |\n",
       "| 2011 |  729.6 |  724.0 |  869.6 |  987.9 | 1084.2 | 1198.5 | 1288.0 | 1247.8 | 1070.3 |  978.7 |  774.3 |  754.3 |\n",
       "| 2012 |  700.5 |  706.9 |  874.8 |  972.6 | 1089.6 | 1222.3 | 1278.8 | 1244.2 | 1122.1 | 1041.3 |  804.1 |  782.4 |\n",
       "| 2013 |  709.5 |  698.7 |  937.3 |  972.3 | 1160.2 | 1292.1 | 1336.7 | 1314.3 | 1144.2 | 1079.9 |  836.5 |  832.7 |\n",
       "| 2014 |  764.7 |  742.8 |  892.5 | 1112.7 | 1223.8 | 1361.8 | 1418.4 | 1403.9 | 1231.2 | 1179.9 |  925.4 |  912.3 |\n",
       "| 2015 |  861.5 |  850.3 | 1063.4 | 1178.5 | 1359.9 | 1541.7 | 1600.0 | 1552.5 | 1368.8 | 1339.8 | 1055.4 | 1018.6 |\n",
       "| 2016 |  981.7 |  989.0 | 1236.5 | 1282.8 | 1475.7 | 1684.6 | 1738.7 | 1688.9 | 1498.6 | 1462.3 | 1134.9 | 1145.3 |\n",
       "| 2017 | 1057.1 | 1020.2 | 1227.7 | 1438.7 | 1530.6 | 1761.5 | 1828.6 | 1778.1 | 1583.6 | 1505.9 | 1203.5 | 1204.3 |\n",
       "| 2018 | 1115.6 | 1047.3 | 1294.6 | 1473.8 | 1687.4 | 1879.0 | 1932.0 | 1865.2 | 1691.0 | 1624.9 | 1284.0 | 1285.7 |\n",
       "| 2019 | 1169.3 | 1139.1 | 1375.4 | 1622.6 | 1744.0 | 1933.4 | 2006.9 | 1967.5 | 1757.4 | 1660.1 | 1279.1 | 1320.2 |\n",
       "| 2020 | 1183.5 | 1161.9 |  575.6 |   12.8 |   24.7 |   53.1 |  239.0 |  275.5 |  203.5 |  143.7 |   85.1 |  156.1 |\n",
       "| 2021 |  104.1 |   46.7 |   57.5 |   61.5 |   82.4 |  174.7 |  384.0 |  673.0 |  716.6 |  821.2 |  749.7 |  687.9 |\n",
       "| 2022 |  528.4 |  751.9 | 1014.7 | 1395.1 | 1499.1 | 1704.0 | 1788.2 | 1749.6 | 1592.2 | <!----> | <!----> | <!----> |\n",
       "\n"
      ],
      "text/plain": [
       "     Jan    Feb    Mar    Apr    May    Jun    Jul    Aug    Sep    Oct   \n",
       "2010  732.4  757.2  919.6  709.5  977.9 1183.1 1269.5 1250.5 1078.7 1045.8\n",
       "2011  729.6  724.0  869.6  987.9 1084.2 1198.5 1288.0 1247.8 1070.3  978.7\n",
       "2012  700.5  706.9  874.8  972.6 1089.6 1222.3 1278.8 1244.2 1122.1 1041.3\n",
       "2013  709.5  698.7  937.3  972.3 1160.2 1292.1 1336.7 1314.3 1144.2 1079.9\n",
       "2014  764.7  742.8  892.5 1112.7 1223.8 1361.8 1418.4 1403.9 1231.2 1179.9\n",
       "2015  861.5  850.3 1063.4 1178.5 1359.9 1541.7 1600.0 1552.5 1368.8 1339.8\n",
       "2016  981.7  989.0 1236.5 1282.8 1475.7 1684.6 1738.7 1688.9 1498.6 1462.3\n",
       "2017 1057.1 1020.2 1227.7 1438.7 1530.6 1761.5 1828.6 1778.1 1583.6 1505.9\n",
       "2018 1115.6 1047.3 1294.6 1473.8 1687.4 1879.0 1932.0 1865.2 1691.0 1624.9\n",
       "2019 1169.3 1139.1 1375.4 1622.6 1744.0 1933.4 2006.9 1967.5 1757.4 1660.1\n",
       "2020 1183.5 1161.9  575.6   12.8   24.7   53.1  239.0  275.5  203.5  143.7\n",
       "2021  104.1   46.7   57.5   61.5   82.4  174.7  384.0  673.0  716.6  821.2\n",
       "2022  528.4  751.9 1014.7 1395.1 1499.1 1704.0 1788.2 1749.6 1592.2       \n",
       "     Nov    Dec   \n",
       "2010  800.7  700.5\n",
       "2011  774.3  754.3\n",
       "2012  804.1  782.4\n",
       "2013  836.5  832.7\n",
       "2014  925.4  912.3\n",
       "2015 1055.4 1018.6\n",
       "2016 1134.9 1145.3\n",
       "2017 1203.5 1204.3\n",
       "2018 1284.0 1285.7\n",
       "2019 1279.1 1320.2\n",
       "2020   85.1  156.1\n",
       "2021  749.7  687.9\n",
       "2022              "
      ]
     },
     "metadata": {},
     "output_type": "display_data"
    }
   ],
   "source": [
    "times"
   ]
  },
  {
   "cell_type": "code",
   "execution_count": 70,
   "id": "bd8cf8c8",
   "metadata": {},
   "outputs": [
    {
     "data": {
      "text/html": [
       "'ts'"
      ],
      "text/latex": [
       "'ts'"
      ],
      "text/markdown": [
       "'ts'"
      ],
      "text/plain": [
       "[1] \"ts\""
      ]
     },
     "metadata": {},
     "output_type": "display_data"
    }
   ],
   "source": [
    "class(times)"
   ]
  },
  {
   "cell_type": "code",
   "execution_count": 71,
   "id": "927fe5ab",
   "metadata": {},
   "outputs": [
    {
     "data": {
      "text/html": [
       "'double'"
      ],
      "text/latex": [
       "'double'"
      ],
      "text/markdown": [
       "'double'"
      ],
      "text/plain": [
       "[1] \"double\""
      ]
     },
     "metadata": {},
     "output_type": "display_data"
    }
   ],
   "source": [
    "typeof(times)"
   ]
  },
  {
   "cell_type": "code",
   "execution_count": 72,
   "id": "5008a911",
   "metadata": {},
   "outputs": [
    {
     "data": {
      "text/html": [
       "<style>\n",
       ".list-inline {list-style: none; margin:0; padding: 0}\n",
       ".list-inline>li {display: inline-block}\n",
       ".list-inline>li:not(:last-child)::after {content: \"\\00b7\"; padding: 0 .5ex}\n",
       "</style>\n",
       "<ol class=list-inline><li>2010</li><li>1</li></ol>\n"
      ],
      "text/latex": [
       "\\begin{enumerate*}\n",
       "\\item 2010\n",
       "\\item 1\n",
       "\\end{enumerate*}\n"
      ],
      "text/markdown": [
       "1. 2010\n",
       "2. 1\n",
       "\n",
       "\n"
      ],
      "text/plain": [
       "[1] 2010    1"
      ]
     },
     "metadata": {},
     "output_type": "display_data"
    }
   ],
   "source": [
    "start(times)"
   ]
  },
  {
   "cell_type": "code",
   "execution_count": 73,
   "id": "1b33259d",
   "metadata": {},
   "outputs": [
    {
     "data": {
      "text/html": [
       "<style>\n",
       ".list-inline {list-style: none; margin:0; padding: 0}\n",
       ".list-inline>li {display: inline-block}\n",
       ".list-inline>li:not(:last-child)::after {content: \"\\00b7\"; padding: 0 .5ex}\n",
       "</style>\n",
       "<ol class=list-inline><li>2022</li><li>9</li></ol>\n"
      ],
      "text/latex": [
       "\\begin{enumerate*}\n",
       "\\item 2022\n",
       "\\item 9\n",
       "\\end{enumerate*}\n"
      ],
      "text/markdown": [
       "1. 2022\n",
       "2. 9\n",
       "\n",
       "\n"
      ],
      "text/plain": [
       "[1] 2022    9"
      ]
     },
     "metadata": {},
     "output_type": "display_data"
    }
   ],
   "source": [
    "end(times)"
   ]
  },
  {
   "cell_type": "code",
   "execution_count": 74,
   "id": "e0b58b3d",
   "metadata": {},
   "outputs": [
    {
     "data": {
      "text/html": [
       "12"
      ],
      "text/latex": [
       "12"
      ],
      "text/markdown": [
       "12"
      ],
      "text/plain": [
       "[1] 12"
      ]
     },
     "metadata": {},
     "output_type": "display_data"
    }
   ],
   "source": [
    "frequency(times)"
   ]
  },
  {
   "cell_type": "code",
   "execution_count": 75,
   "id": "59a23260",
   "metadata": {},
   "outputs": [
    {
     "data": {
      "text/html": [
       "<table class=\"dataframe\">\n",
       "<caption>A Time Series: 13 × 12</caption>\n",
       "<thead>\n",
       "\t<tr><th></th><th scope=col>Jan</th><th scope=col>Feb</th><th scope=col>Mar</th><th scope=col>Apr</th><th scope=col>May</th><th scope=col>Jun</th><th scope=col>Jul</th><th scope=col>Aug</th><th scope=col>Sep</th><th scope=col>Oct</th><th scope=col>Nov</th><th scope=col>Dec</th></tr>\n",
       "</thead>\n",
       "<tbody>\n",
       "\t<tr><th scope=row>2010</th><td> 1</td><td> 2</td><td> 3</td><td> 4</td><td> 5</td><td> 6</td><td> 7</td><td> 8</td><td> 9</td><td>10</td><td>11</td><td>12</td></tr>\n",
       "\t<tr><th scope=row>2011</th><td> 1</td><td> 2</td><td> 3</td><td> 4</td><td> 5</td><td> 6</td><td> 7</td><td> 8</td><td> 9</td><td>10</td><td>11</td><td>12</td></tr>\n",
       "\t<tr><th scope=row>2012</th><td> 1</td><td> 2</td><td> 3</td><td> 4</td><td> 5</td><td> 6</td><td> 7</td><td> 8</td><td> 9</td><td>10</td><td>11</td><td>12</td></tr>\n",
       "\t<tr><th scope=row>2013</th><td> 1</td><td> 2</td><td> 3</td><td> 4</td><td> 5</td><td> 6</td><td> 7</td><td> 8</td><td> 9</td><td>10</td><td>11</td><td>12</td></tr>\n",
       "\t<tr><th scope=row>2014</th><td> 1</td><td> 2</td><td> 3</td><td> 4</td><td> 5</td><td> 6</td><td> 7</td><td> 8</td><td> 9</td><td>10</td><td>11</td><td>12</td></tr>\n",
       "\t<tr><th scope=row>2015</th><td> 1</td><td> 2</td><td> 3</td><td> 4</td><td> 5</td><td> 6</td><td> 7</td><td> 8</td><td> 9</td><td>10</td><td>11</td><td>12</td></tr>\n",
       "\t<tr><th scope=row>2016</th><td> 1</td><td> 2</td><td> 3</td><td> 4</td><td> 5</td><td> 6</td><td> 7</td><td> 8</td><td> 9</td><td>10</td><td>11</td><td>12</td></tr>\n",
       "\t<tr><th scope=row>2017</th><td> 1</td><td> 2</td><td> 3</td><td> 4</td><td> 5</td><td> 6</td><td> 7</td><td> 8</td><td> 9</td><td>10</td><td>11</td><td>12</td></tr>\n",
       "\t<tr><th scope=row>2018</th><td> 1</td><td> 2</td><td> 3</td><td> 4</td><td> 5</td><td> 6</td><td> 7</td><td> 8</td><td> 9</td><td>10</td><td>11</td><td>12</td></tr>\n",
       "\t<tr><th scope=row>2019</th><td> 1</td><td> 2</td><td> 3</td><td> 4</td><td> 5</td><td> 6</td><td> 7</td><td> 8</td><td> 9</td><td>10</td><td>11</td><td>12</td></tr>\n",
       "\t<tr><th scope=row>2020</th><td> 1</td><td> 2</td><td> 3</td><td> 4</td><td> 5</td><td> 6</td><td> 7</td><td> 8</td><td> 9</td><td>10</td><td>11</td><td>12</td></tr>\n",
       "\t<tr><th scope=row>2021</th><td> 1</td><td> 2</td><td> 3</td><td> 4</td><td> 5</td><td> 6</td><td> 7</td><td> 8</td><td> 9</td><td>10</td><td>11</td><td>12</td></tr>\n",
       "\t<tr><th scope=row>2022</th><td> 1</td><td> 2</td><td> 3</td><td> 4</td><td> 5</td><td> 6</td><td> 7</td><td> 8</td><td> 9</td><td>  </td><td>  </td><td>  </td></tr>\n",
       "</tbody>\n",
       "</table>\n"
      ],
      "text/latex": [
       "A Time Series: 13 × 12\n",
       "\\begin{tabular}{r|llllllllllll}\n",
       "  & Jan & Feb & Mar & Apr & May & Jun & Jul & Aug & Sep & Oct & Nov & Dec\\\\\n",
       "\\hline\n",
       "\t2010 &  1 &  2 &  3 &  4 &  5 &  6 &  7 &  8 &  9 & 10 & 11 & 12\\\\\n",
       "\t2011 &  1 &  2 &  3 &  4 &  5 &  6 &  7 &  8 &  9 & 10 & 11 & 12\\\\\n",
       "\t2012 &  1 &  2 &  3 &  4 &  5 &  6 &  7 &  8 &  9 & 10 & 11 & 12\\\\\n",
       "\t2013 &  1 &  2 &  3 &  4 &  5 &  6 &  7 &  8 &  9 & 10 & 11 & 12\\\\\n",
       "\t2014 &  1 &  2 &  3 &  4 &  5 &  6 &  7 &  8 &  9 & 10 & 11 & 12\\\\\n",
       "\t2015 &  1 &  2 &  3 &  4 &  5 &  6 &  7 &  8 &  9 & 10 & 11 & 12\\\\\n",
       "\t2016 &  1 &  2 &  3 &  4 &  5 &  6 &  7 &  8 &  9 & 10 & 11 & 12\\\\\n",
       "\t2017 &  1 &  2 &  3 &  4 &  5 &  6 &  7 &  8 &  9 & 10 & 11 & 12\\\\\n",
       "\t2018 &  1 &  2 &  3 &  4 &  5 &  6 &  7 &  8 &  9 & 10 & 11 & 12\\\\\n",
       "\t2019 &  1 &  2 &  3 &  4 &  5 &  6 &  7 &  8 &  9 & 10 & 11 & 12\\\\\n",
       "\t2020 &  1 &  2 &  3 &  4 &  5 &  6 &  7 &  8 &  9 & 10 & 11 & 12\\\\\n",
       "\t2021 &  1 &  2 &  3 &  4 &  5 &  6 &  7 &  8 &  9 & 10 & 11 & 12\\\\\n",
       "\t2022 &  1 &  2 &  3 &  4 &  5 &  6 &  7 &  8 &  9 &    &    &   \\\\\n",
       "\\end{tabular}\n"
      ],
      "text/markdown": [
       "\n",
       "A Time Series: 13 × 12\n",
       "\n",
       "| <!--/--> | Jan | Feb | Mar | Apr | May | Jun | Jul | Aug | Sep | Oct | Nov | Dec |\n",
       "|---|---|---|---|---|---|---|---|---|---|---|---|---|\n",
       "| 2010 |  1 |  2 |  3 |  4 |  5 |  6 |  7 |  8 |  9 | 10 | 11 | 12 |\n",
       "| 2011 |  1 |  2 |  3 |  4 |  5 |  6 |  7 |  8 |  9 | 10 | 11 | 12 |\n",
       "| 2012 |  1 |  2 |  3 |  4 |  5 |  6 |  7 |  8 |  9 | 10 | 11 | 12 |\n",
       "| 2013 |  1 |  2 |  3 |  4 |  5 |  6 |  7 |  8 |  9 | 10 | 11 | 12 |\n",
       "| 2014 |  1 |  2 |  3 |  4 |  5 |  6 |  7 |  8 |  9 | 10 | 11 | 12 |\n",
       "| 2015 |  1 |  2 |  3 |  4 |  5 |  6 |  7 |  8 |  9 | 10 | 11 | 12 |\n",
       "| 2016 |  1 |  2 |  3 |  4 |  5 |  6 |  7 |  8 |  9 | 10 | 11 | 12 |\n",
       "| 2017 |  1 |  2 |  3 |  4 |  5 |  6 |  7 |  8 |  9 | 10 | 11 | 12 |\n",
       "| 2018 |  1 |  2 |  3 |  4 |  5 |  6 |  7 |  8 |  9 | 10 | 11 | 12 |\n",
       "| 2019 |  1 |  2 |  3 |  4 |  5 |  6 |  7 |  8 |  9 | 10 | 11 | 12 |\n",
       "| 2020 |  1 |  2 |  3 |  4 |  5 |  6 |  7 |  8 |  9 | 10 | 11 | 12 |\n",
       "| 2021 |  1 |  2 |  3 |  4 |  5 |  6 |  7 |  8 |  9 | 10 | 11 | 12 |\n",
       "| 2022 |  1 |  2 |  3 |  4 |  5 |  6 |  7 |  8 |  9 | <!----> | <!----> | <!----> |\n",
       "\n"
      ],
      "text/plain": [
       "     Jan Feb Mar Apr May Jun Jul Aug Sep Oct Nov Dec\n",
       "2010  1   2   3   4   5   6   7   8   9  10  11  12 \n",
       "2011  1   2   3   4   5   6   7   8   9  10  11  12 \n",
       "2012  1   2   3   4   5   6   7   8   9  10  11  12 \n",
       "2013  1   2   3   4   5   6   7   8   9  10  11  12 \n",
       "2014  1   2   3   4   5   6   7   8   9  10  11  12 \n",
       "2015  1   2   3   4   5   6   7   8   9  10  11  12 \n",
       "2016  1   2   3   4   5   6   7   8   9  10  11  12 \n",
       "2017  1   2   3   4   5   6   7   8   9  10  11  12 \n",
       "2018  1   2   3   4   5   6   7   8   9  10  11  12 \n",
       "2019  1   2   3   4   5   6   7   8   9  10  11  12 \n",
       "2020  1   2   3   4   5   6   7   8   9  10  11  12 \n",
       "2021  1   2   3   4   5   6   7   8   9  10  11  12 \n",
       "2022  1   2   3   4   5   6   7   8   9             "
      ]
     },
     "metadata": {},
     "output_type": "display_data"
    }
   ],
   "source": [
    "cycle(times)"
   ]
  },
  {
   "cell_type": "code",
   "execution_count": 76,
   "id": "1e46145d",
   "metadata": {},
   "outputs": [
    {
     "data": {
      "image/png": "[encoded data removed]",
      "text/plain": [
       "plot without title"
      ]
     },
     "metadata": {
      "image/png": {
       "height": 420,
       "width": 420
      }
     },
     "output_type": "display_data"
    }
   ],
   "source": [
    "plot(times, pch=16, type='b', col='red')\n",
    "grid(, col='lightblue', nx=30) #seasonality exists"
   ]
  },
  {
   "cell_type": "code",
   "execution_count": 77,
   "id": "ae1b18fc",
   "metadata": {},
   "outputs": [
    {
     "data": {
      "image/png": "[encoded data removed]",
      "text/plain": [
       "plot without title"
      ]
     },
     "metadata": {
      "image/png": {
       "height": 420,
       "width": 420
      }
     },
     "output_type": "display_data"
    }
   ],
   "source": [
    "autoplot(times)"
   ]
  },
  {
   "cell_type": "code",
   "execution_count": 78,
   "id": "dfd9d073",
   "metadata": {},
   "outputs": [
    {
     "data": {
      "image/png": "[encoded data removed]",
      "text/plain": [
       "plot without title"
      ]
     },
     "metadata": {
      "image/png": {
       "height": 420,
       "width": 420
      }
     },
     "output_type": "display_data"
    }
   ],
   "source": [
    "plot(log(times))\n",
    "#here we can see that the data has slight upward trend till 2019"
   ]
  },
  {
   "cell_type": "code",
   "execution_count": 79,
   "id": "f7e38b18",
   "metadata": {},
   "outputs": [
    {
     "data": {
      "image/png": "[encoded data removed]",
      "text/plain": [
       "plot without title"
      ]
     },
     "metadata": {
      "image/png": {
       "height": 420,
       "width": 420
      }
     },
     "output_type": "display_data"
    }
   ],
   "source": [
    "plot(diff(log(times)))\n",
    "#here the mean is now constant over time and series is stationary"
   ]
  },
  {
   "cell_type": "code",
   "execution_count": null,
   "id": "c88d5e35",
   "metadata": {},
   "outputs": [],
   "source": []
  },
  {
   "cell_type": "code",
   "execution_count": 80,
   "id": "da5891af",
   "metadata": {},
   "outputs": [
    {
     "data": {
      "image/png": "[encoded data removed]",
      "text/plain": [
       "plot without title"
      ]
     },
     "metadata": {
      "image/png": {
       "height": 420,
       "width": 420
      }
     },
     "output_type": "display_data"
    }
   ],
   "source": [
    "boxplot(times~cycle(times), col='lightblue')\n",
    "#checking seasonality\n",
    "# here we can see that most of the departures occurs at 7 and 8 months while the less departures occur at 1 and 2 months over \n",
    "# the years"
   ]
  },
  {
   "cell_type": "code",
   "execution_count": 81,
   "id": "8ff807fd",
   "metadata": {},
   "outputs": [
    {
     "data": {
      "image/png": "[encoded data removed]",
      "text/plain": [
       "plot without title"
      ]
     },
     "metadata": {
      "image/png": {
       "height": 420,
       "width": 420
      }
     },
     "output_type": "display_data"
    }
   ],
   "source": [
    "boxplot(times~floor(time(times)), col='lightblue')"
   ]
  },
  {
   "cell_type": "code",
   "execution_count": null,
   "id": "659eaa10",
   "metadata": {},
   "outputs": [],
   "source": []
  },
  {
   "cell_type": "code",
   "execution_count": 82,
   "id": "ddcb1319",
   "metadata": {},
   "outputs": [],
   "source": [
    "APLinMod <- lm(times~time(times))"
   ]
  },
  {
   "cell_type": "code",
   "execution_count": 83,
   "id": "4ba77e29",
   "metadata": {},
   "outputs": [
    {
     "data": {
      "image/png": "[encoded data removed]",
      "text/plain": [
       "plot without title"
      ]
     },
     "metadata": {
      "image/png": {
       "height": 420,
       "width": 420
      }
     },
     "output_type": "display_data"
    }
   ],
   "source": [
    "plot(times, col='blue')\n",
    "x <- as.vector(time(times))\n",
    "y <- predict.lm(APLinMod)\n",
    "lines(x, y, col='red', lw=4)"
   ]
  },
  {
   "cell_type": "code",
   "execution_count": 84,
   "id": "9c6f7e5f",
   "metadata": {},
   "outputs": [
    {
     "data": {
      "image/png": "[encoded data removed]",
      "text/plain": [
       "Plot with title \"\""
      ]
     },
     "metadata": {
      "image/png": {
       "height": 420,
       "width": 420
      }
     },
     "output_type": "display_data"
    }
   ],
   "source": [
    "par(mfrow=c(2,2))\n",
    "plot(APLinMod)"
   ]
  },
  {
   "cell_type": "code",
   "execution_count": 85,
   "id": "3cba436c",
   "metadata": {},
   "outputs": [
    {
     "data": {
      "image/png": "[encoded data removed]",
      "text/plain": [
       "plot without title"
      ]
     },
     "metadata": {
      "image/png": {
       "height": 420,
       "width": 420
      }
     },
     "output_type": "display_data"
    }
   ],
   "source": [
    "ggseasonplot(times)"
   ]
  },
  {
   "cell_type": "code",
   "execution_count": 86,
   "id": "7ee78178",
   "metadata": {},
   "outputs": [
    {
     "data": {
      "image/png": "[encoded data removed]",
      "text/plain": [
       "Plot with title \"Seasonal plot: times\""
      ]
     },
     "metadata": {
      "image/png": {
       "height": 420,
       "width": 420
      }
     },
     "output_type": "display_data"
    }
   ],
   "source": [
    "seasonplot(times)"
   ]
  },
  {
   "cell_type": "code",
   "execution_count": 87,
   "id": "b6d8267f",
   "metadata": {},
   "outputs": [
    {
     "data": {
      "image/png": "[encoded data removed]",
      "text/plain": [
       "plot without title"
      ]
     },
     "metadata": {
      "image/png": {
       "height": 420,
       "width": 420
      }
     },
     "output_type": "display_data"
    }
   ],
   "source": [
    "ggseasonplot(times, polar=TRUE)"
   ]
  },
  {
   "cell_type": "code",
   "execution_count": 88,
   "id": "52741c3a",
   "metadata": {},
   "outputs": [
    {
     "data": {
      "image/png": "[encoded data removed]",
      "text/plain": [
       "Plot with title \"Data and Trend\""
      ]
     },
     "metadata": {
      "image/png": {
       "height": 420,
       "width": 420
      }
     },
     "output_type": "display_data"
    }
   ],
   "source": [
    "plot(times, main='Data and Trend')\n",
    "x <- as.vector(time(times))\n",
    "y <- ma(times, order=12)\n",
    "lines(x, y, col='red', lw=3)"
   ]
  },
  {
   "cell_type": "code",
   "execution_count": 89,
   "id": "3eaf9c3b",
   "metadata": {},
   "outputs": [],
   "source": [
    "fit.add <- decompose(times, type='additive')"
   ]
  },
  {
   "cell_type": "code",
   "execution_count": 90,
   "id": "ba2ecab4",
   "metadata": {},
   "outputs": [
    {
     "data": {
      "image/png": "[encoded data removed]",
      "text/plain": [
       "plot without title"
      ]
     },
     "metadata": {
      "image/png": {
       "height": 420,
       "width": 420
      }
     },
     "output_type": "display_data"
    }
   ],
   "source": [
    "plot(fit.add)"
   ]
  },
  {
   "cell_type": "code",
   "execution_count": 91,
   "id": "26b23372",
   "metadata": {},
   "outputs": [],
   "source": [
    "fit.mult <- decompose(times, type='multiplicative')"
   ]
  },
  {
   "cell_type": "code",
   "execution_count": 92,
   "id": "47f964b0",
   "metadata": {},
   "outputs": [
    {
     "data": {
      "image/png": "[encoded data removed]",
      "text/plain": [
       "plot without title"
      ]
     },
     "metadata": {
      "image/png": {
       "height": 420,
       "width": 420
      }
     },
     "output_type": "display_data"
    }
   ],
   "source": [
    "plot(fit.mult)"
   ]
  },
  {
   "cell_type": "code",
   "execution_count": 93,
   "id": "b276b94d",
   "metadata": {},
   "outputs": [],
   "source": [
    "fit.stl <- stl(times, \n",
    "               t.window=13, s.window=\"periodic\", robust=TRUE)"
   ]
  },
  {
   "cell_type": "code",
   "execution_count": 94,
   "id": "d373f0f1",
   "metadata": {},
   "outputs": [
    {
     "data": {
      "image/png": "[encoded data removed]",
      "text/plain": [
       "plot without title"
      ]
     },
     "metadata": {
      "image/png": {
       "height": 420,
       "width": 420
      }
     },
     "output_type": "display_data"
    }
   ],
   "source": [
    "plot(fit.stl)"
   ]
  },
  {
   "cell_type": "code",
   "execution_count": 95,
   "id": "a1a7c7f6",
   "metadata": {},
   "outputs": [
    {
     "data": {
      "text/plain": [
       "\n",
       "Forecast method: Naive method\n",
       "\n",
       "Model Information:\n",
       "Call: naive(y = ntrain, h = 132) \n",
       "\n",
       "Residual sd: 159.5276 \n",
       "\n",
       "Error measures:\n",
       "                    ME     RMSE      MAE       MPE    MAPE      MASE      ACF1\n",
       "Training set -4.399237 159.5276 121.7656 -34.04558 46.6151 0.6312399 0.4252624\n",
       "\n",
       "Forecasts:\n",
       "         Point Forecast       Lo 80     Hi 80      Lo 95     Hi 95\n",
       "Jan 2021          156.1   -48.34283  360.5428  -156.5683  468.7683\n",
       "Feb 2021          156.1  -133.02583  445.2258  -286.0798  598.2798\n",
       "Mar 2021          156.1  -198.00537  510.2054  -385.4574  697.6574\n",
       "Apr 2021          156.1  -252.78566  564.9857  -469.2367  781.4367\n",
       "May 2021          156.1  -301.04807  613.2481  -543.0476  855.2476\n",
       "Jun 2021          156.1  -344.68062  656.8806  -609.7779  921.9779\n",
       "Jul 2021          156.1  -384.80489  697.0049  -671.1426  983.3426\n",
       "Aug 2021          156.1  -422.15165  734.3517  -728.2596 1040.4596\n",
       "Sep 2021          156.1  -457.22849  769.4285  -781.9050 1094.1050\n",
       "Oct 2021          156.1  -490.40500  802.6050  -832.6441 1144.8441\n",
       "Nov 2021          156.1  -521.96016  834.1602  -880.9035 1193.1035\n",
       "Dec 2021          156.1  -552.11074  864.3107  -927.0149 1239.2149\n",
       "Jan 2022          156.1  -581.02911  893.2291  -971.2417 1283.4417\n",
       "Feb 2022          156.1  -608.85503  921.0550 -1013.7978 1325.9978\n",
       "Mar 2022          156.1  -635.70368  947.9037 -1054.8592 1367.0592\n",
       "Apr 2022          156.1  -661.67133  973.8713 -1094.5733 1406.7733\n",
       "May 2022          156.1  -686.83939  999.0394 -1133.0645 1445.2645\n",
       "Jun 2022          156.1  -711.27748 1023.4775 -1170.4394 1482.6394\n",
       "Jul 2022          156.1  -735.04564 1047.2456 -1206.7896 1518.9896\n",
       "Aug 2022          156.1  -758.19614 1070.3961 -1242.1953 1554.3953\n",
       "Sep 2022          156.1  -780.77475 1092.9748 -1276.7263 1588.9263\n",
       "Oct 2022          156.1  -802.82188 1115.0219 -1310.4445 1622.6445\n",
       "Nov 2022          156.1  -824.37338 1136.5734 -1343.4046 1655.6046\n",
       "Dec 2022          156.1  -845.46124 1157.6612 -1375.6557 1687.8557\n",
       "Jan 2023          156.1  -866.11416 1178.3142 -1407.2416 1719.4416\n",
       "Feb 2023          156.1  -886.35799 1198.5580 -1438.2019 1750.4019\n",
       "Mar 2023          156.1  -906.21611 1218.4161 -1468.5723 1780.7723\n",
       "Apr 2023          156.1  -925.70978 1237.9098 -1498.3853 1810.5853\n",
       "May 2023          156.1  -944.85834 1257.0583 -1527.6705 1839.8705\n",
       "Jun 2023          156.1  -963.67951 1275.8795 -1556.4550 1868.6550\n",
       "Jul 2023          156.1  -982.18951 1294.3895 -1584.7636 1896.9636\n",
       "Aug 2023          156.1 -1000.40330 1312.6033 -1612.6192 1924.8192\n",
       "Sep 2023          156.1 -1018.33465 1330.5347 -1640.0428 1952.2428\n",
       "Oct 2023          156.1 -1035.99632 1348.1963 -1667.0540 1979.2540\n",
       "Nov 2023          156.1 -1053.40010 1365.6001 -1693.6708 2005.8708\n",
       "Dec 2023          156.1 -1070.55699 1382.7570 -1719.9100 2032.1100\n",
       "Jan 2024          156.1 -1087.47720 1399.6772 -1745.7872 2057.9872\n",
       "Feb 2024          156.1 -1104.17025 1416.3703 -1771.3170 2083.5170\n",
       "Mar 2024          156.1 -1120.64507 1432.8451 -1796.5131 2108.7131\n",
       "Apr 2024          156.1 -1136.91000 1449.1100 -1821.3881 2133.5881\n",
       "May 2024          156.1 -1152.97285 1465.1728 -1845.9542 2158.1542\n",
       "Jun 2024          156.1 -1168.84098 1481.0410 -1870.2224 2182.4224\n",
       "Jul 2024          156.1 -1184.52130 1496.7213 -1894.2033 2206.4033\n",
       "Aug 2024          156.1 -1200.02033 1512.2203 -1917.9071 2230.1071\n",
       "Sep 2024          156.1 -1215.34421 1527.5442 -1941.3429 2253.5429\n",
       "Oct 2024          156.1 -1230.49875 1542.6987 -1964.5198 2276.7198\n",
       "Nov 2024          156.1 -1245.48944 1557.6894 -1987.4461 2299.6461\n",
       "Dec 2024          156.1 -1260.32149 1572.5215 -2010.1297 2322.3297\n",
       "Jan 2025          156.1 -1274.99982 1587.1998 -2032.5783 2344.7783\n",
       "Feb 2025          156.1 -1289.52913 1601.7291 -2054.7990 2366.9990\n",
       "Mar 2025          156.1 -1303.91385 1616.1138 -2076.7985 2388.9985\n",
       "Apr 2025          156.1 -1318.15822 1630.3582 -2098.5834 2410.7834\n",
       "May 2025          156.1 -1332.26628 1644.4663 -2120.1598 2432.3598\n",
       "Jun 2025          156.1 -1346.24186 1658.4419 -2141.5336 2453.7336\n",
       "Jul 2025          156.1 -1360.08862 1672.2886 -2162.7104 2474.9104\n",
       "Aug 2025          156.1 -1373.81006 1686.0101 -2183.6955 2495.8955\n",
       "Sep 2025          156.1 -1387.40953 1699.6095 -2204.4941 2516.6941\n",
       "Oct 2025          156.1 -1400.89022 1713.0902 -2225.1111 2537.3111\n",
       "Nov 2025          156.1 -1414.25519 1726.4552 -2245.5510 2557.7510\n",
       "Dec 2025          156.1 -1427.50736 1739.7074 -2265.8185 2578.0185\n",
       "Jan 2026          156.1 -1440.64956 1752.8496 -2285.9177 2598.1177\n",
       "Feb 2026          156.1 -1453.68447 1765.8845 -2305.8529 2618.0529\n",
       "Mar 2026          156.1 -1466.61467 1778.8147 -2325.6279 2637.8279\n",
       "Apr 2026          156.1 -1479.44265 1791.6427 -2345.2466 2657.4466\n",
       "May 2026          156.1 -1492.17080 1804.3708 -2364.7127 2676.9127\n",
       "Jun 2026          156.1 -1504.80141 1817.0014 -2384.0295 2696.2295\n",
       "Jul 2026          156.1 -1517.33670 1829.5367 -2403.2006 2715.4006\n",
       "Aug 2026          156.1 -1529.77878 1841.9788 -2422.2291 2734.4291\n",
       "Sep 2026          156.1 -1542.12970 1854.3297 -2441.1182 2753.3182\n",
       "Oct 2026          156.1 -1554.39145 1866.5914 -2459.8709 2772.0709\n",
       "Nov 2026          156.1 -1566.56592 1878.7659 -2478.4902 2790.6902\n",
       "Dec 2026          156.1 -1578.65495 1890.8550 -2496.9787 2809.1787\n",
       "Jan 2027          156.1 -1590.66032 1902.8603 -2515.3394 2827.5394\n",
       "Feb 2027          156.1 -1602.58374 1914.7837 -2533.5747 2845.7747\n",
       "Mar 2027          156.1 -1614.42686 1926.6269 -2551.6872 2863.8872\n",
       "Apr 2027          156.1 -1626.19128 1938.3913 -2569.6793 2881.8793\n",
       "May 2027          156.1 -1637.87857 1950.0786 -2587.5535 2899.7535\n",
       "Jun 2027          156.1 -1649.49020 1961.6902 -2605.3119 2917.5119\n",
       "Jul 2027          156.1 -1661.02763 1973.2276 -2622.9569 2935.1569\n",
       "Aug 2027          156.1 -1672.49228 1984.6923 -2640.4906 2952.6906\n",
       "Sep 2027          156.1 -1683.88548 1996.0855 -2657.9150 2970.1150\n",
       "Oct 2027          156.1 -1695.20858 2007.4086 -2675.2321 2987.4321\n",
       "Nov 2027          156.1 -1706.46284 2018.6628 -2692.4440 3004.6440\n",
       "Dec 2027          156.1 -1717.64950 2029.8495 -2709.5526 3021.7526\n",
       "Jan 2028          156.1 -1728.76977 2040.9698 -2726.5596 3038.7596\n",
       "Feb 2028          156.1 -1739.82482 2052.0248 -2743.4668 3055.6668\n",
       "Mar 2028          156.1 -1750.81578 2063.0158 -2760.2760 3072.4760\n",
       "Apr 2028          156.1 -1761.74376 2073.9438 -2776.9889 3089.1889\n",
       "May 2028          156.1 -1772.60982 2084.8098 -2793.6071 3105.8071\n",
       "Jun 2028          156.1 -1783.41500 2095.6150 -2810.1322 3122.3322\n",
       "Jul 2028          156.1 -1794.16031 2106.3603 -2826.5658 3138.7658\n",
       "Aug 2028          156.1 -1804.84675 2117.0468 -2842.9093 3155.1093\n",
       "Sep 2028          156.1 -1815.47527 2127.6753 -2859.1642 3171.3642\n",
       "Oct 2028          156.1 -1826.04679 2138.2468 -2875.3319 3187.5319\n",
       "Nov 2028          156.1 -1836.56223 2148.7622 -2891.4139 3203.6139\n",
       "Dec 2028          156.1 -1847.02248 2159.2225 -2907.4115 3219.6115\n",
       "Jan 2029          156.1 -1857.42838 2169.6284 -2923.3259 3235.5259\n",
       "Feb 2029          156.1 -1867.78078 2179.9808 -2939.1585 3251.3585\n",
       "Mar 2029          156.1 -1878.08049 2190.2805 -2954.9106 3267.1106\n",
       "Apr 2029          156.1 -1888.32832 2200.5283 -2970.5833 3282.7833\n",
       "May 2029          156.1 -1898.52503 2210.7250 -2986.1778 3298.3778\n",
       "Jun 2029          156.1 -1908.67139 2220.8714 -3001.6953 3313.8953\n",
       "Jul 2029          156.1 -1918.76813 2230.9681 -3017.1370 3329.3370\n",
       "Aug 2029          156.1 -1928.81597 2241.0160 -3032.5038 3344.7038\n",
       "Sep 2029          156.1 -1938.81563 2251.0156 -3047.7970 3359.9970\n",
       "Oct 2029          156.1 -1948.76778 2260.9678 -3063.0175 3375.2175\n",
       "Nov 2029          156.1 -1958.67309 2270.8731 -3078.1663 3390.3663\n",
       "Dec 2029          156.1 -1968.53223 2280.7322 -3093.2446 3405.4446\n",
       "Jan 2030          156.1 -1978.34582 2290.5458 -3108.2532 3420.4532\n",
       "Feb 2030          156.1 -1988.11451 2300.3145 -3123.1931 3435.3931\n",
       "Mar 2030          156.1 -1997.83889 2310.0389 -3138.0653 3450.2653\n",
       "Apr 2030          156.1 -2007.51956 2319.7196 -3152.8706 3465.0706\n",
       "May 2030          156.1 -2017.15711 2329.3571 -3167.6099 3479.8099\n",
       "Jun 2030          156.1 -2026.75211 2338.9521 -3182.2842 3494.4842\n",
       "Jul 2030          156.1 -2036.30512 2348.5051 -3196.8943 3509.0943\n",
       "Aug 2030          156.1 -2045.81668 2358.0167 -3211.4410 3523.6410\n",
       "Sep 2030          156.1 -2055.28734 2367.4873 -3225.9251 3538.1251\n",
       "Oct 2030          156.1 -2064.71760 2376.9176 -3240.3474 3552.5474\n",
       "Nov 2030          156.1 -2074.10799 2386.3080 -3254.7088 3566.9088\n",
       "Dec 2030          156.1 -2083.45901 2395.6590 -3269.0099 3581.2099\n",
       "Jan 2031          156.1 -2092.77115 2404.9711 -3283.2516 3595.4516\n",
       "Feb 2031          156.1 -2102.04488 2414.2449 -3297.4346 3609.6346\n",
       "Mar 2031          156.1 -2111.28069 2423.4807 -3311.5595 3623.7595\n",
       "Apr 2031          156.1 -2120.47902 2432.6790 -3325.6272 3637.8272\n",
       "May 2031          156.1 -2129.64034 2441.8403 -3339.6382 3651.8382\n",
       "Jun 2031          156.1 -2138.76509 2450.9651 -3353.5933 3665.7933\n",
       "Jul 2031          156.1 -2147.85370 2460.0537 -3367.4931 3679.6931\n",
       "Aug 2031          156.1 -2156.90660 2469.1066 -3381.3383 3693.5383\n",
       "Sep 2031          156.1 -2165.92420 2478.1242 -3395.1296 3707.3296\n",
       "Oct 2031          156.1 -2174.90692 2487.1069 -3408.8675 3721.0675\n",
       "Nov 2031          156.1 -2183.85516 2496.0552 -3422.5526 3734.7526\n",
       "Dec 2031          156.1 -2192.76931 2504.9693 -3436.1856 3748.3856"
      ]
     },
     "metadata": {},
     "output_type": "display_data"
    }
   ],
   "source": [
    "#Naive model\n",
    "ntrain <- window(times, end = c(2020,12))\n",
    "ntest <- window(times, start = c(2021,1), end= c(2021,6))\n",
    "nvm <- naive(ntrain, h = 132)\n",
    "\n",
    "summary(nvm)"
   ]
  },
  {
   "cell_type": "code",
   "execution_count": 96,
   "id": "5fce18fb",
   "metadata": {},
   "outputs": [
    {
     "data": {
      "image/png": "[encoded data removed]",
      "text/plain": [
       "Plot with title \"Forecasts from Naive method\""
      ]
     },
     "metadata": {
      "image/png": {
       "height": 420,
       "width": 420
      }
     },
     "output_type": "display_data"
    }
   ],
   "source": [
    "plot(nvm)\n",
    "lines(ntest, lty=3)"
   ]
  },
  {
   "cell_type": "code",
   "execution_count": 97,
   "id": "ac8bc7c8",
   "metadata": {},
   "outputs": [
    {
     "data": {
      "text/html": [
       "<table class=\"dataframe\">\n",
       "<caption>A matrix: 2 × 8 of type dbl</caption>\n",
       "<thead>\n",
       "\t<tr><th></th><th scope=col>ME</th><th scope=col>RMSE</th><th scope=col>MAE</th><th scope=col>MPE</th><th scope=col>MAPE</th><th scope=col>MASE</th><th scope=col>ACF1</th><th scope=col>Theil's U</th></tr>\n",
       "</thead>\n",
       "<tbody>\n",
       "\t<tr><th scope=row>Training set</th><td> -4.399237</td><td>159.52759</td><td>121.76565</td><td> -34.04558</td><td> 46.6151</td><td>0.6312399</td><td>0.42526240</td><td>     NA</td></tr>\n",
       "\t<tr><th scope=row>Test set</th><td>-68.283333</td><td> 80.74768</td><td> 74.48333</td><td>-114.71792</td><td>118.2669</td><td>0.3861257</td><td>0.09391888</td><td>2.37296</td></tr>\n",
       "</tbody>\n",
       "</table>\n"
      ],
      "text/latex": [
       "A matrix: 2 × 8 of type dbl\n",
       "\\begin{tabular}{r|llllllll}\n",
       "  & ME & RMSE & MAE & MPE & MAPE & MASE & ACF1 & Theil's U\\\\\n",
       "\\hline\n",
       "\tTraining set &  -4.399237 & 159.52759 & 121.76565 &  -34.04558 &  46.6151 & 0.6312399 & 0.42526240 &      NA\\\\\n",
       "\tTest set & -68.283333 &  80.74768 &  74.48333 & -114.71792 & 118.2669 & 0.3861257 & 0.09391888 & 2.37296\\\\\n",
       "\\end{tabular}\n"
      ],
      "text/markdown": [
       "\n",
       "A matrix: 2 × 8 of type dbl\n",
       "\n",
       "| <!--/--> | ME | RMSE | MAE | MPE | MAPE | MASE | ACF1 | Theil's U |\n",
       "|---|---|---|---|---|---|---|---|---|\n",
       "| Training set |  -4.399237 | 159.52759 | 121.76565 |  -34.04558 |  46.6151 | 0.6312399 | 0.42526240 |      NA |\n",
       "| Test set | -68.283333 |  80.74768 |  74.48333 | -114.71792 | 118.2669 | 0.3861257 | 0.09391888 | 2.37296 |\n",
       "\n"
      ],
      "text/plain": [
       "             ME         RMSE      MAE       MPE        MAPE     MASE     \n",
       "Training set  -4.399237 159.52759 121.76565  -34.04558  46.6151 0.6312399\n",
       "Test set     -68.283333  80.74768  74.48333 -114.71792 118.2669 0.3861257\n",
       "             ACF1       Theil's U\n",
       "Training set 0.42526240      NA  \n",
       "Test set     0.09391888 2.37296  "
      ]
     },
     "metadata": {},
     "output_type": "display_data"
    }
   ],
   "source": [
    "accuracy(nvm, ntest)"
   ]
  },
  {
   "cell_type": "code",
   "execution_count": null,
   "id": "ca1424a9",
   "metadata": {},
   "outputs": [],
   "source": []
  },
  {
   "cell_type": "markdown",
   "id": "8e3ca473",
   "metadata": {},
   "source": [
    "# Exponential Smoothing Models"
   ]
  },
  {
   "cell_type": "code",
   "execution_count": 98,
   "id": "fa3491d9",
   "metadata": {},
   "outputs": [],
   "source": [
    "train <- window(diff(log(times)), end = c(2020,12))\n",
    "test <- window(diff(log(times)), start = c(2021,1), end= c(2021,6))"
   ]
  },
  {
   "cell_type": "code",
   "execution_count": 99,
   "id": "9002c49b",
   "metadata": {},
   "outputs": [
    {
     "data": {
      "text/html": [
       "131"
      ],
      "text/latex": [
       "131"
      ],
      "text/markdown": [
       "131"
      ],
      "text/plain": [
       "[1] 131"
      ]
     },
     "metadata": {},
     "output_type": "display_data"
    }
   ],
   "source": [
    "length(train)"
   ]
  },
  {
   "cell_type": "code",
   "execution_count": 100,
   "id": "7f3b9092",
   "metadata": {},
   "outputs": [],
   "source": [
    "#brown simple exponential smoothing ETS(ANN)\n",
    "brown <- ses(train, h=131)"
   ]
  },
  {
   "cell_type": "code",
   "execution_count": 101,
   "id": "cf9c8629",
   "metadata": {},
   "outputs": [
    {
     "data": {
      "image/png": "[encoded data removed]",
      "text/plain": [
       "Plot with title \"Forecasts from Simple exponential smoothing\""
      ]
     },
     "metadata": {
      "image/png": {
       "height": 420,
       "width": 420
      }
     },
     "output_type": "display_data"
    }
   ],
   "source": [
    "plot(brown)\n",
    "lines(test, lty=3)"
   ]
  },
  {
   "cell_type": "code",
   "execution_count": 102,
   "id": "4183bf0e",
   "metadata": {},
   "outputs": [
    {
     "data": {
      "text/html": [
       "<table class=\"dataframe\">\n",
       "<caption>A matrix: 1 × 7 of type dbl</caption>\n",
       "<thead>\n",
       "\t<tr><th></th><th scope=col>ME</th><th scope=col>RMSE</th><th scope=col>MAE</th><th scope=col>MPE</th><th scope=col>MAPE</th><th scope=col>MASE</th><th scope=col>ACF1</th></tr>\n",
       "</thead>\n",
       "<tbody>\n",
       "\t<tr><th scope=row>Training set</th><td>-8.38413e-05</td><td>0.4013815</td><td>0.1641784</td><td>113.0475</td><td>116.4865</td><td>1.536343</td><td>0.1240439</td></tr>\n",
       "</tbody>\n",
       "</table>\n"
      ],
      "text/latex": [
       "A matrix: 1 × 7 of type dbl\n",
       "\\begin{tabular}{r|lllllll}\n",
       "  & ME & RMSE & MAE & MPE & MAPE & MASE & ACF1\\\\\n",
       "\\hline\n",
       "\tTraining set & -8.38413e-05 & 0.4013815 & 0.1641784 & 113.0475 & 116.4865 & 1.536343 & 0.1240439\\\\\n",
       "\\end{tabular}\n"
      ],
      "text/markdown": [
       "\n",
       "A matrix: 1 × 7 of type dbl\n",
       "\n",
       "| <!--/--> | ME | RMSE | MAE | MPE | MAPE | MASE | ACF1 |\n",
       "|---|---|---|---|---|---|---|---|\n",
       "| Training set | -8.38413e-05 | 0.4013815 | 0.1641784 | 113.0475 | 116.4865 | 1.536343 | 0.1240439 |\n",
       "\n"
      ],
      "text/plain": [
       "             ME           RMSE      MAE       MPE      MAPE     MASE    \n",
       "Training set -8.38413e-05 0.4013815 0.1641784 113.0475 116.4865 1.536343\n",
       "             ACF1     \n",
       "Training set 0.1240439"
      ]
     },
     "metadata": {},
     "output_type": "display_data"
    }
   ],
   "source": [
    "accuracy(brown)"
   ]
  },
  {
   "cell_type": "code",
   "execution_count": 103,
   "id": "70310c11",
   "metadata": {},
   "outputs": [
    {
     "data": {
      "text/html": [
       "<table class=\"dataframe\">\n",
       "<caption>A matrix: 2 × 8 of type dbl</caption>\n",
       "<thead>\n",
       "\t<tr><th></th><th scope=col>ME</th><th scope=col>RMSE</th><th scope=col>MAE</th><th scope=col>MPE</th><th scope=col>MAPE</th><th scope=col>MASE</th><th scope=col>ACF1</th><th scope=col>Theil's U</th></tr>\n",
       "</thead>\n",
       "<tbody>\n",
       "\t<tr><th scope=row>Training set</th><td>-0.0000838413</td><td>0.4013815</td><td>0.1641784</td><td>113.0475</td><td>116.4865</td><td>1.536343</td><td>0.1240439</td><td>     NA</td></tr>\n",
       "\t<tr><th scope=row>Test set</th><td> 0.0305862865</td><td>0.5013874</td><td>0.4249545</td><td>104.0811</td><td>104.0811</td><td>3.976625</td><td>0.2765283</td><td>1.36986</td></tr>\n",
       "</tbody>\n",
       "</table>\n"
      ],
      "text/latex": [
       "A matrix: 2 × 8 of type dbl\n",
       "\\begin{tabular}{r|llllllll}\n",
       "  & ME & RMSE & MAE & MPE & MAPE & MASE & ACF1 & Theil's U\\\\\n",
       "\\hline\n",
       "\tTraining set & -0.0000838413 & 0.4013815 & 0.1641784 & 113.0475 & 116.4865 & 1.536343 & 0.1240439 &      NA\\\\\n",
       "\tTest set &  0.0305862865 & 0.5013874 & 0.4249545 & 104.0811 & 104.0811 & 3.976625 & 0.2765283 & 1.36986\\\\\n",
       "\\end{tabular}\n"
      ],
      "text/markdown": [
       "\n",
       "A matrix: 2 × 8 of type dbl\n",
       "\n",
       "| <!--/--> | ME | RMSE | MAE | MPE | MAPE | MASE | ACF1 | Theil's U |\n",
       "|---|---|---|---|---|---|---|---|---|\n",
       "| Training set | -0.0000838413 | 0.4013815 | 0.1641784 | 113.0475 | 116.4865 | 1.536343 | 0.1240439 |      NA |\n",
       "| Test set |  0.0305862865 | 0.5013874 | 0.4249545 | 104.0811 | 104.0811 | 3.976625 | 0.2765283 | 1.36986 |\n",
       "\n"
      ],
      "text/plain": [
       "             ME            RMSE      MAE       MPE      MAPE     MASE    \n",
       "Training set -0.0000838413 0.4013815 0.1641784 113.0475 116.4865 1.536343\n",
       "Test set      0.0305862865 0.5013874 0.4249545 104.0811 104.0811 3.976625\n",
       "             ACF1      Theil's U\n",
       "Training set 0.1240439      NA  \n",
       "Test set     0.2765283 1.36986  "
      ]
     },
     "metadata": {},
     "output_type": "display_data"
    }
   ],
   "source": [
    "accuracy(brown, test)"
   ]
  },
  {
   "cell_type": "code",
   "execution_count": 104,
   "id": "e5ac361e",
   "metadata": {},
   "outputs": [
    {
     "data": {
      "text/plain": [
       "         Point Forecast      Lo 80     Hi 80      Lo 95     Hi 95\n",
       "Jan 2021    -0.01182405 -0.5301874 0.5065393 -0.8045924 0.7809443\n",
       "Feb 2021    -0.01182405 -0.5301874 0.5065393 -0.8045924 0.7809443\n",
       "Mar 2021    -0.01182405 -0.5301874 0.5065393 -0.8045924 0.7809443\n",
       "Apr 2021    -0.01182405 -0.5301874 0.5065393 -0.8045924 0.7809443\n",
       "May 2021    -0.01182405 -0.5301874 0.5065393 -0.8045924 0.7809443\n",
       "Jun 2021    -0.01182405 -0.5301874 0.5065393 -0.8045924 0.7809443"
      ]
     },
     "metadata": {},
     "output_type": "display_data"
    }
   ],
   "source": [
    "forecast(brown, h=6)"
   ]
  },
  {
   "cell_type": "code",
   "execution_count": null,
   "id": "63dfbfac",
   "metadata": {},
   "outputs": [],
   "source": []
  },
  {
   "cell_type": "code",
   "execution_count": 105,
   "id": "106d4127",
   "metadata": {},
   "outputs": [],
   "source": [
    "#Holt exponential method\n",
    "htrain <- window(times, end = c(2020,12))\n",
    "htest <- window(times, start = c(2021,1), end= c(2021,6))"
   ]
  },
  {
   "cell_type": "code",
   "execution_count": 106,
   "id": "8fd8af06",
   "metadata": {},
   "outputs": [],
   "source": [
    "holt <- ses(htrain, h=131)"
   ]
  },
  {
   "cell_type": "code",
   "execution_count": 178,
   "id": "4a1b7c9d",
   "metadata": {},
   "outputs": [
    {
     "data": {
      "text/plain": [
       "         Point Forecast       Lo 80     Hi 80      Lo 95     Hi 95\n",
       "Jan 2021       156.0929   -49.17071  361.3565  -157.8307  470.0165\n",
       "Feb 2021       156.0929  -134.17916  446.3650  -287.8399  600.0257\n",
       "Mar 2021       156.0929  -199.41038  511.5962  -387.6025  699.7882\n",
       "Apr 2021       156.0929  -254.40351  566.5893  -471.7072  783.8930\n",
       "May 2021       156.0929  -302.85374  615.0395  -545.8054  857.9912\n",
       "Jun 2021       156.0929  -346.65628  658.8421  -612.7956  924.9814\n",
       "Jul 2021       156.0929  -386.93698  699.1228  -674.3996  986.5854\n",
       "Aug 2021       156.0929  -424.42943  736.6152  -731.7394 1043.9252\n",
       "Sep 2021       156.0929  -459.64316  771.8289  -785.5941 1097.7799\n",
       "Oct 2021       156.0929  -492.94917  805.1350  -836.5313 1148.7171\n",
       "Nov 2021       156.0929  -524.62755  836.8133  -884.9792 1197.1650\n",
       "Dec 2021       156.0929  -554.89588  867.0817  -931.2706 1243.4564\n",
       "Jan 2022       156.0929  -583.92721  896.1130  -975.6702 1287.8560\n",
       "Feb 2022       156.0929  -611.86184  924.0476 -1018.3925 1330.5783\n",
       "Mar 2022       156.0929  -638.81539  951.0012 -1059.6144 1371.8002\n",
       "Apr 2022       156.0929  -664.88451  977.0703 -1099.4837 1411.6695\n",
       "May 2022       156.0929  -690.15094 1002.3367 -1138.1254 1450.3112\n",
       "Jun 2022       156.0929  -714.68454 1026.8703 -1175.6463 1487.8321\n",
       "Jul 2022       156.0929  -738.54561 1050.7314 -1212.1386 1524.3244\n",
       "Aug 2022       156.0929  -761.78660 1073.9724 -1247.6827 1559.8685\n",
       "Sep 2022       156.0929  -784.45348 1096.6393 -1282.3487 1594.5345\n",
       "Oct 2022       156.0929  -806.58681 1118.7726 -1316.1987 1628.3845\n",
       "Nov 2022       156.0929  -828.22256 1140.4084 -1349.2877 1661.4735\n",
       "Dec 2022       156.0929  -849.39288 1161.5787 -1381.6649 1693.8507\n",
       "Jan 2023       156.0929  -870.12655 1182.3123 -1413.3743 1725.5601\n",
       "Feb 2023       156.0929  -890.44954 1202.6353 -1444.4556 1756.6414\n",
       "Mar 2023       156.0929  -910.38532 1222.5711 -1474.9448 1787.1306\n",
       "Apr 2023       156.0929  -929.95522 1242.1410 -1504.8744 1817.0602\n",
       "May 2023       156.0929  -949.17867 1261.3645 -1534.2741 1846.4599\n",
       "Jun 2023       156.0929  -968.07344 1280.2592 -1563.1711 1875.3569\n",
       "Jul 2023       156.0929  -986.65584 1298.8416 -1591.5905 1903.7763\n",
       "Aug 2023       156.0929 -1004.94086 1317.1267 -1619.5550 1931.7408\n",
       "Sep 2023       156.0929 -1022.94234 1335.1281 -1647.0859 1959.2717\n",
       "Oct 2023       156.0929 -1040.67309 1352.8589 -1674.2027 1986.3885\n",
       "Nov 2023       156.0929 -1058.14494 1370.3307 -1700.9236 2013.1094\n",
       "Dec 2023       156.0929 -1075.36894 1387.5547 -1727.2655 2039.4512\n",
       "Jan 2024       156.0929 -1092.35533 1404.5411 -1753.2439 2065.4297\n",
       "Feb 2024       156.0929 -1109.11368 1421.2995 -1778.8736 2091.0594\n",
       "Mar 2024       156.0929 -1125.65295 1437.8387 -1804.1682 2116.3540\n",
       "Apr 2024       156.0929 -1141.98149 1454.1673 -1829.1406 2141.3264\n",
       "May 2024       156.0929 -1158.10718 1470.2930 -1853.8027 2165.9885\n",
       "Jun 2024       156.0929 -1174.03738 1486.2232 -1878.1658 2190.3516\n",
       "Jul 2024       156.0929 -1189.77904 1501.9648 -1902.2406 2214.4264\n",
       "Aug 2024       156.0929 -1205.33870 1517.5245 -1926.0371 2238.2228\n",
       "Sep 2024       156.0929 -1220.72253 1532.9083 -1949.5646 2261.7504\n",
       "Oct 2024       156.0929 -1235.93635 1548.1221 -1972.8321 2285.0179\n",
       "Nov 2024       156.0929 -1250.98569 1563.1715 -1995.8481 2308.0339\n",
       "Dec 2024       156.0929 -1265.87576 1578.0616 -2018.6205 2330.8063\n",
       "Jan 2025       156.0929 -1280.61152 1592.7973 -2041.1569 2353.3427\n",
       "Feb 2025       156.0929 -1295.19766 1607.3835 -2063.4645 2375.6503\n",
       "Mar 2025       156.0929 -1309.63866 1621.8245 -2085.5501 2397.7359\n",
       "Apr 2025       156.0929 -1323.93877 1636.1246 -2107.4202 2419.6060\n",
       "May 2025       156.0929 -1338.10202 1650.2878 -2129.0810 2441.2668\n",
       "Jun 2025       156.0929 -1352.13227 1664.3181 -2150.5384 2462.7242\n",
       "Jul 2025       156.0929 -1366.03321 1678.2190 -2171.7981 2483.9839\n",
       "Aug 2025       156.0929 -1379.80834 1691.9941 -2192.8653 2505.0511\n",
       "Sep 2025       156.0929 -1393.46101 1705.6468 -2213.7453 2525.9311\n",
       "Oct 2025       156.0929 -1406.99444 1719.1802 -2234.4429 2546.6287\n",
       "Nov 2025       156.0929 -1420.41170 1732.5975 -2254.9628 2567.1486\n",
       "Dec 2025       156.0929 -1433.71573 1745.9015 -2275.3096 2587.4954\n",
       "Jan 2026       156.0929 -1446.90934 1759.0951 -2295.4875 2607.6733\n",
       "Feb 2026       156.0929 -1459.99525 1772.1810 -2315.5006 2627.6864\n",
       "Mar 2026       156.0929 -1472.97605 1785.1618 -2335.3531 2647.5388\n",
       "Apr 2026       156.0929 -1485.85422 1798.0400 -2355.0485 2667.2343\n",
       "May 2026       156.0929 -1498.63217 1810.8180 -2374.5907 2686.7765\n",
       "Jun 2026       156.0929 -1511.31220 1823.4980 -2393.9831 2706.1689\n",
       "Jul 2026       156.0929 -1523.89653 1836.0823 -2413.2292 2725.4150\n",
       "Aug 2026       156.0929 -1536.38730 1848.5731 -2432.3322 2744.5180\n",
       "Sep 2026       156.0929 -1548.78655 1860.9723 -2451.2952 2763.4810\n",
       "Oct 2026       156.0929 -1561.09627 1873.2821 -2470.1213 2782.3071\n",
       "Nov 2026       156.0929 -1573.31838 1885.5042 -2488.8134 2800.9992\n",
       "Dec 2026       156.0929 -1585.45471 1897.6405 -2507.3743 2819.5601\n",
       "Jan 2027       156.0929 -1597.50705 1909.6928 -2525.8068 2837.9926\n",
       "Feb 2027       156.0929 -1609.47713 1921.6629 -2544.1134 2856.2992\n",
       "Mar 2027       156.0929 -1621.36659 1933.5524 -2562.2968 2874.4826\n",
       "Apr 2027       156.0929 -1633.17705 1945.3628 -2580.3593 2892.5451\n",
       "May 2027       156.0929 -1644.91006 1957.0959 -2598.3034 2910.4892\n",
       "Jun 2027       156.0929 -1656.56713 1968.7529 -2616.1314 2928.3172\n",
       "Jul 2027       156.0929 -1668.14971 1980.3355 -2633.8454 2946.0312\n",
       "Aug 2027       156.0929 -1679.65921 1991.8450 -2651.4477 2963.6335\n",
       "Sep 2027       156.0929 -1691.09700 2003.2828 -2668.9403 2981.1261\n",
       "Oct 2027       156.0929 -1702.46441 2014.6502 -2686.3252 2998.5110\n",
       "Nov 2027       156.0929 -1713.76270 2025.9485 -2703.6045 3015.7903\n",
       "Dec 2027       156.0929 -1724.99314 2037.1789 -2720.7799 3032.9657\n",
       "Jan 2028       156.0929 -1736.15693 2048.3427 -2737.8535 3050.0393\n",
       "Feb 2028       156.0929 -1747.25524 2059.4410 -2754.8269 3067.0127\n",
       "Mar 2028       156.0929 -1758.28920 2070.4750 -2771.7019 3083.8877\n",
       "Apr 2028       156.0929 -1769.25994 2081.4457 -2788.4802 3100.6660\n",
       "May 2028       156.0929 -1780.16852 2092.3543 -2805.1634 3117.3492\n",
       "Jun 2028       156.0929 -1791.01598 2103.2018 -2821.7532 3133.9390\n",
       "Jul 2028       156.0929 -1801.80335 2113.9891 -2838.2510 3150.4368\n",
       "Aug 2028       156.0929 -1812.53160 2124.7174 -2854.6585 3166.8443\n",
       "Sep 2028       156.0929 -1823.20171 2135.3875 -2870.9770 3183.1628\n",
       "Oct 2028       156.0929 -1833.81460 2146.0004 -2887.2080 3199.3938\n",
       "Nov 2028       156.0929 -1844.37119 2156.5570 -2903.3529 3215.5387\n",
       "Dec 2028       156.0929 -1854.87237 2167.0582 -2919.4131 3231.5989\n",
       "Jan 2029       156.0929 -1865.31899 2177.5048 -2935.3898 3247.5756\n",
       "Feb 2029       156.0929 -1875.71190 2187.8977 -2951.2844 3263.4702\n",
       "Mar 2029       156.0929 -1886.05192 2198.2377 -2967.0981 3279.2839\n",
       "Apr 2029       156.0929 -1896.33984 2208.5256 -2982.8321 3295.0179\n",
       "May 2029       156.0929 -1906.57646 2218.7623 -2998.4877 3310.6735\n",
       "Jun 2029       156.0929 -1916.76252 2228.9483 -3014.0659 3326.2517\n",
       "Jul 2029       156.0929 -1926.89878 2239.0846 -3029.5680 3341.7538\n",
       "Aug 2029       156.0929 -1936.98594 2249.1717 -3044.9949 3357.1807\n",
       "Sep 2029       156.0929 -1947.02473 2259.2105 -3060.3479 3372.5337\n",
       "Oct 2029       156.0929 -1957.01582 2269.2016 -3075.6280 3387.8138\n",
       "Nov 2029       156.0929 -1966.95990 2279.1457 -3090.8362 3403.0220\n",
       "Dec 2029       156.0929 -1976.85762 2289.0434 -3105.9734 3418.1592\n",
       "Jan 2030       156.0929 -1986.70962 2298.8954 -3121.0407 3433.2265\n",
       "Feb 2030       156.0929 -1996.51653 2308.7023 -3136.0391 3448.2249\n",
       "Mar 2030       156.0929 -2006.27896 2318.4648 -3150.9695 3463.1553\n",
       "Apr 2030       156.0929 -2015.99752 2328.1833 -3165.8327 3478.0185\n",
       "May 2030       156.0929 -2025.67278 2337.8586 -3180.6298 3492.8156\n",
       "Jun 2030       156.0929 -2035.30533 2347.4911 -3195.3615 3507.5473\n",
       "Jul 2030       156.0929 -2044.89573 2357.0815 -3210.0287 3522.2145\n",
       "Aug 2030       156.0929 -2054.44451 2366.6303 -3224.6323 3536.8181\n",
       "Sep 2030       156.0929 -2063.95223 2376.1380 -3239.1731 3551.3589\n",
       "Oct 2030       156.0929 -2073.41940 2385.6052 -3253.6519 3565.8377\n",
       "Nov 2030       156.0929 -2082.84654 2395.0323 -3268.0695 3580.2553\n",
       "Dec 2030       156.0929 -2092.23415 2404.4199 -3282.4266 3594.6124\n",
       "Jan 2031       156.0929 -2101.58273 2413.7685 -3296.7240 3608.9098\n",
       "Feb 2031       156.0929 -2110.89275 2423.0785 -3310.9625 3623.1483\n",
       "Mar 2031       156.0929 -2120.16470 2432.3505 -3325.1427 3637.3285\n",
       "Apr 2031       156.0929 -2129.39903 2441.5848 -3339.2654 3651.4512\n",
       "May 2031       156.0929 -2138.59621 2450.7820 -3353.3312 3665.5170\n",
       "Jun 2031       156.0929 -2147.75666 2459.9425 -3367.3410 3679.5267\n",
       "Jul 2031       156.0929 -2156.88084 2469.0666 -3381.2952 3693.4810\n",
       "Aug 2031       156.0929 -2165.96917 2478.1550 -3395.1946 3707.3804\n",
       "Sep 2031       156.0929 -2175.02206 2487.2079 -3409.0398 3721.2256\n",
       "Oct 2031       156.0929 -2184.03994 2496.2257 -3422.8314 3735.0172\n",
       "Nov 2031       156.0929 -2193.02319 2505.2090 -3436.5701 3748.7559"
      ]
     },
     "metadata": {},
     "output_type": "display_data"
    }
   ],
   "source": [
    "holt"
   ]
  },
  {
   "cell_type": "code",
   "execution_count": 107,
   "id": "40c613c2",
   "metadata": {},
   "outputs": [
    {
     "data": {
      "image/png": "[encoded data removed]",
      "text/plain": [
       "Plot with title \"Forecasts from Simple exponential smoothing\""
      ]
     },
     "metadata": {
      "image/png": {
       "height": 420,
       "width": 420
      }
     },
     "output_type": "display_data"
    }
   ],
   "source": [
    "plot(holt)\n",
    "lines(htest, lty=3)"
   ]
  },
  {
   "cell_type": "code",
   "execution_count": 108,
   "id": "23a6080e",
   "metadata": {},
   "outputs": [
    {
     "data": {
      "text/html": [
       "<table class=\"dataframe\">\n",
       "<caption>A matrix: 2 × 8 of type dbl</caption>\n",
       "<thead>\n",
       "\t<tr><th></th><th scope=col>ME</th><th scope=col>RMSE</th><th scope=col>MAE</th><th scope=col>MPE</th><th scope=col>MAPE</th><th scope=col>MASE</th><th scope=col>ACF1</th><th scope=col>Theil's U</th></tr>\n",
       "</thead>\n",
       "<tbody>\n",
       "\t<tr><th scope=row>Training set</th><td> -4.591731</td><td>158.95002</td><td>121.0752</td><td> -33.82374</td><td> 46.29513</td><td>0.6276607</td><td>0.42505005</td><td>      NA</td></tr>\n",
       "\t<tr><th scope=row>Test set</th><td>-68.276230</td><td> 80.74168</td><td> 74.4786</td><td>-114.70815</td><td>118.25845</td><td>0.3861012</td><td>0.09391888</td><td>2.372786</td></tr>\n",
       "</tbody>\n",
       "</table>\n"
      ],
      "text/latex": [
       "A matrix: 2 × 8 of type dbl\n",
       "\\begin{tabular}{r|llllllll}\n",
       "  & ME & RMSE & MAE & MPE & MAPE & MASE & ACF1 & Theil's U\\\\\n",
       "\\hline\n",
       "\tTraining set &  -4.591731 & 158.95002 & 121.0752 &  -33.82374 &  46.29513 & 0.6276607 & 0.42505005 &       NA\\\\\n",
       "\tTest set & -68.276230 &  80.74168 &  74.4786 & -114.70815 & 118.25845 & 0.3861012 & 0.09391888 & 2.372786\\\\\n",
       "\\end{tabular}\n"
      ],
      "text/markdown": [
       "\n",
       "A matrix: 2 × 8 of type dbl\n",
       "\n",
       "| <!--/--> | ME | RMSE | MAE | MPE | MAPE | MASE | ACF1 | Theil's U |\n",
       "|---|---|---|---|---|---|---|---|---|\n",
       "| Training set |  -4.591731 | 158.95002 | 121.0752 |  -33.82374 |  46.29513 | 0.6276607 | 0.42505005 |       NA |\n",
       "| Test set | -68.276230 |  80.74168 |  74.4786 | -114.70815 | 118.25845 | 0.3861012 | 0.09391888 | 2.372786 |\n",
       "\n"
      ],
      "text/plain": [
       "             ME         RMSE      MAE      MPE        MAPE      MASE     \n",
       "Training set  -4.591731 158.95002 121.0752  -33.82374  46.29513 0.6276607\n",
       "Test set     -68.276230  80.74168  74.4786 -114.70815 118.25845 0.3861012\n",
       "             ACF1       Theil's U\n",
       "Training set 0.42505005       NA \n",
       "Test set     0.09391888 2.372786 "
      ]
     },
     "metadata": {},
     "output_type": "display_data"
    }
   ],
   "source": [
    "accuracy(holt, htest)"
   ]
  },
  {
   "cell_type": "code",
   "execution_count": 109,
   "id": "09fc2d09",
   "metadata": {},
   "outputs": [
    {
     "data": {
      "text/plain": [
       "         Point Forecast      Lo 80    Hi 80     Lo 95    Hi 95\n",
       "Jan 2021       156.0929  -49.17071 361.3565 -157.8307 470.0165\n",
       "Feb 2021       156.0929 -134.17916 446.3650 -287.8399 600.0257\n",
       "Mar 2021       156.0929 -199.41038 511.5962 -387.6025 699.7882\n",
       "Apr 2021       156.0929 -254.40351 566.5893 -471.7072 783.8930\n",
       "May 2021       156.0929 -302.85374 615.0395 -545.8054 857.9912\n",
       "Jun 2021       156.0929 -346.65628 658.8421 -612.7956 924.9814"
      ]
     },
     "metadata": {},
     "output_type": "display_data"
    }
   ],
   "source": [
    "forecast(holt, h=6)"
   ]
  },
  {
   "cell_type": "code",
   "execution_count": null,
   "id": "ef5948bd",
   "metadata": {},
   "outputs": [],
   "source": []
  },
  {
   "cell_type": "code",
   "execution_count": 110,
   "id": "f92b8545",
   "metadata": {},
   "outputs": [
    {
     "data": {
      "text/plain": [
       "ETS(A,Ad,A) \n",
       "\n",
       "Call:\n",
       " ets(y = htrain, model = \"AAA\") \n",
       "\n",
       "  Smoothing parameters:\n",
       "    alpha = 0.9999 \n",
       "    beta  = 0.1413 \n",
       "    gamma = 1e-04 \n",
       "    phi   = 0.8 \n",
       "\n",
       "  Initial states:\n",
       "    l = 962.4632 \n",
       "    b = 4.7834 \n",
       "    s = -208.2974 -202.7917 72.2755 130.9762 307.6094 349.7194\n",
       "           233.3971 73.3278 -65.9956 -144.2698 -278.4757 -267.4752\n",
       "\n",
       "  sigma:  107.7625\n",
       "\n",
       "     AIC     AICc      BIC \n",
       "1897.832 1903.886 1949.723 "
      ]
     },
     "metadata": {},
     "output_type": "display_data"
    }
   ],
   "source": [
    "#Holt-Winter’s Seasonal Method\n",
    "fittimes <- ets(htrain, model='AAA')\n",
    "fittimes"
   ]
  },
  {
   "cell_type": "code",
   "execution_count": 111,
   "id": "e7a90ef4",
   "metadata": {},
   "outputs": [
    {
     "data": {
      "image/png": "[encoded data removed]",
      "text/plain": [
       "Plot with title \"Forecasts from ETS(A,Ad,A)\""
      ]
     },
     "metadata": {
      "image/png": {
       "height": 420,
       "width": 420
      }
     },
     "output_type": "display_data"
    }
   ],
   "source": [
    "plot(forecast(fittimes, h=6), col='blue')"
   ]
  },
  {
   "cell_type": "code",
   "execution_count": 112,
   "id": "d21126c2",
   "metadata": {},
   "outputs": [
    {
     "data": {
      "text/plain": [
       "         Point Forecast     Lo 80     Hi 80      Lo 95     Hi 95\n",
       "Jan 2021       120.1400 -17.96313  258.2432  -91.07053  331.3506\n",
       "Feb 2021       127.7165 -78.91624  334.3493 -188.30103  443.7341\n",
       "Mar 2021       276.7834  11.60873  541.9580 -128.76624  682.3329\n",
       "Apr 2021       366.9147  48.54473  685.2846 -119.99014  853.8195\n",
       "May 2021       515.7952 147.98794  883.6024  -46.71744 1078.3078\n",
       "Jun 2021       683.4642 269.21589 1097.7125   49.92609 1317.0023"
      ]
     },
     "metadata": {},
     "output_type": "display_data"
    }
   ],
   "source": [
    "forecast(fittimes, h=6)"
   ]
  },
  {
   "cell_type": "code",
   "execution_count": 113,
   "id": "630be591",
   "metadata": {},
   "outputs": [
    {
     "data": {
      "text/html": [
       "<table class=\"dataframe\">\n",
       "<caption>A matrix: 1 × 7 of type dbl</caption>\n",
       "<thead>\n",
       "\t<tr><th></th><th scope=col>ME</th><th scope=col>RMSE</th><th scope=col>MAE</th><th scope=col>MPE</th><th scope=col>MAPE</th><th scope=col>MASE</th><th scope=col>ACF1</th></tr>\n",
       "</thead>\n",
       "<tbody>\n",
       "\t<tr><th scope=row>Training set</th><td>-2.425368</td><td>100.5841</td><td>52.8242</td><td>-30.07175</td><td>41.14341</td><td>0.2738436</td><td>0.2759947</td></tr>\n",
       "</tbody>\n",
       "</table>\n"
      ],
      "text/latex": [
       "A matrix: 1 × 7 of type dbl\n",
       "\\begin{tabular}{r|lllllll}\n",
       "  & ME & RMSE & MAE & MPE & MAPE & MASE & ACF1\\\\\n",
       "\\hline\n",
       "\tTraining set & -2.425368 & 100.5841 & 52.8242 & -30.07175 & 41.14341 & 0.2738436 & 0.2759947\\\\\n",
       "\\end{tabular}\n"
      ],
      "text/markdown": [
       "\n",
       "A matrix: 1 × 7 of type dbl\n",
       "\n",
       "| <!--/--> | ME | RMSE | MAE | MPE | MAPE | MASE | ACF1 |\n",
       "|---|---|---|---|---|---|---|---|\n",
       "| Training set | -2.425368 | 100.5841 | 52.8242 | -30.07175 | 41.14341 | 0.2738436 | 0.2759947 |\n",
       "\n"
      ],
      "text/plain": [
       "             ME        RMSE     MAE     MPE       MAPE     MASE      ACF1     \n",
       "Training set -2.425368 100.5841 52.8242 -30.07175 41.14341 0.2738436 0.2759947"
      ]
     },
     "metadata": {},
     "output_type": "display_data"
    }
   ],
   "source": [
    "accuracy(fittimes) #final model"
   ]
  },
  {
   "cell_type": "code",
   "execution_count": null,
   "id": "c45c024d",
   "metadata": {},
   "outputs": [],
   "source": []
  },
  {
   "cell_type": "code",
   "execution_count": 114,
   "id": "f1e21ebe",
   "metadata": {},
   "outputs": [
    {
     "data": {
      "text/plain": [
       "ETS(M,Ad,M) \n",
       "\n",
       "Call:\n",
       " ets(y = htrain, model = \"MAM\") \n",
       "\n",
       "  Smoothing parameters:\n",
       "    alpha = 0.4842 \n",
       "    beta  = 6e-04 \n",
       "    gamma = 0.2862 \n",
       "    phi   = 0.973 \n",
       "\n",
       "  Initial states:\n",
       "    l = 951.589 \n",
       "    b = 0.8685 \n",
       "    s = 0.767 0.8447 1.0771 1.1397 1.2272 1.2824\n",
       "           1.216 1.0648 0.9518 0.908 0.7703 0.751\n",
       "\n",
       "  sigma:  0.1798\n",
       "\n",
       "     AIC     AICc      BIC \n",
       "2047.192 2053.245 2099.082 "
      ]
     },
     "metadata": {},
     "output_type": "display_data"
    }
   ],
   "source": [
    "# Exponential Model of multiplicative\n",
    "fittimes2 <- ets(htrain, model='MAM')\n",
    "fittimes2"
   ]
  },
  {
   "cell_type": "code",
   "execution_count": 115,
   "id": "301b2798",
   "metadata": {},
   "outputs": [
    {
     "data": {
      "text/plain": [
       "         Point Forecast    Lo 80    Hi 80    Lo 95    Hi 95\n",
       "Jan 2021       118.3857 91.11220 145.6593 76.67446 160.0970\n",
       "Feb 2021       114.3870 84.96877 143.8052 69.39571 159.3783\n",
       "Mar 2021       115.6713 83.05141 148.2912 65.78349 165.5591\n",
       "Apr 2021       113.5084 78.85078 148.1660 60.50415 166.5126\n",
       "May 2021       124.9126 84.00647 165.8187 62.35210 187.4730\n",
       "Jun 2021       144.1354 93.87991 194.3910 67.27624 220.9947"
      ]
     },
     "metadata": {},
     "output_type": "display_data"
    }
   ],
   "source": [
    "forecast(fittimes2, h=6)"
   ]
  },
  {
   "cell_type": "code",
   "execution_count": 116,
   "id": "7008ac58",
   "metadata": {},
   "outputs": [
    {
     "data": {
      "image/png": "[encoded data removed]",
      "text/plain": [
       "Plot with title \"Forecasts from ETS(M,Ad,M)\""
      ]
     },
     "metadata": {
      "image/png": {
       "height": 420,
       "width": 420
      }
     },
     "output_type": "display_data"
    }
   ],
   "source": [
    "plot(forecast(fittimes2, h=6), col='blue')"
   ]
  },
  {
   "cell_type": "code",
   "execution_count": 117,
   "id": "0c443f6f",
   "metadata": {},
   "outputs": [
    {
     "data": {
      "image/png": "[encoded data removed]",
      "text/plain": [
       "plot without title"
      ]
     },
     "metadata": {
      "image/png": {
       "height": 420,
       "width": 420
      }
     },
     "output_type": "display_data"
    }
   ],
   "source": [
    "plot(fittimes2)"
   ]
  },
  {
   "cell_type": "code",
   "execution_count": 118,
   "id": "175ab337",
   "metadata": {},
   "outputs": [
    {
     "data": {
      "text/html": [
       "<table class=\"dataframe\">\n",
       "<caption>A matrix: 1 × 7 of type dbl</caption>\n",
       "<thead>\n",
       "\t<tr><th></th><th scope=col>ME</th><th scope=col>RMSE</th><th scope=col>MAE</th><th scope=col>MPE</th><th scope=col>MAPE</th><th scope=col>MASE</th><th scope=col>ACF1</th></tr>\n",
       "</thead>\n",
       "<tbody>\n",
       "\t<tr><th scope=row>Training set</th><td>-13.36338</td><td>146.3111</td><td>54.91991</td><td>-93.07826</td><td>97.21674</td><td>0.2847079</td><td>0.6748809</td></tr>\n",
       "</tbody>\n",
       "</table>\n"
      ],
      "text/latex": [
       "A matrix: 1 × 7 of type dbl\n",
       "\\begin{tabular}{r|lllllll}\n",
       "  & ME & RMSE & MAE & MPE & MAPE & MASE & ACF1\\\\\n",
       "\\hline\n",
       "\tTraining set & -13.36338 & 146.3111 & 54.91991 & -93.07826 & 97.21674 & 0.2847079 & 0.6748809\\\\\n",
       "\\end{tabular}\n"
      ],
      "text/markdown": [
       "\n",
       "A matrix: 1 × 7 of type dbl\n",
       "\n",
       "| <!--/--> | ME | RMSE | MAE | MPE | MAPE | MASE | ACF1 |\n",
       "|---|---|---|---|---|---|---|---|\n",
       "| Training set | -13.36338 | 146.3111 | 54.91991 | -93.07826 | 97.21674 | 0.2847079 | 0.6748809 |\n",
       "\n"
      ],
      "text/plain": [
       "             ME        RMSE     MAE      MPE       MAPE     MASE      ACF1     \n",
       "Training set -13.36338 146.3111 54.91991 -93.07826 97.21674 0.2847079 0.6748809"
      ]
     },
     "metadata": {},
     "output_type": "display_data"
    }
   ],
   "source": [
    "accuracy(fittimes2)"
   ]
  },
  {
   "cell_type": "code",
   "execution_count": 119,
   "id": "45434e72",
   "metadata": {},
   "outputs": [],
   "source": [
    "# fcast.randomwalk<-rwf(htrain, h=6, drift = TRUE)\n",
    "# summary(fcast.randomwalk)"
   ]
  },
  {
   "cell_type": "code",
   "execution_count": 120,
   "id": "2b71dc0e",
   "metadata": {},
   "outputs": [],
   "source": [
    "# htrain %>% tsCV(forecastfunction =rwf, drift=TRUE, h=1) ->e\n",
    "# e^2 %>% mean(na.rm=TRUE) %>% sqrt()"
   ]
  },
  {
   "cell_type": "markdown",
   "id": "43b5b94f",
   "metadata": {},
   "source": [
    "# ARIMA MODELS"
   ]
  },
  {
   "cell_type": "code",
   "execution_count": 121,
   "id": "9e253c94",
   "metadata": {},
   "outputs": [
    {
     "data": {
      "image/png": "[encoded data removed]",
      "text/plain": [
       "Plot with title \"Series  times\""
      ]
     },
     "metadata": {
      "image/png": {
       "height": 420,
       "width": 420
      }
     },
     "output_type": "display_data"
    }
   ],
   "source": [
    "acf(times) #as we can see that corealation exists here and is not stationary STATIONARY TEST"
   ]
  },
  {
   "cell_type": "code",
   "execution_count": 122,
   "id": "7f2d1424",
   "metadata": {},
   "outputs": [
    {
     "data": {
      "image/png": "[encoded data removed]",
      "text/plain": [
       "Plot with title \"Series  times\""
      ]
     },
     "metadata": {
      "image/png": {
       "height": 420,
       "width": 420
      }
     },
     "output_type": "display_data"
    }
   ],
   "source": [
    "pacf(times)"
   ]
  },
  {
   "cell_type": "code",
   "execution_count": 125,
   "id": "64c2aa4c",
   "metadata": {},
   "outputs": [
    {
     "data": {
      "text/plain": [
       "\n",
       "\tAugmented Dickey-Fuller Test\n",
       "\n",
       "data:  times\n",
       "Dickey-Fuller = -2.2493, Lag order = 5, p-value = 0.4725\n",
       "alternative hypothesis: stationary\n"
      ]
     },
     "metadata": {},
     "output_type": "display_data"
    }
   ],
   "source": [
    "adf.test(times) #here we can see that p value in not less than 0.05"
   ]
  },
  {
   "cell_type": "code",
   "execution_count": 127,
   "id": "3d730b3a",
   "metadata": {},
   "outputs": [],
   "source": [
    "ttimes <- diff(log(times))"
   ]
  },
  {
   "cell_type": "code",
   "execution_count": 128,
   "id": "c3f3aa58",
   "metadata": {},
   "outputs": [
    {
     "data": {
      "image/png": "[encoded data removed]",
      "text/plain": [
       "Plot with title \"Series  ttimes\""
      ]
     },
     "metadata": {
      "image/png": {
       "height": 420,
       "width": 420
      }
     },
     "output_type": "display_data"
    }
   ],
   "source": [
    "acf(ttimes)"
   ]
  },
  {
   "cell_type": "code",
   "execution_count": 130,
   "id": "9568b1ef",
   "metadata": {},
   "outputs": [
    {
     "data": {
      "image/png": "[encoded data removed]",
      "text/plain": [
       "Plot with title \"Series  ttimes\""
      ]
     },
     "metadata": {
      "image/png": {
       "height": 420,
       "width": 420
      }
     },
     "output_type": "display_data"
    }
   ],
   "source": [
    "pacf(ttimes)"
   ]
  },
  {
   "cell_type": "code",
   "execution_count": 131,
   "id": "9e6ff7f2",
   "metadata": {},
   "outputs": [
    {
     "name": "stderr",
     "output_type": "stream",
     "text": [
      "Warning message in adf.test(ttimes):\n",
      "\"p-value smaller than printed p-value\"\n"
     ]
    },
    {
     "data": {
      "text/plain": [
       "\n",
       "\tAugmented Dickey-Fuller Test\n",
       "\n",
       "data:  ttimes\n",
       "Dickey-Fuller = -6.219, Lag order = 5, p-value = 0.01\n",
       "alternative hypothesis: stationary\n"
      ]
     },
     "metadata": {},
     "output_type": "display_data"
    }
   ],
   "source": [
    "adf.test(ttimes)"
   ]
  },
  {
   "cell_type": "code",
   "execution_count": 138,
   "id": "c6ae5cff",
   "metadata": {},
   "outputs": [],
   "source": [
    "artrain <- window(ttimes, end = c(2020,12))\n",
    "artest <- window(ttimes, start = c(2021,1), end= c(2021,6))"
   ]
  },
  {
   "cell_type": "code",
   "execution_count": 139,
   "id": "caa3732f",
   "metadata": {},
   "outputs": [
    {
     "name": "stdout",
     "output_type": "stream",
     "text": [
      "\n",
      " ARIMA(2,0,2)(1,0,1)[12] with non-zero mean : 129.212\n",
      " ARIMA(0,0,0)            with non-zero mean : 136.584\n",
      " ARIMA(1,0,0)(1,0,0)[12] with non-zero mean : 136.3811\n",
      " ARIMA(0,0,1)(0,0,1)[12] with non-zero mean : 136.6627\n",
      " ARIMA(0,0,0)            with zero mean     : 134.6972\n",
      " ARIMA(2,0,2)(0,0,1)[12] with non-zero mean : 129.3082\n",
      " ARIMA(2,0,2)(1,0,0)[12] with non-zero mean : 128.1965\n",
      " ARIMA(2,0,2)            with non-zero mean : 129.1532\n",
      " ARIMA(2,0,2)(2,0,0)[12] with non-zero mean : 129.487\n",
      " ARIMA(2,0,2)(2,0,1)[12] with non-zero mean : 131.2112\n",
      " ARIMA(1,0,2)(1,0,0)[12] with non-zero mean : 130.3414\n",
      " ARIMA(2,0,1)(1,0,0)[12] with non-zero mean : 127.49\n",
      " ARIMA(2,0,1)            with non-zero mean : 128.1131\n",
      " ARIMA(2,0,1)(2,0,0)[12] with non-zero mean : 128.9303\n",
      " ARIMA(2,0,1)(1,0,1)[12] with non-zero mean : 128.7011\n",
      " ARIMA(2,0,1)(0,0,1)[12] with non-zero mean : 128.3316\n",
      " ARIMA(2,0,1)(2,0,1)[12] with non-zero mean : 130.6998\n",
      " ARIMA(1,0,1)(1,0,0)[12] with non-zero mean : 137.9615\n",
      " ARIMA(2,0,0)(1,0,0)[12] with non-zero mean : 135.9581\n",
      " ARIMA(3,0,1)(1,0,0)[12] with non-zero mean : 125.2626\n",
      " ARIMA(3,0,1)            with non-zero mean : 126.7873\n",
      " ARIMA(3,0,1)(2,0,0)[12] with non-zero mean : 126.6798\n",
      " ARIMA(3,0,1)(1,0,1)[12] with non-zero mean : 126.4168\n",
      " ARIMA(3,0,1)(0,0,1)[12] with non-zero mean : 126.387\n",
      " ARIMA(3,0,1)(2,0,1)[12] with non-zero mean : 128.4159\n",
      " ARIMA(3,0,0)(1,0,0)[12] with non-zero mean : 124.453\n",
      " ARIMA(3,0,0)            with non-zero mean : 126.2958\n",
      " ARIMA(3,0,0)(2,0,0)[12] with non-zero mean : 125.8245\n",
      " ARIMA(3,0,0)(1,0,1)[12] with non-zero mean : 125.5219\n",
      " ARIMA(3,0,0)(0,0,1)[12] with non-zero mean : 125.7016\n",
      " ARIMA(3,0,0)(2,0,1)[12] with non-zero mean : 127.5191\n",
      " ARIMA(4,0,0)(1,0,0)[12] with non-zero mean : 125.1056\n",
      " ARIMA(4,0,1)(1,0,0)[12] with non-zero mean : Inf\n",
      " ARIMA(3,0,0)(1,0,0)[12] with zero mean     : 122.6975\n",
      " ARIMA(3,0,0)            with zero mean     : 124.4755\n",
      " ARIMA(3,0,0)(2,0,0)[12] with zero mean     : 124.0622\n",
      " ARIMA(3,0,0)(1,0,1)[12] with zero mean     : 123.7229\n",
      " ARIMA(3,0,0)(0,0,1)[12] with zero mean     : 123.9251\n",
      " ARIMA(3,0,0)(2,0,1)[12] with zero mean     : 125.7163\n",
      " ARIMA(2,0,0)(1,0,0)[12] with zero mean     : 134.0912\n",
      " ARIMA(4,0,0)(1,0,0)[12] with zero mean     : 123.4053\n",
      " ARIMA(3,0,1)(1,0,0)[12] with zero mean     : 123.5832\n",
      " ARIMA(2,0,1)(1,0,0)[12] with zero mean     : 126.1073\n",
      " ARIMA(4,0,1)(1,0,0)[12] with zero mean     : Inf\n",
      "\n",
      " Best model: ARIMA(3,0,0)(1,0,0)[12] with zero mean     \n",
      "\n"
     ]
    }
   ],
   "source": [
    "armodel <- auto.arima(artrain, ic=\"aic\", trace=TRUE) #124 AIC"
   ]
  },
  {
   "cell_type": "code",
   "execution_count": 140,
   "id": "fc4cc942",
   "metadata": {},
   "outputs": [
    {
     "data": {
      "text/plain": [
       "Series: artrain \n",
       "ARIMA(3,0,0)(1,0,0)[12] with zero mean \n",
       "\n",
       "Coefficients:\n",
       "         ar1      ar2      ar3    sar1\n",
       "      0.0986  -0.0906  -0.3135  0.3763\n",
       "s.e.  0.0834   0.0840   0.0830  0.1793\n",
       "\n",
       "sigma^2 = 0.1404:  log likelihood = -56.35\n",
       "AIC=122.7   AICc=123.18   BIC=137.07"
      ]
     },
     "metadata": {},
     "output_type": "display_data"
    }
   ],
   "source": [
    "armodel"
   ]
  },
  {
   "cell_type": "code",
   "execution_count": 141,
   "id": "17fdd99e",
   "metadata": {},
   "outputs": [],
   "source": [
    "armodelforecast <- forecast(armodel, h=6)"
   ]
  },
  {
   "cell_type": "code",
   "execution_count": 143,
   "id": "f47722aa",
   "metadata": {},
   "outputs": [
    {
     "data": {
      "text/plain": [
       "         Point Forecast      Lo 80       Hi 80      Lo 95      Hi 95\n",
       "Jan 2021     0.15845080 -0.3216727  0.63857432 -0.5758348  0.8927364\n",
       "Feb 2021     0.09233765 -0.3901137  0.57478900 -0.6455080  0.8301833\n",
       "Mar 2021    -0.45905831 -0.9430705  0.02495386 -1.1992910  0.2811744\n",
       "Apr 2021    -1.52289024 -2.0322361 -1.01354435 -2.3018676 -0.7439129\n",
       "May 2021     0.22493195 -0.2851270  0.73499088 -0.5551359  1.0049998\n",
       "Jun 2021     0.35506782 -0.1555504  0.86568604 -0.4258554  1.1359910"
      ]
     },
     "metadata": {},
     "output_type": "display_data"
    }
   ],
   "source": [
    "armodelforecast"
   ]
  },
  {
   "cell_type": "code",
   "execution_count": 144,
   "id": "48f76edc",
   "metadata": {},
   "outputs": [
    {
     "data": {
      "image/png": "[encoded data removed]",
      "text/plain": [
       "Plot with title \"Forecasts from ARIMA(3,0,0)(1,0,0)[12] with zero mean\""
      ]
     },
     "metadata": {
      "image/png": {
       "height": 420,
       "width": 420
      }
     },
     "output_type": "display_data"
    }
   ],
   "source": [
    "plot(armodelforecast)"
   ]
  },
  {
   "cell_type": "code",
   "execution_count": 148,
   "id": "4dc4cb01",
   "metadata": {},
   "outputs": [
    {
     "data": {
      "text/plain": [
       "\n",
       "\tBox-Ljung test\n",
       "\n",
       "data:  armodelforecast$resid\n",
       "X-squared = 6.7647, df = 20, p-value = 0.9974\n"
      ]
     },
     "metadata": {},
     "output_type": "display_data"
    }
   ],
   "source": [
    "Box.test(armodelforecast$resid, lag=20, type=\"Ljung-Box\") \n",
    "#The Box-Ljung test assumes the null-hypothesis that the autocorrelations are zero\n",
    "\n",
    "# VALIDATION TEST: here we can see that pvalue is greater than 0.05 means there is no correlation exists "
   ]
  },
  {
   "cell_type": "code",
   "execution_count": 177,
   "id": "92466f23",
   "metadata": {},
   "outputs": [
    {
     "data": {
      "text/html": [
       "<table class=\"dataframe\">\n",
       "<caption>A matrix: 1 × 7 of type dbl</caption>\n",
       "<thead>\n",
       "\t<tr><th></th><th scope=col>ME</th><th scope=col>RMSE</th><th scope=col>MAE</th><th scope=col>MPE</th><th scope=col>MAPE</th><th scope=col>MASE</th><th scope=col>ACF1</th></tr>\n",
       "</thead>\n",
       "<tbody>\n",
       "\t<tr><th scope=row>Training set</th><td>-0.01691782</td><td>0.3688783</td><td>0.1259018</td><td>47.98806</td><td>121.409</td><td>1.17816</td><td>-0.03295775</td></tr>\n",
       "</tbody>\n",
       "</table>\n"
      ],
      "text/latex": [
       "A matrix: 1 × 7 of type dbl\n",
       "\\begin{tabular}{r|lllllll}\n",
       "  & ME & RMSE & MAE & MPE & MAPE & MASE & ACF1\\\\\n",
       "\\hline\n",
       "\tTraining set & -0.01691782 & 0.3688783 & 0.1259018 & 47.98806 & 121.409 & 1.17816 & -0.03295775\\\\\n",
       "\\end{tabular}\n"
      ],
      "text/markdown": [
       "\n",
       "A matrix: 1 × 7 of type dbl\n",
       "\n",
       "| <!--/--> | ME | RMSE | MAE | MPE | MAPE | MASE | ACF1 |\n",
       "|---|---|---|---|---|---|---|---|\n",
       "| Training set | -0.01691782 | 0.3688783 | 0.1259018 | 47.98806 | 121.409 | 1.17816 | -0.03295775 |\n",
       "\n"
      ],
      "text/plain": [
       "             ME          RMSE      MAE       MPE      MAPE    MASE   \n",
       "Training set -0.01691782 0.3688783 0.1259018 47.98806 121.409 1.17816\n",
       "             ACF1       \n",
       "Training set -0.03295775"
      ]
     },
     "metadata": {},
     "output_type": "display_data"
    }
   ],
   "source": [
    "accuracy(armodelforecast)"
   ]
  },
  {
   "cell_type": "code",
   "execution_count": 156,
   "id": "3c1d56bc",
   "metadata": {},
   "outputs": [],
   "source": [
    "armodel2 <- arima(artrain, order=c(0,0,0))"
   ]
  },
  {
   "cell_type": "code",
   "execution_count": 158,
   "id": "e8907e45",
   "metadata": {},
   "outputs": [
    {
     "data": {
      "text/plain": [
       "\n",
       "Call:\n",
       "arima(x = artrain, order = c(0, 0, 0))\n",
       "\n",
       "Coefficients:\n",
       "      intercept\n",
       "        -0.0118\n",
       "s.e.     0.0351\n",
       "\n",
       "sigma^2 estimated as 0.1611:  log likelihood = -66.29,  aic = 136.58"
      ]
     },
     "metadata": {},
     "output_type": "display_data"
    }
   ],
   "source": [
    "armodel2"
   ]
  },
  {
   "cell_type": "code",
   "execution_count": 163,
   "id": "1b0fbb86",
   "metadata": {},
   "outputs": [
    {
     "data": {
      "text/plain": [
       "\n",
       "\tBox-Ljung test\n",
       "\n",
       "data:  armodel2$residual\n",
       "X-squared = 2.0623, df = 1, p-value = 0.151\n"
      ]
     },
     "metadata": {},
     "output_type": "display_data"
    }
   ],
   "source": [
    "Box.test(armodel2$residual, type='Ljung')"
   ]
  },
  {
   "cell_type": "code",
   "execution_count": 165,
   "id": "1f8eb175",
   "metadata": {},
   "outputs": [],
   "source": [
    "armodel3 <- arima(artrain, order=c(2,0,1))"
   ]
  },
  {
   "cell_type": "code",
   "execution_count": 166,
   "id": "fedeec31",
   "metadata": {},
   "outputs": [
    {
     "data": {
      "text/plain": [
       "\n",
       "Call:\n",
       "arima(x = artrain, order = c(2, 0, 1))\n",
       "\n",
       "Coefficients:\n",
       "         ar1      ar2      ma1  intercept\n",
       "      0.8911  -0.2854  -0.8128    -0.0123\n",
       "s.e.  0.1268   0.0875   0.1085     0.0162\n",
       "\n",
       "sigma^2 estimated as 0.1438:  log likelihood = -59.06,  aic = 128.11"
      ]
     },
     "metadata": {},
     "output_type": "display_data"
    }
   ],
   "source": [
    "armodel3"
   ]
  },
  {
   "cell_type": "code",
   "execution_count": 171,
   "id": "86006874",
   "metadata": {},
   "outputs": [
    {
     "data": {
      "text/plain": [
       "\n",
       "\tBox-Ljung test\n",
       "\n",
       "data:  armodel3$residual\n",
       "X-squared = 0.097871, df = 1, p-value = 0.7544\n"
      ]
     },
     "metadata": {},
     "output_type": "display_data"
    }
   ],
   "source": [
    "Box.test(armodel3$residual, type='Ljung')"
   ]
  },
  {
   "cell_type": "code",
   "execution_count": 172,
   "id": "71e0dd4c",
   "metadata": {},
   "outputs": [
    {
     "data": {
      "text/html": [
       "<table class=\"dataframe\">\n",
       "<caption>A matrix: 1 × 7 of type dbl</caption>\n",
       "<thead>\n",
       "\t<tr><th></th><th scope=col>ME</th><th scope=col>RMSE</th><th scope=col>MAE</th><th scope=col>MPE</th><th scope=col>MAPE</th><th scope=col>MASE</th><th scope=col>ACF1</th></tr>\n",
       "</thead>\n",
       "<tbody>\n",
       "\t<tr><th scope=row>Training set</th><td>0.002124223</td><td>0.3792564</td><td>0.1582291</td><td>125.9098</td><td>219.7326</td><td>0.7808735</td><td>-0.02702318</td></tr>\n",
       "</tbody>\n",
       "</table>\n"
      ],
      "text/latex": [
       "A matrix: 1 × 7 of type dbl\n",
       "\\begin{tabular}{r|lllllll}\n",
       "  & ME & RMSE & MAE & MPE & MAPE & MASE & ACF1\\\\\n",
       "\\hline\n",
       "\tTraining set & 0.002124223 & 0.3792564 & 0.1582291 & 125.9098 & 219.7326 & 0.7808735 & -0.02702318\\\\\n",
       "\\end{tabular}\n"
      ],
      "text/markdown": [
       "\n",
       "A matrix: 1 × 7 of type dbl\n",
       "\n",
       "| <!--/--> | ME | RMSE | MAE | MPE | MAPE | MASE | ACF1 |\n",
       "|---|---|---|---|---|---|---|---|\n",
       "| Training set | 0.002124223 | 0.3792564 | 0.1582291 | 125.9098 | 219.7326 | 0.7808735 | -0.02702318 |\n",
       "\n"
      ],
      "text/plain": [
       "             ME          RMSE      MAE       MPE      MAPE     MASE     \n",
       "Training set 0.002124223 0.3792564 0.1582291 125.9098 219.7326 0.7808735\n",
       "             ACF1       \n",
       "Training set -0.02702318"
      ]
     },
     "metadata": {},
     "output_type": "display_data"
    }
   ],
   "source": [
    "accuracy(armodel3)"
   ]
  }
 ],
 "metadata": {
  "kernelspec": {
   "display_name": "R",
   "language": "R",
   "name": "ir"
  },
  "language_info": {
   "codemirror_mode": "r",
   "file_extension": ".r",
   "mimetype": "text/x-r-source",
   "name": "R",
   "pygments_lexer": "r",
   "version": "4.2.2"
  }
 },
 "nbformat": 4,
 "nbformat_minor": 5
}

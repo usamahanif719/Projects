{
 "cells": [
  {
   "cell_type": "markdown",
   "id": "47560a8e",
   "metadata": {},
   "source": [
    "# Loading Libraries"
   ]
  },
  {
   "cell_type": "code",
   "execution_count": 79,
   "id": "446197be",
   "metadata": {},
   "outputs": [
    {
     "name": "stderr",
     "output_type": "stream",
     "text": [
      "corrplot 0.92 loaded\n",
      "\n"
     ]
    }
   ],
   "source": [
    "library(ggplot2)\n",
    "library(dplyr)\n",
    "library(ggthemes)\n",
    "library(tidyr)\n",
    "library(psych)\n",
    "library(plotly)\n",
    "library(lime)\n",
    "library(GGally)\n",
    "library(performance) \n",
    "library(MLmetrics)\n",
    "library(lmtest)\n",
    "library(car)\n",
    "library(DataExplorer)\n",
    "library(caret)\n",
    "library(ROCR)\n",
    "library(corrplot)\n",
    "library(pROC)"
   ]
  },
  {
   "cell_type": "markdown",
   "id": "34221edd",
   "metadata": {},
   "source": [
    "# Reading Data"
   ]
  },
  {
   "cell_type": "code",
   "execution_count": 2,
   "id": "4b9e4ac4",
   "metadata": {},
   "outputs": [],
   "source": [
    "data <- read.csv('default of credit card clients.csv')"
   ]
  },
  {
   "cell_type": "code",
   "execution_count": 3,
   "id": "e74b0b88",
   "metadata": {},
   "outputs": [
    {
     "data": {
      "text/html": [
       "<table class=\"dataframe\">\n",
       "<caption>A data.frame: 6 × 25</caption>\n",
       "<thead>\n",
       "\t<tr><th></th><th scope=col>ID</th><th scope=col>LIMIT_BAL</th><th scope=col>SEX</th><th scope=col>EDUCATION</th><th scope=col>MARRIAGE</th><th scope=col>AGE</th><th scope=col>PAY_0</th><th scope=col>PAY_2</th><th scope=col>PAY_3</th><th scope=col>PAY_4</th><th scope=col>⋯</th><th scope=col>BILL_AMT4</th><th scope=col>BILL_AMT5</th><th scope=col>BILL_AMT6</th><th scope=col>PAY_AMT1</th><th scope=col>PAY_AMT2</th><th scope=col>PAY_AMT3</th><th scope=col>PAY_AMT4</th><th scope=col>PAY_AMT5</th><th scope=col>PAY_AMT6</th><th scope=col>default.payment.next.month</th></tr>\n",
       "\t<tr><th></th><th scope=col>&lt;int&gt;</th><th scope=col>&lt;dbl&gt;</th><th scope=col>&lt;int&gt;</th><th scope=col>&lt;int&gt;</th><th scope=col>&lt;int&gt;</th><th scope=col>&lt;int&gt;</th><th scope=col>&lt;int&gt;</th><th scope=col>&lt;int&gt;</th><th scope=col>&lt;int&gt;</th><th scope=col>&lt;int&gt;</th><th scope=col>⋯</th><th scope=col>&lt;dbl&gt;</th><th scope=col>&lt;dbl&gt;</th><th scope=col>&lt;dbl&gt;</th><th scope=col>&lt;dbl&gt;</th><th scope=col>&lt;dbl&gt;</th><th scope=col>&lt;dbl&gt;</th><th scope=col>&lt;dbl&gt;</th><th scope=col>&lt;dbl&gt;</th><th scope=col>&lt;dbl&gt;</th><th scope=col>&lt;int&gt;</th></tr>\n",
       "</thead>\n",
       "<tbody>\n",
       "\t<tr><th scope=row>1</th><td>1</td><td> 20000</td><td>2</td><td>2</td><td>1</td><td>24</td><td> 2</td><td>2</td><td>-1</td><td>-1</td><td>⋯</td><td>    0</td><td>    0</td><td>    0</td><td>   0</td><td>  689</td><td>    0</td><td>   0</td><td>   0</td><td>   0</td><td>1</td></tr>\n",
       "\t<tr><th scope=row>2</th><td>2</td><td>120000</td><td>2</td><td>2</td><td>2</td><td>26</td><td>-1</td><td>2</td><td> 0</td><td> 0</td><td>⋯</td><td> 3272</td><td> 3455</td><td> 3261</td><td>   0</td><td> 1000</td><td> 1000</td><td>1000</td><td>   0</td><td>2000</td><td>1</td></tr>\n",
       "\t<tr><th scope=row>3</th><td>3</td><td> 90000</td><td>2</td><td>2</td><td>2</td><td>34</td><td> 0</td><td>0</td><td> 0</td><td> 0</td><td>⋯</td><td>14331</td><td>14948</td><td>15549</td><td>1518</td><td> 1500</td><td> 1000</td><td>1000</td><td>1000</td><td>5000</td><td>0</td></tr>\n",
       "\t<tr><th scope=row>4</th><td>4</td><td> 50000</td><td>2</td><td>2</td><td>1</td><td>37</td><td> 0</td><td>0</td><td> 0</td><td> 0</td><td>⋯</td><td>28314</td><td>28959</td><td>29547</td><td>2000</td><td> 2019</td><td> 1200</td><td>1100</td><td>1069</td><td>1000</td><td>0</td></tr>\n",
       "\t<tr><th scope=row>5</th><td>5</td><td> 50000</td><td>1</td><td>2</td><td>1</td><td>57</td><td>-1</td><td>0</td><td>-1</td><td> 0</td><td>⋯</td><td>20940</td><td>19146</td><td>19131</td><td>2000</td><td>36681</td><td>10000</td><td>9000</td><td> 689</td><td> 679</td><td>0</td></tr>\n",
       "\t<tr><th scope=row>6</th><td>6</td><td> 50000</td><td>1</td><td>1</td><td>2</td><td>37</td><td> 0</td><td>0</td><td> 0</td><td> 0</td><td>⋯</td><td>19394</td><td>19619</td><td>20024</td><td>2500</td><td> 1815</td><td>  657</td><td>1000</td><td>1000</td><td> 800</td><td>0</td></tr>\n",
       "</tbody>\n",
       "</table>\n"
      ],
      "text/latex": [
       "A data.frame: 6 × 25\n",
       "\\begin{tabular}{r|lllllllllllllllllllll}\n",
       "  & ID & LIMIT\\_BAL & SEX & EDUCATION & MARRIAGE & AGE & PAY\\_0 & PAY\\_2 & PAY\\_3 & PAY\\_4 & ⋯ & BILL\\_AMT4 & BILL\\_AMT5 & BILL\\_AMT6 & PAY\\_AMT1 & PAY\\_AMT2 & PAY\\_AMT3 & PAY\\_AMT4 & PAY\\_AMT5 & PAY\\_AMT6 & default.payment.next.month\\\\\n",
       "  & <int> & <dbl> & <int> & <int> & <int> & <int> & <int> & <int> & <int> & <int> & ⋯ & <dbl> & <dbl> & <dbl> & <dbl> & <dbl> & <dbl> & <dbl> & <dbl> & <dbl> & <int>\\\\\n",
       "\\hline\n",
       "\t1 & 1 &  20000 & 2 & 2 & 1 & 24 &  2 & 2 & -1 & -1 & ⋯ &     0 &     0 &     0 &    0 &   689 &     0 &    0 &    0 &    0 & 1\\\\\n",
       "\t2 & 2 & 120000 & 2 & 2 & 2 & 26 & -1 & 2 &  0 &  0 & ⋯ &  3272 &  3455 &  3261 &    0 &  1000 &  1000 & 1000 &    0 & 2000 & 1\\\\\n",
       "\t3 & 3 &  90000 & 2 & 2 & 2 & 34 &  0 & 0 &  0 &  0 & ⋯ & 14331 & 14948 & 15549 & 1518 &  1500 &  1000 & 1000 & 1000 & 5000 & 0\\\\\n",
       "\t4 & 4 &  50000 & 2 & 2 & 1 & 37 &  0 & 0 &  0 &  0 & ⋯ & 28314 & 28959 & 29547 & 2000 &  2019 &  1200 & 1100 & 1069 & 1000 & 0\\\\\n",
       "\t5 & 5 &  50000 & 1 & 2 & 1 & 57 & -1 & 0 & -1 &  0 & ⋯ & 20940 & 19146 & 19131 & 2000 & 36681 & 10000 & 9000 &  689 &  679 & 0\\\\\n",
       "\t6 & 6 &  50000 & 1 & 1 & 2 & 37 &  0 & 0 &  0 &  0 & ⋯ & 19394 & 19619 & 20024 & 2500 &  1815 &   657 & 1000 & 1000 &  800 & 0\\\\\n",
       "\\end{tabular}\n"
      ],
      "text/markdown": [
       "\n",
       "A data.frame: 6 × 25\n",
       "\n",
       "| <!--/--> | ID &lt;int&gt; | LIMIT_BAL &lt;dbl&gt; | SEX &lt;int&gt; | EDUCATION &lt;int&gt; | MARRIAGE &lt;int&gt; | AGE &lt;int&gt; | PAY_0 &lt;int&gt; | PAY_2 &lt;int&gt; | PAY_3 &lt;int&gt; | PAY_4 &lt;int&gt; | ⋯ ⋯ | BILL_AMT4 &lt;dbl&gt; | BILL_AMT5 &lt;dbl&gt; | BILL_AMT6 &lt;dbl&gt; | PAY_AMT1 &lt;dbl&gt; | PAY_AMT2 &lt;dbl&gt; | PAY_AMT3 &lt;dbl&gt; | PAY_AMT4 &lt;dbl&gt; | PAY_AMT5 &lt;dbl&gt; | PAY_AMT6 &lt;dbl&gt; | default.payment.next.month &lt;int&gt; |\n",
       "|---|---|---|---|---|---|---|---|---|---|---|---|---|---|---|---|---|---|---|---|---|---|\n",
       "| 1 | 1 |  20000 | 2 | 2 | 1 | 24 |  2 | 2 | -1 | -1 | ⋯ |     0 |     0 |     0 |    0 |   689 |     0 |    0 |    0 |    0 | 1 |\n",
       "| 2 | 2 | 120000 | 2 | 2 | 2 | 26 | -1 | 2 |  0 |  0 | ⋯ |  3272 |  3455 |  3261 |    0 |  1000 |  1000 | 1000 |    0 | 2000 | 1 |\n",
       "| 3 | 3 |  90000 | 2 | 2 | 2 | 34 |  0 | 0 |  0 |  0 | ⋯ | 14331 | 14948 | 15549 | 1518 |  1500 |  1000 | 1000 | 1000 | 5000 | 0 |\n",
       "| 4 | 4 |  50000 | 2 | 2 | 1 | 37 |  0 | 0 |  0 |  0 | ⋯ | 28314 | 28959 | 29547 | 2000 |  2019 |  1200 | 1100 | 1069 | 1000 | 0 |\n",
       "| 5 | 5 |  50000 | 1 | 2 | 1 | 57 | -1 | 0 | -1 |  0 | ⋯ | 20940 | 19146 | 19131 | 2000 | 36681 | 10000 | 9000 |  689 |  679 | 0 |\n",
       "| 6 | 6 |  50000 | 1 | 1 | 2 | 37 |  0 | 0 |  0 |  0 | ⋯ | 19394 | 19619 | 20024 | 2500 |  1815 |   657 | 1000 | 1000 |  800 | 0 |\n",
       "\n"
      ],
      "text/plain": [
       "  ID LIMIT_BAL SEX EDUCATION MARRIAGE AGE PAY_0 PAY_2 PAY_3 PAY_4 ⋯ BILL_AMT4\n",
       "1 1   20000    2   2         1        24   2    2     -1    -1    ⋯     0    \n",
       "2 2  120000    2   2         2        26  -1    2      0     0    ⋯  3272    \n",
       "3 3   90000    2   2         2        34   0    0      0     0    ⋯ 14331    \n",
       "4 4   50000    2   2         1        37   0    0      0     0    ⋯ 28314    \n",
       "5 5   50000    1   2         1        57  -1    0     -1     0    ⋯ 20940    \n",
       "6 6   50000    1   1         2        37   0    0      0     0    ⋯ 19394    \n",
       "  BILL_AMT5 BILL_AMT6 PAY_AMT1 PAY_AMT2 PAY_AMT3 PAY_AMT4 PAY_AMT5 PAY_AMT6\n",
       "1     0         0        0       689        0       0        0        0    \n",
       "2  3455      3261        0      1000     1000    1000        0     2000    \n",
       "3 14948     15549     1518      1500     1000    1000     1000     5000    \n",
       "4 28959     29547     2000      2019     1200    1100     1069     1000    \n",
       "5 19146     19131     2000     36681    10000    9000      689      679    \n",
       "6 19619     20024     2500      1815      657    1000     1000      800    \n",
       "  default.payment.next.month\n",
       "1 1                         \n",
       "2 1                         \n",
       "3 0                         \n",
       "4 0                         \n",
       "5 0                         \n",
       "6 0                         "
      ]
     },
     "metadata": {},
     "output_type": "display_data"
    }
   ],
   "source": [
    "head(data)"
   ]
  },
  {
   "cell_type": "code",
   "execution_count": 4,
   "id": "36adabb5",
   "metadata": {},
   "outputs": [
    {
     "data": {
      "text/plain": [
       "       ID          LIMIT_BAL            SEX          EDUCATION    \n",
       " Min.   :    1   Min.   :  10000   Min.   :1.000   Min.   :0.000  \n",
       " 1st Qu.: 7501   1st Qu.:  50000   1st Qu.:1.000   1st Qu.:1.000  \n",
       " Median :15000   Median : 140000   Median :2.000   Median :2.000  \n",
       " Mean   :15000   Mean   : 167484   Mean   :1.604   Mean   :1.853  \n",
       " 3rd Qu.:22500   3rd Qu.: 240000   3rd Qu.:2.000   3rd Qu.:2.000  \n",
       " Max.   :30000   Max.   :1000000   Max.   :2.000   Max.   :6.000  \n",
       "    MARRIAGE          AGE            PAY_0             PAY_2        \n",
       " Min.   :0.000   Min.   :21.00   Min.   :-2.0000   Min.   :-2.0000  \n",
       " 1st Qu.:1.000   1st Qu.:28.00   1st Qu.:-1.0000   1st Qu.:-1.0000  \n",
       " Median :2.000   Median :34.00   Median : 0.0000   Median : 0.0000  \n",
       " Mean   :1.552   Mean   :35.49   Mean   :-0.0167   Mean   :-0.1338  \n",
       " 3rd Qu.:2.000   3rd Qu.:41.00   3rd Qu.: 0.0000   3rd Qu.: 0.0000  \n",
       " Max.   :3.000   Max.   :79.00   Max.   : 8.0000   Max.   : 8.0000  \n",
       "     PAY_3             PAY_4             PAY_5             PAY_6        \n",
       " Min.   :-2.0000   Min.   :-2.0000   Min.   :-2.0000   Min.   :-2.0000  \n",
       " 1st Qu.:-1.0000   1st Qu.:-1.0000   1st Qu.:-1.0000   1st Qu.:-1.0000  \n",
       " Median : 0.0000   Median : 0.0000   Median : 0.0000   Median : 0.0000  \n",
       " Mean   :-0.1662   Mean   :-0.2207   Mean   :-0.2662   Mean   :-0.2911  \n",
       " 3rd Qu.: 0.0000   3rd Qu.: 0.0000   3rd Qu.: 0.0000   3rd Qu.: 0.0000  \n",
       " Max.   : 8.0000   Max.   : 8.0000   Max.   : 8.0000   Max.   : 8.0000  \n",
       "   BILL_AMT1         BILL_AMT2        BILL_AMT3         BILL_AMT4      \n",
       " Min.   :-165580   Min.   :-69777   Min.   :-157264   Min.   :-170000  \n",
       " 1st Qu.:   3559   1st Qu.:  2985   1st Qu.:   2666   1st Qu.:   2327  \n",
       " Median :  22382   Median : 21200   Median :  20089   Median :  19052  \n",
       " Mean   :  51223   Mean   : 49179   Mean   :  47013   Mean   :  43263  \n",
       " 3rd Qu.:  67091   3rd Qu.: 64006   3rd Qu.:  60165   3rd Qu.:  54506  \n",
       " Max.   : 964511   Max.   :983931   Max.   :1664089   Max.   : 891586  \n",
       "   BILL_AMT5        BILL_AMT6          PAY_AMT1         PAY_AMT2      \n",
       " Min.   :-81334   Min.   :-339603   Min.   :     0   Min.   :      0  \n",
       " 1st Qu.:  1763   1st Qu.:   1256   1st Qu.:  1000   1st Qu.:    833  \n",
       " Median : 18105   Median :  17071   Median :  2100   Median :   2009  \n",
       " Mean   : 40311   Mean   :  38872   Mean   :  5664   Mean   :   5921  \n",
       " 3rd Qu.: 50191   3rd Qu.:  49198   3rd Qu.:  5006   3rd Qu.:   5000  \n",
       " Max.   :927171   Max.   : 961664   Max.   :873552   Max.   :1684259  \n",
       "    PAY_AMT3         PAY_AMT4         PAY_AMT5           PAY_AMT6       \n",
       " Min.   :     0   Min.   :     0   Min.   :     0.0   Min.   :     0.0  \n",
       " 1st Qu.:   390   1st Qu.:   296   1st Qu.:   252.5   1st Qu.:   117.8  \n",
       " Median :  1800   Median :  1500   Median :  1500.0   Median :  1500.0  \n",
       " Mean   :  5226   Mean   :  4826   Mean   :  4799.4   Mean   :  5215.5  \n",
       " 3rd Qu.:  4505   3rd Qu.:  4013   3rd Qu.:  4031.5   3rd Qu.:  4000.0  \n",
       " Max.   :896040   Max.   :621000   Max.   :426529.0   Max.   :528666.0  \n",
       " default.payment.next.month\n",
       " Min.   :0.0000            \n",
       " 1st Qu.:0.0000            \n",
       " Median :0.0000            \n",
       " Mean   :0.2212            \n",
       " 3rd Qu.:0.0000            \n",
       " Max.   :1.0000            "
      ]
     },
     "metadata": {},
     "output_type": "display_data"
    }
   ],
   "source": [
    "summary(data)"
   ]
  },
  {
   "cell_type": "markdown",
   "id": "219bcbd8",
   "metadata": {},
   "source": [
    "# Data Pre-Processing"
   ]
  },
  {
   "cell_type": "code",
   "execution_count": 5,
   "id": "c1e2274a",
   "metadata": {},
   "outputs": [
    {
     "name": "stdout",
     "output_type": "stream",
     "text": [
      "'data.frame':\t30000 obs. of  25 variables:\n",
      " $ ID                        : int  1 2 3 4 5 6 7 8 9 10 ...\n",
      " $ LIMIT_BAL                 : num  20000 120000 90000 50000 50000 50000 500000 100000 140000 20000 ...\n",
      " $ SEX                       : int  2 2 2 2 1 1 1 2 2 1 ...\n",
      " $ EDUCATION                 : int  2 2 2 2 2 1 1 2 3 3 ...\n",
      " $ MARRIAGE                  : int  1 2 2 1 1 2 2 2 1 2 ...\n",
      " $ AGE                       : int  24 26 34 37 57 37 29 23 28 35 ...\n",
      " $ PAY_0                     : int  2 -1 0 0 -1 0 0 0 0 -2 ...\n",
      " $ PAY_2                     : int  2 2 0 0 0 0 0 -1 0 -2 ...\n",
      " $ PAY_3                     : int  -1 0 0 0 -1 0 0 -1 2 -2 ...\n",
      " $ PAY_4                     : int  -1 0 0 0 0 0 0 0 0 -2 ...\n",
      " $ PAY_5                     : int  -2 0 0 0 0 0 0 0 0 -1 ...\n",
      " $ PAY_6                     : int  -2 2 0 0 0 0 0 -1 0 -1 ...\n",
      " $ BILL_AMT1                 : num  3913 2682 29239 46990 8617 ...\n",
      " $ BILL_AMT2                 : num  3102 1725 14027 48233 5670 ...\n",
      " $ BILL_AMT3                 : num  689 2682 13559 49291 35835 ...\n",
      " $ BILL_AMT4                 : num  0 3272 14331 28314 20940 ...\n",
      " $ BILL_AMT5                 : num  0 3455 14948 28959 19146 ...\n",
      " $ BILL_AMT6                 : num  0 3261 15549 29547 19131 ...\n",
      " $ PAY_AMT1                  : num  0 0 1518 2000 2000 ...\n",
      " $ PAY_AMT2                  : num  689 1000 1500 2019 36681 ...\n",
      " $ PAY_AMT3                  : num  0 1000 1000 1200 10000 657 38000 0 432 0 ...\n",
      " $ PAY_AMT4                  : num  0 1000 1000 1100 9000 ...\n",
      " $ PAY_AMT5                  : num  0 0 1000 1069 689 ...\n",
      " $ PAY_AMT6                  : num  0 2000 5000 1000 679 ...\n",
      " $ default.payment.next.month: int  1 1 0 0 0 0 0 0 0 0 ...\n"
     ]
    }
   ],
   "source": [
    "str(data)"
   ]
  },
  {
   "cell_type": "markdown",
   "id": "58650c82",
   "metadata": {},
   "source": [
    "Checking for null and NA values"
   ]
  },
  {
   "cell_type": "code",
   "execution_count": 6,
   "id": "4f7a59b4",
   "metadata": {},
   "outputs": [
    {
     "data": {
      "text/html": [
       "<style>\n",
       ".dl-inline {width: auto; margin:0; padding: 0}\n",
       ".dl-inline>dt, .dl-inline>dd {float: none; width: auto; display: inline-block}\n",
       ".dl-inline>dt::after {content: \":\\0020\"; padding-right: .5ex}\n",
       ".dl-inline>dt:not(:first-of-type) {padding-left: .5ex}\n",
       "</style><dl class=dl-inline><dt>ID</dt><dd>0</dd><dt>LIMIT_BAL</dt><dd>0</dd><dt>SEX</dt><dd>0</dd><dt>EDUCATION</dt><dd>0</dd><dt>MARRIAGE</dt><dd>0</dd><dt>AGE</dt><dd>0</dd><dt>PAY_0</dt><dd>0</dd><dt>PAY_2</dt><dd>0</dd><dt>PAY_3</dt><dd>0</dd><dt>PAY_4</dt><dd>0</dd><dt>PAY_5</dt><dd>0</dd><dt>PAY_6</dt><dd>0</dd><dt>BILL_AMT1</dt><dd>0</dd><dt>BILL_AMT2</dt><dd>0</dd><dt>BILL_AMT3</dt><dd>0</dd><dt>BILL_AMT4</dt><dd>0</dd><dt>BILL_AMT5</dt><dd>0</dd><dt>BILL_AMT6</dt><dd>0</dd><dt>PAY_AMT1</dt><dd>0</dd><dt>PAY_AMT2</dt><dd>0</dd><dt>PAY_AMT3</dt><dd>0</dd><dt>PAY_AMT4</dt><dd>0</dd><dt>PAY_AMT5</dt><dd>0</dd><dt>PAY_AMT6</dt><dd>0</dd><dt>default.payment.next.month</dt><dd>0</dd></dl>\n"
      ],
      "text/latex": [
       "\\begin{description*}\n",
       "\\item[ID] 0\n",
       "\\item[LIMIT\\textbackslash{}\\_BAL] 0\n",
       "\\item[SEX] 0\n",
       "\\item[EDUCATION] 0\n",
       "\\item[MARRIAGE] 0\n",
       "\\item[AGE] 0\n",
       "\\item[PAY\\textbackslash{}\\_0] 0\n",
       "\\item[PAY\\textbackslash{}\\_2] 0\n",
       "\\item[PAY\\textbackslash{}\\_3] 0\n",
       "\\item[PAY\\textbackslash{}\\_4] 0\n",
       "\\item[PAY\\textbackslash{}\\_5] 0\n",
       "\\item[PAY\\textbackslash{}\\_6] 0\n",
       "\\item[BILL\\textbackslash{}\\_AMT1] 0\n",
       "\\item[BILL\\textbackslash{}\\_AMT2] 0\n",
       "\\item[BILL\\textbackslash{}\\_AMT3] 0\n",
       "\\item[BILL\\textbackslash{}\\_AMT4] 0\n",
       "\\item[BILL\\textbackslash{}\\_AMT5] 0\n",
       "\\item[BILL\\textbackslash{}\\_AMT6] 0\n",
       "\\item[PAY\\textbackslash{}\\_AMT1] 0\n",
       "\\item[PAY\\textbackslash{}\\_AMT2] 0\n",
       "\\item[PAY\\textbackslash{}\\_AMT3] 0\n",
       "\\item[PAY\\textbackslash{}\\_AMT4] 0\n",
       "\\item[PAY\\textbackslash{}\\_AMT5] 0\n",
       "\\item[PAY\\textbackslash{}\\_AMT6] 0\n",
       "\\item[default.payment.next.month] 0\n",
       "\\end{description*}\n"
      ],
      "text/markdown": [
       "ID\n",
       ":   0LIMIT_BAL\n",
       ":   0SEX\n",
       ":   0EDUCATION\n",
       ":   0MARRIAGE\n",
       ":   0AGE\n",
       ":   0PAY_0\n",
       ":   0PAY_2\n",
       ":   0PAY_3\n",
       ":   0PAY_4\n",
       ":   0PAY_5\n",
       ":   0PAY_6\n",
       ":   0BILL_AMT1\n",
       ":   0BILL_AMT2\n",
       ":   0BILL_AMT3\n",
       ":   0BILL_AMT4\n",
       ":   0BILL_AMT5\n",
       ":   0BILL_AMT6\n",
       ":   0PAY_AMT1\n",
       ":   0PAY_AMT2\n",
       ":   0PAY_AMT3\n",
       ":   0PAY_AMT4\n",
       ":   0PAY_AMT5\n",
       ":   0PAY_AMT6\n",
       ":   0default.payment.next.month\n",
       ":   0\n",
       "\n"
      ],
      "text/plain": [
       "                        ID                  LIMIT_BAL \n",
       "                         0                          0 \n",
       "                       SEX                  EDUCATION \n",
       "                         0                          0 \n",
       "                  MARRIAGE                        AGE \n",
       "                         0                          0 \n",
       "                     PAY_0                      PAY_2 \n",
       "                         0                          0 \n",
       "                     PAY_3                      PAY_4 \n",
       "                         0                          0 \n",
       "                     PAY_5                      PAY_6 \n",
       "                         0                          0 \n",
       "                 BILL_AMT1                  BILL_AMT2 \n",
       "                         0                          0 \n",
       "                 BILL_AMT3                  BILL_AMT4 \n",
       "                         0                          0 \n",
       "                 BILL_AMT5                  BILL_AMT6 \n",
       "                         0                          0 \n",
       "                  PAY_AMT1                   PAY_AMT2 \n",
       "                         0                          0 \n",
       "                  PAY_AMT3                   PAY_AMT4 \n",
       "                         0                          0 \n",
       "                  PAY_AMT5                   PAY_AMT6 \n",
       "                         0                          0 \n",
       "default.payment.next.month \n",
       "                         0 "
      ]
     },
     "metadata": {},
     "output_type": "display_data"
    }
   ],
   "source": [
    "colSums(is.na(data)) \n",
    "# There are no missing values"
   ]
  },
  {
   "cell_type": "markdown",
   "id": "95cc081f",
   "metadata": {},
   "source": [
    "Renaming the features names"
   ]
  },
  {
   "cell_type": "code",
   "execution_count": 7,
   "id": "320df770",
   "metadata": {},
   "outputs": [],
   "source": [
    "data <- data %>% rename('PAY_1' = 'PAY_0')"
   ]
  },
  {
   "cell_type": "markdown",
   "id": "72cada7c",
   "metadata": {},
   "source": [
    "Checking for duplicate rows"
   ]
  },
  {
   "cell_type": "code",
   "execution_count": 8,
   "id": "78be2bea",
   "metadata": {},
   "outputs": [
    {
     "data": {
      "text/html": [
       "<table class=\"dataframe\">\n",
       "<caption>A data.frame: 30000 × 25</caption>\n",
       "<thead>\n",
       "\t<tr><th></th><th scope=col>ID</th><th scope=col>LIMIT_BAL</th><th scope=col>SEX</th><th scope=col>EDUCATION</th><th scope=col>MARRIAGE</th><th scope=col>AGE</th><th scope=col>PAY_1</th><th scope=col>PAY_2</th><th scope=col>PAY_3</th><th scope=col>PAY_4</th><th scope=col>⋯</th><th scope=col>BILL_AMT4</th><th scope=col>BILL_AMT5</th><th scope=col>BILL_AMT6</th><th scope=col>PAY_AMT1</th><th scope=col>PAY_AMT2</th><th scope=col>PAY_AMT3</th><th scope=col>PAY_AMT4</th><th scope=col>PAY_AMT5</th><th scope=col>PAY_AMT6</th><th scope=col>default.payment.next.month</th></tr>\n",
       "\t<tr><th></th><th scope=col>&lt;int&gt;</th><th scope=col>&lt;dbl&gt;</th><th scope=col>&lt;int&gt;</th><th scope=col>&lt;int&gt;</th><th scope=col>&lt;int&gt;</th><th scope=col>&lt;int&gt;</th><th scope=col>&lt;int&gt;</th><th scope=col>&lt;int&gt;</th><th scope=col>&lt;int&gt;</th><th scope=col>&lt;int&gt;</th><th scope=col>⋯</th><th scope=col>&lt;dbl&gt;</th><th scope=col>&lt;dbl&gt;</th><th scope=col>&lt;dbl&gt;</th><th scope=col>&lt;dbl&gt;</th><th scope=col>&lt;dbl&gt;</th><th scope=col>&lt;dbl&gt;</th><th scope=col>&lt;dbl&gt;</th><th scope=col>&lt;dbl&gt;</th><th scope=col>&lt;dbl&gt;</th><th scope=col>&lt;int&gt;</th></tr>\n",
       "</thead>\n",
       "<tbody>\n",
       "\t<tr><th scope=row>1</th><td> 1</td><td> 20000</td><td>2</td><td>2</td><td>1</td><td>24</td><td> 2</td><td> 2</td><td>-1</td><td>-1</td><td>⋯</td><td>     0</td><td>     0</td><td>     0</td><td>    0</td><td>  689</td><td>    0</td><td>    0</td><td>     0</td><td>    0</td><td>1</td></tr>\n",
       "\t<tr><th scope=row>2</th><td> 2</td><td>120000</td><td>2</td><td>2</td><td>2</td><td>26</td><td>-1</td><td> 2</td><td> 0</td><td> 0</td><td>⋯</td><td>  3272</td><td>  3455</td><td>  3261</td><td>    0</td><td> 1000</td><td> 1000</td><td> 1000</td><td>     0</td><td> 2000</td><td>1</td></tr>\n",
       "\t<tr><th scope=row>3</th><td> 3</td><td> 90000</td><td>2</td><td>2</td><td>2</td><td>34</td><td> 0</td><td> 0</td><td> 0</td><td> 0</td><td>⋯</td><td> 14331</td><td> 14948</td><td> 15549</td><td> 1518</td><td> 1500</td><td> 1000</td><td> 1000</td><td>  1000</td><td> 5000</td><td>0</td></tr>\n",
       "\t<tr><th scope=row>4</th><td> 4</td><td> 50000</td><td>2</td><td>2</td><td>1</td><td>37</td><td> 0</td><td> 0</td><td> 0</td><td> 0</td><td>⋯</td><td> 28314</td><td> 28959</td><td> 29547</td><td> 2000</td><td> 2019</td><td> 1200</td><td> 1100</td><td>  1069</td><td> 1000</td><td>0</td></tr>\n",
       "\t<tr><th scope=row>5</th><td> 5</td><td> 50000</td><td>1</td><td>2</td><td>1</td><td>57</td><td>-1</td><td> 0</td><td>-1</td><td> 0</td><td>⋯</td><td> 20940</td><td> 19146</td><td> 19131</td><td> 2000</td><td>36681</td><td>10000</td><td> 9000</td><td>   689</td><td>  679</td><td>0</td></tr>\n",
       "\t<tr><th scope=row>6</th><td> 6</td><td> 50000</td><td>1</td><td>1</td><td>2</td><td>37</td><td> 0</td><td> 0</td><td> 0</td><td> 0</td><td>⋯</td><td> 19394</td><td> 19619</td><td> 20024</td><td> 2500</td><td> 1815</td><td>  657</td><td> 1000</td><td>  1000</td><td>  800</td><td>0</td></tr>\n",
       "\t<tr><th scope=row>7</th><td> 7</td><td>500000</td><td>1</td><td>1</td><td>2</td><td>29</td><td> 0</td><td> 0</td><td> 0</td><td> 0</td><td>⋯</td><td>542653</td><td>483003</td><td>473944</td><td>55000</td><td>40000</td><td>38000</td><td>20239</td><td> 13750</td><td>13770</td><td>0</td></tr>\n",
       "\t<tr><th scope=row>8</th><td> 8</td><td>100000</td><td>2</td><td>2</td><td>2</td><td>23</td><td> 0</td><td>-1</td><td>-1</td><td> 0</td><td>⋯</td><td>   221</td><td>  -159</td><td>   567</td><td>  380</td><td>  601</td><td>    0</td><td>  581</td><td>  1687</td><td> 1542</td><td>0</td></tr>\n",
       "\t<tr><th scope=row>9</th><td> 9</td><td>140000</td><td>2</td><td>3</td><td>1</td><td>28</td><td> 0</td><td> 0</td><td> 2</td><td> 0</td><td>⋯</td><td> 12211</td><td> 11793</td><td>  3719</td><td> 3329</td><td>    0</td><td>  432</td><td> 1000</td><td>  1000</td><td> 1000</td><td>0</td></tr>\n",
       "\t<tr><th scope=row>10</th><td>10</td><td> 20000</td><td>1</td><td>3</td><td>2</td><td>35</td><td>-2</td><td>-2</td><td>-2</td><td>-2</td><td>⋯</td><td>     0</td><td> 13007</td><td> 13912</td><td>    0</td><td>    0</td><td>    0</td><td>13007</td><td>  1122</td><td>    0</td><td>0</td></tr>\n",
       "\t<tr><th scope=row>11</th><td>11</td><td>200000</td><td>2</td><td>3</td><td>2</td><td>34</td><td> 0</td><td> 0</td><td> 2</td><td> 0</td><td>⋯</td><td>  2513</td><td>  1828</td><td>  3731</td><td> 2306</td><td>   12</td><td>   50</td><td>  300</td><td>  3738</td><td>   66</td><td>0</td></tr>\n",
       "\t<tr><th scope=row>12</th><td>12</td><td>260000</td><td>2</td><td>1</td><td>2</td><td>51</td><td>-1</td><td>-1</td><td>-1</td><td>-1</td><td>⋯</td><td>  8517</td><td> 22287</td><td> 13668</td><td>21818</td><td> 9966</td><td> 8583</td><td>22301</td><td>     0</td><td> 3640</td><td>0</td></tr>\n",
       "\t<tr><th scope=row>13</th><td>13</td><td>630000</td><td>2</td><td>2</td><td>2</td><td>41</td><td>-1</td><td> 0</td><td>-1</td><td>-1</td><td>⋯</td><td>  6500</td><td>  6500</td><td>  2870</td><td> 1000</td><td> 6500</td><td> 6500</td><td> 6500</td><td>  2870</td><td>    0</td><td>0</td></tr>\n",
       "\t<tr><th scope=row>14</th><td>14</td><td> 70000</td><td>1</td><td>2</td><td>2</td><td>30</td><td> 1</td><td> 2</td><td> 2</td><td> 0</td><td>⋯</td><td> 66782</td><td> 36137</td><td> 36894</td><td> 3200</td><td>    0</td><td> 3000</td><td> 3000</td><td>  1500</td><td>    0</td><td>1</td></tr>\n",
       "\t<tr><th scope=row>15</th><td>15</td><td>250000</td><td>1</td><td>1</td><td>2</td><td>29</td><td> 0</td><td> 0</td><td> 0</td><td> 0</td><td>⋯</td><td> 59696</td><td> 56875</td><td> 55512</td><td> 3000</td><td> 3000</td><td> 3000</td><td> 3000</td><td>  3000</td><td> 3000</td><td>0</td></tr>\n",
       "\t<tr><th scope=row>16</th><td>16</td><td> 50000</td><td>2</td><td>3</td><td>3</td><td>23</td><td> 1</td><td> 2</td><td> 0</td><td> 0</td><td>⋯</td><td> 28771</td><td> 29531</td><td> 30211</td><td>    0</td><td> 1500</td><td> 1100</td><td> 1200</td><td>  1300</td><td> 1100</td><td>0</td></tr>\n",
       "\t<tr><th scope=row>17</th><td>17</td><td> 20000</td><td>1</td><td>1</td><td>2</td><td>24</td><td> 0</td><td> 0</td><td> 2</td><td> 2</td><td>⋯</td><td> 18338</td><td> 17905</td><td> 19104</td><td> 3200</td><td>    0</td><td> 1500</td><td>    0</td><td>  1650</td><td>    0</td><td>1</td></tr>\n",
       "\t<tr><th scope=row>18</th><td>18</td><td>320000</td><td>1</td><td>1</td><td>1</td><td>49</td><td> 0</td><td> 0</td><td> 0</td><td>-1</td><td>⋯</td><td> 70074</td><td>  5856</td><td>195599</td><td>10358</td><td>10000</td><td>75940</td><td>20000</td><td>195599</td><td>50000</td><td>0</td></tr>\n",
       "\t<tr><th scope=row>19</th><td>19</td><td>360000</td><td>2</td><td>1</td><td>1</td><td>49</td><td> 1</td><td>-2</td><td>-2</td><td>-2</td><td>⋯</td><td>     0</td><td>     0</td><td>     0</td><td>    0</td><td>    0</td><td>    0</td><td>    0</td><td>     0</td><td>    0</td><td>0</td></tr>\n",
       "\t<tr><th scope=row>20</th><td>20</td><td>180000</td><td>2</td><td>1</td><td>2</td><td>29</td><td> 1</td><td>-2</td><td>-2</td><td>-2</td><td>⋯</td><td>     0</td><td>     0</td><td>     0</td><td>    0</td><td>    0</td><td>    0</td><td>    0</td><td>     0</td><td>    0</td><td>0</td></tr>\n",
       "\t<tr><th scope=row>21</th><td>21</td><td>130000</td><td>2</td><td>3</td><td>2</td><td>39</td><td> 0</td><td> 0</td><td> 0</td><td> 0</td><td>⋯</td><td> 20616</td><td> 11802</td><td>   930</td><td> 3000</td><td> 1537</td><td> 1000</td><td> 2000</td><td>   930</td><td>33764</td><td>0</td></tr>\n",
       "\t<tr><th scope=row>22</th><td>22</td><td>120000</td><td>2</td><td>2</td><td>1</td><td>39</td><td>-1</td><td>-1</td><td>-1</td><td>-1</td><td>⋯</td><td>     0</td><td>   632</td><td>   316</td><td>  316</td><td>  316</td><td>    0</td><td>  632</td><td>   316</td><td>    0</td><td>1</td></tr>\n",
       "\t<tr><th scope=row>23</th><td>23</td><td> 70000</td><td>2</td><td>2</td><td>2</td><td>26</td><td> 2</td><td> 0</td><td> 0</td><td> 2</td><td>⋯</td><td> 44006</td><td> 46905</td><td> 46012</td><td> 2007</td><td> 3582</td><td>    0</td><td> 3601</td><td>     0</td><td> 1820</td><td>1</td></tr>\n",
       "\t<tr><th scope=row>24</th><td>24</td><td>450000</td><td>2</td><td>1</td><td>1</td><td>40</td><td>-2</td><td>-2</td><td>-2</td><td>-2</td><td>⋯</td><td>   560</td><td>     0</td><td>     0</td><td>19428</td><td> 1473</td><td>  560</td><td>    0</td><td>     0</td><td> 1128</td><td>1</td></tr>\n",
       "\t<tr><th scope=row>25</th><td>25</td><td> 90000</td><td>1</td><td>1</td><td>2</td><td>23</td><td> 0</td><td> 0</td><td> 0</td><td>-1</td><td>⋯</td><td>  5398</td><td>  6360</td><td>  8292</td><td> 5757</td><td>    0</td><td> 5398</td><td> 1200</td><td>  2045</td><td> 2000</td><td>0</td></tr>\n",
       "\t<tr><th scope=row>26</th><td>26</td><td> 50000</td><td>1</td><td>3</td><td>2</td><td>23</td><td> 0</td><td> 0</td><td> 0</td><td> 0</td><td>⋯</td><td> 28967</td><td> 29829</td><td> 30046</td><td> 1973</td><td> 1426</td><td> 1001</td><td> 1432</td><td>  1062</td><td>  997</td><td>0</td></tr>\n",
       "\t<tr><th scope=row>27</th><td>27</td><td> 60000</td><td>1</td><td>1</td><td>2</td><td>27</td><td> 1</td><td>-2</td><td>-1</td><td>-1</td><td>⋯</td><td>   -57</td><td>   127</td><td>  -189</td><td>    0</td><td> 1000</td><td>    0</td><td>  500</td><td>     0</td><td> 1000</td><td>1</td></tr>\n",
       "\t<tr><th scope=row>28</th><td>28</td><td> 50000</td><td>2</td><td>3</td><td>2</td><td>30</td><td> 0</td><td> 0</td><td> 0</td><td> 0</td><td>⋯</td><td> 17878</td><td> 18931</td><td> 19617</td><td> 1300</td><td> 1300</td><td> 1000</td><td> 1500</td><td>  1000</td><td> 1012</td><td>0</td></tr>\n",
       "\t<tr><th scope=row>29</th><td>29</td><td> 50000</td><td>2</td><td>3</td><td>1</td><td>47</td><td>-1</td><td>-1</td><td>-1</td><td>-1</td><td>⋯</td><td>  2040</td><td> 30430</td><td>   257</td><td> 3415</td><td> 3421</td><td> 2044</td><td>30430</td><td>   257</td><td>    0</td><td>0</td></tr>\n",
       "\t<tr><th scope=row>30</th><td>30</td><td> 50000</td><td>1</td><td>1</td><td>2</td><td>26</td><td> 0</td><td> 0</td><td> 0</td><td> 0</td><td>⋯</td><td> 17907</td><td> 18375</td><td> 11400</td><td> 1500</td><td> 1500</td><td> 1000</td><td> 1000</td><td>  1600</td><td>    0</td><td>0</td></tr>\n",
       "\t<tr><th scope=row>⋮</th><td>⋮</td><td>⋮</td><td>⋮</td><td>⋮</td><td>⋮</td><td>⋮</td><td>⋮</td><td>⋮</td><td>⋮</td><td>⋮</td><td>⋱</td><td>⋮</td><td>⋮</td><td>⋮</td><td>⋮</td><td>⋮</td><td>⋮</td><td>⋮</td><td>⋮</td><td>⋮</td><td>⋮</td></tr>\n",
       "\t<tr><th scope=row>29971</th><td>29971</td><td>360000</td><td>1</td><td>1</td><td>1</td><td>34</td><td>-1</td><td>-1</td><td>-1</td><td> 0</td><td>⋯</td><td> 49005</td><td>  8676</td><td> 19487</td><td>52951</td><td> 64535</td><td> 8907</td><td>   53</td><td> 19584</td><td>16080</td><td>0</td></tr>\n",
       "\t<tr><th scope=row>29972</th><td>29972</td><td> 80000</td><td>1</td><td>3</td><td>1</td><td>36</td><td> 0</td><td> 0</td><td> 0</td><td> 0</td><td>⋯</td><td> 69674</td><td> 71070</td><td> 73612</td><td> 2395</td><td>  2500</td><td> 2530</td><td> 2556</td><td>  3700</td><td> 3000</td><td>0</td></tr>\n",
       "\t<tr><th scope=row>29973</th><td>29973</td><td>190000</td><td>1</td><td>1</td><td>1</td><td>37</td><td> 0</td><td> 0</td><td> 0</td><td> 0</td><td>⋯</td><td> 29223</td><td> 19616</td><td>148482</td><td> 2000</td><td>  3869</td><td>25128</td><td>10115</td><td>148482</td><td> 4800</td><td>0</td></tr>\n",
       "\t<tr><th scope=row>29974</th><td>29974</td><td>230000</td><td>1</td><td>2</td><td>1</td><td>35</td><td> 1</td><td>-2</td><td>-2</td><td>-2</td><td>⋯</td><td>     0</td><td>     0</td><td>     0</td><td>    0</td><td>     0</td><td>    0</td><td>    0</td><td>     0</td><td>    0</td><td>1</td></tr>\n",
       "\t<tr><th scope=row>29975</th><td>29975</td><td> 50000</td><td>1</td><td>2</td><td>1</td><td>37</td><td> 1</td><td> 2</td><td> 2</td><td> 2</td><td>⋯</td><td>  2846</td><td>  1585</td><td>  1324</td><td>    0</td><td>  3000</td><td>    0</td><td>    0</td><td>  1000</td><td> 1000</td><td>1</td></tr>\n",
       "\t<tr><th scope=row>29976</th><td>29976</td><td>220000</td><td>1</td><td>2</td><td>1</td><td>41</td><td> 0</td><td> 0</td><td>-1</td><td>-1</td><td>⋯</td><td>  5924</td><td>  1759</td><td>  1824</td><td> 8840</td><td>  6643</td><td> 5924</td><td> 1759</td><td>  1824</td><td> 7022</td><td>0</td></tr>\n",
       "\t<tr><th scope=row>29977</th><td>29977</td><td> 40000</td><td>1</td><td>2</td><td>2</td><td>47</td><td> 2</td><td> 2</td><td> 3</td><td> 2</td><td>⋯</td><td> 51259</td><td> 47151</td><td> 46934</td><td> 4000</td><td>     0</td><td> 2000</td><td>    0</td><td>  3520</td><td>    0</td><td>1</td></tr>\n",
       "\t<tr><th scope=row>29978</th><td>29978</td><td>420000</td><td>1</td><td>1</td><td>2</td><td>34</td><td> 0</td><td> 0</td><td> 0</td><td> 0</td><td>⋯</td><td>141695</td><td>144839</td><td>147954</td><td> 7000</td><td>  7000</td><td> 5500</td><td> 5500</td><td>  5600</td><td> 5000</td><td>0</td></tr>\n",
       "\t<tr><th scope=row>29979</th><td>29979</td><td>310000</td><td>1</td><td>2</td><td>1</td><td>39</td><td> 0</td><td> 0</td><td> 0</td><td> 0</td><td>⋯</td><td>219409</td><td>216540</td><td>210675</td><td>10029</td><td>  9218</td><td>10029</td><td> 8049</td><td>  8040</td><td>10059</td><td>0</td></tr>\n",
       "\t<tr><th scope=row>29980</th><td>29980</td><td>180000</td><td>1</td><td>1</td><td>1</td><td>32</td><td>-2</td><td>-2</td><td>-2</td><td>-2</td><td>⋯</td><td>     0</td><td>     0</td><td>     0</td><td>    0</td><td>     0</td><td>    0</td><td>    0</td><td>     0</td><td>    0</td><td>0</td></tr>\n",
       "\t<tr><th scope=row>29981</th><td>29981</td><td> 50000</td><td>1</td><td>3</td><td>2</td><td>42</td><td> 0</td><td> 0</td><td> 0</td><td> 0</td><td>⋯</td><td> 50360</td><td> 19971</td><td> 19694</td><td>10000</td><td>  4000</td><td> 5000</td><td> 3000</td><td>  4500</td><td> 2000</td><td>0</td></tr>\n",
       "\t<tr><th scope=row>29982</th><td>29982</td><td> 50000</td><td>1</td><td>2</td><td>1</td><td>44</td><td> 1</td><td> 2</td><td> 2</td><td> 2</td><td>⋯</td><td> 28192</td><td> 22676</td><td> 14647</td><td> 2300</td><td>  1700</td><td>    0</td><td>  517</td><td>   503</td><td>  585</td><td>0</td></tr>\n",
       "\t<tr><th scope=row>29983</th><td>29983</td><td> 90000</td><td>1</td><td>2</td><td>1</td><td>36</td><td> 0</td><td> 0</td><td> 0</td><td> 0</td><td>⋯</td><td> 11328</td><td> 12036</td><td> 14329</td><td> 1500</td><td>  1500</td><td> 1500</td><td> 1200</td><td>  2500</td><td>    0</td><td>1</td></tr>\n",
       "\t<tr><th scope=row>29984</th><td>29984</td><td> 20000</td><td>1</td><td>2</td><td>1</td><td>44</td><td>-2</td><td>-2</td><td>-2</td><td>-2</td><td>⋯</td><td>  2882</td><td>  9235</td><td>  1719</td><td> 2890</td><td>  2720</td><td> 2890</td><td> 9263</td><td>  1824</td><td> 1701</td><td>0</td></tr>\n",
       "\t<tr><th scope=row>29985</th><td>29985</td><td> 30000</td><td>1</td><td>2</td><td>2</td><td>38</td><td>-1</td><td>-1</td><td>-2</td><td>-1</td><td>⋯</td><td>  1993</td><td>  1907</td><td>  3319</td><td>  923</td><td>  2977</td><td> 1999</td><td> 3057</td><td>  3319</td><td> 1000</td><td>0</td></tr>\n",
       "\t<tr><th scope=row>29986</th><td>29986</td><td>240000</td><td>1</td><td>1</td><td>2</td><td>30</td><td>-2</td><td>-2</td><td>-2</td><td>-2</td><td>⋯</td><td>     0</td><td>     0</td><td>     0</td><td>    0</td><td>     0</td><td>    0</td><td>    0</td><td>     0</td><td>    0</td><td>0</td></tr>\n",
       "\t<tr><th scope=row>29987</th><td>29987</td><td>360000</td><td>1</td><td>1</td><td>2</td><td>35</td><td>-1</td><td>-1</td><td>-2</td><td>-2</td><td>⋯</td><td>     0</td><td>     0</td><td>     0</td><td>    0</td><td>     0</td><td>    0</td><td>    0</td><td>     0</td><td>    0</td><td>0</td></tr>\n",
       "\t<tr><th scope=row>29988</th><td>29988</td><td>130000</td><td>1</td><td>1</td><td>2</td><td>34</td><td> 0</td><td> 0</td><td> 0</td><td> 0</td><td>⋯</td><td>108047</td><td> 93708</td><td> 97353</td><td> 3000</td><td>  2000</td><td>93000</td><td> 4000</td><td>  5027</td><td> 4005</td><td>0</td></tr>\n",
       "\t<tr><th scope=row>29989</th><td>29989</td><td>250000</td><td>1</td><td>1</td><td>1</td><td>34</td><td> 0</td><td> 0</td><td> 0</td><td> 0</td><td>⋯</td><td>245750</td><td>175005</td><td>179687</td><td>65000</td><td>  8800</td><td> 9011</td><td> 6000</td><td>  7000</td><td> 6009</td><td>0</td></tr>\n",
       "\t<tr><th scope=row>29990</th><td>29990</td><td>150000</td><td>1</td><td>1</td><td>2</td><td>35</td><td>-1</td><td>-1</td><td>-1</td><td>-1</td><td>⋯</td><td>   780</td><td>     0</td><td>     0</td><td> 9054</td><td>     0</td><td>  783</td><td>    0</td><td>     0</td><td>    0</td><td>0</td></tr>\n",
       "\t<tr><th scope=row>29991</th><td>29991</td><td>140000</td><td>1</td><td>2</td><td>1</td><td>41</td><td> 0</td><td> 0</td><td> 0</td><td> 0</td><td>⋯</td><td>138262</td><td> 49675</td><td> 46121</td><td> 6000</td><td>  7000</td><td> 4228</td><td> 1505</td><td>  2000</td><td> 2000</td><td>0</td></tr>\n",
       "\t<tr><th scope=row>29992</th><td>29992</td><td>210000</td><td>1</td><td>2</td><td>1</td><td>34</td><td> 3</td><td> 2</td><td> 2</td><td> 2</td><td>⋯</td><td>  2500</td><td>  2500</td><td>  2500</td><td>    0</td><td>     0</td><td>    0</td><td>    0</td><td>     0</td><td>    0</td><td>1</td></tr>\n",
       "\t<tr><th scope=row>29993</th><td>29993</td><td> 10000</td><td>1</td><td>3</td><td>1</td><td>43</td><td> 0</td><td> 0</td><td> 0</td><td>-2</td><td>⋯</td><td>     0</td><td>     0</td><td>     0</td><td> 2000</td><td>     0</td><td>    0</td><td>    0</td><td>     0</td><td>    0</td><td>0</td></tr>\n",
       "\t<tr><th scope=row>29994</th><td>29994</td><td>100000</td><td>1</td><td>1</td><td>2</td><td>38</td><td> 0</td><td>-1</td><td>-1</td><td> 0</td><td>⋯</td><td> 70626</td><td> 69473</td><td> 55004</td><td> 2000</td><td>111784</td><td> 4000</td><td> 3000</td><td>  2000</td><td> 2000</td><td>0</td></tr>\n",
       "\t<tr><th scope=row>29995</th><td>29995</td><td> 80000</td><td>1</td><td>2</td><td>2</td><td>34</td><td> 2</td><td> 2</td><td> 2</td><td> 2</td><td>⋯</td><td> 77519</td><td> 82607</td><td> 81158</td><td> 7000</td><td>  3500</td><td>    0</td><td> 7000</td><td>     0</td><td> 4000</td><td>1</td></tr>\n",
       "\t<tr><th scope=row>29996</th><td>29996</td><td>220000</td><td>1</td><td>3</td><td>1</td><td>39</td><td> 0</td><td> 0</td><td> 0</td><td> 0</td><td>⋯</td><td> 88004</td><td> 31237</td><td> 15980</td><td> 8500</td><td> 20000</td><td> 5003</td><td> 3047</td><td>  5000</td><td> 1000</td><td>0</td></tr>\n",
       "\t<tr><th scope=row>29997</th><td>29997</td><td>150000</td><td>1</td><td>3</td><td>2</td><td>43</td><td>-1</td><td>-1</td><td>-1</td><td>-1</td><td>⋯</td><td>  8979</td><td>  5190</td><td>     0</td><td> 1837</td><td>  3526</td><td> 8998</td><td>  129</td><td>     0</td><td>    0</td><td>0</td></tr>\n",
       "\t<tr><th scope=row>29998</th><td>29998</td><td> 30000</td><td>1</td><td>2</td><td>2</td><td>37</td><td> 4</td><td> 3</td><td> 2</td><td>-1</td><td>⋯</td><td> 20878</td><td> 20582</td><td> 19357</td><td>    0</td><td>     0</td><td>22000</td><td> 4200</td><td>  2000</td><td> 3100</td><td>1</td></tr>\n",
       "\t<tr><th scope=row>29999</th><td>29999</td><td> 80000</td><td>1</td><td>3</td><td>1</td><td>41</td><td> 1</td><td>-1</td><td> 0</td><td> 0</td><td>⋯</td><td> 52774</td><td> 11855</td><td> 48944</td><td>85900</td><td>  3409</td><td> 1178</td><td> 1926</td><td> 52964</td><td> 1804</td><td>1</td></tr>\n",
       "\t<tr><th scope=row>30000</th><td>30000</td><td> 50000</td><td>1</td><td>2</td><td>1</td><td>46</td><td> 0</td><td> 0</td><td> 0</td><td> 0</td><td>⋯</td><td> 36535</td><td> 32428</td><td> 15313</td><td> 2078</td><td>  1800</td><td> 1430</td><td> 1000</td><td>  1000</td><td> 1000</td><td>1</td></tr>\n",
       "</tbody>\n",
       "</table>\n"
      ],
      "text/latex": [
       "A data.frame: 30000 × 25\n",
       "\\begin{tabular}{r|lllllllllllllllllllll}\n",
       "  & ID & LIMIT\\_BAL & SEX & EDUCATION & MARRIAGE & AGE & PAY\\_1 & PAY\\_2 & PAY\\_3 & PAY\\_4 & ⋯ & BILL\\_AMT4 & BILL\\_AMT5 & BILL\\_AMT6 & PAY\\_AMT1 & PAY\\_AMT2 & PAY\\_AMT3 & PAY\\_AMT4 & PAY\\_AMT5 & PAY\\_AMT6 & default.payment.next.month\\\\\n",
       "  & <int> & <dbl> & <int> & <int> & <int> & <int> & <int> & <int> & <int> & <int> & ⋯ & <dbl> & <dbl> & <dbl> & <dbl> & <dbl> & <dbl> & <dbl> & <dbl> & <dbl> & <int>\\\\\n",
       "\\hline\n",
       "\t1 &  1 &  20000 & 2 & 2 & 1 & 24 &  2 &  2 & -1 & -1 & ⋯ &      0 &      0 &      0 &     0 &   689 &     0 &     0 &      0 &     0 & 1\\\\\n",
       "\t2 &  2 & 120000 & 2 & 2 & 2 & 26 & -1 &  2 &  0 &  0 & ⋯ &   3272 &   3455 &   3261 &     0 &  1000 &  1000 &  1000 &      0 &  2000 & 1\\\\\n",
       "\t3 &  3 &  90000 & 2 & 2 & 2 & 34 &  0 &  0 &  0 &  0 & ⋯ &  14331 &  14948 &  15549 &  1518 &  1500 &  1000 &  1000 &   1000 &  5000 & 0\\\\\n",
       "\t4 &  4 &  50000 & 2 & 2 & 1 & 37 &  0 &  0 &  0 &  0 & ⋯ &  28314 &  28959 &  29547 &  2000 &  2019 &  1200 &  1100 &   1069 &  1000 & 0\\\\\n",
       "\t5 &  5 &  50000 & 1 & 2 & 1 & 57 & -1 &  0 & -1 &  0 & ⋯ &  20940 &  19146 &  19131 &  2000 & 36681 & 10000 &  9000 &    689 &   679 & 0\\\\\n",
       "\t6 &  6 &  50000 & 1 & 1 & 2 & 37 &  0 &  0 &  0 &  0 & ⋯ &  19394 &  19619 &  20024 &  2500 &  1815 &   657 &  1000 &   1000 &   800 & 0\\\\\n",
       "\t7 &  7 & 500000 & 1 & 1 & 2 & 29 &  0 &  0 &  0 &  0 & ⋯ & 542653 & 483003 & 473944 & 55000 & 40000 & 38000 & 20239 &  13750 & 13770 & 0\\\\\n",
       "\t8 &  8 & 100000 & 2 & 2 & 2 & 23 &  0 & -1 & -1 &  0 & ⋯ &    221 &   -159 &    567 &   380 &   601 &     0 &   581 &   1687 &  1542 & 0\\\\\n",
       "\t9 &  9 & 140000 & 2 & 3 & 1 & 28 &  0 &  0 &  2 &  0 & ⋯ &  12211 &  11793 &   3719 &  3329 &     0 &   432 &  1000 &   1000 &  1000 & 0\\\\\n",
       "\t10 & 10 &  20000 & 1 & 3 & 2 & 35 & -2 & -2 & -2 & -2 & ⋯ &      0 &  13007 &  13912 &     0 &     0 &     0 & 13007 &   1122 &     0 & 0\\\\\n",
       "\t11 & 11 & 200000 & 2 & 3 & 2 & 34 &  0 &  0 &  2 &  0 & ⋯ &   2513 &   1828 &   3731 &  2306 &    12 &    50 &   300 &   3738 &    66 & 0\\\\\n",
       "\t12 & 12 & 260000 & 2 & 1 & 2 & 51 & -1 & -1 & -1 & -1 & ⋯ &   8517 &  22287 &  13668 & 21818 &  9966 &  8583 & 22301 &      0 &  3640 & 0\\\\\n",
       "\t13 & 13 & 630000 & 2 & 2 & 2 & 41 & -1 &  0 & -1 & -1 & ⋯ &   6500 &   6500 &   2870 &  1000 &  6500 &  6500 &  6500 &   2870 &     0 & 0\\\\\n",
       "\t14 & 14 &  70000 & 1 & 2 & 2 & 30 &  1 &  2 &  2 &  0 & ⋯ &  66782 &  36137 &  36894 &  3200 &     0 &  3000 &  3000 &   1500 &     0 & 1\\\\\n",
       "\t15 & 15 & 250000 & 1 & 1 & 2 & 29 &  0 &  0 &  0 &  0 & ⋯ &  59696 &  56875 &  55512 &  3000 &  3000 &  3000 &  3000 &   3000 &  3000 & 0\\\\\n",
       "\t16 & 16 &  50000 & 2 & 3 & 3 & 23 &  1 &  2 &  0 &  0 & ⋯ &  28771 &  29531 &  30211 &     0 &  1500 &  1100 &  1200 &   1300 &  1100 & 0\\\\\n",
       "\t17 & 17 &  20000 & 1 & 1 & 2 & 24 &  0 &  0 &  2 &  2 & ⋯ &  18338 &  17905 &  19104 &  3200 &     0 &  1500 &     0 &   1650 &     0 & 1\\\\\n",
       "\t18 & 18 & 320000 & 1 & 1 & 1 & 49 &  0 &  0 &  0 & -1 & ⋯ &  70074 &   5856 & 195599 & 10358 & 10000 & 75940 & 20000 & 195599 & 50000 & 0\\\\\n",
       "\t19 & 19 & 360000 & 2 & 1 & 1 & 49 &  1 & -2 & -2 & -2 & ⋯ &      0 &      0 &      0 &     0 &     0 &     0 &     0 &      0 &     0 & 0\\\\\n",
       "\t20 & 20 & 180000 & 2 & 1 & 2 & 29 &  1 & -2 & -2 & -2 & ⋯ &      0 &      0 &      0 &     0 &     0 &     0 &     0 &      0 &     0 & 0\\\\\n",
       "\t21 & 21 & 130000 & 2 & 3 & 2 & 39 &  0 &  0 &  0 &  0 & ⋯ &  20616 &  11802 &    930 &  3000 &  1537 &  1000 &  2000 &    930 & 33764 & 0\\\\\n",
       "\t22 & 22 & 120000 & 2 & 2 & 1 & 39 & -1 & -1 & -1 & -1 & ⋯ &      0 &    632 &    316 &   316 &   316 &     0 &   632 &    316 &     0 & 1\\\\\n",
       "\t23 & 23 &  70000 & 2 & 2 & 2 & 26 &  2 &  0 &  0 &  2 & ⋯ &  44006 &  46905 &  46012 &  2007 &  3582 &     0 &  3601 &      0 &  1820 & 1\\\\\n",
       "\t24 & 24 & 450000 & 2 & 1 & 1 & 40 & -2 & -2 & -2 & -2 & ⋯ &    560 &      0 &      0 & 19428 &  1473 &   560 &     0 &      0 &  1128 & 1\\\\\n",
       "\t25 & 25 &  90000 & 1 & 1 & 2 & 23 &  0 &  0 &  0 & -1 & ⋯ &   5398 &   6360 &   8292 &  5757 &     0 &  5398 &  1200 &   2045 &  2000 & 0\\\\\n",
       "\t26 & 26 &  50000 & 1 & 3 & 2 & 23 &  0 &  0 &  0 &  0 & ⋯ &  28967 &  29829 &  30046 &  1973 &  1426 &  1001 &  1432 &   1062 &   997 & 0\\\\\n",
       "\t27 & 27 &  60000 & 1 & 1 & 2 & 27 &  1 & -2 & -1 & -1 & ⋯ &    -57 &    127 &   -189 &     0 &  1000 &     0 &   500 &      0 &  1000 & 1\\\\\n",
       "\t28 & 28 &  50000 & 2 & 3 & 2 & 30 &  0 &  0 &  0 &  0 & ⋯ &  17878 &  18931 &  19617 &  1300 &  1300 &  1000 &  1500 &   1000 &  1012 & 0\\\\\n",
       "\t29 & 29 &  50000 & 2 & 3 & 1 & 47 & -1 & -1 & -1 & -1 & ⋯ &   2040 &  30430 &    257 &  3415 &  3421 &  2044 & 30430 &    257 &     0 & 0\\\\\n",
       "\t30 & 30 &  50000 & 1 & 1 & 2 & 26 &  0 &  0 &  0 &  0 & ⋯ &  17907 &  18375 &  11400 &  1500 &  1500 &  1000 &  1000 &   1600 &     0 & 0\\\\\n",
       "\t⋮ & ⋮ & ⋮ & ⋮ & ⋮ & ⋮ & ⋮ & ⋮ & ⋮ & ⋮ & ⋮ & ⋱ & ⋮ & ⋮ & ⋮ & ⋮ & ⋮ & ⋮ & ⋮ & ⋮ & ⋮ & ⋮\\\\\n",
       "\t29971 & 29971 & 360000 & 1 & 1 & 1 & 34 & -1 & -1 & -1 &  0 & ⋯ &  49005 &   8676 &  19487 & 52951 &  64535 &  8907 &    53 &  19584 & 16080 & 0\\\\\n",
       "\t29972 & 29972 &  80000 & 1 & 3 & 1 & 36 &  0 &  0 &  0 &  0 & ⋯ &  69674 &  71070 &  73612 &  2395 &   2500 &  2530 &  2556 &   3700 &  3000 & 0\\\\\n",
       "\t29973 & 29973 & 190000 & 1 & 1 & 1 & 37 &  0 &  0 &  0 &  0 & ⋯ &  29223 &  19616 & 148482 &  2000 &   3869 & 25128 & 10115 & 148482 &  4800 & 0\\\\\n",
       "\t29974 & 29974 & 230000 & 1 & 2 & 1 & 35 &  1 & -2 & -2 & -2 & ⋯ &      0 &      0 &      0 &     0 &      0 &     0 &     0 &      0 &     0 & 1\\\\\n",
       "\t29975 & 29975 &  50000 & 1 & 2 & 1 & 37 &  1 &  2 &  2 &  2 & ⋯ &   2846 &   1585 &   1324 &     0 &   3000 &     0 &     0 &   1000 &  1000 & 1\\\\\n",
       "\t29976 & 29976 & 220000 & 1 & 2 & 1 & 41 &  0 &  0 & -1 & -1 & ⋯ &   5924 &   1759 &   1824 &  8840 &   6643 &  5924 &  1759 &   1824 &  7022 & 0\\\\\n",
       "\t29977 & 29977 &  40000 & 1 & 2 & 2 & 47 &  2 &  2 &  3 &  2 & ⋯ &  51259 &  47151 &  46934 &  4000 &      0 &  2000 &     0 &   3520 &     0 & 1\\\\\n",
       "\t29978 & 29978 & 420000 & 1 & 1 & 2 & 34 &  0 &  0 &  0 &  0 & ⋯ & 141695 & 144839 & 147954 &  7000 &   7000 &  5500 &  5500 &   5600 &  5000 & 0\\\\\n",
       "\t29979 & 29979 & 310000 & 1 & 2 & 1 & 39 &  0 &  0 &  0 &  0 & ⋯ & 219409 & 216540 & 210675 & 10029 &   9218 & 10029 &  8049 &   8040 & 10059 & 0\\\\\n",
       "\t29980 & 29980 & 180000 & 1 & 1 & 1 & 32 & -2 & -2 & -2 & -2 & ⋯ &      0 &      0 &      0 &     0 &      0 &     0 &     0 &      0 &     0 & 0\\\\\n",
       "\t29981 & 29981 &  50000 & 1 & 3 & 2 & 42 &  0 &  0 &  0 &  0 & ⋯ &  50360 &  19971 &  19694 & 10000 &   4000 &  5000 &  3000 &   4500 &  2000 & 0\\\\\n",
       "\t29982 & 29982 &  50000 & 1 & 2 & 1 & 44 &  1 &  2 &  2 &  2 & ⋯ &  28192 &  22676 &  14647 &  2300 &   1700 &     0 &   517 &    503 &   585 & 0\\\\\n",
       "\t29983 & 29983 &  90000 & 1 & 2 & 1 & 36 &  0 &  0 &  0 &  0 & ⋯ &  11328 &  12036 &  14329 &  1500 &   1500 &  1500 &  1200 &   2500 &     0 & 1\\\\\n",
       "\t29984 & 29984 &  20000 & 1 & 2 & 1 & 44 & -2 & -2 & -2 & -2 & ⋯ &   2882 &   9235 &   1719 &  2890 &   2720 &  2890 &  9263 &   1824 &  1701 & 0\\\\\n",
       "\t29985 & 29985 &  30000 & 1 & 2 & 2 & 38 & -1 & -1 & -2 & -1 & ⋯ &   1993 &   1907 &   3319 &   923 &   2977 &  1999 &  3057 &   3319 &  1000 & 0\\\\\n",
       "\t29986 & 29986 & 240000 & 1 & 1 & 2 & 30 & -2 & -2 & -2 & -2 & ⋯ &      0 &      0 &      0 &     0 &      0 &     0 &     0 &      0 &     0 & 0\\\\\n",
       "\t29987 & 29987 & 360000 & 1 & 1 & 2 & 35 & -1 & -1 & -2 & -2 & ⋯ &      0 &      0 &      0 &     0 &      0 &     0 &     0 &      0 &     0 & 0\\\\\n",
       "\t29988 & 29988 & 130000 & 1 & 1 & 2 & 34 &  0 &  0 &  0 &  0 & ⋯ & 108047 &  93708 &  97353 &  3000 &   2000 & 93000 &  4000 &   5027 &  4005 & 0\\\\\n",
       "\t29989 & 29989 & 250000 & 1 & 1 & 1 & 34 &  0 &  0 &  0 &  0 & ⋯ & 245750 & 175005 & 179687 & 65000 &   8800 &  9011 &  6000 &   7000 &  6009 & 0\\\\\n",
       "\t29990 & 29990 & 150000 & 1 & 1 & 2 & 35 & -1 & -1 & -1 & -1 & ⋯ &    780 &      0 &      0 &  9054 &      0 &   783 &     0 &      0 &     0 & 0\\\\\n",
       "\t29991 & 29991 & 140000 & 1 & 2 & 1 & 41 &  0 &  0 &  0 &  0 & ⋯ & 138262 &  49675 &  46121 &  6000 &   7000 &  4228 &  1505 &   2000 &  2000 & 0\\\\\n",
       "\t29992 & 29992 & 210000 & 1 & 2 & 1 & 34 &  3 &  2 &  2 &  2 & ⋯ &   2500 &   2500 &   2500 &     0 &      0 &     0 &     0 &      0 &     0 & 1\\\\\n",
       "\t29993 & 29993 &  10000 & 1 & 3 & 1 & 43 &  0 &  0 &  0 & -2 & ⋯ &      0 &      0 &      0 &  2000 &      0 &     0 &     0 &      0 &     0 & 0\\\\\n",
       "\t29994 & 29994 & 100000 & 1 & 1 & 2 & 38 &  0 & -1 & -1 &  0 & ⋯ &  70626 &  69473 &  55004 &  2000 & 111784 &  4000 &  3000 &   2000 &  2000 & 0\\\\\n",
       "\t29995 & 29995 &  80000 & 1 & 2 & 2 & 34 &  2 &  2 &  2 &  2 & ⋯ &  77519 &  82607 &  81158 &  7000 &   3500 &     0 &  7000 &      0 &  4000 & 1\\\\\n",
       "\t29996 & 29996 & 220000 & 1 & 3 & 1 & 39 &  0 &  0 &  0 &  0 & ⋯ &  88004 &  31237 &  15980 &  8500 &  20000 &  5003 &  3047 &   5000 &  1000 & 0\\\\\n",
       "\t29997 & 29997 & 150000 & 1 & 3 & 2 & 43 & -1 & -1 & -1 & -1 & ⋯ &   8979 &   5190 &      0 &  1837 &   3526 &  8998 &   129 &      0 &     0 & 0\\\\\n",
       "\t29998 & 29998 &  30000 & 1 & 2 & 2 & 37 &  4 &  3 &  2 & -1 & ⋯ &  20878 &  20582 &  19357 &     0 &      0 & 22000 &  4200 &   2000 &  3100 & 1\\\\\n",
       "\t29999 & 29999 &  80000 & 1 & 3 & 1 & 41 &  1 & -1 &  0 &  0 & ⋯ &  52774 &  11855 &  48944 & 85900 &   3409 &  1178 &  1926 &  52964 &  1804 & 1\\\\\n",
       "\t30000 & 30000 &  50000 & 1 & 2 & 1 & 46 &  0 &  0 &  0 &  0 & ⋯ &  36535 &  32428 &  15313 &  2078 &   1800 &  1430 &  1000 &   1000 &  1000 & 1\\\\\n",
       "\\end{tabular}\n"
      ],
      "text/markdown": [
       "\n",
       "A data.frame: 30000 × 25\n",
       "\n",
       "| <!--/--> | ID &lt;int&gt; | LIMIT_BAL &lt;dbl&gt; | SEX &lt;int&gt; | EDUCATION &lt;int&gt; | MARRIAGE &lt;int&gt; | AGE &lt;int&gt; | PAY_1 &lt;int&gt; | PAY_2 &lt;int&gt; | PAY_3 &lt;int&gt; | PAY_4 &lt;int&gt; | ⋯ ⋯ | BILL_AMT4 &lt;dbl&gt; | BILL_AMT5 &lt;dbl&gt; | BILL_AMT6 &lt;dbl&gt; | PAY_AMT1 &lt;dbl&gt; | PAY_AMT2 &lt;dbl&gt; | PAY_AMT3 &lt;dbl&gt; | PAY_AMT4 &lt;dbl&gt; | PAY_AMT5 &lt;dbl&gt; | PAY_AMT6 &lt;dbl&gt; | default.payment.next.month &lt;int&gt; |\n",
       "|---|---|---|---|---|---|---|---|---|---|---|---|---|---|---|---|---|---|---|---|---|---|\n",
       "| 1 |  1 |  20000 | 2 | 2 | 1 | 24 |  2 |  2 | -1 | -1 | ⋯ |      0 |      0 |      0 |     0 |   689 |     0 |     0 |      0 |     0 | 1 |\n",
       "| 2 |  2 | 120000 | 2 | 2 | 2 | 26 | -1 |  2 |  0 |  0 | ⋯ |   3272 |   3455 |   3261 |     0 |  1000 |  1000 |  1000 |      0 |  2000 | 1 |\n",
       "| 3 |  3 |  90000 | 2 | 2 | 2 | 34 |  0 |  0 |  0 |  0 | ⋯ |  14331 |  14948 |  15549 |  1518 |  1500 |  1000 |  1000 |   1000 |  5000 | 0 |\n",
       "| 4 |  4 |  50000 | 2 | 2 | 1 | 37 |  0 |  0 |  0 |  0 | ⋯ |  28314 |  28959 |  29547 |  2000 |  2019 |  1200 |  1100 |   1069 |  1000 | 0 |\n",
       "| 5 |  5 |  50000 | 1 | 2 | 1 | 57 | -1 |  0 | -1 |  0 | ⋯ |  20940 |  19146 |  19131 |  2000 | 36681 | 10000 |  9000 |    689 |   679 | 0 |\n",
       "| 6 |  6 |  50000 | 1 | 1 | 2 | 37 |  0 |  0 |  0 |  0 | ⋯ |  19394 |  19619 |  20024 |  2500 |  1815 |   657 |  1000 |   1000 |   800 | 0 |\n",
       "| 7 |  7 | 500000 | 1 | 1 | 2 | 29 |  0 |  0 |  0 |  0 | ⋯ | 542653 | 483003 | 473944 | 55000 | 40000 | 38000 | 20239 |  13750 | 13770 | 0 |\n",
       "| 8 |  8 | 100000 | 2 | 2 | 2 | 23 |  0 | -1 | -1 |  0 | ⋯ |    221 |   -159 |    567 |   380 |   601 |     0 |   581 |   1687 |  1542 | 0 |\n",
       "| 9 |  9 | 140000 | 2 | 3 | 1 | 28 |  0 |  0 |  2 |  0 | ⋯ |  12211 |  11793 |   3719 |  3329 |     0 |   432 |  1000 |   1000 |  1000 | 0 |\n",
       "| 10 | 10 |  20000 | 1 | 3 | 2 | 35 | -2 | -2 | -2 | -2 | ⋯ |      0 |  13007 |  13912 |     0 |     0 |     0 | 13007 |   1122 |     0 | 0 |\n",
       "| 11 | 11 | 200000 | 2 | 3 | 2 | 34 |  0 |  0 |  2 |  0 | ⋯ |   2513 |   1828 |   3731 |  2306 |    12 |    50 |   300 |   3738 |    66 | 0 |\n",
       "| 12 | 12 | 260000 | 2 | 1 | 2 | 51 | -1 | -1 | -1 | -1 | ⋯ |   8517 |  22287 |  13668 | 21818 |  9966 |  8583 | 22301 |      0 |  3640 | 0 |\n",
       "| 13 | 13 | 630000 | 2 | 2 | 2 | 41 | -1 |  0 | -1 | -1 | ⋯ |   6500 |   6500 |   2870 |  1000 |  6500 |  6500 |  6500 |   2870 |     0 | 0 |\n",
       "| 14 | 14 |  70000 | 1 | 2 | 2 | 30 |  1 |  2 |  2 |  0 | ⋯ |  66782 |  36137 |  36894 |  3200 |     0 |  3000 |  3000 |   1500 |     0 | 1 |\n",
       "| 15 | 15 | 250000 | 1 | 1 | 2 | 29 |  0 |  0 |  0 |  0 | ⋯ |  59696 |  56875 |  55512 |  3000 |  3000 |  3000 |  3000 |   3000 |  3000 | 0 |\n",
       "| 16 | 16 |  50000 | 2 | 3 | 3 | 23 |  1 |  2 |  0 |  0 | ⋯ |  28771 |  29531 |  30211 |     0 |  1500 |  1100 |  1200 |   1300 |  1100 | 0 |\n",
       "| 17 | 17 |  20000 | 1 | 1 | 2 | 24 |  0 |  0 |  2 |  2 | ⋯ |  18338 |  17905 |  19104 |  3200 |     0 |  1500 |     0 |   1650 |     0 | 1 |\n",
       "| 18 | 18 | 320000 | 1 | 1 | 1 | 49 |  0 |  0 |  0 | -1 | ⋯ |  70074 |   5856 | 195599 | 10358 | 10000 | 75940 | 20000 | 195599 | 50000 | 0 |\n",
       "| 19 | 19 | 360000 | 2 | 1 | 1 | 49 |  1 | -2 | -2 | -2 | ⋯ |      0 |      0 |      0 |     0 |     0 |     0 |     0 |      0 |     0 | 0 |\n",
       "| 20 | 20 | 180000 | 2 | 1 | 2 | 29 |  1 | -2 | -2 | -2 | ⋯ |      0 |      0 |      0 |     0 |     0 |     0 |     0 |      0 |     0 | 0 |\n",
       "| 21 | 21 | 130000 | 2 | 3 | 2 | 39 |  0 |  0 |  0 |  0 | ⋯ |  20616 |  11802 |    930 |  3000 |  1537 |  1000 |  2000 |    930 | 33764 | 0 |\n",
       "| 22 | 22 | 120000 | 2 | 2 | 1 | 39 | -1 | -1 | -1 | -1 | ⋯ |      0 |    632 |    316 |   316 |   316 |     0 |   632 |    316 |     0 | 1 |\n",
       "| 23 | 23 |  70000 | 2 | 2 | 2 | 26 |  2 |  0 |  0 |  2 | ⋯ |  44006 |  46905 |  46012 |  2007 |  3582 |     0 |  3601 |      0 |  1820 | 1 |\n",
       "| 24 | 24 | 450000 | 2 | 1 | 1 | 40 | -2 | -2 | -2 | -2 | ⋯ |    560 |      0 |      0 | 19428 |  1473 |   560 |     0 |      0 |  1128 | 1 |\n",
       "| 25 | 25 |  90000 | 1 | 1 | 2 | 23 |  0 |  0 |  0 | -1 | ⋯ |   5398 |   6360 |   8292 |  5757 |     0 |  5398 |  1200 |   2045 |  2000 | 0 |\n",
       "| 26 | 26 |  50000 | 1 | 3 | 2 | 23 |  0 |  0 |  0 |  0 | ⋯ |  28967 |  29829 |  30046 |  1973 |  1426 |  1001 |  1432 |   1062 |   997 | 0 |\n",
       "| 27 | 27 |  60000 | 1 | 1 | 2 | 27 |  1 | -2 | -1 | -1 | ⋯ |    -57 |    127 |   -189 |     0 |  1000 |     0 |   500 |      0 |  1000 | 1 |\n",
       "| 28 | 28 |  50000 | 2 | 3 | 2 | 30 |  0 |  0 |  0 |  0 | ⋯ |  17878 |  18931 |  19617 |  1300 |  1300 |  1000 |  1500 |   1000 |  1012 | 0 |\n",
       "| 29 | 29 |  50000 | 2 | 3 | 1 | 47 | -1 | -1 | -1 | -1 | ⋯ |   2040 |  30430 |    257 |  3415 |  3421 |  2044 | 30430 |    257 |     0 | 0 |\n",
       "| 30 | 30 |  50000 | 1 | 1 | 2 | 26 |  0 |  0 |  0 |  0 | ⋯ |  17907 |  18375 |  11400 |  1500 |  1500 |  1000 |  1000 |   1600 |     0 | 0 |\n",
       "| ⋮ | ⋮ | ⋮ | ⋮ | ⋮ | ⋮ | ⋮ | ⋮ | ⋮ | ⋮ | ⋮ | ⋱ | ⋮ | ⋮ | ⋮ | ⋮ | ⋮ | ⋮ | ⋮ | ⋮ | ⋮ | ⋮ |\n",
       "| 29971 | 29971 | 360000 | 1 | 1 | 1 | 34 | -1 | -1 | -1 |  0 | ⋯ |  49005 |   8676 |  19487 | 52951 |  64535 |  8907 |    53 |  19584 | 16080 | 0 |\n",
       "| 29972 | 29972 |  80000 | 1 | 3 | 1 | 36 |  0 |  0 |  0 |  0 | ⋯ |  69674 |  71070 |  73612 |  2395 |   2500 |  2530 |  2556 |   3700 |  3000 | 0 |\n",
       "| 29973 | 29973 | 190000 | 1 | 1 | 1 | 37 |  0 |  0 |  0 |  0 | ⋯ |  29223 |  19616 | 148482 |  2000 |   3869 | 25128 | 10115 | 148482 |  4800 | 0 |\n",
       "| 29974 | 29974 | 230000 | 1 | 2 | 1 | 35 |  1 | -2 | -2 | -2 | ⋯ |      0 |      0 |      0 |     0 |      0 |     0 |     0 |      0 |     0 | 1 |\n",
       "| 29975 | 29975 |  50000 | 1 | 2 | 1 | 37 |  1 |  2 |  2 |  2 | ⋯ |   2846 |   1585 |   1324 |     0 |   3000 |     0 |     0 |   1000 |  1000 | 1 |\n",
       "| 29976 | 29976 | 220000 | 1 | 2 | 1 | 41 |  0 |  0 | -1 | -1 | ⋯ |   5924 |   1759 |   1824 |  8840 |   6643 |  5924 |  1759 |   1824 |  7022 | 0 |\n",
       "| 29977 | 29977 |  40000 | 1 | 2 | 2 | 47 |  2 |  2 |  3 |  2 | ⋯ |  51259 |  47151 |  46934 |  4000 |      0 |  2000 |     0 |   3520 |     0 | 1 |\n",
       "| 29978 | 29978 | 420000 | 1 | 1 | 2 | 34 |  0 |  0 |  0 |  0 | ⋯ | 141695 | 144839 | 147954 |  7000 |   7000 |  5500 |  5500 |   5600 |  5000 | 0 |\n",
       "| 29979 | 29979 | 310000 | 1 | 2 | 1 | 39 |  0 |  0 |  0 |  0 | ⋯ | 219409 | 216540 | 210675 | 10029 |   9218 | 10029 |  8049 |   8040 | 10059 | 0 |\n",
       "| 29980 | 29980 | 180000 | 1 | 1 | 1 | 32 | -2 | -2 | -2 | -2 | ⋯ |      0 |      0 |      0 |     0 |      0 |     0 |     0 |      0 |     0 | 0 |\n",
       "| 29981 | 29981 |  50000 | 1 | 3 | 2 | 42 |  0 |  0 |  0 |  0 | ⋯ |  50360 |  19971 |  19694 | 10000 |   4000 |  5000 |  3000 |   4500 |  2000 | 0 |\n",
       "| 29982 | 29982 |  50000 | 1 | 2 | 1 | 44 |  1 |  2 |  2 |  2 | ⋯ |  28192 |  22676 |  14647 |  2300 |   1700 |     0 |   517 |    503 |   585 | 0 |\n",
       "| 29983 | 29983 |  90000 | 1 | 2 | 1 | 36 |  0 |  0 |  0 |  0 | ⋯ |  11328 |  12036 |  14329 |  1500 |   1500 |  1500 |  1200 |   2500 |     0 | 1 |\n",
       "| 29984 | 29984 |  20000 | 1 | 2 | 1 | 44 | -2 | -2 | -2 | -2 | ⋯ |   2882 |   9235 |   1719 |  2890 |   2720 |  2890 |  9263 |   1824 |  1701 | 0 |\n",
       "| 29985 | 29985 |  30000 | 1 | 2 | 2 | 38 | -1 | -1 | -2 | -1 | ⋯ |   1993 |   1907 |   3319 |   923 |   2977 |  1999 |  3057 |   3319 |  1000 | 0 |\n",
       "| 29986 | 29986 | 240000 | 1 | 1 | 2 | 30 | -2 | -2 | -2 | -2 | ⋯ |      0 |      0 |      0 |     0 |      0 |     0 |     0 |      0 |     0 | 0 |\n",
       "| 29987 | 29987 | 360000 | 1 | 1 | 2 | 35 | -1 | -1 | -2 | -2 | ⋯ |      0 |      0 |      0 |     0 |      0 |     0 |     0 |      0 |     0 | 0 |\n",
       "| 29988 | 29988 | 130000 | 1 | 1 | 2 | 34 |  0 |  0 |  0 |  0 | ⋯ | 108047 |  93708 |  97353 |  3000 |   2000 | 93000 |  4000 |   5027 |  4005 | 0 |\n",
       "| 29989 | 29989 | 250000 | 1 | 1 | 1 | 34 |  0 |  0 |  0 |  0 | ⋯ | 245750 | 175005 | 179687 | 65000 |   8800 |  9011 |  6000 |   7000 |  6009 | 0 |\n",
       "| 29990 | 29990 | 150000 | 1 | 1 | 2 | 35 | -1 | -1 | -1 | -1 | ⋯ |    780 |      0 |      0 |  9054 |      0 |   783 |     0 |      0 |     0 | 0 |\n",
       "| 29991 | 29991 | 140000 | 1 | 2 | 1 | 41 |  0 |  0 |  0 |  0 | ⋯ | 138262 |  49675 |  46121 |  6000 |   7000 |  4228 |  1505 |   2000 |  2000 | 0 |\n",
       "| 29992 | 29992 | 210000 | 1 | 2 | 1 | 34 |  3 |  2 |  2 |  2 | ⋯ |   2500 |   2500 |   2500 |     0 |      0 |     0 |     0 |      0 |     0 | 1 |\n",
       "| 29993 | 29993 |  10000 | 1 | 3 | 1 | 43 |  0 |  0 |  0 | -2 | ⋯ |      0 |      0 |      0 |  2000 |      0 |     0 |     0 |      0 |     0 | 0 |\n",
       "| 29994 | 29994 | 100000 | 1 | 1 | 2 | 38 |  0 | -1 | -1 |  0 | ⋯ |  70626 |  69473 |  55004 |  2000 | 111784 |  4000 |  3000 |   2000 |  2000 | 0 |\n",
       "| 29995 | 29995 |  80000 | 1 | 2 | 2 | 34 |  2 |  2 |  2 |  2 | ⋯ |  77519 |  82607 |  81158 |  7000 |   3500 |     0 |  7000 |      0 |  4000 | 1 |\n",
       "| 29996 | 29996 | 220000 | 1 | 3 | 1 | 39 |  0 |  0 |  0 |  0 | ⋯ |  88004 |  31237 |  15980 |  8500 |  20000 |  5003 |  3047 |   5000 |  1000 | 0 |\n",
       "| 29997 | 29997 | 150000 | 1 | 3 | 2 | 43 | -1 | -1 | -1 | -1 | ⋯ |   8979 |   5190 |      0 |  1837 |   3526 |  8998 |   129 |      0 |     0 | 0 |\n",
       "| 29998 | 29998 |  30000 | 1 | 2 | 2 | 37 |  4 |  3 |  2 | -1 | ⋯ |  20878 |  20582 |  19357 |     0 |      0 | 22000 |  4200 |   2000 |  3100 | 1 |\n",
       "| 29999 | 29999 |  80000 | 1 | 3 | 1 | 41 |  1 | -1 |  0 |  0 | ⋯ |  52774 |  11855 |  48944 | 85900 |   3409 |  1178 |  1926 |  52964 |  1804 | 1 |\n",
       "| 30000 | 30000 |  50000 | 1 | 2 | 1 | 46 |  0 |  0 |  0 |  0 | ⋯ |  36535 |  32428 |  15313 |  2078 |   1800 |  1430 |  1000 |   1000 |  1000 | 1 |\n",
       "\n"
      ],
      "text/plain": [
       "      ID    LIMIT_BAL SEX EDUCATION MARRIAGE AGE PAY_1 PAY_2 PAY_3 PAY_4 ⋯\n",
       "1      1     20000    2   2         1        24   2     2    -1    -1    ⋯\n",
       "2      2    120000    2   2         2        26  -1     2     0     0    ⋯\n",
       "3      3     90000    2   2         2        34   0     0     0     0    ⋯\n",
       "4      4     50000    2   2         1        37   0     0     0     0    ⋯\n",
       "5      5     50000    1   2         1        57  -1     0    -1     0    ⋯\n",
       "6      6     50000    1   1         2        37   0     0     0     0    ⋯\n",
       "7      7    500000    1   1         2        29   0     0     0     0    ⋯\n",
       "8      8    100000    2   2         2        23   0    -1    -1     0    ⋯\n",
       "9      9    140000    2   3         1        28   0     0     2     0    ⋯\n",
       "10    10     20000    1   3         2        35  -2    -2    -2    -2    ⋯\n",
       "11    11    200000    2   3         2        34   0     0     2     0    ⋯\n",
       "12    12    260000    2   1         2        51  -1    -1    -1    -1    ⋯\n",
       "13    13    630000    2   2         2        41  -1     0    -1    -1    ⋯\n",
       "14    14     70000    1   2         2        30   1     2     2     0    ⋯\n",
       "15    15    250000    1   1         2        29   0     0     0     0    ⋯\n",
       "16    16     50000    2   3         3        23   1     2     0     0    ⋯\n",
       "17    17     20000    1   1         2        24   0     0     2     2    ⋯\n",
       "18    18    320000    1   1         1        49   0     0     0    -1    ⋯\n",
       "19    19    360000    2   1         1        49   1    -2    -2    -2    ⋯\n",
       "20    20    180000    2   1         2        29   1    -2    -2    -2    ⋯\n",
       "21    21    130000    2   3         2        39   0     0     0     0    ⋯\n",
       "22    22    120000    2   2         1        39  -1    -1    -1    -1    ⋯\n",
       "23    23     70000    2   2         2        26   2     0     0     2    ⋯\n",
       "24    24    450000    2   1         1        40  -2    -2    -2    -2    ⋯\n",
       "25    25     90000    1   1         2        23   0     0     0    -1    ⋯\n",
       "26    26     50000    1   3         2        23   0     0     0     0    ⋯\n",
       "27    27     60000    1   1         2        27   1    -2    -1    -1    ⋯\n",
       "28    28     50000    2   3         2        30   0     0     0     0    ⋯\n",
       "29    29     50000    2   3         1        47  -1    -1    -1    -1    ⋯\n",
       "30    30     50000    1   1         2        26   0     0     0     0    ⋯\n",
       "⋮     ⋮     ⋮         ⋮   ⋮         ⋮        ⋮   ⋮     ⋮     ⋮     ⋮     ⋱\n",
       "29971 29971 360000    1   1         1        34  -1    -1    -1     0    ⋯\n",
       "29972 29972  80000    1   3         1        36   0     0     0     0    ⋯\n",
       "29973 29973 190000    1   1         1        37   0     0     0     0    ⋯\n",
       "29974 29974 230000    1   2         1        35   1    -2    -2    -2    ⋯\n",
       "29975 29975  50000    1   2         1        37   1     2     2     2    ⋯\n",
       "29976 29976 220000    1   2         1        41   0     0    -1    -1    ⋯\n",
       "29977 29977  40000    1   2         2        47   2     2     3     2    ⋯\n",
       "29978 29978 420000    1   1         2        34   0     0     0     0    ⋯\n",
       "29979 29979 310000    1   2         1        39   0     0     0     0    ⋯\n",
       "29980 29980 180000    1   1         1        32  -2    -2    -2    -2    ⋯\n",
       "29981 29981  50000    1   3         2        42   0     0     0     0    ⋯\n",
       "29982 29982  50000    1   2         1        44   1     2     2     2    ⋯\n",
       "29983 29983  90000    1   2         1        36   0     0     0     0    ⋯\n",
       "29984 29984  20000    1   2         1        44  -2    -2    -2    -2    ⋯\n",
       "29985 29985  30000    1   2         2        38  -1    -1    -2    -1    ⋯\n",
       "29986 29986 240000    1   1         2        30  -2    -2    -2    -2    ⋯\n",
       "29987 29987 360000    1   1         2        35  -1    -1    -2    -2    ⋯\n",
       "29988 29988 130000    1   1         2        34   0     0     0     0    ⋯\n",
       "29989 29989 250000    1   1         1        34   0     0     0     0    ⋯\n",
       "29990 29990 150000    1   1         2        35  -1    -1    -1    -1    ⋯\n",
       "29991 29991 140000    1   2         1        41   0     0     0     0    ⋯\n",
       "29992 29992 210000    1   2         1        34   3     2     2     2    ⋯\n",
       "29993 29993  10000    1   3         1        43   0     0     0    -2    ⋯\n",
       "29994 29994 100000    1   1         2        38   0    -1    -1     0    ⋯\n",
       "29995 29995  80000    1   2         2        34   2     2     2     2    ⋯\n",
       "29996 29996 220000    1   3         1        39   0     0     0     0    ⋯\n",
       "29997 29997 150000    1   3         2        43  -1    -1    -1    -1    ⋯\n",
       "29998 29998  30000    1   2         2        37   4     3     2    -1    ⋯\n",
       "29999 29999  80000    1   3         1        41   1    -1     0     0    ⋯\n",
       "30000 30000  50000    1   2         1        46   0     0     0     0    ⋯\n",
       "      BILL_AMT4 BILL_AMT5 BILL_AMT6 PAY_AMT1 PAY_AMT2 PAY_AMT3 PAY_AMT4\n",
       "1          0         0         0        0      689        0        0   \n",
       "2       3272      3455      3261        0     1000     1000     1000   \n",
       "3      14331     14948     15549     1518     1500     1000     1000   \n",
       "4      28314     28959     29547     2000     2019     1200     1100   \n",
       "5      20940     19146     19131     2000    36681    10000     9000   \n",
       "6      19394     19619     20024     2500     1815      657     1000   \n",
       "7     542653    483003    473944    55000    40000    38000    20239   \n",
       "8        221      -159       567      380      601        0      581   \n",
       "9      12211     11793      3719     3329        0      432     1000   \n",
       "10         0     13007     13912        0        0        0    13007   \n",
       "11      2513      1828      3731     2306       12       50      300   \n",
       "12      8517     22287     13668    21818     9966     8583    22301   \n",
       "13      6500      6500      2870     1000     6500     6500     6500   \n",
       "14     66782     36137     36894     3200        0     3000     3000   \n",
       "15     59696     56875     55512     3000     3000     3000     3000   \n",
       "16     28771     29531     30211        0     1500     1100     1200   \n",
       "17     18338     17905     19104     3200        0     1500        0   \n",
       "18     70074      5856    195599    10358    10000    75940    20000   \n",
       "19         0         0         0        0        0        0        0   \n",
       "20         0         0         0        0        0        0        0   \n",
       "21     20616     11802       930     3000     1537     1000     2000   \n",
       "22         0       632       316      316      316        0      632   \n",
       "23     44006     46905     46012     2007     3582        0     3601   \n",
       "24       560         0         0    19428     1473      560        0   \n",
       "25      5398      6360      8292     5757        0     5398     1200   \n",
       "26     28967     29829     30046     1973     1426     1001     1432   \n",
       "27       -57       127      -189        0     1000        0      500   \n",
       "28     17878     18931     19617     1300     1300     1000     1500   \n",
       "29      2040     30430       257     3415     3421     2044    30430   \n",
       "30     17907     18375     11400     1500     1500     1000     1000   \n",
       "⋮     ⋮         ⋮         ⋮         ⋮        ⋮        ⋮        ⋮       \n",
       "29971  49005      8676     19487    52951     64535    8907       53   \n",
       "29972  69674     71070     73612     2395      2500    2530     2556   \n",
       "29973  29223     19616    148482     2000      3869   25128    10115   \n",
       "29974      0         0         0        0         0       0        0   \n",
       "29975   2846      1585      1324        0      3000       0        0   \n",
       "29976   5924      1759      1824     8840      6643    5924     1759   \n",
       "29977  51259     47151     46934     4000         0    2000        0   \n",
       "29978 141695    144839    147954     7000      7000    5500     5500   \n",
       "29979 219409    216540    210675    10029      9218   10029     8049   \n",
       "29980      0         0         0        0         0       0        0   \n",
       "29981  50360     19971     19694    10000      4000    5000     3000   \n",
       "29982  28192     22676     14647     2300      1700       0      517   \n",
       "29983  11328     12036     14329     1500      1500    1500     1200   \n",
       "29984   2882      9235      1719     2890      2720    2890     9263   \n",
       "29985   1993      1907      3319      923      2977    1999     3057   \n",
       "29986      0         0         0        0         0       0        0   \n",
       "29987      0         0         0        0         0       0        0   \n",
       "29988 108047     93708     97353     3000      2000   93000     4000   \n",
       "29989 245750    175005    179687    65000      8800    9011     6000   \n",
       "29990    780         0         0     9054         0     783        0   \n",
       "29991 138262     49675     46121     6000      7000    4228     1505   \n",
       "29992   2500      2500      2500        0         0       0        0   \n",
       "29993      0         0         0     2000         0       0        0   \n",
       "29994  70626     69473     55004     2000    111784    4000     3000   \n",
       "29995  77519     82607     81158     7000      3500       0     7000   \n",
       "29996  88004     31237     15980     8500     20000    5003     3047   \n",
       "29997   8979      5190         0     1837      3526    8998      129   \n",
       "29998  20878     20582     19357        0         0   22000     4200   \n",
       "29999  52774     11855     48944    85900      3409    1178     1926   \n",
       "30000  36535     32428     15313     2078      1800    1430     1000   \n",
       "      PAY_AMT5 PAY_AMT6 default.payment.next.month\n",
       "1          0       0    1                         \n",
       "2          0    2000    1                         \n",
       "3       1000    5000    0                         \n",
       "4       1069    1000    0                         \n",
       "5        689     679    0                         \n",
       "6       1000     800    0                         \n",
       "7      13750   13770    0                         \n",
       "8       1687    1542    0                         \n",
       "9       1000    1000    0                         \n",
       "10      1122       0    0                         \n",
       "11      3738      66    0                         \n",
       "12         0    3640    0                         \n",
       "13      2870       0    0                         \n",
       "14      1500       0    1                         \n",
       "15      3000    3000    0                         \n",
       "16      1300    1100    0                         \n",
       "17      1650       0    1                         \n",
       "18    195599   50000    0                         \n",
       "19         0       0    0                         \n",
       "20         0       0    0                         \n",
       "21       930   33764    0                         \n",
       "22       316       0    1                         \n",
       "23         0    1820    1                         \n",
       "24         0    1128    1                         \n",
       "25      2045    2000    0                         \n",
       "26      1062     997    0                         \n",
       "27         0    1000    1                         \n",
       "28      1000    1012    0                         \n",
       "29       257       0    0                         \n",
       "30      1600       0    0                         \n",
       "⋮     ⋮        ⋮        ⋮                         \n",
       "29971  19584   16080    0                         \n",
       "29972   3700    3000    0                         \n",
       "29973 148482    4800    0                         \n",
       "29974      0       0    1                         \n",
       "29975   1000    1000    1                         \n",
       "29976   1824    7022    0                         \n",
       "29977   3520       0    1                         \n",
       "29978   5600    5000    0                         \n",
       "29979   8040   10059    0                         \n",
       "29980      0       0    0                         \n",
       "29981   4500    2000    0                         \n",
       "29982    503     585    0                         \n",
       "29983   2500       0    1                         \n",
       "29984   1824    1701    0                         \n",
       "29985   3319    1000    0                         \n",
       "29986      0       0    0                         \n",
       "29987      0       0    0                         \n",
       "29988   5027    4005    0                         \n",
       "29989   7000    6009    0                         \n",
       "29990      0       0    0                         \n",
       "29991   2000    2000    0                         \n",
       "29992      0       0    1                         \n",
       "29993      0       0    0                         \n",
       "29994   2000    2000    0                         \n",
       "29995      0    4000    1                         \n",
       "29996   5000    1000    0                         \n",
       "29997      0       0    0                         \n",
       "29998   2000    3100    1                         \n",
       "29999  52964    1804    1                         \n",
       "30000   1000    1000    1                         "
      ]
     },
     "metadata": {},
     "output_type": "display_data"
    }
   ],
   "source": [
    "unique(data)"
   ]
  },
  {
   "cell_type": "markdown",
   "id": "3b32ff6d",
   "metadata": {},
   "source": [
    "Converting the categorical features into factors"
   ]
  },
  {
   "cell_type": "code",
   "execution_count": 9,
   "id": "bda44148",
   "metadata": {},
   "outputs": [],
   "source": [
    "#changing the MARRIAGE feature into factor and assigning levels\n",
    "data$MARRIAGE <- as.factor(data$MARRIAGE)\n",
    "#MARRIAGE : Marital status (0=Unknown, 1=Married, 2=Single, 3=Others)\n",
    "levels(data$MARRIAGE) <- c(\"Unknown\", \"Married\", \"Single\", \"Others\") "
   ]
  },
  {
   "cell_type": "code",
   "execution_count": 10,
   "id": "ac6d063c",
   "metadata": {},
   "outputs": [],
   "source": [
    "#changing the education feature into factor and assigning levels\n",
    "data$EDUCATION <- as.factor(data$EDUCATION)\n",
    "#EDUCATION : (1=graduate school, 2=university, 3=high school, 4=others, 0,5,6=unknown)\n",
    "levels(data$EDUCATION) <- c(\"Unknown\", \"Graduate School\", \"University\", \"High School\", \"Others\", \"Unknown\",\"Unknown\")"
   ]
  },
  {
   "cell_type": "code",
   "execution_count": 11,
   "id": "22dce16f",
   "metadata": {},
   "outputs": [],
   "source": [
    "# changing Sex feature into factor and assigning levels\n",
    "data$SEX <- as.factor(data$SEX)\n",
    "#SEX : (1=Male, 2=Female)\n",
    "levels(data$SEX) <- c(\"Male\", \"Female\")"
   ]
  },
  {
   "cell_type": "code",
   "execution_count": 12,
   "id": "a4759a76",
   "metadata": {},
   "outputs": [],
   "source": [
    "# changing default payment next month into factor and assigning levels\n",
    "data$default.payment.next.month <- as.factor(data$default.payment.next.month)\n",
    "# Default : (0=No, 1=Yes)\n",
    "levels(data$default.payment.next.month) <- c(\"Not Default\", \"Default\")"
   ]
  },
  {
   "cell_type": "code",
   "execution_count": 13,
   "id": "e6cf6468",
   "metadata": {},
   "outputs": [],
   "source": [
    "# Repayment feature are also a categorcial in nature so converting them into factors\n",
    "data$PAY_1 <- as.factor(data$PAY_1)\n",
    "data$PAY_2 <- as.factor(data$PAY_2)\n",
    "data$PAY_3 <- as.factor(data$PAY_3)\n",
    "data$PAY_4 <- as.factor(data$PAY_4)\n",
    "data$PAY_5 <- as.factor(data$PAY_5)\n",
    "data$PAY_6 <- as.factor(data$PAY_6)"
   ]
  },
  {
   "cell_type": "code",
   "execution_count": 14,
   "id": "fabf8d7c",
   "metadata": {},
   "outputs": [],
   "source": [
    "# changing the age into factors and assigning levels for better understanding of the data\n",
    "data$AGE<-cut(data$AGE, breaks = c( 10, 30,50,100), labels = c(\"Young\", \"Middle\",\"Senior\"))"
   ]
  },
  {
   "cell_type": "code",
   "execution_count": 15,
   "id": "68ade788",
   "metadata": {},
   "outputs": [
    {
     "data": {
      "text/html": [
       "<table class=\"dataframe\">\n",
       "<caption>A data.frame: 6 × 25</caption>\n",
       "<thead>\n",
       "\t<tr><th></th><th scope=col>ID</th><th scope=col>LIMIT_BAL</th><th scope=col>SEX</th><th scope=col>EDUCATION</th><th scope=col>MARRIAGE</th><th scope=col>AGE</th><th scope=col>PAY_1</th><th scope=col>PAY_2</th><th scope=col>PAY_3</th><th scope=col>PAY_4</th><th scope=col>⋯</th><th scope=col>BILL_AMT4</th><th scope=col>BILL_AMT5</th><th scope=col>BILL_AMT6</th><th scope=col>PAY_AMT1</th><th scope=col>PAY_AMT2</th><th scope=col>PAY_AMT3</th><th scope=col>PAY_AMT4</th><th scope=col>PAY_AMT5</th><th scope=col>PAY_AMT6</th><th scope=col>default.payment.next.month</th></tr>\n",
       "\t<tr><th></th><th scope=col>&lt;int&gt;</th><th scope=col>&lt;dbl&gt;</th><th scope=col>&lt;fct&gt;</th><th scope=col>&lt;fct&gt;</th><th scope=col>&lt;fct&gt;</th><th scope=col>&lt;fct&gt;</th><th scope=col>&lt;fct&gt;</th><th scope=col>&lt;fct&gt;</th><th scope=col>&lt;fct&gt;</th><th scope=col>&lt;fct&gt;</th><th scope=col>⋯</th><th scope=col>&lt;dbl&gt;</th><th scope=col>&lt;dbl&gt;</th><th scope=col>&lt;dbl&gt;</th><th scope=col>&lt;dbl&gt;</th><th scope=col>&lt;dbl&gt;</th><th scope=col>&lt;dbl&gt;</th><th scope=col>&lt;dbl&gt;</th><th scope=col>&lt;dbl&gt;</th><th scope=col>&lt;dbl&gt;</th><th scope=col>&lt;fct&gt;</th></tr>\n",
       "</thead>\n",
       "<tbody>\n",
       "\t<tr><th scope=row>1</th><td>1</td><td> 20000</td><td>Female</td><td>University     </td><td>Married</td><td>Young </td><td>2 </td><td>2</td><td>-1</td><td>-1</td><td>⋯</td><td>    0</td><td>    0</td><td>    0</td><td>   0</td><td>  689</td><td>    0</td><td>   0</td><td>   0</td><td>   0</td><td>Default    </td></tr>\n",
       "\t<tr><th scope=row>2</th><td>2</td><td>120000</td><td>Female</td><td>University     </td><td>Single </td><td>Young </td><td>-1</td><td>2</td><td>0 </td><td>0 </td><td>⋯</td><td> 3272</td><td> 3455</td><td> 3261</td><td>   0</td><td> 1000</td><td> 1000</td><td>1000</td><td>   0</td><td>2000</td><td>Default    </td></tr>\n",
       "\t<tr><th scope=row>3</th><td>3</td><td> 90000</td><td>Female</td><td>University     </td><td>Single </td><td>Middle</td><td>0 </td><td>0</td><td>0 </td><td>0 </td><td>⋯</td><td>14331</td><td>14948</td><td>15549</td><td>1518</td><td> 1500</td><td> 1000</td><td>1000</td><td>1000</td><td>5000</td><td>Not Default</td></tr>\n",
       "\t<tr><th scope=row>4</th><td>4</td><td> 50000</td><td>Female</td><td>University     </td><td>Married</td><td>Middle</td><td>0 </td><td>0</td><td>0 </td><td>0 </td><td>⋯</td><td>28314</td><td>28959</td><td>29547</td><td>2000</td><td> 2019</td><td> 1200</td><td>1100</td><td>1069</td><td>1000</td><td>Not Default</td></tr>\n",
       "\t<tr><th scope=row>5</th><td>5</td><td> 50000</td><td>Male  </td><td>University     </td><td>Married</td><td>Senior</td><td>-1</td><td>0</td><td>-1</td><td>0 </td><td>⋯</td><td>20940</td><td>19146</td><td>19131</td><td>2000</td><td>36681</td><td>10000</td><td>9000</td><td> 689</td><td> 679</td><td>Not Default</td></tr>\n",
       "\t<tr><th scope=row>6</th><td>6</td><td> 50000</td><td>Male  </td><td>Graduate School</td><td>Single </td><td>Middle</td><td>0 </td><td>0</td><td>0 </td><td>0 </td><td>⋯</td><td>19394</td><td>19619</td><td>20024</td><td>2500</td><td> 1815</td><td>  657</td><td>1000</td><td>1000</td><td> 800</td><td>Not Default</td></tr>\n",
       "</tbody>\n",
       "</table>\n"
      ],
      "text/latex": [
       "A data.frame: 6 × 25\n",
       "\\begin{tabular}{r|lllllllllllllllllllll}\n",
       "  & ID & LIMIT\\_BAL & SEX & EDUCATION & MARRIAGE & AGE & PAY\\_1 & PAY\\_2 & PAY\\_3 & PAY\\_4 & ⋯ & BILL\\_AMT4 & BILL\\_AMT5 & BILL\\_AMT6 & PAY\\_AMT1 & PAY\\_AMT2 & PAY\\_AMT3 & PAY\\_AMT4 & PAY\\_AMT5 & PAY\\_AMT6 & default.payment.next.month\\\\\n",
       "  & <int> & <dbl> & <fct> & <fct> & <fct> & <fct> & <fct> & <fct> & <fct> & <fct> & ⋯ & <dbl> & <dbl> & <dbl> & <dbl> & <dbl> & <dbl> & <dbl> & <dbl> & <dbl> & <fct>\\\\\n",
       "\\hline\n",
       "\t1 & 1 &  20000 & Female & University      & Married & Young  & 2  & 2 & -1 & -1 & ⋯ &     0 &     0 &     0 &    0 &   689 &     0 &    0 &    0 &    0 & Default    \\\\\n",
       "\t2 & 2 & 120000 & Female & University      & Single  & Young  & -1 & 2 & 0  & 0  & ⋯ &  3272 &  3455 &  3261 &    0 &  1000 &  1000 & 1000 &    0 & 2000 & Default    \\\\\n",
       "\t3 & 3 &  90000 & Female & University      & Single  & Middle & 0  & 0 & 0  & 0  & ⋯ & 14331 & 14948 & 15549 & 1518 &  1500 &  1000 & 1000 & 1000 & 5000 & Not Default\\\\\n",
       "\t4 & 4 &  50000 & Female & University      & Married & Middle & 0  & 0 & 0  & 0  & ⋯ & 28314 & 28959 & 29547 & 2000 &  2019 &  1200 & 1100 & 1069 & 1000 & Not Default\\\\\n",
       "\t5 & 5 &  50000 & Male   & University      & Married & Senior & -1 & 0 & -1 & 0  & ⋯ & 20940 & 19146 & 19131 & 2000 & 36681 & 10000 & 9000 &  689 &  679 & Not Default\\\\\n",
       "\t6 & 6 &  50000 & Male   & Graduate School & Single  & Middle & 0  & 0 & 0  & 0  & ⋯ & 19394 & 19619 & 20024 & 2500 &  1815 &   657 & 1000 & 1000 &  800 & Not Default\\\\\n",
       "\\end{tabular}\n"
      ],
      "text/markdown": [
       "\n",
       "A data.frame: 6 × 25\n",
       "\n",
       "| <!--/--> | ID &lt;int&gt; | LIMIT_BAL &lt;dbl&gt; | SEX &lt;fct&gt; | EDUCATION &lt;fct&gt; | MARRIAGE &lt;fct&gt; | AGE &lt;fct&gt; | PAY_1 &lt;fct&gt; | PAY_2 &lt;fct&gt; | PAY_3 &lt;fct&gt; | PAY_4 &lt;fct&gt; | ⋯ ⋯ | BILL_AMT4 &lt;dbl&gt; | BILL_AMT5 &lt;dbl&gt; | BILL_AMT6 &lt;dbl&gt; | PAY_AMT1 &lt;dbl&gt; | PAY_AMT2 &lt;dbl&gt; | PAY_AMT3 &lt;dbl&gt; | PAY_AMT4 &lt;dbl&gt; | PAY_AMT5 &lt;dbl&gt; | PAY_AMT6 &lt;dbl&gt; | default.payment.next.month &lt;fct&gt; |\n",
       "|---|---|---|---|---|---|---|---|---|---|---|---|---|---|---|---|---|---|---|---|---|---|\n",
       "| 1 | 1 |  20000 | Female | University      | Married | Young  | 2  | 2 | -1 | -1 | ⋯ |     0 |     0 |     0 |    0 |   689 |     0 |    0 |    0 |    0 | Default     |\n",
       "| 2 | 2 | 120000 | Female | University      | Single  | Young  | -1 | 2 | 0  | 0  | ⋯ |  3272 |  3455 |  3261 |    0 |  1000 |  1000 | 1000 |    0 | 2000 | Default     |\n",
       "| 3 | 3 |  90000 | Female | University      | Single  | Middle | 0  | 0 | 0  | 0  | ⋯ | 14331 | 14948 | 15549 | 1518 |  1500 |  1000 | 1000 | 1000 | 5000 | Not Default |\n",
       "| 4 | 4 |  50000 | Female | University      | Married | Middle | 0  | 0 | 0  | 0  | ⋯ | 28314 | 28959 | 29547 | 2000 |  2019 |  1200 | 1100 | 1069 | 1000 | Not Default |\n",
       "| 5 | 5 |  50000 | Male   | University      | Married | Senior | -1 | 0 | -1 | 0  | ⋯ | 20940 | 19146 | 19131 | 2000 | 36681 | 10000 | 9000 |  689 |  679 | Not Default |\n",
       "| 6 | 6 |  50000 | Male   | Graduate School | Single  | Middle | 0  | 0 | 0  | 0  | ⋯ | 19394 | 19619 | 20024 | 2500 |  1815 |   657 | 1000 | 1000 |  800 | Not Default |\n",
       "\n"
      ],
      "text/plain": [
       "  ID LIMIT_BAL SEX    EDUCATION       MARRIAGE AGE    PAY_1 PAY_2 PAY_3 PAY_4 ⋯\n",
       "1 1   20000    Female University      Married  Young  2     2     -1    -1    ⋯\n",
       "2 2  120000    Female University      Single   Young  -1    2     0     0     ⋯\n",
       "3 3   90000    Female University      Single   Middle 0     0     0     0     ⋯\n",
       "4 4   50000    Female University      Married  Middle 0     0     0     0     ⋯\n",
       "5 5   50000    Male   University      Married  Senior -1    0     -1    0     ⋯\n",
       "6 6   50000    Male   Graduate School Single   Middle 0     0     0     0     ⋯\n",
       "  BILL_AMT4 BILL_AMT5 BILL_AMT6 PAY_AMT1 PAY_AMT2 PAY_AMT3 PAY_AMT4 PAY_AMT5\n",
       "1     0         0         0        0       689        0       0        0    \n",
       "2  3272      3455      3261        0      1000     1000    1000        0    \n",
       "3 14331     14948     15549     1518      1500     1000    1000     1000    \n",
       "4 28314     28959     29547     2000      2019     1200    1100     1069    \n",
       "5 20940     19146     19131     2000     36681    10000    9000      689    \n",
       "6 19394     19619     20024     2500      1815      657    1000     1000    \n",
       "  PAY_AMT6 default.payment.next.month\n",
       "1    0     Default                   \n",
       "2 2000     Default                   \n",
       "3 5000     Not Default               \n",
       "4 1000     Not Default               \n",
       "5  679     Not Default               \n",
       "6  800     Not Default               "
      ]
     },
     "metadata": {},
     "output_type": "display_data"
    }
   ],
   "source": [
    "head(data)"
   ]
  },
  {
   "cell_type": "markdown",
   "id": "a9dc390c",
   "metadata": {},
   "source": [
    "# Exploratory Data Analysis"
   ]
  },
  {
   "cell_type": "code",
   "execution_count": 16,
   "id": "6aa99b66",
   "metadata": {},
   "outputs": [
    {
     "name": "stderr",
     "output_type": "stream",
     "text": [
      "Warning message:\n",
      "\"\u001b[1m\u001b[22mUse of `data$LIMIT_BAL` is discouraged.\n",
      "\u001b[36mℹ\u001b[39m Use `LIMIT_BAL` instead.\"\n"
     ]
    },
    {
     "data": {
      "image/png": "[encoded data removed]",
      "text/plain": [
       "plot without title"
      ]
     },
     "metadata": {
      "image/png": {
       "height": 420,
       "width": 420
      }
     },
     "output_type": "display_data"
    }
   ],
   "source": [
    "ggplot(data=data,mapping = aes(x=AGE,y=data$LIMIT_BAL,fill=default.payment.next.month)) + geom_boxplot() "
   ]
  },
  {
   "cell_type": "code",
   "execution_count": 17,
   "id": "2d1dee2b",
   "metadata": {},
   "outputs": [
    {
     "data": {
      "image/png": "[encoded data removed]",
      "text/plain": [
       "plot without title"
      ]
     },
     "metadata": {
      "image/png": {
       "height": 420,
       "width": 420
      }
     },
     "output_type": "display_data"
    }
   ],
   "source": [
    "ggplot(data=data, aes(x=MARRIAGE, y=LIMIT_BAL, color = default.payment.next.month))+\n",
    "  geom_boxplot()"
   ]
  },
  {
   "cell_type": "code",
   "execution_count": 18,
   "id": "842d665d",
   "metadata": {},
   "outputs": [
    {
     "data": {
      "image/png": "[encoded data removed]",
      "text/plain": [
       "plot without title"
      ]
     },
     "metadata": {
      "image/png": {
       "height": 420,
       "width": 420
      }
     },
     "output_type": "display_data"
    }
   ],
   "source": [
    "ggplot(data=data, mapping = aes(x=SEX, fill=default.payment.next.month)) + geom_bar()+theme_few()"
   ]
  },
  {
   "cell_type": "code",
   "execution_count": 19,
   "id": "0014e026",
   "metadata": {},
   "outputs": [
    {
     "name": "stderr",
     "output_type": "stream",
     "text": [
      "Warning message in ggcorr(data, hjust = 1, label = TRUE):\n",
      "\"data in column(s) 'SEX', 'EDUCATION', 'MARRIAGE', 'AGE', 'PAY_1', 'PAY_2', 'PAY_3', 'PAY_4', 'PAY_5', 'PAY_6', 'default.payment.next.month' are not numeric and were ignored\"\n"
     ]
    },
    {
     "data": {
      "image/png": "[encoded data removed]",
      "text/plain": [
       "plot without title"
      ]
     },
     "metadata": {
      "image/png": {
       "height": 420,
       "width": 420
      }
     },
     "output_type": "display_data"
    }
   ],
   "source": [
    "ggcorr(data, hjust =1, label = TRUE)\n",
    "#Result: When we reflect the correlations between limit balances, bill amounts and payments amounts; it presents us that there’s a low correlation between the limit balances and payments and bill amounts. Howevet it can be seen that bill amounts has high correlation between each other as expected since the bills a reflecting the cumulative amounts."
   ]
  },
  {
   "cell_type": "markdown",
   "id": "220a9142",
   "metadata": {},
   "source": [
    "# Data Transformation"
   ]
  },
  {
   "cell_type": "code",
   "execution_count": 20,
   "id": "5bb88c3f",
   "metadata": {},
   "outputs": [
    {
     "data": {
      "image/png": "[encoded data removed]",
      "text/plain": [
       "plot without title"
      ]
     },
     "metadata": {
      "image/png": {
       "height": 420,
       "width": 420
      }
     },
     "output_type": "display_data"
    }
   ],
   "source": [
    "plot_histogram(data)"
   ]
  },
  {
   "cell_type": "code",
   "execution_count": 21,
   "id": "4cd0ede1",
   "metadata": {},
   "outputs": [
    {
     "data": {
      "text/html": [
       "<table class=\"dataframe\">\n",
       "<caption>A data.frame: 6 × 18</caption>\n",
       "<thead>\n",
       "\t<tr><th></th><th scope=col>LIMIT_BAL</th><th scope=col>SEX</th><th scope=col>EDUCATION</th><th scope=col>MARRIAGE</th><th scope=col>PAY_1</th><th scope=col>PAY_2</th><th scope=col>PAY_3</th><th scope=col>PAY_4</th><th scope=col>PAY_5</th><th scope=col>PAY_6</th><th scope=col>BILL_AMT1</th><th scope=col>PAY_AMT1</th><th scope=col>PAY_AMT2</th><th scope=col>PAY_AMT3</th><th scope=col>PAY_AMT4</th><th scope=col>PAY_AMT5</th><th scope=col>PAY_AMT6</th><th scope=col>default.payment.next.month</th></tr>\n",
       "\t<tr><th></th><th scope=col>&lt;dbl&gt;</th><th scope=col>&lt;fct&gt;</th><th scope=col>&lt;fct&gt;</th><th scope=col>&lt;fct&gt;</th><th scope=col>&lt;fct&gt;</th><th scope=col>&lt;fct&gt;</th><th scope=col>&lt;fct&gt;</th><th scope=col>&lt;fct&gt;</th><th scope=col>&lt;fct&gt;</th><th scope=col>&lt;fct&gt;</th><th scope=col>&lt;dbl&gt;</th><th scope=col>&lt;dbl&gt;</th><th scope=col>&lt;dbl&gt;</th><th scope=col>&lt;dbl&gt;</th><th scope=col>&lt;dbl&gt;</th><th scope=col>&lt;dbl&gt;</th><th scope=col>&lt;dbl&gt;</th><th scope=col>&lt;fct&gt;</th></tr>\n",
       "</thead>\n",
       "<tbody>\n",
       "\t<tr><th scope=row>1</th><td> 20000</td><td>Female</td><td>University     </td><td>Married</td><td>2 </td><td>2</td><td>-1</td><td>-1</td><td>-2</td><td>-2</td><td> 3913</td><td>   0</td><td>  689</td><td>    0</td><td>   0</td><td>   0</td><td>   0</td><td>Default    </td></tr>\n",
       "\t<tr><th scope=row>2</th><td>120000</td><td>Female</td><td>University     </td><td>Single </td><td>-1</td><td>2</td><td>0 </td><td>0 </td><td>0 </td><td>2 </td><td> 2682</td><td>   0</td><td> 1000</td><td> 1000</td><td>1000</td><td>   0</td><td>2000</td><td>Default    </td></tr>\n",
       "\t<tr><th scope=row>3</th><td> 90000</td><td>Female</td><td>University     </td><td>Single </td><td>0 </td><td>0</td><td>0 </td><td>0 </td><td>0 </td><td>0 </td><td>29239</td><td>1518</td><td> 1500</td><td> 1000</td><td>1000</td><td>1000</td><td>5000</td><td>Not Default</td></tr>\n",
       "\t<tr><th scope=row>4</th><td> 50000</td><td>Female</td><td>University     </td><td>Married</td><td>0 </td><td>0</td><td>0 </td><td>0 </td><td>0 </td><td>0 </td><td>46990</td><td>2000</td><td> 2019</td><td> 1200</td><td>1100</td><td>1069</td><td>1000</td><td>Not Default</td></tr>\n",
       "\t<tr><th scope=row>5</th><td> 50000</td><td>Male  </td><td>University     </td><td>Married</td><td>-1</td><td>0</td><td>-1</td><td>0 </td><td>0 </td><td>0 </td><td> 8617</td><td>2000</td><td>36681</td><td>10000</td><td>9000</td><td> 689</td><td> 679</td><td>Not Default</td></tr>\n",
       "\t<tr><th scope=row>6</th><td> 50000</td><td>Male  </td><td>Graduate School</td><td>Single </td><td>0 </td><td>0</td><td>0 </td><td>0 </td><td>0 </td><td>0 </td><td>64400</td><td>2500</td><td> 1815</td><td>  657</td><td>1000</td><td>1000</td><td> 800</td><td>Not Default</td></tr>\n",
       "</tbody>\n",
       "</table>\n"
      ],
      "text/latex": [
       "A data.frame: 6 × 18\n",
       "\\begin{tabular}{r|llllllllllllllllll}\n",
       "  & LIMIT\\_BAL & SEX & EDUCATION & MARRIAGE & PAY\\_1 & PAY\\_2 & PAY\\_3 & PAY\\_4 & PAY\\_5 & PAY\\_6 & BILL\\_AMT1 & PAY\\_AMT1 & PAY\\_AMT2 & PAY\\_AMT3 & PAY\\_AMT4 & PAY\\_AMT5 & PAY\\_AMT6 & default.payment.next.month\\\\\n",
       "  & <dbl> & <fct> & <fct> & <fct> & <fct> & <fct> & <fct> & <fct> & <fct> & <fct> & <dbl> & <dbl> & <dbl> & <dbl> & <dbl> & <dbl> & <dbl> & <fct>\\\\\n",
       "\\hline\n",
       "\t1 &  20000 & Female & University      & Married & 2  & 2 & -1 & -1 & -2 & -2 &  3913 &    0 &   689 &     0 &    0 &    0 &    0 & Default    \\\\\n",
       "\t2 & 120000 & Female & University      & Single  & -1 & 2 & 0  & 0  & 0  & 2  &  2682 &    0 &  1000 &  1000 & 1000 &    0 & 2000 & Default    \\\\\n",
       "\t3 &  90000 & Female & University      & Single  & 0  & 0 & 0  & 0  & 0  & 0  & 29239 & 1518 &  1500 &  1000 & 1000 & 1000 & 5000 & Not Default\\\\\n",
       "\t4 &  50000 & Female & University      & Married & 0  & 0 & 0  & 0  & 0  & 0  & 46990 & 2000 &  2019 &  1200 & 1100 & 1069 & 1000 & Not Default\\\\\n",
       "\t5 &  50000 & Male   & University      & Married & -1 & 0 & -1 & 0  & 0  & 0  &  8617 & 2000 & 36681 & 10000 & 9000 &  689 &  679 & Not Default\\\\\n",
       "\t6 &  50000 & Male   & Graduate School & Single  & 0  & 0 & 0  & 0  & 0  & 0  & 64400 & 2500 &  1815 &   657 & 1000 & 1000 &  800 & Not Default\\\\\n",
       "\\end{tabular}\n"
      ],
      "text/markdown": [
       "\n",
       "A data.frame: 6 × 18\n",
       "\n",
       "| <!--/--> | LIMIT_BAL &lt;dbl&gt; | SEX &lt;fct&gt; | EDUCATION &lt;fct&gt; | MARRIAGE &lt;fct&gt; | PAY_1 &lt;fct&gt; | PAY_2 &lt;fct&gt; | PAY_3 &lt;fct&gt; | PAY_4 &lt;fct&gt; | PAY_5 &lt;fct&gt; | PAY_6 &lt;fct&gt; | BILL_AMT1 &lt;dbl&gt; | PAY_AMT1 &lt;dbl&gt; | PAY_AMT2 &lt;dbl&gt; | PAY_AMT3 &lt;dbl&gt; | PAY_AMT4 &lt;dbl&gt; | PAY_AMT5 &lt;dbl&gt; | PAY_AMT6 &lt;dbl&gt; | default.payment.next.month &lt;fct&gt; |\n",
       "|---|---|---|---|---|---|---|---|---|---|---|---|---|---|---|---|---|---|---|\n",
       "| 1 |  20000 | Female | University      | Married | 2  | 2 | -1 | -1 | -2 | -2 |  3913 |    0 |   689 |     0 |    0 |    0 |    0 | Default     |\n",
       "| 2 | 120000 | Female | University      | Single  | -1 | 2 | 0  | 0  | 0  | 2  |  2682 |    0 |  1000 |  1000 | 1000 |    0 | 2000 | Default     |\n",
       "| 3 |  90000 | Female | University      | Single  | 0  | 0 | 0  | 0  | 0  | 0  | 29239 | 1518 |  1500 |  1000 | 1000 | 1000 | 5000 | Not Default |\n",
       "| 4 |  50000 | Female | University      | Married | 0  | 0 | 0  | 0  | 0  | 0  | 46990 | 2000 |  2019 |  1200 | 1100 | 1069 | 1000 | Not Default |\n",
       "| 5 |  50000 | Male   | University      | Married | -1 | 0 | -1 | 0  | 0  | 0  |  8617 | 2000 | 36681 | 10000 | 9000 |  689 |  679 | Not Default |\n",
       "| 6 |  50000 | Male   | Graduate School | Single  | 0  | 0 | 0  | 0  | 0  | 0  | 64400 | 2500 |  1815 |   657 | 1000 | 1000 |  800 | Not Default |\n",
       "\n"
      ],
      "text/plain": [
       "  LIMIT_BAL SEX    EDUCATION       MARRIAGE PAY_1 PAY_2 PAY_3 PAY_4 PAY_5 PAY_6\n",
       "1  20000    Female University      Married  2     2     -1    -1    -2    -2   \n",
       "2 120000    Female University      Single   -1    2     0     0     0     2    \n",
       "3  90000    Female University      Single   0     0     0     0     0     0    \n",
       "4  50000    Female University      Married  0     0     0     0     0     0    \n",
       "5  50000    Male   University      Married  -1    0     -1    0     0     0    \n",
       "6  50000    Male   Graduate School Single   0     0     0     0     0     0    \n",
       "  BILL_AMT1 PAY_AMT1 PAY_AMT2 PAY_AMT3 PAY_AMT4 PAY_AMT5 PAY_AMT6\n",
       "1  3913        0       689        0       0        0        0    \n",
       "2  2682        0      1000     1000    1000        0     2000    \n",
       "3 29239     1518      1500     1000    1000     1000     5000    \n",
       "4 46990     2000      2019     1200    1100     1069     1000    \n",
       "5  8617     2000     36681    10000    9000      689      679    \n",
       "6 64400     2500      1815      657    1000     1000      800    \n",
       "  default.payment.next.month\n",
       "1 Default                   \n",
       "2 Default                   \n",
       "3 Not Default               \n",
       "4 Not Default               \n",
       "5 Not Default               \n",
       "6 Not Default               "
      ]
     },
     "metadata": {},
     "output_type": "display_data"
    }
   ],
   "source": [
    "#deleting columns\n",
    "data_new <- select(data, -one_of('ID','AGE', 'BILL_AMT2',\n",
    "       'BILL_AMT3','BILL_AMT4','BILL_AMT5','BILL_AMT6'))\n",
    "\n",
    "head(data_new)"
   ]
  },
  {
   "cell_type": "markdown",
   "id": "8950838f",
   "metadata": {},
   "source": [
    "# Model Building"
   ]
  },
  {
   "cell_type": "code",
   "execution_count": 24,
   "id": "26f8b5d2",
   "metadata": {},
   "outputs": [],
   "source": [
    "set.seed(100)\n",
    "split <- sample(nrow(data_new), nrow(data_new)*0.7)\n",
    "\n",
    "data_train <- data_new[split,]\n",
    "data_test <- data_new[-split,]"
   ]
  },
  {
   "cell_type": "code",
   "execution_count": 25,
   "id": "a8f9b2b0",
   "metadata": {},
   "outputs": [
    {
     "data": {
      "text/html": [
       "<style>\n",
       ".list-inline {list-style: none; margin:0; padding: 0}\n",
       ".list-inline>li {display: inline-block}\n",
       ".list-inline>li:not(:last-child)::after {content: \"\\00b7\"; padding: 0 .5ex}\n",
       "</style>\n",
       "<ol class=list-inline><li>21000</li><li>18</li></ol>\n"
      ],
      "text/latex": [
       "\\begin{enumerate*}\n",
       "\\item 21000\n",
       "\\item 18\n",
       "\\end{enumerate*}\n"
      ],
      "text/markdown": [
       "1. 21000\n",
       "2. 18\n",
       "\n",
       "\n"
      ],
      "text/plain": [
       "[1] 21000    18"
      ]
     },
     "metadata": {},
     "output_type": "display_data"
    },
    {
     "data": {
      "text/html": [
       "<style>\n",
       ".list-inline {list-style: none; margin:0; padding: 0}\n",
       ".list-inline>li {display: inline-block}\n",
       ".list-inline>li:not(:last-child)::after {content: \"\\00b7\"; padding: 0 .5ex}\n",
       "</style>\n",
       "<ol class=list-inline><li>9000</li><li>18</li></ol>\n"
      ],
      "text/latex": [
       "\\begin{enumerate*}\n",
       "\\item 9000\n",
       "\\item 18\n",
       "\\end{enumerate*}\n"
      ],
      "text/markdown": [
       "1. 9000\n",
       "2. 18\n",
       "\n",
       "\n"
      ],
      "text/plain": [
       "[1] 9000   18"
      ]
     },
     "metadata": {},
     "output_type": "display_data"
    }
   ],
   "source": [
    "dim(data_train)\n",
    "dim(data_test)"
   ]
  },
  {
   "cell_type": "markdown",
   "id": "997e5888",
   "metadata": {},
   "source": [
    "# Logistic Regression"
   ]
  },
  {
   "cell_type": "code",
   "execution_count": 51,
   "id": "ed1157e5",
   "metadata": {},
   "outputs": [
    {
     "data": {
      "text/plain": [
       "\n",
       "Call:\n",
       "glm(formula = default.payment.next.month ~ ., family = binomial, \n",
       "    data = data_train)\n",
       "\n",
       "Deviance Residuals: \n",
       "    Min       1Q   Median       3Q      Max  \n",
       "-2.2865  -0.6017  -0.5169  -0.3265   3.1770  \n",
       "\n",
       "Coefficients: (1 not defined because of singularities)\n",
       "                           Estimate Std. Error z value Pr(>|z|)    \n",
       "(Intercept)              -4.391e+00  1.090e+00  -4.028 5.62e-05 ***\n",
       "LIMIT_BAL                -1.765e-06  2.055e-07  -8.588  < 2e-16 ***\n",
       "SEXFemale                -1.304e-01  3.800e-02  -3.430 0.000603 ***\n",
       "EDUCATIONGraduate School  1.092e+00  2.614e-01   4.177 2.96e-05 ***\n",
       "EDUCATIONUniversity       1.127e+00  2.604e-01   4.326 1.52e-05 ***\n",
       "EDUCATIONHigh School      1.068e+00  2.630e-01   4.062 4.87e-05 ***\n",
       "EDUCATIONOthers           2.733e-01  5.002e-01   0.546 0.584777    \n",
       "MARRIAGEMarried           2.198e+00  1.056e+00   2.082 0.037350 *  \n",
       "MARRIAGESingle            2.014e+00  1.056e+00   1.907 0.056533 .  \n",
       "MARRIAGEOthers            2.191e+00  1.070e+00   2.049 0.040493 *  \n",
       "PAY_1-1                   5.224e-01  1.296e-01   4.032 5.54e-05 ***\n",
       "PAY_10                   -1.918e-01  1.392e-01  -1.378 0.168245    \n",
       "PAY_11                    8.181e-01  1.016e-01   8.056 7.89e-16 ***\n",
       "PAY_12                    2.033e+00  1.270e-01  16.010  < 2e-16 ***\n",
       "PAY_13                    2.054e+00  2.028e-01  10.125  < 2e-16 ***\n",
       "PAY_14                    2.029e+00  3.710e-01   5.469 4.52e-08 ***\n",
       "PAY_15                    7.906e-01  6.872e-01   1.150 0.249986    \n",
       "PAY_16                   -2.586e-01  1.132e+00  -0.228 0.819305    \n",
       "PAY_17                   -1.158e+01  3.781e+02  -0.031 0.975561    \n",
       "PAY_18                   -1.238e+01  5.354e+02  -0.023 0.981550    \n",
       "PAY_2-1                  -2.182e-01  1.347e-01  -1.620 0.105181    \n",
       "PAY_20                   -2.177e-02  1.642e-01  -0.133 0.894531    \n",
       "PAY_21                   -6.631e-01  5.831e-01  -1.137 0.255437    \n",
       "PAY_22                    4.105e-02  1.388e-01   0.296 0.767405    \n",
       "PAY_23                    3.289e-02  2.146e-01   0.153 0.878235    \n",
       "PAY_24                   -6.931e-01  3.760e-01  -1.843 0.065288 .  \n",
       "PAY_25                    1.260e+00  9.438e-01   1.335 0.181973    \n",
       "PAY_26                    1.481e+01  3.781e+02   0.039 0.968768    \n",
       "PAY_27                    2.067e-01  6.621e+02   0.000 0.999751    \n",
       "PAY_28                   -6.922e-01  8.181e+02  -0.001 0.999325    \n",
       "PAY_3-1                  -1.608e-02  1.277e-01  -0.126 0.899731    \n",
       "PAY_30                    1.030e-01  1.475e-01   0.698 0.484998    \n",
       "PAY_31                   -1.196e+01  5.354e+02  -0.022 0.982177    \n",
       "PAY_32                    4.738e-01  1.495e-01   3.170 0.001524 ** \n",
       "PAY_33                    3.658e-01  2.669e-01   1.370 0.170560    \n",
       "PAY_34                   -2.276e-01  5.160e-01  -0.441 0.659210    \n",
       "PAY_35                   -1.351e+00  1.023e+00  -1.321 0.186628    \n",
       "PAY_36                    1.397e+01  3.896e+02   0.036 0.971384    \n",
       "PAY_37                    5.963e-01  9.879e-01   0.604 0.546129    \n",
       "PAY_38                    1.145e+00  6.621e+02   0.002 0.998621    \n",
       "PAY_4-1                  -1.746e-01  1.298e-01  -1.345 0.178504    \n",
       "PAY_40                   -5.861e-02  1.435e-01  -0.408 0.682996    \n",
       "PAY_41                    2.660e+01  7.572e+02   0.035 0.971978    \n",
       "PAY_42                    1.955e-01  1.537e-01   1.272 0.203475    \n",
       "PAY_43                    2.244e-01  3.057e-01   0.734 0.462937    \n",
       "PAY_44                    2.423e-01  5.288e-01   0.458 0.646802    \n",
       "PAY_45                   -5.242e-01  1.240e+00  -0.423 0.672379    \n",
       "PAY_46                   -1.498e+01  6.185e+02  -0.024 0.980684    \n",
       "PAY_47                   -1.977e+00  4.318e+02  -0.005 0.996346    \n",
       "PAY_48                   -2.838e+01  6.621e+02  -0.043 0.965808    \n",
       "PAY_5-1                   2.358e-02  1.280e-01   0.184 0.853838    \n",
       "PAY_50                    6.069e-02  1.406e-01   0.432 0.665941    \n",
       "PAY_52                    2.813e-01  1.572e-01   1.790 0.073489 .  \n",
       "PAY_53                    3.558e-01  2.964e-01   1.201 0.229883    \n",
       "PAY_54                   -3.756e-01  5.553e-01  -0.676 0.498757    \n",
       "PAY_55                    1.659e+00  1.125e+00   1.474 0.140375    \n",
       "PAY_56                    1.391e+01  5.442e+02   0.026 0.979605    \n",
       "PAY_57                    1.367e+01  3.896e+02   0.035 0.972017    \n",
       "PAY_58                    3.988e+01  1.063e+03   0.038 0.970078    \n",
       "PAY_6-1                  -1.831e-01  9.724e-02  -1.883 0.059697 .  \n",
       "PAY_60                   -3.805e-01  1.030e-01  -3.696 0.000219 ***\n",
       "PAY_62                   -4.759e-02  1.198e-01  -0.397 0.691166    \n",
       "PAY_63                    5.828e-01  2.792e-01   2.087 0.036846 *  \n",
       "PAY_64                    3.018e-01  5.938e-01   0.508 0.611334    \n",
       "PAY_65                   -2.905e-01  1.170e+00  -0.248 0.803894    \n",
       "PAY_66                    6.091e-01  9.499e-01   0.641 0.521383    \n",
       "PAY_67                   -1.146e+01  2.084e+02  -0.055 0.956171    \n",
       "PAY_68                           NA         NA      NA       NA    \n",
       "BILL_AMT1                 1.990e-06  3.627e-07   5.486 4.12e-08 ***\n",
       "PAY_AMT1                 -7.569e-06  2.282e-06  -3.317 0.000908 ***\n",
       "PAY_AMT2                 -6.499e-06  2.079e-06  -3.127 0.001769 ** \n",
       "PAY_AMT3                 -2.021e-06  1.645e-06  -1.229 0.219081    \n",
       "PAY_AMT4                 -4.162e-06  2.014e-06  -2.066 0.038804 *  \n",
       "PAY_AMT5                 -2.148e-06  1.669e-06  -1.287 0.198119    \n",
       "PAY_AMT6                 -1.627e-06  1.440e-06  -1.129 0.258788    \n",
       "---\n",
       "Signif. codes:  0 '***' 0.001 '**' 0.01 '*' 0.05 '.' 0.1 ' ' 1\n",
       "\n",
       "(Dispersion parameter for binomial family taken to be 1)\n",
       "\n",
       "    Null deviance: 22356  on 20999  degrees of freedom\n",
       "Residual deviance: 18438  on 20926  degrees of freedom\n",
       "AIC: 18586\n",
       "\n",
       "Number of Fisher Scoring iterations: 12\n"
      ]
     },
     "metadata": {},
     "output_type": "display_data"
    }
   ],
   "source": [
    "log_reg_model <- glm(default.payment.next.month ~ ., data=data_train, family=binomial)\n",
    "summary(log_reg_model)"
   ]
  },
  {
   "cell_type": "code",
   "execution_count": 52,
   "id": "0964efe4",
   "metadata": {},
   "outputs": [
    {
     "name": "stderr",
     "output_type": "stream",
     "text": [
      "Warning message in predict.lm(object, newdata, se.fit, scale = 1, type = if (type == :\n",
      "\"prediction from a rank-deficient fit may be misleading\"\n"
     ]
    },
    {
     "data": {
      "text/html": [
       "<style>\n",
       ".dl-inline {width: auto; margin:0; padding: 0}\n",
       ".dl-inline>dt, .dl-inline>dd {float: none; width: auto; display: inline-block}\n",
       ".dl-inline>dt::after {content: \":\\0020\"; padding-right: .5ex}\n",
       ".dl-inline>dt:not(:first-of-type) {padding-left: .5ex}\n",
       "</style><dl class=dl-inline><dt>5</dt><dd>0</dd><dt>6</dt><dd>0</dd><dt>9</dt><dd>0</dd><dt>11</dt><dd>0</dd><dt>12</dt><dd>0</dd><dt>13</dt><dd>0</dd><dt>17</dt><dd>0</dd><dt>38</dt><dd>0</dd><dt>39</dt><dd>0</dd><dt>40</dt><dd>0</dd><dt>45</dt><dd>0</dd><dt>46</dt><dd>0</dd><dt>48</dt><dd>0</dd><dt>52</dt><dd>0</dd><dt>53</dt><dd>0</dd><dt>54</dt><dd>0</dd><dt>55</dt><dd>1</dd><dt>58</dt><dd>0</dd><dt>64</dt><dd>0</dd><dt>65</dt><dd>0</dd><dt>71</dt><dd>0</dd><dt>73</dt><dd>0</dd><dt>75</dt><dd>0</dd><dt>84</dt><dd>0</dd><dt>85</dt><dd>0</dd><dt>87</dt><dd>0</dd><dt>88</dt><dd>0</dd><dt>95</dt><dd>0</dd><dt>100</dt><dd>0</dd><dt>107</dt><dd>0</dd><dt>114</dt><dd>0</dd><dt>117</dt><dd>0</dd><dt>119</dt><dd>0</dd><dt>120</dt><dd>0</dd><dt>121</dt><dd>1</dd><dt>126</dt><dd>0</dd><dt>127</dt><dd>0</dd><dt>136</dt><dd>0</dd><dt>138</dt><dd>0</dd><dt>140</dt><dd>0</dd><dt>143</dt><dd>0</dd><dt>145</dt><dd>0</dd><dt>147</dt><dd>0</dd><dt>150</dt><dd>0</dd><dt>155</dt><dd>0</dd><dt>160</dt><dd>1</dd><dt>169</dt><dd>0</dd><dt>185</dt><dd>0</dd><dt>186</dt><dd>0</dd><dt>188</dt><dd>1</dd></dl>\n"
      ],
      "text/latex": [
       "\\begin{description*}\n",
       "\\item[5] 0\n",
       "\\item[6] 0\n",
       "\\item[9] 0\n",
       "\\item[11] 0\n",
       "\\item[12] 0\n",
       "\\item[13] 0\n",
       "\\item[17] 0\n",
       "\\item[38] 0\n",
       "\\item[39] 0\n",
       "\\item[40] 0\n",
       "\\item[45] 0\n",
       "\\item[46] 0\n",
       "\\item[48] 0\n",
       "\\item[52] 0\n",
       "\\item[53] 0\n",
       "\\item[54] 0\n",
       "\\item[55] 1\n",
       "\\item[58] 0\n",
       "\\item[64] 0\n",
       "\\item[65] 0\n",
       "\\item[71] 0\n",
       "\\item[73] 0\n",
       "\\item[75] 0\n",
       "\\item[84] 0\n",
       "\\item[85] 0\n",
       "\\item[87] 0\n",
       "\\item[88] 0\n",
       "\\item[95] 0\n",
       "\\item[100] 0\n",
       "\\item[107] 0\n",
       "\\item[114] 0\n",
       "\\item[117] 0\n",
       "\\item[119] 0\n",
       "\\item[120] 0\n",
       "\\item[121] 1\n",
       "\\item[126] 0\n",
       "\\item[127] 0\n",
       "\\item[136] 0\n",
       "\\item[138] 0\n",
       "\\item[140] 0\n",
       "\\item[143] 0\n",
       "\\item[145] 0\n",
       "\\item[147] 0\n",
       "\\item[150] 0\n",
       "\\item[155] 0\n",
       "\\item[160] 1\n",
       "\\item[169] 0\n",
       "\\item[185] 0\n",
       "\\item[186] 0\n",
       "\\item[188] 1\n",
       "\\end{description*}\n"
      ],
      "text/markdown": [
       "5\n",
       ":   06\n",
       ":   09\n",
       ":   011\n",
       ":   012\n",
       ":   013\n",
       ":   017\n",
       ":   038\n",
       ":   039\n",
       ":   040\n",
       ":   045\n",
       ":   046\n",
       ":   048\n",
       ":   052\n",
       ":   053\n",
       ":   054\n",
       ":   055\n",
       ":   158\n",
       ":   064\n",
       ":   065\n",
       ":   071\n",
       ":   073\n",
       ":   075\n",
       ":   084\n",
       ":   085\n",
       ":   087\n",
       ":   088\n",
       ":   095\n",
       ":   0100\n",
       ":   0107\n",
       ":   0114\n",
       ":   0117\n",
       ":   0119\n",
       ":   0120\n",
       ":   0121\n",
       ":   1126\n",
       ":   0127\n",
       ":   0136\n",
       ":   0138\n",
       ":   0140\n",
       ":   0143\n",
       ":   0145\n",
       ":   0147\n",
       ":   0150\n",
       ":   0155\n",
       ":   0160\n",
       ":   1169\n",
       ":   0185\n",
       ":   0186\n",
       ":   0188\n",
       ":   1\n",
       "\n"
      ],
      "text/plain": [
       "  5   6   9  11  12  13  17  38  39  40  45  46  48  52  53  54  55  58  64  65 \n",
       "  0   0   0   0   0   0   0   0   0   0   0   0   0   0   0   0   1   0   0   0 \n",
       " 71  73  75  84  85  87  88  95 100 107 114 117 119 120 121 126 127 136 138 140 \n",
       "  0   0   0   0   0   0   0   0   0   0   0   0   0   0   1   0   0   0   0   0 \n",
       "143 145 147 150 155 160 169 185 186 188 \n",
       "  0   0   0   0   0   1   0   0   0   1 "
      ]
     },
     "metadata": {},
     "output_type": "display_data"
    }
   ],
   "source": [
    "predictions_log_model <- predict(log_reg_model, data_test, type=\"response\")\n",
    "predictions_log_model <- ifelse(predictions_log_model > 0.5, 1, 0)\n",
    "head(predictions_log_model, 50)"
   ]
  },
  {
   "cell_type": "markdown",
   "id": "05fef9be",
   "metadata": {},
   "source": [
    "Model Evaluation"
   ]
  },
  {
   "cell_type": "code",
   "execution_count": 55,
   "id": "bccfff68",
   "metadata": {},
   "outputs": [
    {
     "data": {
      "text/plain": [
       "                 \n",
       "log.prediction.rd Not Default Default\n",
       "                0        6748    1238\n",
       "                1         326     688"
      ]
     },
     "metadata": {},
     "output_type": "display_data"
    }
   ],
   "source": [
    "table(predictions_log_model, data_test[,18])"
   ]
  },
  {
   "cell_type": "code",
   "execution_count": 56,
   "id": "5c5102ad",
   "metadata": {},
   "outputs": [
    {
     "data": {
      "text/html": [
       "0.826222222222222"
      ],
      "text/latex": [
       "0.826222222222222"
      ],
      "text/markdown": [
       "0.826222222222222"
      ],
      "text/plain": [
       "[1] 0.8262222"
      ]
     },
     "metadata": {},
     "output_type": "display_data"
    }
   ],
   "source": [
    "accuracy <- table(predictions_log_model, data_test[,18])\n",
    "sum(diag(accuracy))/sum(accuracy)"
   ]
  },
  {
   "cell_type": "markdown",
   "id": "d5e348c5",
   "metadata": {},
   "source": [
    "# Knn Model"
   ]
  },
  {
   "cell_type": "code",
   "execution_count": 59,
   "id": "be7bd58a",
   "metadata": {},
   "outputs": [
    {
     "name": "stderr",
     "output_type": "stream",
     "text": [
      "Installing package into 'C:/Users/usama/AppData/Local/R/win-library/4.2'\n",
      "(as 'lib' is unspecified)\n",
      "\n",
      "also installing the dependencies 'mlbench', 'xtable', 'slam'\n",
      "\n",
      "\n"
     ]
    },
    {
     "name": "stdout",
     "output_type": "stream",
     "text": [
      "package 'mlbench' successfully unpacked and MD5 sums checked\n",
      "package 'xtable' successfully unpacked and MD5 sums checked\n",
      "package 'slam' successfully unpacked and MD5 sums checked\n",
      "package 'e1071' successfully unpacked and MD5 sums checked\n",
      "\n",
      "The downloaded binary packages are in\n",
      "\tC:\\Users\\usama\\AppData\\Local\\Temp\\RtmpQhEkJD\\downloaded_packages\n"
     ]
    },
    {
     "name": "stderr",
     "output_type": "stream",
     "text": [
      "Warning message in preProcess.default(thresh = 0.95, k = 5, freqCut = 19, uniqueCut = 10, :\n",
      "\"These variables have zero variances: PAY_41\"\n",
      "Warning message in preProcess.default(thresh = 0.95, k = 5, freqCut = 19, uniqueCut = 10, :\n",
      "\"These variables have zero variances: PAY_41\"\n",
      "Warning message in preProcess.default(thresh = 0.95, k = 5, freqCut = 19, uniqueCut = 10, :\n",
      "\"These variables have zero variances: PAY_41\"\n",
      "Warning message in preProcess.default(thresh = 0.95, k = 5, freqCut = 19, uniqueCut = 10, :\n",
      "\"These variables have zero variances: PAY_41\"\n",
      "Warning message in preProcess.default(thresh = 0.95, k = 5, freqCut = 19, uniqueCut = 10, :\n",
      "\"These variables have zero variances: PAY_41\"\n",
      "Warning message in preProcess.default(thresh = 0.95, k = 5, freqCut = 19, uniqueCut = 10, :\n",
      "\"These variables have zero variances: PAY_41\"\n",
      "Warning message in preProcess.default(thresh = 0.95, k = 5, freqCut = 19, uniqueCut = 10, :\n",
      "\"These variables have zero variances: PAY_41\"\n",
      "Warning message in preProcess.default(thresh = 0.95, k = 5, freqCut = 19, uniqueCut = 10, :\n",
      "\"These variables have zero variances: PAY_41\"\n",
      "Warning message in preProcess.default(thresh = 0.95, k = 5, freqCut = 19, uniqueCut = 10, :\n",
      "\"These variables have zero variances: PAY_41\"\n",
      "Warning message in preProcess.default(thresh = 0.95, k = 5, freqCut = 19, uniqueCut = 10, :\n",
      "\"These variables have zero variances: PAY_41\"\n",
      "Warning message in preProcess.default(thresh = 0.95, k = 5, freqCut = 19, uniqueCut = 10, :\n",
      "\"These variables have zero variances: PAY_38, PAY_58, PAY_68\"\n",
      "Warning message in preProcess.default(thresh = 0.95, k = 5, freqCut = 19, uniqueCut = 10, :\n",
      "\"These variables have zero variances: PAY_38, PAY_58, PAY_68\"\n",
      "Warning message in preProcess.default(thresh = 0.95, k = 5, freqCut = 19, uniqueCut = 10, :\n",
      "\"These variables have zero variances: PAY_38, PAY_58, PAY_68\"\n",
      "Warning message in preProcess.default(thresh = 0.95, k = 5, freqCut = 19, uniqueCut = 10, :\n",
      "\"These variables have zero variances: PAY_38, PAY_58, PAY_68\"\n",
      "Warning message in preProcess.default(thresh = 0.95, k = 5, freqCut = 19, uniqueCut = 10, :\n",
      "\"These variables have zero variances: PAY_38, PAY_58, PAY_68\"\n",
      "Warning message in preProcess.default(thresh = 0.95, k = 5, freqCut = 19, uniqueCut = 10, :\n",
      "\"These variables have zero variances: PAY_38, PAY_58, PAY_68\"\n",
      "Warning message in preProcess.default(thresh = 0.95, k = 5, freqCut = 19, uniqueCut = 10, :\n",
      "\"These variables have zero variances: PAY_38, PAY_58, PAY_68\"\n",
      "Warning message in preProcess.default(thresh = 0.95, k = 5, freqCut = 19, uniqueCut = 10, :\n",
      "\"These variables have zero variances: PAY_38, PAY_58, PAY_68\"\n",
      "Warning message in preProcess.default(thresh = 0.95, k = 5, freqCut = 19, uniqueCut = 10, :\n",
      "\"These variables have zero variances: PAY_38, PAY_58, PAY_68\"\n",
      "Warning message in preProcess.default(thresh = 0.95, k = 5, freqCut = 19, uniqueCut = 10, :\n",
      "\"These variables have zero variances: PAY_38, PAY_58, PAY_68\"\n",
      "Warning message in preProcess.default(thresh = 0.95, k = 5, freqCut = 19, uniqueCut = 10, :\n",
      "\"These variables have zero variances: PAY_28\"\n",
      "Warning message in preProcess.default(thresh = 0.95, k = 5, freqCut = 19, uniqueCut = 10, :\n",
      "\"These variables have zero variances: PAY_28\"\n",
      "Warning message in preProcess.default(thresh = 0.95, k = 5, freqCut = 19, uniqueCut = 10, :\n",
      "\"These variables have zero variances: PAY_28\"\n",
      "Warning message in preProcess.default(thresh = 0.95, k = 5, freqCut = 19, uniqueCut = 10, :\n",
      "\"These variables have zero variances: PAY_28\"\n",
      "Warning message in preProcess.default(thresh = 0.95, k = 5, freqCut = 19, uniqueCut = 10, :\n",
      "\"These variables have zero variances: PAY_28\"\n",
      "Warning message in preProcess.default(thresh = 0.95, k = 5, freqCut = 19, uniqueCut = 10, :\n",
      "\"These variables have zero variances: PAY_28\"\n",
      "Warning message in preProcess.default(thresh = 0.95, k = 5, freqCut = 19, uniqueCut = 10, :\n",
      "\"These variables have zero variances: PAY_28\"\n",
      "Warning message in preProcess.default(thresh = 0.95, k = 5, freqCut = 19, uniqueCut = 10, :\n",
      "\"These variables have zero variances: PAY_28\"\n",
      "Warning message in preProcess.default(thresh = 0.95, k = 5, freqCut = 19, uniqueCut = 10, :\n",
      "\"These variables have zero variances: PAY_28\"\n",
      "Warning message in preProcess.default(thresh = 0.95, k = 5, freqCut = 19, uniqueCut = 10, :\n",
      "\"These variables have zero variances: PAY_28\"\n",
      "Warning message in preProcess.default(thresh = 0.95, k = 5, freqCut = 19, uniqueCut = 10, :\n",
      "\"These variables have zero variances: PAY_28\"\n",
      "Warning message in preProcess.default(thresh = 0.95, k = 5, freqCut = 19, uniqueCut = 10, :\n",
      "\"These variables have zero variances: PAY_28\"\n",
      "Warning message in preProcess.default(thresh = 0.95, k = 5, freqCut = 19, uniqueCut = 10, :\n",
      "\"These variables have zero variances: PAY_28\"\n",
      "Warning message in preProcess.default(thresh = 0.95, k = 5, freqCut = 19, uniqueCut = 10, :\n",
      "\"These variables have zero variances: PAY_28\"\n",
      "Warning message in preProcess.default(thresh = 0.95, k = 5, freqCut = 19, uniqueCut = 10, :\n",
      "\"These variables have zero variances: PAY_28\"\n",
      "Warning message in preProcess.default(thresh = 0.95, k = 5, freqCut = 19, uniqueCut = 10, :\n",
      "\"These variables have zero variances: PAY_28\"\n",
      "Warning message in preProcess.default(thresh = 0.95, k = 5, freqCut = 19, uniqueCut = 10, :\n",
      "\"These variables have zero variances: PAY_28\"\n",
      "Warning message in preProcess.default(thresh = 0.95, k = 5, freqCut = 19, uniqueCut = 10, :\n",
      "\"These variables have zero variances: PAY_28\"\n",
      "Warning message in preProcess.default(thresh = 0.95, k = 5, freqCut = 19, uniqueCut = 10, :\n",
      "\"These variables have zero variances: PAY_28\"\n",
      "Warning message in preProcess.default(thresh = 0.95, k = 5, freqCut = 19, uniqueCut = 10, :\n",
      "\"These variables have zero variances: PAY_28\"\n",
      "Warning message in preProcess.default(thresh = 0.95, k = 5, freqCut = 19, uniqueCut = 10, :\n",
      "\"These variables have zero variances: PAY_41\"\n",
      "Warning message in preProcess.default(thresh = 0.95, k = 5, freqCut = 19, uniqueCut = 10, :\n",
      "\"These variables have zero variances: PAY_41\"\n",
      "Warning message in preProcess.default(thresh = 0.95, k = 5, freqCut = 19, uniqueCut = 10, :\n",
      "\"These variables have zero variances: PAY_41\"\n",
      "Warning message in preProcess.default(thresh = 0.95, k = 5, freqCut = 19, uniqueCut = 10, :\n",
      "\"These variables have zero variances: PAY_41\"\n",
      "Warning message in preProcess.default(thresh = 0.95, k = 5, freqCut = 19, uniqueCut = 10, :\n",
      "\"These variables have zero variances: PAY_41\"\n",
      "Warning message in preProcess.default(thresh = 0.95, k = 5, freqCut = 19, uniqueCut = 10, :\n",
      "\"These variables have zero variances: PAY_41\"\n",
      "Warning message in preProcess.default(thresh = 0.95, k = 5, freqCut = 19, uniqueCut = 10, :\n",
      "\"These variables have zero variances: PAY_41\"\n",
      "Warning message in preProcess.default(thresh = 0.95, k = 5, freqCut = 19, uniqueCut = 10, :\n",
      "\"These variables have zero variances: PAY_41\"\n",
      "Warning message in preProcess.default(thresh = 0.95, k = 5, freqCut = 19, uniqueCut = 10, :\n",
      "\"These variables have zero variances: PAY_41\"\n",
      "Warning message in preProcess.default(thresh = 0.95, k = 5, freqCut = 19, uniqueCut = 10, :\n",
      "\"These variables have zero variances: PAY_41\"\n",
      "Warning message in preProcess.default(thresh = 0.95, k = 5, freqCut = 19, uniqueCut = 10, :\n",
      "\"These variables have zero variances: PAY_58, PAY_68\"\n",
      "Warning message in preProcess.default(thresh = 0.95, k = 5, freqCut = 19, uniqueCut = 10, :\n",
      "\"These variables have zero variances: PAY_58, PAY_68\"\n",
      "Warning message in preProcess.default(thresh = 0.95, k = 5, freqCut = 19, uniqueCut = 10, :\n",
      "\"These variables have zero variances: PAY_58, PAY_68\"\n",
      "Warning message in preProcess.default(thresh = 0.95, k = 5, freqCut = 19, uniqueCut = 10, :\n",
      "\"These variables have zero variances: PAY_58, PAY_68\"\n",
      "Warning message in preProcess.default(thresh = 0.95, k = 5, freqCut = 19, uniqueCut = 10, :\n",
      "\"These variables have zero variances: PAY_58, PAY_68\"\n",
      "Warning message in preProcess.default(thresh = 0.95, k = 5, freqCut = 19, uniqueCut = 10, :\n",
      "\"These variables have zero variances: PAY_58, PAY_68\"\n",
      "Warning message in preProcess.default(thresh = 0.95, k = 5, freqCut = 19, uniqueCut = 10, :\n",
      "\"These variables have zero variances: PAY_58, PAY_68\"\n",
      "Warning message in preProcess.default(thresh = 0.95, k = 5, freqCut = 19, uniqueCut = 10, :\n",
      "\"These variables have zero variances: PAY_58, PAY_68\"\n"
     ]
    },
    {
     "name": "stderr",
     "output_type": "stream",
     "text": [
      "Warning message in preProcess.default(thresh = 0.95, k = 5, freqCut = 19, uniqueCut = 10, :\n",
      "\"These variables have zero variances: PAY_58, PAY_68\"\n",
      "Warning message in preProcess.default(thresh = 0.95, k = 5, freqCut = 19, uniqueCut = 10, :\n",
      "\"These variables have zero variances: PAY_58, PAY_68\"\n",
      "Warning message in preProcess.default(thresh = 0.95, k = 5, freqCut = 19, uniqueCut = 10, :\n",
      "\"These variables have zero variances: PAY_41\"\n",
      "Warning message in preProcess.default(thresh = 0.95, k = 5, freqCut = 19, uniqueCut = 10, :\n",
      "\"These variables have zero variances: PAY_41\"\n",
      "Warning message in preProcess.default(thresh = 0.95, k = 5, freqCut = 19, uniqueCut = 10, :\n",
      "\"These variables have zero variances: PAY_41\"\n",
      "Warning message in preProcess.default(thresh = 0.95, k = 5, freqCut = 19, uniqueCut = 10, :\n",
      "\"These variables have zero variances: PAY_41\"\n",
      "Warning message in preProcess.default(thresh = 0.95, k = 5, freqCut = 19, uniqueCut = 10, :\n",
      "\"These variables have zero variances: PAY_41\"\n",
      "Warning message in preProcess.default(thresh = 0.95, k = 5, freqCut = 19, uniqueCut = 10, :\n",
      "\"These variables have zero variances: PAY_41\"\n",
      "Warning message in preProcess.default(thresh = 0.95, k = 5, freqCut = 19, uniqueCut = 10, :\n",
      "\"These variables have zero variances: PAY_41\"\n",
      "Warning message in preProcess.default(thresh = 0.95, k = 5, freqCut = 19, uniqueCut = 10, :\n",
      "\"These variables have zero variances: PAY_41\"\n",
      "Warning message in preProcess.default(thresh = 0.95, k = 5, freqCut = 19, uniqueCut = 10, :\n",
      "\"These variables have zero variances: PAY_41\"\n",
      "Warning message in preProcess.default(thresh = 0.95, k = 5, freqCut = 19, uniqueCut = 10, :\n",
      "\"These variables have zero variances: PAY_41\"\n",
      "Warning message in preProcess.default(thresh = 0.95, k = 5, freqCut = 19, uniqueCut = 10, :\n",
      "\"These variables have zero variances: PAY_58, PAY_68\"\n",
      "Warning message in preProcess.default(thresh = 0.95, k = 5, freqCut = 19, uniqueCut = 10, :\n",
      "\"These variables have zero variances: PAY_58, PAY_68\"\n",
      "Warning message in preProcess.default(thresh = 0.95, k = 5, freqCut = 19, uniqueCut = 10, :\n",
      "\"These variables have zero variances: PAY_58, PAY_68\"\n",
      "Warning message in preProcess.default(thresh = 0.95, k = 5, freqCut = 19, uniqueCut = 10, :\n",
      "\"These variables have zero variances: PAY_58, PAY_68\"\n",
      "Warning message in preProcess.default(thresh = 0.95, k = 5, freqCut = 19, uniqueCut = 10, :\n",
      "\"These variables have zero variances: PAY_58, PAY_68\"\n",
      "Warning message in preProcess.default(thresh = 0.95, k = 5, freqCut = 19, uniqueCut = 10, :\n",
      "\"These variables have zero variances: PAY_58, PAY_68\"\n",
      "Warning message in preProcess.default(thresh = 0.95, k = 5, freqCut = 19, uniqueCut = 10, :\n",
      "\"These variables have zero variances: PAY_58, PAY_68\"\n",
      "Warning message in preProcess.default(thresh = 0.95, k = 5, freqCut = 19, uniqueCut = 10, :\n",
      "\"These variables have zero variances: PAY_58, PAY_68\"\n",
      "Warning message in preProcess.default(thresh = 0.95, k = 5, freqCut = 19, uniqueCut = 10, :\n",
      "\"These variables have zero variances: PAY_58, PAY_68\"\n",
      "Warning message in preProcess.default(thresh = 0.95, k = 5, freqCut = 19, uniqueCut = 10, :\n",
      "\"These variables have zero variances: PAY_58, PAY_68\"\n",
      "Warning message in preProcess.default(thresh = 0.95, k = 5, freqCut = 19, uniqueCut = 10, :\n",
      "\"These variables have zero variances: PAY_28\"\n",
      "Warning message in preProcess.default(thresh = 0.95, k = 5, freqCut = 19, uniqueCut = 10, :\n",
      "\"These variables have zero variances: PAY_28\"\n",
      "Warning message in preProcess.default(thresh = 0.95, k = 5, freqCut = 19, uniqueCut = 10, :\n",
      "\"These variables have zero variances: PAY_28\"\n",
      "Warning message in preProcess.default(thresh = 0.95, k = 5, freqCut = 19, uniqueCut = 10, :\n",
      "\"These variables have zero variances: PAY_28\"\n",
      "Warning message in preProcess.default(thresh = 0.95, k = 5, freqCut = 19, uniqueCut = 10, :\n",
      "\"These variables have zero variances: PAY_28\"\n",
      "Warning message in preProcess.default(thresh = 0.95, k = 5, freqCut = 19, uniqueCut = 10, :\n",
      "\"These variables have zero variances: PAY_28\"\n",
      "Warning message in preProcess.default(thresh = 0.95, k = 5, freqCut = 19, uniqueCut = 10, :\n",
      "\"These variables have zero variances: PAY_28\"\n",
      "Warning message in preProcess.default(thresh = 0.95, k = 5, freqCut = 19, uniqueCut = 10, :\n",
      "\"These variables have zero variances: PAY_28\"\n",
      "Warning message in preProcess.default(thresh = 0.95, k = 5, freqCut = 19, uniqueCut = 10, :\n",
      "\"These variables have zero variances: PAY_28\"\n",
      "Warning message in preProcess.default(thresh = 0.95, k = 5, freqCut = 19, uniqueCut = 10, :\n",
      "\"These variables have zero variances: PAY_28\"\n"
     ]
    },
    {
     "data": {
      "text/plain": [
       "k-Nearest Neighbors \n",
       "\n",
       "21000 samples\n",
       "   17 predictor\n",
       "    2 classes: 'Not Default', 'Default' \n",
       "\n",
       "Pre-processing: centered (74), scaled (74) \n",
       "Resampling: Cross-Validated (10 fold, repeated 3 times) \n",
       "Summary of sample sizes: 18900, 18900, 18900, 18900, 18900, 18900, ... \n",
       "Resampling results across tuning parameters:\n",
       "\n",
       "  k   Accuracy   Kappa    \n",
       "   5  0.7944127  0.3284258\n",
       "   7  0.8038571  0.3444947\n",
       "   9  0.8081429  0.3526995\n",
       "  11  0.8107619  0.3573085\n",
       "  13  0.8126349  0.3605352\n",
       "  15  0.8131587  0.3599656\n",
       "  17  0.8133810  0.3600173\n",
       "  19  0.8140794  0.3631098\n",
       "  21  0.8148730  0.3640090\n",
       "  23  0.8148730  0.3622374\n",
       "\n",
       "Accuracy was used to select the optimal model using the largest value.\n",
       "The final value used for the model was k = 23."
      ]
     },
     "metadata": {},
     "output_type": "display_data"
    }
   ],
   "source": [
    "# Setting the control parameters\n",
    "trctrl <- trainControl(method = \"repeatedcv\",\n",
    "                       number = 10,\n",
    "                       repeats = 3)\n",
    "set.seed(3333)\n",
    "knn_fit  <- train(default.payment.next.month ~ ., \n",
    "                  data = data_train,\n",
    "                  method = \"knn\",\n",
    "                  trControl = trctrl,\n",
    "                  preProcess = c(\"center\", \"scale\"),\n",
    "                  tuneLength = 10)\n",
    "# kNN model summary\n",
    "knn_fit "
   ]
  },
  {
   "cell_type": "code",
   "execution_count": 62,
   "id": "dd815221",
   "metadata": {},
   "outputs": [
    {
     "data": {
      "text/plain": [
       "             Actual\n",
       "Predicted     Not Default Default\n",
       "  Not Default        6697    1218\n",
       "  Default             377     708"
      ]
     },
     "metadata": {},
     "output_type": "display_data"
    }
   ],
   "source": [
    "kNNPred <- predict(knn_fit, data_test, type = \"raw\")\n",
    "# confusion matrix\n",
    "table(Predicted = kNNPred, Actual = data_test$default.payment.next.month)"
   ]
  },
  {
   "cell_type": "code",
   "execution_count": 65,
   "id": "371f1a6d",
   "metadata": {},
   "outputs": [
    {
     "data": {
      "text/html": [
       "0.822777777777778"
      ],
      "text/latex": [
       "0.822777777777778"
      ],
      "text/markdown": [
       "0.822777777777778"
      ],
      "text/plain": [
       "[1] 0.8227778"
      ]
     },
     "metadata": {},
     "output_type": "display_data"
    }
   ],
   "source": [
    "accuracy <- table(kNNPred, data_test[,18])\n",
    "sum(diag(accuracy))/sum(accuracy)"
   ]
  },
  {
   "cell_type": "code",
   "execution_count": 70,
   "id": "aa165103",
   "metadata": {},
   "outputs": [],
   "source": [
    "kNNPred <- predict(knn_fit, data_test,type = \"raw\")\n",
    "kNNPredObj <- prediction(as.numeric(kNNPred),as.numeric(data_test$default.payment.next.month))\n",
    "kNNPerfObj <- performance(kNNPredObj, \"tpr\",\"fpr\")"
   ]
  },
  {
   "cell_type": "markdown",
   "id": "2050b002",
   "metadata": {},
   "source": [
    "# Comparing the AUC OF the Both models"
   ]
  },
  {
   "cell_type": "markdown",
   "id": "270b1a67",
   "metadata": {},
   "source": [
    "AUC of Logistic Regression Model"
   ]
  },
  {
   "cell_type": "code",
   "execution_count": 61,
   "id": "7e59e0cb",
   "metadata": {},
   "outputs": [
    {
     "name": "stderr",
     "output_type": "stream",
     "text": [
      "Setting levels: control = Not Default, case = Default\n",
      "\n",
      "Setting direction: controls < cases\n",
      "\n"
     ]
    },
    {
     "data": {
      "text/html": [
       "0.655566388961552"
      ],
      "text/latex": [
       "0.655566388961552"
      ],
      "text/markdown": [
       "0.655566388961552"
      ],
      "text/plain": [
       "Area under the curve: 0.6556"
      ]
     },
     "metadata": {},
     "output_type": "display_data"
    }
   ],
   "source": [
    "auc(data_test$default.payment.next.month, predictions_log_model)"
   ]
  },
  {
   "cell_type": "markdown",
   "id": "d3103180",
   "metadata": {},
   "source": [
    "AUC of kNN Model"
   ]
  },
  {
   "cell_type": "code",
   "execution_count": 72,
   "id": "64429669",
   "metadata": {},
   "outputs": [
    {
     "data": {
      "text/html": [
       "0.657083065801051"
      ],
      "text/latex": [
       "0.657083065801051"
      ],
      "text/markdown": [
       "0.657083065801051"
      ],
      "text/plain": [
       "[1] 0.6570831"
      ]
     },
     "metadata": {},
     "output_type": "display_data"
    }
   ],
   "source": [
    "aucLR <- performance(kNNPredObj, measure = \"auc\")\n",
    "aucLR <- aucLR@y.values[[1]]\n",
    "aucLR"
   ]
  }
 ],
 "metadata": {
  "kernelspec": {
   "display_name": "R",
   "language": "R",
   "name": "ir"
  },
  "language_info": {
   "codemirror_mode": "r",
   "file_extension": ".r",
   "mimetype": "text/x-r-source",
   "name": "R",
   "pygments_lexer": "r",
   "version": "4.2.2"
  }
 },
 "nbformat": 4,
 "nbformat_minor": 5
}
